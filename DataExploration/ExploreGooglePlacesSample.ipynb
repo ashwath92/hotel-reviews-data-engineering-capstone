{
 "cells": [
  {
   "cell_type": "code",
   "execution_count": null,
   "metadata": {
    "editable": true
   },
   "outputs": [],
   "source": [
    "! pip install https://github.com/elyase/geotext/archive/master.zip\n",
    "! pip install jsonlines"
   ]
  },
  {
   "cell_type": "code",
   "execution_count": 53,
   "metadata": {
    "collapsed": false,
    "editable": true,
    "inputHidden": false,
    "jupyter": {
     "outputs_hidden": false
    },
    "outputHidden": false
   },
   "outputs": [],
   "source": [
    "import jsonlines\n",
    "import ast\n",
    "import json\n",
    "from geotext import GeoText\n",
    "import collections"
   ]
  },
  {
   "cell_type": "code",
   "execution_count": 2,
   "metadata": {
    "collapsed": false,
    "editable": true,
    "inputHidden": false,
    "jupyter": {
     "outputs_hidden": false
    },
    "outputHidden": false
   },
   "outputs": [
    {
     "name": "stdout",
     "output_type": "stream",
     "text": [
      "a\n"
     ]
    }
   ],
   "source": [
    "# https://stackoverflow.com/a/36599122"
   ]
  },
  {
   "cell_type": "markdown",
   "metadata": {
    "editable": true
   },
   "source": [
    "The data has a lot of issues. It cannot be directly read by Spark (you get a 'corrupted record') as there is a lot of nesting. Similarly, you get an error when you try to read the data with pandas. Python's native json library and the jsonlines module cannot read it because it contains single quotes rather than double quotes (json requires double quotes). The solution is to read the data line by line, use the ast library to convert single quotes to double quotes, remove trailing commas, and dump it to valid json"
   ]
  },
  {
   "cell_type": "code",
   "execution_count": 6,
   "metadata": {
    "collapsed": false,
    "editable": true,
    "inputHidden": false,
    "jupyter": {
     "outputs_hidden": false
    },
    "outputHidden": false
   },
   "outputs": [
    {
     "name": "stdout",
     "output_type": "stream",
     "text": [
      "{\"property\": \"text\"}\n"
     ]
    }
   ],
   "source": [
    "json_data = \"{'property': 'text'}\"\n",
    "json_data2 = ast.literal_eval(json_data)\n",
    "print(json.dumps(json_data2))"
   ]
  },
  {
   "cell_type": "code",
   "execution_count": 9,
   "metadata": {
    "collapsed": false,
    "editable": true,
    "inputHidden": false,
    "jupyter": {
     "outputs_hidden": false
    },
    "outputHidden": false
   },
   "outputs": [
    {
     "name": "stdout",
     "output_type": "stream",
     "text": [
      "\"{'name': u'Diamond Valley Lake Marina', 'price': None, 'address': [u'2615 Angler Ave', u'Hemet, CA 92545'], 'hours': [[u'Monday', [[u'6:30 am--4:15 pm']]], [u'Tuesday', [[u'6:30 am--4:15 pm']]], [u'Wednesday', [[u'6:30 am--4:15 pm']], 1], [u'Thursday', [[u'6:30 am--4:15 pm']]], [u'Friday', [[u'6:30 am--4:15 pm']]], [u'Saturday', [[u'6:30 am--4:15 pm']]], [u'Sunday', [[u'6:30 am--4:15 pm']]]], 'phone': u'(951) 926-7201', 'closed': False, 'gPlusPlaceId': '104699454385822125632', 'gps': [33.703804, -117.003209]}\\n\"\n",
      "\"{'name': u'Blue Ribbon Cleaners', 'price': None, 'address': [u'Parole', u'Annapolis, MD'], 'hours': None, 'phone': u'(410) 266-6123', 'closed': False, 'gPlusPlaceId': '103054478949000078829', 'gps': [38.979759, -76.547538]}\\n\"\n",
      "\"{'name': u'Portofino', 'price': None, 'address': [u'\\\\u0443\\\\u043b. \\\\u0422\\\\u0443\\\\u0442\\\\u0430\\\\u0435\\\\u0432\\\\u0430, 1', u'Nazran, Ingushetia, Russia', u'366720'], 'hours': [[u'Monday', [[u'9:30 am--9:00 pm']]], [u'Tuesday', [[u'9:30 am--9:00 pm']]], [u'Wednesday', [[u'9:30 am--9:00 pm']], 1], [u'Thursday', [[u'9:30 am--9:00 pm']]], [u'Friday', [[u'9:30 am--9:00 pm']]], [u'Saturday', [[u'9:30 am--9:00 pm']]], [u'Sunday', [[u'9:30 am--9:00 pm']]]], 'phone': u'8 (963) 173-38-38', 'closed': False, 'gPlusPlaceId': '109810290098030327104', 'gps': [43.22776, 44.762726]}\\n\"\n",
      "\"{'name': u\\\"T C's Referee Sports Bar\\\", 'price': u'$$', 'address': [u'5322 W 26th St', u'Sioux Falls, SD 57106'], 'hours': [[u'Monday', [[u'11:00 am--10:00 pm']]], [u'Tuesday', [[u'11:00 am--10:00 pm']], 1], [u'Wednesday', [[u'11:00 am--10:00 pm']]], [u'Thursday', [[u'11:00 am--10:00 pm']]], [u'Friday', [[u'11:00 am--1:00 am']]], [u'Saturday', [[u'11:00 am--1:00 am']]], [u'Sunday', [[u'11:00 am--10:00 pm']]]], 'phone': u'(605) 361-2208', 'closed': False, 'gPlusPlaceId': '100327153115986850675', 'gps': [43.529494, -96.792244]}\\n\"\n",
      "\"{'name': u'Carrefour - Palembang Square', 'price': None, 'address': [u'Jl. Angkatan 45', u'Kompleks Palembang Square', u'South Sumatra 30137, Indonesia'], 'hours': [[u'Monday', [[u'8:00 am--9:00 pm']]], [u'Tuesday', [[u'8:00 am--9:00 pm']]], [u'Wednesday', [[u'8:00 am--9:00 pm']], 1], [u'Thursday', [[u'8:00 am--9:00 pm']]], [u'Friday', [[u'8:00 am--9:00 pm']]], [u'Saturday', [[u'8:00 am--9:00 pm']]], [u'Sunday', [[u'8:00 am--9:00 pm']]]], 'phone': u'(0711) 359918', 'closed': False, 'gPlusPlaceId': '103368487323937936043', 'gps': [-2.976256, 104.742662]}\\n\"\n",
      "\"{'name': u'Pizzeria Montana', 'price': None, 'address': [u'Stuttgarter Stra\\\\xdfe 44', u'75378 Bad Liebenzell', u'Germany'], 'hours': None, 'phone': u'07052 933486', 'closed': False, 'gPlusPlaceId': '103903929544828620241', 'gps': [48.767817, 8.75612]}\\n\"\n",
      "\"{'name': u'Single Tree Inn', 'price': None, 'address': [u'2033 W Oklahoma Ave', u'Ulysses, KS 67880'], 'hours': None, 'phone': u'(620) 356-1500', 'closed': False, 'gPlusPlaceId': '103848836623683146185', 'gps': [37.576427, -101.386182]}\\n\"\n",
      "\"{'name': u'Sekolah Menengah Kebangsaan Tun Abang Haji Openg', 'price': None, 'address': [u'Jalan Demak', u'Petra Jaya', u'Kuching, Sarawak, Malaysia'], 'hours': None, 'phone': None, 'closed': False, 'gPlusPlaceId': '114537653478141145113', 'gps': [1.572255, 110.362958]}\\n\"\n",
      "\"{'name': u'\\\\u5929\\\\u5c71\\\\u6e6f\\\\u6cbb\\\\u90f7', 'price': None, 'address': [u'208 Yumotochaya', u'Hakone, Ashigarashimo District, Kanagawa 250-0312', u'Japan'], 'hours': None, 'phone': u'0460-86-4126', 'closed': False, 'gPlusPlaceId': '100062881646354125752', 'gps': [35.224978, 139.088382]}\\n\"\n",
      "\"{'name': u'Old Chicago', 'price': u'$$', 'address': [u'17960 NW Evergreen Pkwy', u'Beaverton, OR 97006'], 'hours': [[u'Monday', [[u'11:00 am--1:00 am']]], [u'Tuesday', [[u'11:00 am--1:00 am']]], [u'Wednesday', [[u'11:00 am--1:00 am']]], [u'Thursday', [[u'11:00 am--1:00 am']], 1], [u'Friday', [[u'11:00 am--1:00 am']]], [u'Saturday', [[u'11:00 am--1:00 am']]], [u'Sunday', [[u'11:00 am--1:00 am']]]], 'phone': u'(503) 533-4650', 'closed': False, 'gPlusPlaceId': '118222137795476771294', 'gps': [45.535176, -122.862242]}\\n\"\n",
      "\"{'name': u'China Cottage', 'price': u'$$', 'address': [u'3718 Wilmington Pike', u'Dayton, OH 45429'], 'hours': [[u'Monday', [[u'11:00 am--10:00 pm']]], [u'Tuesday', [[u'11:00 am--10:00 pm']]], [u'Wednesday', [[u'11:00 am--10:00 pm']], 1], [u'Thursday', [[u'11:00 am--10:00 pm']]], [u'Friday', [[u'11:00 am--11:00 pm']]], [u'Saturday', [[u'11:00 am--11:00 pm']]], [u'Sunday', [[u'11:00 am--10:00 pm']]]], 'phone': u'(937) 294-4724', 'closed': False, 'gPlusPlaceId': '106432060150136868000', 'gps': [39.692899, -84.136173]}\\n\"\n",
      "\"{'name': u'La Quinta Inn & Suites Ormond Beach/Daytona Beach', 'price': None, 'address': [u'1571 N US Highway 1', u'Ormond Beach, FL 32174'], 'hours': None, 'phone': u'(386) 236-2031', 'closed': False, 'gPlusPlaceId': '111282238562509982741', 'gps': [29.337011, -81.128647]}\\n\"\n",
      "\"{'name': u\\\"Dicola's Pizzeria\\\", 'price': None, 'address': [u'626 Can Do Expy # 1 , Hazle, PA 18202'], 'hours': None, 'phone': u'(570) 384-0520', 'closed': False, 'gPlusPlaceId': '104869934485244376571', 'gps': [40.9908, -76.0117]}\\n\"\n"
     ]
    }
   ],
   "source": [
    "with open('first13lines.jsonl', 'r') as testfile:\n",
    "    for line in testfile:\n",
    "        print(json.dumps(line))"
   ]
  },
  {
   "cell_type": "code",
   "execution_count": 8,
   "metadata": {
    "collapsed": false,
    "editable": true,
    "inputHidden": false,
    "jupyter": {
     "outputs_hidden": false
    },
    "outputHidden": false
   },
   "outputs": [
    {
     "name": "stdout",
     "output_type": "stream",
     "text": [
      "{\"name\": \"Diamond Valley Lake Marina\", \"price\": null, \"address\": [\"2615 Angler Ave\", \"Hemet, CA 92545\"], \"hours\": [[\"Monday\", [[\"6:30 am--4:15 pm\"]]], [\"Tuesday\", [[\"6:30 am--4:15 pm\"]]], [\"Wednesday\", [[\"6:30 am--4:15 pm\"]], 1], [\"Thursday\", [[\"6:30 am--4:15 pm\"]]], [\"Friday\", [[\"6:30 am--4:15 pm\"]]], [\"Saturday\", [[\"6:30 am--4:15 pm\"]]], [\"Sunday\", [[\"6:30 am--4:15 pm\"]]]], \"phone\": \"(951) 926-7201\", \"closed\": false, \"gPlusPlaceId\": \"104699454385822125632\", \"gps\": [33.703804, -117.003209]}\n",
      "{\"name\": \"Blue Ribbon Cleaners\", \"price\": null, \"address\": [\"Parole\", \"Annapolis, MD\"], \"hours\": null, \"phone\": \"(410) 266-6123\", \"closed\": false, \"gPlusPlaceId\": \"103054478949000078829\", \"gps\": [38.979759, -76.547538]}\n",
      "{\"name\": \"Portofino\", \"price\": null, \"address\": [\"\\u0443\\u043b. \\u0422\\u0443\\u0442\\u0430\\u0435\\u0432\\u0430, 1\", \"Nazran, Ingushetia, Russia\", \"366720\"], \"hours\": [[\"Monday\", [[\"9:30 am--9:00 pm\"]]], [\"Tuesday\", [[\"9:30 am--9:00 pm\"]]], [\"Wednesday\", [[\"9:30 am--9:00 pm\"]], 1], [\"Thursday\", [[\"9:30 am--9:00 pm\"]]], [\"Friday\", [[\"9:30 am--9:00 pm\"]]], [\"Saturday\", [[\"9:30 am--9:00 pm\"]]], [\"Sunday\", [[\"9:30 am--9:00 pm\"]]]], \"phone\": \"8 (963) 173-38-38\", \"closed\": false, \"gPlusPlaceId\": \"109810290098030327104\", \"gps\": [43.22776, 44.762726]}\n",
      "{\"name\": \"T C's Referee Sports Bar\", \"price\": \"$$\", \"address\": [\"5322 W 26th St\", \"Sioux Falls, SD 57106\"], \"hours\": [[\"Monday\", [[\"11:00 am--10:00 pm\"]]], [\"Tuesday\", [[\"11:00 am--10:00 pm\"]], 1], [\"Wednesday\", [[\"11:00 am--10:00 pm\"]]], [\"Thursday\", [[\"11:00 am--10:00 pm\"]]], [\"Friday\", [[\"11:00 am--1:00 am\"]]], [\"Saturday\", [[\"11:00 am--1:00 am\"]]], [\"Sunday\", [[\"11:00 am--10:00 pm\"]]]], \"phone\": \"(605) 361-2208\", \"closed\": false, \"gPlusPlaceId\": \"100327153115986850675\", \"gps\": [43.529494, -96.792244]}\n",
      "{\"name\": \"Carrefour - Palembang Square\", \"price\": null, \"address\": [\"Jl. Angkatan 45\", \"Kompleks Palembang Square\", \"South Sumatra 30137, Indonesia\"], \"hours\": [[\"Monday\", [[\"8:00 am--9:00 pm\"]]], [\"Tuesday\", [[\"8:00 am--9:00 pm\"]]], [\"Wednesday\", [[\"8:00 am--9:00 pm\"]], 1], [\"Thursday\", [[\"8:00 am--9:00 pm\"]]], [\"Friday\", [[\"8:00 am--9:00 pm\"]]], [\"Saturday\", [[\"8:00 am--9:00 pm\"]]], [\"Sunday\", [[\"8:00 am--9:00 pm\"]]]], \"phone\": \"(0711) 359918\", \"closed\": false, \"gPlusPlaceId\": \"103368487323937936043\", \"gps\": [-2.976256, 104.742662]}\n",
      "{\"name\": \"Pizzeria Montana\", \"price\": null, \"address\": [\"Stuttgarter Stra\\u00dfe 44\", \"75378 Bad Liebenzell\", \"Germany\"], \"hours\": null, \"phone\": \"07052 933486\", \"closed\": false, \"gPlusPlaceId\": \"103903929544828620241\", \"gps\": [48.767817, 8.75612]}\n",
      "{\"name\": \"Single Tree Inn\", \"price\": null, \"address\": [\"2033 W Oklahoma Ave\", \"Ulysses, KS 67880\"], \"hours\": null, \"phone\": \"(620) 356-1500\", \"closed\": false, \"gPlusPlaceId\": \"103848836623683146185\", \"gps\": [37.576427, -101.386182]}\n",
      "{\"name\": \"Sekolah Menengah Kebangsaan Tun Abang Haji Openg\", \"price\": null, \"address\": [\"Jalan Demak\", \"Petra Jaya\", \"Kuching, Sarawak, Malaysia\"], \"hours\": null, \"phone\": null, \"closed\": false, \"gPlusPlaceId\": \"114537653478141145113\", \"gps\": [1.572255, 110.362958]}\n",
      "{\"name\": \"\\u5929\\u5c71\\u6e6f\\u6cbb\\u90f7\", \"price\": null, \"address\": [\"208 Yumotochaya\", \"Hakone, Ashigarashimo District, Kanagawa 250-0312\", \"Japan\"], \"hours\": null, \"phone\": \"0460-86-4126\", \"closed\": false, \"gPlusPlaceId\": \"100062881646354125752\", \"gps\": [35.224978, 139.088382]}\n",
      "{\"name\": \"Old Chicago\", \"price\": \"$$\", \"address\": [\"17960 NW Evergreen Pkwy\", \"Beaverton, OR 97006\"], \"hours\": [[\"Monday\", [[\"11:00 am--1:00 am\"]]], [\"Tuesday\", [[\"11:00 am--1:00 am\"]]], [\"Wednesday\", [[\"11:00 am--1:00 am\"]]], [\"Thursday\", [[\"11:00 am--1:00 am\"]], 1], [\"Friday\", [[\"11:00 am--1:00 am\"]]], [\"Saturday\", [[\"11:00 am--1:00 am\"]]], [\"Sunday\", [[\"11:00 am--1:00 am\"]]]], \"phone\": \"(503) 533-4650\", \"closed\": false, \"gPlusPlaceId\": \"118222137795476771294\", \"gps\": [45.535176, -122.862242]}\n",
      "{\"name\": \"China Cottage\", \"price\": \"$$\", \"address\": [\"3718 Wilmington Pike\", \"Dayton, OH 45429\"], \"hours\": [[\"Monday\", [[\"11:00 am--10:00 pm\"]]], [\"Tuesday\", [[\"11:00 am--10:00 pm\"]]], [\"Wednesday\", [[\"11:00 am--10:00 pm\"]], 1], [\"Thursday\", [[\"11:00 am--10:00 pm\"]]], [\"Friday\", [[\"11:00 am--11:00 pm\"]]], [\"Saturday\", [[\"11:00 am--11:00 pm\"]]], [\"Sunday\", [[\"11:00 am--10:00 pm\"]]]], \"phone\": \"(937) 294-4724\", \"closed\": false, \"gPlusPlaceId\": \"106432060150136868000\", \"gps\": [39.692899, -84.136173]}\n",
      "{\"name\": \"La Quinta Inn & Suites Ormond Beach/Daytona Beach\", \"price\": null, \"address\": [\"1571 N US Highway 1\", \"Ormond Beach, FL 32174\"], \"hours\": null, \"phone\": \"(386) 236-2031\", \"closed\": false, \"gPlusPlaceId\": \"111282238562509982741\", \"gps\": [29.337011, -81.128647]}\n",
      "{\"name\": \"Dicola's Pizzeria\", \"price\": null, \"address\": [\"626 Can Do Expy # 1 , Hazle, PA 18202\"], \"hours\": null, \"phone\": \"(570) 384-0520\", \"closed\": false, \"gPlusPlaceId\": \"104869934485244376571\", \"gps\": [40.9908, -76.0117]}\n"
     ]
    }
   ],
   "source": [
    "# Test literal_eval\n",
    "with open('first13lines.jsonl', 'r') as testfile:\n",
    "    for line in testfile:\n",
    "        line2 = ast.literal_eval(line)\n",
    "        print(json.dumps(line2))\n",
    "        "
   ]
  },
  {
   "cell_type": "code",
   "execution_count": 13,
   "metadata": {
    "collapsed": false,
    "editable": true,
    "inputHidden": false,
    "jupyter": {
     "outputs_hidden": false
    },
    "outputHidden": false
   },
   "outputs": [],
   "source": [
    "with open('first13lines.jsonl', 'r') as testfile:\n",
    "    line = next(testfile)\n",
    "    \n",
    "normalised_line = json.dumps(ast.literal_eval(line))"
   ]
  },
  {
   "cell_type": "code",
   "execution_count": 16,
   "metadata": {
    "collapsed": false,
    "editable": true,
    "inputHidden": false,
    "jupyter": {
     "outputs_hidden": false
    },
    "outputHidden": false
   },
   "outputs": [
    {
     "data": {
      "text/plain": [
       "{'name': 'Diamond Valley Lake Marina',\n",
       " 'price': None,\n",
       " 'address': ['2615 Angler Ave', 'Hemet, CA 92545'],\n",
       " 'hours': [['Monday', [['6:30 am--4:15 pm']]],\n",
       "  ['Tuesday', [['6:30 am--4:15 pm']]],\n",
       "  ['Wednesday', [['6:30 am--4:15 pm']], 1],\n",
       "  ['Thursday', [['6:30 am--4:15 pm']]],\n",
       "  ['Friday', [['6:30 am--4:15 pm']]],\n",
       "  ['Saturday', [['6:30 am--4:15 pm']]],\n",
       "  ['Sunday', [['6:30 am--4:15 pm']]]],\n",
       " 'phone': '(951) 926-7201',\n",
       " 'closed': False,\n",
       " 'gPlusPlaceId': '104699454385822125632',\n",
       " 'gps': [33.703804, -117.003209]}"
      ]
     },
     "execution_count": 16,
     "metadata": {},
     "output_type": "execute_result"
    }
   ],
   "source": [
    "normalised_line = json.loads(normalised_line)\n",
    "normalised_line"
   ]
  },
  {
   "cell_type": "code",
   "execution_count": 19,
   "metadata": {
    "collapsed": false,
    "editable": true,
    "inputHidden": false,
    "jupyter": {
     "outputs_hidden": false
    },
    "outputHidden": false
   },
   "outputs": [
    {
     "name": "stdout",
     "output_type": "stream",
     "text": [
      "dict_keys(['name', 'price', 'address', 'hours', 'phone', 'closed', 'gPlusPlaceId', 'gps'])\n"
     ]
    },
    {
     "data": {
      "text/plain": [
       "list"
      ]
     },
     "execution_count": 19,
     "metadata": {},
     "output_type": "execute_result"
    }
   ],
   "source": [
    "print(normalised_line.keys())"
   ]
  },
  {
   "cell_type": "code",
   "execution_count": 24,
   "metadata": {
    "collapsed": false,
    "editable": true,
    "inputHidden": false,
    "jupyter": {
     "outputs_hidden": false
    },
    "outputHidden": false
   },
   "outputs": [
    {
     "data": {
      "text/plain": [
       "'6:30 am--4:15 pm'"
      ]
     },
     "execution_count": 24,
     "metadata": {},
     "output_type": "execute_result"
    }
   ],
   "source": [
    "# Test the format of hours\n",
    "hours = normalised_line['hours']\n",
    "#  The nesting seems arbitrary.\n",
    "hours[0][1][0][0]"
   ]
  },
  {
   "cell_type": "markdown",
   "metadata": {
    "editable": true
   },
   "source": [
    "Testing GeoText for city and country detection"
   ]
  },
  {
   "cell_type": "code",
   "execution_count": 61,
   "metadata": {
    "collapsed": false,
    "editable": true,
    "inputHidden": false,
    "jupyter": {
     "outputs_hidden": false
    },
    "outputHidden": false
   },
   "outputs": [
    {
     "name": "stdout",
     "output_type": "stream",
     "text": [
      "2615 Angler Ave, Hemet, CA 92545\n",
      "['Hemet']\n",
      "[]\n",
      "OrderedDict([('US', 1)])\n",
      "[]\n",
      "Parole, Annapolis, MD\n",
      "['Parole', 'Annapolis']\n",
      "[]\n",
      "OrderedDict([('US', 2)])\n",
      "[]\n",
      "ул. Тутаева, 1, Nazran, Ingushetia, Russia, 366720\n",
      "[]\n",
      "['Russia']\n",
      "OrderedDict([('RU', 1)])\n",
      "[]\n",
      "5322 W 26th St, Sioux Falls, SD 57106\n",
      "['Sioux Falls']\n",
      "[]\n",
      "OrderedDict([('US', 1)])\n",
      "[]\n",
      "Jl. Angkatan 45, Kompleks Palembang Square, South Sumatra 30137, Indonesia\n",
      "[]\n",
      "['Indonesia']\n",
      "OrderedDict([('ID', 1)])\n",
      "[]\n",
      "Stuttgarter Straße 44, 75378 Bad Liebenzell, Germany\n",
      "[]\n",
      "['Germany']\n",
      "OrderedDict([('DE', 1)])\n",
      "[]\n",
      "2033 W Oklahoma Ave, Ulysses, KS 67880\n",
      "[]\n",
      "[]\n",
      "OrderedDict()\n",
      "[]\n",
      "Jalan Demak, Petra Jaya, Kuching, Sarawak, Malaysia\n",
      "['Kuching']\n",
      "['Malaysia']\n",
      "OrderedDict([('MY', 2)])\n",
      "[]\n",
      "208 Yumotochaya, Hakone, Ashigarashimo District, Kanagawa 250-0312, Japan\n",
      "[]\n",
      "['Japan']\n",
      "OrderedDict([('JP', 1)])\n",
      "[]\n",
      "17960 NW Evergreen Pkwy, Beaverton, OR 97006\n",
      "['Beaverton']\n",
      "[]\n",
      "OrderedDict([('US', 1)])\n",
      "[]\n",
      "3718 Wilmington Pike, Dayton, OH 45429\n",
      "['Dayton']\n",
      "[]\n",
      "OrderedDict([('US', 1)])\n",
      "[]\n",
      "1571 N US Highway 1, Ormond Beach, FL 32174\n",
      "['Ormond Beach']\n",
      "[]\n",
      "OrderedDict([('US', 1)])\n",
      "[]\n",
      "626 Can Do Expy # 1 , Hazle, PA 18202\n",
      "[]\n",
      "[]\n",
      "OrderedDict()\n",
      "[]\n"
     ]
    }
   ],
   "source": [
    "# Testing GeoText for city and country detection\n",
    "with open('first13lines.jsonl', 'r') as testfile:\n",
    "    for line in testfile:\n",
    "        normalised_line = json.dumps(ast.literal_eval(line))\n",
    "        address = json.loads(normalised_line).get('address')\n",
    "        address = ', '.join(address)\n",
    "        print(address)\n",
    "        address = GeoText(address)\n",
    "        print(address.cities)\n",
    "        print(address.countries)\n",
    "        print(address.country_mentions)\n",
    "        print(address.nationalities)"
   ]
  },
  {
   "cell_type": "markdown",
   "metadata": {
    "editable": true,
    "inputHidden": false,
    "outputHidden": false
   },
   "source": [
    "As we can see, the addresses are of different formats. Sometimes, the country is the last element of the list, sometimes the pincode is the last element. Annoyingly, the USA records don't have a country. But luckily, we won't be touching the USA records with a bargepole. "
   ]
  },
  {
   "cell_type": "markdown",
   "metadata": {
    "editable": true
   },
   "source": [
    "GeoText only works with title case!! The .title() is therefore necessary, as below."
   ]
  },
  {
   "cell_type": "code",
   "execution_count": 64,
   "metadata": {
    "collapsed": false,
    "editable": true,
    "inputHidden": false,
    "jupyter": {
     "outputs_hidden": false
    },
    "outputHidden": false
   },
   "outputs": [
    {
     "data": {
      "text/plain": [
       "['Japan']"
      ]
     },
     "execution_count": 64,
     "metadata": {},
     "output_type": "execute_result"
    }
   ],
   "source": [
    "add = ', '.join(['208 Yumotochaya', 'Hakone, Ashigarashimo District, Kanagawa 250-0312', 'japan']).title()\n",
    "add = GeoText(add)\n",
    "add.countries"
   ]
  },
  {
   "cell_type": "markdown",
   "metadata": {
    "editable": true
   },
   "source": [
    "Our hotels are located in 6 countries: France, Italy, Spain, United Kingdom, Austria, Netherlands. Let's restrict the records to these countries."
   ]
  },
  {
   "cell_type": "code",
   "execution_count": 27,
   "metadata": {
    "editable": true
   },
   "outputs": [
    {
     "name": "stdout",
     "output_type": "stream",
     "text": [
      "dict_keys(['name', 'price', 'address', 'hours', 'phone', 'closed', 'gPlusPlaceId', 'gps'])\n",
      "dict_keys(['name', 'price', 'address', 'hours', 'phone', 'closed', 'gPlusPlaceId', 'gps'])\n",
      "dict_keys(['name', 'price', 'address', 'hours', 'phone', 'closed', 'gPlusPlaceId', 'gps'])\n",
      "dict_keys(['name', 'price', 'address', 'hours', 'phone', 'closed', 'gPlusPlaceId', 'gps'])\n",
      "dict_keys(['name', 'price', 'address', 'hours', 'phone', 'closed', 'gPlusPlaceId', 'gps'])\n",
      "dict_keys(['name', 'price', 'address', 'hours', 'phone', 'closed', 'gPlusPlaceId', 'gps'])\n",
      "dict_keys(['name', 'price', 'address', 'hours', 'phone', 'closed', 'gPlusPlaceId', 'gps'])\n",
      "dict_keys(['name', 'price', 'address', 'hours', 'phone', 'closed', 'gPlusPlaceId', 'gps'])\n",
      "dict_keys(['name', 'price', 'address', 'hours', 'phone', 'closed', 'gPlusPlaceId', 'gps'])\n",
      "dict_keys(['name', 'price', 'address', 'hours', 'phone', 'closed', 'gPlusPlaceId', 'gps'])\n",
      "dict_keys(['name', 'price', 'address', 'hours', 'phone', 'closed', 'gPlusPlaceId', 'gps'])\n",
      "dict_keys(['name', 'price', 'address', 'hours', 'phone', 'closed', 'gPlusPlaceId', 'gps'])\n",
      "dict_keys(['name', 'price', 'address', 'hours', 'phone', 'closed', 'gPlusPlaceId', 'gps'])\n"
     ]
    }
   ],
   "source": [
    "countries = ['france', 'italy', 'spain', 'united kingdom', 'austria', 'netherlands']\n",
    "with open('first13lines.jsonl', 'r') as testfile:\n",
    "    for line in testfile:\n",
    "        # dumps puts the literally evaluated string (double quotes etc.) in a json formatted string\n",
    "        # We convert to a json formatted dict by loading this string with json.loads.\n",
    "        normalised_dict = json.loads(json.dumps(ast.literal_eval(line)))\n",
    "        print(normalised_dict.keys())\n",
    "        joined_address = ', '.join(normalised_dict.get('address'))\n",
    "        if any(country in joined_address.lower() for country in countries):\n",
    "            # Country found in the list, find which country it is.\n",
    "            # GeoText module only detects the city/country if it is capitalised\n",
    "            geo_address = GeoText(joined_address.title())\n",
    "            try:\n",
    "                matching_country = geo_address.countries[0]\n",
    "            except IndexError:\n",
    "                matching_country = [country for country in countries if country in joined_address.lower()][0].title()\n",
    "            try:\n",
    "                matching_city = geo_address.cities[0]\n",
    "            except IndexError:\n",
    "                matching_city = None\n",
    "            normalised_dict['country'] = matching_country\n",
    "            normalised_dict['city'] = matching_city\n",
    "            normalised_dict['latitude'] = normalised_dict.get('gps')[0]\n",
    "            normalised_dict['longitude'] = normalised_dict.get('gps')[1]\n",
    "            del normalised_dict['closed']\n",
    "            del normalised_dict['gps']\n",
    "            "
   ]
  },
  {
   "cell_type": "code",
   "execution_count": 33,
   "metadata": {
    "collapsed": false,
    "editable": true,
    "inputHidden": false,
    "jupyter": {
     "outputs_hidden": false
    },
    "outputHidden": false
   },
   "outputs": [
    {
     "data": {
      "text/plain": [
       "['Monday',\n",
       " [['6:30 am--4:15 pm']],\n",
       " 'Tuesday',\n",
       " [['6:30 am--4:15 pm']],\n",
       " 'Wednesday',\n",
       " [['6:30 am--4:15 pm']],\n",
       " 1,\n",
       " 'Thursday',\n",
       " [['6:30 am--4:15 pm']],\n",
       " 'Friday',\n",
       " [['6:30 am--4:15 pm']],\n",
       " 'Saturday',\n",
       " [['6:30 am--4:15 pm']],\n",
       " 'Sunday',\n",
       " [['6:30 am--4:15 pm']]]"
      ]
     },
     "execution_count": 33,
     "metadata": {},
     "output_type": "execute_result"
    }
   ],
   "source": [
    "hours = [['Monday', [['6:30 am--4:15 pm']]],\n",
    "  ['Tuesday', [['6:30 am--4:15 pm']]],\n",
    "  ['Wednesday', [['6:30 am--4:15 pm']], 1],\n",
    "  ['Thursday', [['6:30 am--4:15 pm']]],\n",
    "  ['Friday', [['6:30 am--4:15 pm']]],\n",
    "  ['Saturday', [['6:30 am--4:15 pm']]],\n",
    "  ['Sunday', [['6:30 am--4:15 pm']]]]\n",
    "\n",
    "from itertools import chain\n",
    "list(chain.from_iterable(hours))"
   ]
  },
  {
   "cell_type": "code",
   "execution_count": 44,
   "metadata": {
    "collapsed": false,
    "editable": true,
    "inputHidden": false,
    "jupyter": {
     "outputs_hidden": false
    },
    "outputHidden": false
   },
   "outputs": [
    {
     "name": "stdout",
     "output_type": "stream",
     "text": [
      "she ['sd', 2, ['sf', 4]]\n",
      "he sd <class 'str'>\n",
      "he 2 <class 'int'>\n",
      "she ['sf', 4]\n",
      "he sf <class 'str'>\n",
      "he 4 <class 'int'>\n",
      "['sd', 2, 'sf', 4]\n"
     ]
    }
   ],
   "source": [
    "import collections\n",
    "def flatten(day_hours_list):\n",
    "    for el in day_hours_list:\n",
    "        if isinstance(el, collections.Iterable) and not isinstance(el, (str, bytes)):\n",
    "            print('she', el)\n",
    "            yield from flatten(el)\n",
    "        else:\n",
    "            print('he', el, type(el))\n",
    "            yield el\n",
    "print(list(flatten([['sd', 2, ['sf', 4]]])))\n",
    "\n",
    "def process_hours(hours):\n",
    "    if hours is None:\n",
    "        # Return None for each day\n",
    "        return [None] * 7\n",
    "    return_dict = dict()\n",
    "    for day_hours in hours:\n",
    "        return_dict[day_hours[0]] = flatten()\n",
    "        "
   ]
  },
  {
   "cell_type": "code",
   "execution_count": 50,
   "metadata": {
    "collapsed": false,
    "editable": true,
    "inputHidden": false,
    "jupyter": {
     "outputs_hidden": false
    },
    "outputHidden": false
   },
   "outputs": [],
   "source": [
    "def flatten(day_hours_list):\n",
    "    \"\"\" Generator which flattens a list of lists recursively by yielding strings and ints/floats\n",
    "    directly and recursively calling the generator func if it's an iterable \"\"\"\n",
    "    for el in day_hours_list:\n",
    "        if isinstance(el, collections.Iterable) and not isinstance(el, (str, bytes)):\n",
    "            yield from flatten(el)\n",
    "        else:\n",
    "            yield el\n",
    "\n",
    "def process_hours(hours):\n",
    "    \"\"\" Takes a Json array of hours in the following form (None if not present), and returns\n",
    "    a dictionary containing days as keys and opening hours as string values\n",
    "    [['Monday', [['6:30 am--4:15 pm']]],\n",
    "    ['Tuesday', [['6:30 am--4:15 pm']]],\n",
    "    ['Wednesday', [['6:30 am--4:15 pm']], 1],\n",
    "    ['Thursday', [['6:30 am--4:15 pm']]],\n",
    "    ['Friday', [['6:30 am--4:15 pm']]],\n",
    "    ['Saturday', [['6:30 am--4:15 pm']]],\n",
    "    ['Sunday', [['6:30 am--4:15 pm']]]] \"\"\"\n",
    "    keys = ['Monday', 'Tuesday', 'Wednesday', 'Thursday', 'Friday', 'Saturday', 'Sunday']\n",
    "    if hours is None:\n",
    "        # Return None for each day\n",
    "        return {k:None for k in keys}\n",
    "    return_dict = dict()\n",
    "    for day_hours in hours:\n",
    "        return_dict[day_hours[0]] = next(flatten(day_hours[1]))\n",
    "        \n",
    "    return return_dict        "
   ]
  },
  {
   "cell_type": "code",
   "execution_count": 51,
   "metadata": {
    "collapsed": false,
    "editable": true,
    "inputHidden": false,
    "jupyter": {
     "outputs_hidden": false
    },
    "outputHidden": false
   },
   "outputs": [
    {
     "data": {
      "text/plain": [
       "{'Monday': '6:30 am--4:15 pm',\n",
       " 'Tuesday': '6:30 am--4:15 pm',\n",
       " 'Wednesday': '6:30 am--4:15 pm',\n",
       " 'Thursday': '6:30 am--4:15 pm',\n",
       " 'Friday': '6:30 am--4:15 pm',\n",
       " 'Saturday': '6:30 am--4:15 pm',\n",
       " 'Sunday': '6:30 am--4:15 pm'}"
      ]
     },
     "execution_count": 51,
     "metadata": {},
     "output_type": "execute_result"
    }
   ],
   "source": [
    "hours = [['Monday', [['6:30 am--4:15 pm']]],\n",
    "  ['Tuesday', [['6:30 am--4:15 pm']]],\n",
    "  ['Wednesday', [['6:30 am--4:15 pm']], 1],\n",
    "  ['Thursday', [['6:30 am--4:15 pm']]],\n",
    "  ['Friday', [['6:30 am--4:15 pm']]],\n",
    "  ['Saturday', [['6:30 am--4:15 pm']]],\n",
    "  ['Sunday', [['6:30 am--4:15 pm']]]]\n",
    "process_hours(hours)"
   ]
  },
  {
   "cell_type": "markdown",
   "metadata": {
    "editable": true
   },
   "source": [
    "Now, it's time for the complete end-to-end program."
   ]
  },
  {
   "cell_type": "code",
   "execution_count": 70,
   "metadata": {
    "collapsed": false,
    "editable": true,
    "inputHidden": false,
    "jupyter": {
     "outputs_hidden": false
    },
    "outputHidden": false
   },
   "outputs": [
    {
     "name": "stdout",
     "output_type": "stream",
     "text": [
      "dict_keys(['name', 'price', 'address', 'hours', 'phone', 'closed', 'gPlusPlaceId', 'gps'])\n",
      "dict_keys(['name', 'price', 'address', 'hours', 'phone', 'closed', 'gPlusPlaceId', 'gps'])\n",
      "dict_keys(['name', 'price', 'address', 'hours', 'phone', 'closed', 'gPlusPlaceId', 'gps', 'country', 'city', 'latitude', 'longitude', 'MondayHours', 'TuesdayHours', 'WednesdayHours', 'ThursdayHours', 'FridayHours', 'SaturdayHours', 'SundayHours'])\n",
      "dict_keys(['name', 'price', 'address', 'hours', 'phone', 'closed', 'gPlusPlaceId', 'gps'])\n",
      "dict_keys(['name', 'price', 'address', 'hours', 'phone', 'closed', 'gPlusPlaceId', 'gps'])\n",
      "dict_keys(['name', 'price', 'address', 'hours', 'phone', 'closed', 'gPlusPlaceId', 'gps'])\n",
      "dict_keys(['name', 'price', 'address', 'hours', 'phone', 'closed', 'gPlusPlaceId', 'gps'])\n",
      "dict_keys(['name', 'price', 'address', 'hours', 'phone', 'closed', 'gPlusPlaceId', 'gps'])\n",
      "dict_keys(['name', 'price', 'address', 'hours', 'phone', 'closed', 'gPlusPlaceId', 'gps', 'country', 'city', 'latitude', 'longitude', 'MondayHours', 'TuesdayHours', 'WednesdayHours', 'ThursdayHours', 'FridayHours', 'SaturdayHours', 'SundayHours'])\n",
      "dict_keys(['name', 'price', 'address', 'hours', 'phone', 'closed', 'gPlusPlaceId', 'gps'])\n",
      "dict_keys(['name', 'price', 'address', 'hours', 'phone', 'closed', 'gPlusPlaceId', 'gps', 'country', 'city', 'latitude', 'longitude', 'MondayHours', 'TuesdayHours', 'WednesdayHours', 'ThursdayHours', 'FridayHours', 'SaturdayHours', 'SundayHours'])\n",
      "dict_keys(['name', 'price', 'address', 'hours', 'phone', 'closed', 'gPlusPlaceId', 'gps'])\n",
      "dict_keys(['name', 'price', 'address', 'hours', 'phone', 'closed', 'gPlusPlaceId', 'gps'])\n",
      "dict_keys(['name', 'price', 'address', 'hours', 'phone', 'closed', 'gPlusPlaceId', 'gps', 'country', 'city', 'latitude', 'longitude', 'MondayHours', 'TuesdayHours', 'WednesdayHours', 'ThursdayHours', 'FridayHours', 'SaturdayHours', 'SundayHours'])\n",
      "dict_keys(['name', 'price', 'address', 'hours', 'phone', 'closed', 'gPlusPlaceId', 'gps'])\n",
      "dict_keys(['name', 'price', 'address', 'hours', 'phone', 'closed', 'gPlusPlaceId', 'gps'])\n",
      "dict_keys(['name', 'price', 'address', 'hours', 'phone', 'closed', 'gPlusPlaceId', 'gps'])\n",
      "dict_keys(['name', 'price', 'address', 'hours', 'phone', 'closed', 'gPlusPlaceId', 'gps', 'country', 'city', 'latitude', 'longitude', 'MondayHours', 'TuesdayHours', 'WednesdayHours', 'ThursdayHours', 'FridayHours', 'SaturdayHours', 'SundayHours'])\n"
     ]
    }
   ],
   "source": [
    "def flatten(day_hours_list):\n",
    "    \"\"\" Generator which flattens a list of lists recursively by yielding strings and ints/floats\n",
    "    directly and recursively calling the generator func if it's an iterable \"\"\"\n",
    "    for el in day_hours_list:\n",
    "        if isinstance(el, collections.Iterable) and not isinstance(el, (str, bytes)):\n",
    "            yield from flatten(el)\n",
    "        else:\n",
    "            yield el\n",
    "\n",
    "def process_hours(opening_hours):\n",
    "    \"\"\" Takes a Json array of opening_hours in the following form (None if not present), and\n",
    "    returns a dictionary containing days as keys and opening hours as string values\n",
    "    [['Monday', [['6:30 am--4:15 pm']]],\n",
    "    ['Tuesday', [['6:30 am--4:15 pm']]],\n",
    "    ['Wednesday', [['6:30 am--4:15 pm']], 1],\n",
    "    ['Thursday', [['6:30 am--4:15 pm']]],\n",
    "    ['Friday', [['6:30 am--4:15 pm']]],\n",
    "    ['Saturday', [['6:30 am--4:15 pm']]],\n",
    "    ['Sunday', [['6:30 am--4:15 pm']]]] \"\"\"\n",
    "    day_keys = ['MondayHours', 'TuesdayHours', 'WednesdayHours', 'ThursdayHours',\n",
    "            'FridayHours', 'SaturdayHours', 'SundayHours']\n",
    "    if opening_hours is None:\n",
    "        # Return None for each day\n",
    "        return {k:None for k in day_keys}\n",
    "    return_dict = dict()\n",
    "    for day_hours in opening_hours:\n",
    "        # day_hours[0] is the day, [1] is the list of lists\n",
    "        return_dict[day_hours[0]+'Hours'] = next(flatten(day_hours[1]))\n",
    "        \n",
    "    return return_dict   \n",
    "\n",
    "countries = ['france', 'italy', 'spain', 'united kingdom', 'austria', 'netherlands']\n",
    "with jsonlines.open('output_first13lines.jsonl', mode='w') as writer:\n",
    "    with open('first13lines_edited.jsonl', 'r') as testfile:\n",
    "        # fields: 'name', 'price', 'address', 'hours', 'phone', 'closed', 'gPlusPlaceId', 'gps'\n",
    "        for line in testfile:\n",
    "            normalised_dict = ast.literal_eval(line)\n",
    "            print(normalised_dict.keys())\n",
    "            joined_address = ', '.join(normalised_dict.get('address'))\n",
    "            if any(country in joined_address.lower() for country in countries):\n",
    "                # Country found in the list, find which country it is.\n",
    "                # GeoText module only detects the city/country if it is capitalised\n",
    "                geo_address = GeoText(joined_address.title())\n",
    "                try:\n",
    "                    matching_country = geo_address.countries[0]\n",
    "                except IndexError:\n",
    "                    matching_country = [country for country in countries if country in joined_address.lower()][0].title()\n",
    "                try:\n",
    "                    #If it matches 2 cities for some reason, take the one closer to the end of the string.\n",
    "                    matching_city = geo_address.cities[-1]\n",
    "                except IndexError:\n",
    "                    matching_city = None\n",
    "                normalised_dict['country'] = matching_country\n",
    "                normalised_dict['city'] = matching_city\n",
    "                normalised_dict['latitude'] = normalised_dict.get('gps')[0]\n",
    "                normalised_dict['longitude'] = normalised_dict.get('gps')[1]\n",
    "                opening_hours_dict = process_hours(normalised_dict.get('hours'))\n",
    "                # Add the new keys (Monday, Tuesday, ...)\n",
    "                normalised_dict.update(opening_hours_dict)\n",
    "                print(normalised_dict.keys())\n",
    "                del normalised_dict['closed']\n",
    "                del normalised_dict['gps']\n",
    "                del normalised_dict['hours']\n",
    "                \n",
    "                # Write to output jsonl file\n",
    "                writer.write(normalised_dict)\n"
   ]
  },
  {
   "cell_type": "code",
   "execution_count": null,
   "metadata": {
    "collapsed": false,
    "editable": true,
    "inputHidden": false,
    "jupyter": {
     "outputs_hidden": false
    },
    "outputHidden": false
   },
   "outputs": [],
   "source": []
  }
 ],
 "metadata": {
  "kernel_info": {
   "name": "python3"
  },
  "kernelspec": {
   "display_name": "Python 3",
   "language": "python",
   "name": "python3"
  },
  "language_info": {
   "codemirror_mode": {
    "name": "ipython",
    "version": 3
   },
   "file_extension": ".py",
   "mimetype": "text/x-python",
   "name": "python",
   "nbconvert_exporter": "python",
   "pygments_lexer": "ipython3",
   "version": "3.6.3"
  },
  "nteract": {
   "version": "0.12.1"
  }
 },
 "nbformat": 4,
 "nbformat_minor": 4
}
