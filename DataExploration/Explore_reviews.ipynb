{
 "cells": [
  {
   "cell_type": "code",
   "execution_count": 30,
   "metadata": {
    "editable": true
   },
   "outputs": [],
   "source": [
    "# Do all imports and installs here\n",
    "import pandas as pd\n",
    "from pyspark.sql import SparkSession\n",
    "import pyspark.sql.functions as F\n",
    "from pyspark.sql.types import StringType"
   ]
  },
  {
   "cell_type": "code",
   "execution_count": 3,
   "metadata": {
    "editable": true
   },
   "outputs": [],
   "source": [
    "spark = SparkSession.builder\\\n",
    "                     .config(\"spark.jars.packages\",\"org.apache.hadoop:hadoop-aws:2.7.0\")\\\n",
    "                     .getOrCreate()"
   ]
  },
  {
   "cell_type": "code",
   "execution_count": 4,
   "metadata": {
    "editable": true
   },
   "outputs": [
    {
     "name": "stdout",
     "output_type": "stream",
     "text": [
      "root\n",
      " |-- Hotel_Address: string (nullable = true)\n",
      " |-- Additional_Number_of_Scoring: integer (nullable = true)\n",
      " |-- Review_Date: string (nullable = true)\n",
      " |-- Average_Score: double (nullable = true)\n",
      " |-- Hotel_Name: string (nullable = true)\n",
      " |-- Reviewer_Nationality: string (nullable = true)\n",
      " |-- Negative_Review: string (nullable = true)\n",
      " |-- Review_Total_Negative_Word_Counts: integer (nullable = true)\n",
      " |-- Total_Number_of_Reviews: integer (nullable = true)\n",
      " |-- Positive_Review: string (nullable = true)\n",
      " |-- Review_Total_Positive_Word_Counts: integer (nullable = true)\n",
      " |-- Total_Number_of_Reviews_Reviewer_Has_Given: integer (nullable = true)\n",
      " |-- Reviewer_Score: double (nullable = true)\n",
      " |-- Tags: string (nullable = true)\n",
      " |-- days_since_review: string (nullable = true)\n",
      " |-- lat: string (nullable = true)\n",
      " |-- lng: string (nullable = true)\n",
      "\n"
     ]
    }
   ],
   "source": [
    "# Read in the data here\n",
    "df_hotel_reviews = spark.read.csv('Hotel_Reviews.csv', header=True, inferSchema=True)\n",
    "df_hotel_reviews.printSchema()\n"
   ]
  },
  {
   "cell_type": "code",
   "execution_count": 8,
   "metadata": {
    "editable": true
   },
   "outputs": [
    {
     "name": "stdout",
     "output_type": "stream",
     "text": [
      "(515738, 17)\n"
     ]
    }
   ],
   "source": [
    "print((df_hotel_reviews.count(), len(df_hotel_reviews.columns)))"
   ]
  },
  {
   "cell_type": "code",
   "execution_count": 20,
   "metadata": {
    "editable": true
   },
   "outputs": [],
   "source": [
    "dist_hotel_columns = ['Hotel_Name', 'Hotel_Address', 'lat', 'lng']\n",
    "df_distinct_hotels = df_hotel_reviews.dropDuplicates(subset=dist_hotel_columns)"
   ]
  },
  {
   "cell_type": "code",
   "execution_count": 21,
   "metadata": {
    "editable": true
   },
   "outputs": [
    {
     "name": "stdout",
     "output_type": "stream",
     "text": [
      "(1494, 17)\n"
     ]
    }
   ],
   "source": [
    "print((df_distinct_hotels.count(), len(df_distinct_hotels.columns)))"
   ]
  },
  {
   "cell_type": "markdown",
   "metadata": {
    "editable": true
   },
   "source": [
    "There are therefore only 1494 unique hotels, even though there are more than half a million reviews."
   ]
  },
  {
   "cell_type": "code",
   "execution_count": 22,
   "metadata": {
    "editable": true
   },
   "outputs": [
    {
     "data": {
      "text/plain": [
       "[Row(Hotel_Address='Savoyenstra e 2 16 Ottakring 1160 Vienna Austria', Additional_Number_of_Scoring=86, Review_Date='7/31/2017', Average_Score=8.3, Hotel_Name='Austria Trend Hotel Schloss Wilhelminenberg Wien', Reviewer_Nationality=' Netherlands ', Negative_Review=' Although the building looks majestic on the outside the inner hallways on the higher floors could use some renovation old carpets walls and ceilings need a freshen up The wooden floors expecially in the hallways are quite squeaky Our room was in decent shape but had no airconditioning a fan was provided though We stayed during a 30 degree celcius period so the room was rather warm and hard to ventilate because of the small single window ', Review_Total_Negative_Word_Counts=79, Total_Number_of_Reviews=1558, Positive_Review=' Excellent location with spectacular view over the city provided your room is on the backside of the building Local bus to the city stops right in front of the hotel Ample free outdoor parking on the hotel site Friendly staff Clean updated bathroom with good shower Good beds Good wifi Price performance good ', Review_Total_Positive_Word_Counts=55, Total_Number_of_Reviews_Reviewer_Has_Given=3, Reviewer_Score=8.3, Tags=\"[' Leisure trip ', ' Group ', ' Classic Room ', ' Stayed 3 nights ']\", days_since_review='3 days', lat='NA', lng='NA'),\n",
       " Row(Hotel_Address='Epping Forest 30 Oak Hill London IG8 9NY United Kingdom', Additional_Number_of_Scoring=193, Review_Date='8/2/2017', Average_Score=7.5, Hotel_Name='Best Western PLUS Epping Forest', Reviewer_Nationality=' United Kingdom ', Negative_Review=' Bed seemed small for a double Room a bit gloomy due to foliage outside Noisy at night not a good nights sleep ', Review_Total_Negative_Word_Counts=24, Total_Number_of_Reviews=587, Positive_Review=' Easy check in Friendly staff Reasonably priced food and drink Good choice of breakfast Good location easy to get into Central London ', Review_Total_Positive_Word_Counts=24, Total_Number_of_Reviews_Reviewer_Has_Given=3, Reviewer_Score=7.9, Tags=\"[' Leisure trip ', ' Couple ', ' Standard Double Room ', ' Stayed 1 night ', ' Submitted from a mobile device ']\", days_since_review='1 days', lat='51.603207', lng='0.010607'),\n",
       " Row(Hotel_Address='Passeig de Gr cia 29 Eixample 08007 Barcelona Spain', Additional_Number_of_Scoring=172, Review_Date='7/30/2017', Average_Score=8.3, Hotel_Name='Eurostars Bcn Design', Reviewer_Nationality=' Australia ', Negative_Review=' The hallways feel like your in a hostel and the staff customer service was pretty crap Not very friendly and could not be bothered There was a taxi strike and there was a sign up in the lift informing guests of it When we asked staff for advice on how to get to the airport they were not really prepared and didn t give us enough information ', Review_Total_Negative_Word_Counts=69, Total_Number_of_Reviews=1601, Positive_Review=' Location and great black out curtains which really helped us in having a good sleep ', Review_Total_Positive_Word_Counts=17, Total_Number_of_Reviews_Reviewer_Has_Given=26, Reviewer_Score=7.1, Tags=\"[' Leisure trip ', ' Couple ', ' Basic Double Room ', ' Stayed 3 nights ', ' Submitted from a mobile device ']\", days_since_review='4 days', lat='41.3907208', lng='2.1660732')]"
      ]
     },
     "execution_count": 22,
     "metadata": {},
     "output_type": "execute_result"
    }
   ],
   "source": [
    "df_distinct_hotels.take(3)"
   ]
  },
  {
   "cell_type": "code",
   "execution_count": 31,
   "metadata": {
    "editable": true
   },
   "outputs": [],
   "source": [
    "def get_last_word(address):\n",
    "    \"\"\" Gets the last word of the string 'address'\"\"\"\n",
    "    return address.split()[-1]\n",
    "\n",
    "udf_get_last_word = F.udf(get_last_word, StringType())"
   ]
  },
  {
   "cell_type": "code",
   "execution_count": 36,
   "metadata": {
    "editable": true
   },
   "outputs": [],
   "source": [
    "df_distinct_hotels = df_distinct_hotels.withColumn('country', udf_get_last_word(\"Hotel_Address\"))"
   ]
  },
  {
   "cell_type": "code",
   "execution_count": 42,
   "metadata": {
    "editable": true
   },
   "outputs": [
    {
     "name": "stdout",
     "output_type": "stream",
     "text": [
      "+-----------+\n",
      "|    country|\n",
      "+-----------+\n",
      "|     France|\n",
      "|      Italy|\n",
      "|      Spain|\n",
      "|    Kingdom|\n",
      "|    Austria|\n",
      "|Netherlands|\n",
      "+-----------+\n",
      "\n"
     ]
    }
   ],
   "source": [
    "df_distinct_hotels.select('country').distinct().show()"
   ]
  },
  {
   "cell_type": "code",
   "execution_count": 46,
   "metadata": {
    "editable": true
   },
   "outputs": [
    {
     "data": {
      "text/plain": [
       "227"
      ]
     },
     "execution_count": 46,
     "metadata": {},
     "output_type": "execute_result"
    }
   ],
   "source": [
    "df_hotel_reviews.select('Reviewer_Nationality').distinct().count()"
   ]
  },
  {
   "cell_type": "markdown",
   "metadata": {
    "editable": true
   },
   "source": [
    "So, we see that there are hotels from 6 countries, but reviewers from 227 countries."
   ]
  }
 ],
 "metadata": {
  "kernelspec": {
   "display_name": "Python 3",
   "language": "python",
   "name": "python3"
  },
  "language_info": {
   "codemirror_mode": {
    "name": "ipython",
    "version": 3
   },
   "file_extension": ".py",
   "mimetype": "text/x-python",
   "name": "python",
   "nbconvert_exporter": "python",
   "pygments_lexer": "ipython3",
   "version": "3.6.3"
  }
 },
 "nbformat": 4,
 "nbformat_minor": 4
}
