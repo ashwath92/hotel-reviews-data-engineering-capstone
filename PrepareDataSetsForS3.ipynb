{
 "cells": [
  {
   "cell_type": "markdown",
   "metadata": {
    "editable": true
   },
   "source": [
    "## Steps\n",
    "\n",
    "### Part 1: Prepare a data set for hotels with data from Google Local, Reviews and Airport codes \n",
    "This isn't straightforward -- the many steps are detailed below.\n",
    "1. Read in reviews data set, get distinct hotels -- this is considered a new data set in the context of Part 1.\n",
    "2. Create a Normalised_Hotel_Name column, we use this column to join this data set with the Google Local data set. This column has trailing and leading spaces removed, punctuations cut out, and the text converted to lower case.\n",
    "3. Read in the already cleaned and reduced (only Europe) Google Local businesses data set. It is now in a valid JSONLines format, unlike in the original file.\n",
    "4. Reorder the columns.\n",
    "5. Like in Step 2, normalise the hotel name for this data set.\n",
    "6. **Fuzzy join**: Fuzzy Join on the normalised hotel name column of the 2 data sets -- google local and distinct hotels in the reviews data set. The fuzzy join is done by considering a Levenshtein distance < 3.  This will produce many false positives.\n",
    "7. The plan is to remove false positives by getting the distance between the respective latitude and longitude columns  in the 2 data sets. This is done using the geodesic distance. But before that, we have to fix some issues with these columns. \n",
    "8. **Fix latitude and longitude data issue 1: NA values from reviews data set**. We find that there are 16 rows like this, but 10 are for a single hotel, 'Hotel Atlanta'. We drop these rows as they are false positives. For the other 6 rows, we get the values from the lat and lng columns of the Google Local data set and insert it in the latitude and longitude columns of the distinct hotels data set.\n",
    "9. **Fix latitude and longitude data issue 2: latitudes and longitudes outside the [-90,90] range**. These values are from the lat and lng columns in the Google Local data set. It seems like all these values are missing a decimal -- they seem to be multiplied by 1,000,000. \n",
    "10. Now, we are ready to correct the false positives prolem from step 6. We create a new column 'distance' using the latitude and longitude columns (from the reviews data set), and the lat and lng columns (from the google local data set). We do this using the **geodesic distance** using the geopy library.\n",
    "11. We filter hotels with a distance < 0.3 (km).\n",
    "12. As we don't have all hotels from the reviews data set in the google local data set, we need the remaining hotels as well from the reviews data set. To get these hotels, we perform a left join using the Hotel_Name, lat and lng columns in the data sets (data set in Step 1 and data set in Step 11), and drop the columns which are not needed. These additional rows need to be added to the data frame.\n",
    "13. **Data issue: the hotel name and address in the reviews data set does not render latin characters properly**. Use the hotel name from the google local data set, where available to populate a new hotel name column. When it is not available, use the hotel name from the reviews data set.\n",
    "14. Get the country from the hotel address string column.\n",
    "15. Remove all adiditional columns which won't be written to the staging table: latitude, longitude, distance the second hotel name, second hotel address. \n",
    "16. Rename the columns as required.\n",
    "17. **Assign a new primary key column to the hotels: HotelID**\n",
    "18. Data Fix: Manually fill in the latitude and longitude of 16 hotels for which they are both 'NA'. I get these values from Google (manually) as there are only 16 rows.\n",
    "\n",
    "### Part 2: Get the nearest airport to each hotel from Airport codes, get the final version of the Hotels and Airports data frames\n",
    "19. Read in airport_codes and filter so that we have airports in the EU. Also, **Data issue: remove spam records**\n",
    "20. Add in the country based on the countryiso.csv ISO-Country name mapping file.\n",
    "21. Now, we need to join the airport codes data with the df_google_hotels data based on Country. We only want to insert the 'AirportID', 'latitude' and 'longitude' columns into the df_google_hotels data frame along with all the existing columns. Obviously, we will get a lot of duplicate data as every row in a particular country will join with every airport in that country.\n",
    "22. Calculate the geodesic distance using exactly the same method as before\n",
    "23. Use a Window function by partitioning over the HotelID column. This will be used to get the minimum distance over each window. The airport with the minimum distance from the hotel is the nearest airport. This is a two-step process. First, we create a new column min_distance which contains the minimum distance to an airport for a window. Then, we filter rows where min_distance=distance to get the final results.\n",
    "24. Create a lookup data frame with columns hotel_id, Hotel_name (from original data frame), lat and lng. This will be used to assign Hotel IDs as FKs to the original reviews data set in Part 3.\n",
    "25. Create final version of the clean df_google_hotels_with_airport_id data frame. In this step, we drop unnecessary columns, rename and reorder columns. This is saved in JSONL format, will be loaded into S3 in Part 4, and will be loaded into a Redshift staging table from there.\n",
    "26. Create final version of the df_airport_codes data frame. In this step, we drop unnecessary columns, rename and reorder columns This is saved in JSONL format, will be loaded into S3 in Part 4, and will be directly loaded into a Redshift dimension table from there. \n",
    "\n",
    "26b. **Data issue** : Some rows contain a string which starts with 'Duplicate' for the hotel name. These are duplicate rows and can be removed.\n",
    "\n",
    "### Part 3: Assing Hotel IDs from the created data frames to the Reviews data set (foreign keys), create the final version of the reviews data frame. \n",
    "27. Our first goal is to join the df_hotelid_lookup data frame with the reviews data frame on Hotel_Name, lat and lng. However, we need to fix the same issues we fixed while building the data frame for the join to take place successfully. In other words, we need to do something about the rows which have 'NA' lat/long values. Perform the same process as Step 18. Drop rows with Hotel_Name='Hotel Atlanta'. Add in the latitude and longitude for the rows with NA, i.e., for the same 16 hotels that were manipulated in Step 18. \n",
    "28. Join the df_hotelid_lookup data frame with the reviews data frame on (Hotel_Name, lat, lng).\n",
    "29. As we have the HotelId now in our data frame, we can drop all the other information like Hotel Name, lat, lng and Hotel Address. These are already identified by the Hotel ID. Also, the days since review is a useless field and can be removed.\n",
    "30. As we saw in the Explore_reviews notebook, the string columns have leading and spaces. These need to be stripped. Also, some string columns have empty spaces as their values. These values need to be replaced with None -- we want a Null to be added into the final database.\n",
    "31. Change the datatype of the Review_Date field from string to date.\n",
    "32. Create the final version of the df_hotel_reviews data frame. We  rename and reorder columns. This will be loaded into S3 in Part 4, and will be loaded into a Redshift staging table from there.\n",
    "33. Write the reviews dataframe to disk in JSONL format.\n",
    "34. Read in the created CountryIndicators.csv File (created in the **CombineAdditionalCountryData notebook**), convert it into JSONL format, and write it into a local directory.\n",
    "### Part 4: Write parquet data sets into a new s3 bucket using the AWS CLI \n",
    "35. All 4 data sets need to be written into S3 after creating a bucket. I convert all the data sets into JSONL formatand also create JSONPath files to describe their schemas (this is required for Redshift, as 'auto' json doesn't work well. These tasks are done using the AWS CLI. The commands are given in Part 4."
   ]
  },
  {
   "cell_type": "code",
   "execution_count": 2,
   "metadata": {
    "editable": true
   },
   "outputs": [
    {
     "name": "stdout",
     "output_type": "stream",
     "text": [
      "Collecting geopy\n",
      "\u001b[?25l  Downloading https://files.pythonhosted.org/packages/ab/97/25def417bf5db4cc6b89b47a56961b893d4ee4fec0c335f5b9476a8ff153/geopy-1.22.0-py2.py3-none-any.whl (113kB)\n",
      "\u001b[K    100% |████████████████████████████████| 122kB 4.4MB/s ta 0:00:01\n",
      "\u001b[?25hCollecting geographiclib<2,>=1.49 (from geopy)\n",
      "  Downloading https://files.pythonhosted.org/packages/8b/62/26ec95a98ba64299163199e95ad1b0e34ad3f4e176e221c40245f211e425/geographiclib-1.50-py3-none-any.whl\n",
      "Installing collected packages: geographiclib, geopy\n",
      "Successfully installed geographiclib-1.50 geopy-1.22.0\n",
      "Collecting https://github.com/elyase/geotext/archive/master.zip\n",
      "  Downloading https://github.com/elyase/geotext/archive/master.zip\n",
      "\u001b[K     \\ 4.3MB 56.7MB/s    \\ 225kB 3.8MB/s     | 440kB 3.8MB/s\n",
      "Building wheels for collected packages: geotext\n",
      "  Running setup.py bdist_wheel for geotext ... \u001b[?25ldone\n",
      "\u001b[?25h  Stored in directory: /tmp/pip-ephem-wheel-cache-uo0y5760/wheels/f5/e3/84/31638877059a434d8601a764fc7565f2a9f7b6fb327085191e\n",
      "Successfully built geotext\n",
      "Installing collected packages: geotext\n",
      "Successfully installed geotext-0.3.0\n"
     ]
    }
   ],
   "source": [
    "! pip install geopy\n",
    "! pip install https://github.com/elyase/geotext/archive/master.zip"
   ]
  },
  {
   "cell_type": "code",
   "execution_count": 3,
   "metadata": {
    "editable": true
   },
   "outputs": [],
   "source": [
    "import collections\n",
    "import json\n",
    "import ast\n",
    "from tqdm import tqdm\n",
    "from geotext import GeoText\n",
    "from geopy import distance\n",
    "import pandas as pd\n",
    "from pyspark.sql import SparkSession\n",
    "import pyspark.sql.functions as F\n",
    "from pyspark.sql.functions import row_number,lit\n",
    "from pyspark.sql.window import Window\n",
    "from pyspark.sql.types import StringType, IntegerType, FloatType, StructType, DoubleType, DecimalType\n",
    "from gensim.parsing import preprocessing\n",
    "import boto3\n",
    "import configparser"
   ]
  },
  {
   "cell_type": "markdown",
   "metadata": {
    "editable": true
   },
   "source": [
    "Read in the Reviews data set. In this notebook, we are going to get 3 fields: the hotel name, latitude and longitude, and normalise the hotel name. "
   ]
  },
  {
   "cell_type": "code",
   "execution_count": 4,
   "metadata": {
    "editable": true
   },
   "outputs": [],
   "source": [
    "spark = SparkSession.builder\\\n",
    "                     .config(\"spark.jars.packages\",\"org.apache.hadoop:hadoop-aws:2.7.0\")\\\n",
    "                     .getOrCreate()"
   ]
  },
  {
   "cell_type": "markdown",
   "metadata": {
    "editable": true
   },
   "source": [
    "## Part 1: Prepare a data set for hotels with data from Google Local, Reviews and Airport codes "
   ]
  },
  {
   "cell_type": "markdown",
   "metadata": {
    "editable": true
   },
   "source": [
    "Step 1. Read in reviews data set, get distinct hotels -- this is considered a new data set in the context of Part 1."
   ]
  },
  {
   "cell_type": "code",
   "execution_count": 91,
   "metadata": {
    "editable": true
   },
   "outputs": [
    {
     "name": "stdout",
     "output_type": "stream",
     "text": [
      "root\n",
      " |-- Hotel_Address: string (nullable = true)\n",
      " |-- Additional_Number_of_Scoring: integer (nullable = true)\n",
      " |-- Review_Date: string (nullable = true)\n",
      " |-- Average_Score: double (nullable = true)\n",
      " |-- Hotel_Name: string (nullable = true)\n",
      " |-- Reviewer_Nationality: string (nullable = true)\n",
      " |-- Negative_Review: string (nullable = true)\n",
      " |-- Review_Total_Negative_Word_Counts: integer (nullable = true)\n",
      " |-- Total_Number_of_Reviews: integer (nullable = true)\n",
      " |-- Positive_Review: string (nullable = true)\n",
      " |-- Review_Total_Positive_Word_Counts: integer (nullable = true)\n",
      " |-- Total_Number_of_Reviews_Reviewer_Has_Given: integer (nullable = true)\n",
      " |-- Reviewer_Score: double (nullable = true)\n",
      " |-- Tags: string (nullable = true)\n",
      " |-- days_since_review: string (nullable = true)\n",
      " |-- lat: string (nullable = true)\n",
      " |-- lng: string (nullable = true)\n",
      "\n"
     ]
    }
   ],
   "source": [
    "# Read in the data here\n",
    "df_hotel_reviews = spark.read.csv('Data/Original/Hotel_Reviews.csv', header=True, inferSchema=True)\n",
    "df_hotel_reviews.printSchema()\n"
   ]
  },
  {
   "cell_type": "code",
   "execution_count": 85,
   "metadata": {
    "editable": true
   },
   "outputs": [],
   "source": [
    "dist_hotel_columns = ['Hotel_Name', 'Hotel_Address', 'lat', 'lng']\n",
    "df_distinct_hotels = df_hotel_reviews.dropDuplicates(subset=dist_hotel_columns)"
   ]
  },
  {
   "cell_type": "code",
   "execution_count": 86,
   "metadata": {
    "editable": true
   },
   "outputs": [
    {
     "data": {
      "text/plain": [
       "Row(Hotel_Address='Savoyenstra e 2 16 Ottakring 1160 Vienna Austria', Additional_Number_of_Scoring=86, Review_Date='7/31/2017', Average_Score=8.3, Hotel_Name='Austria Trend Hotel Schloss Wilhelminenberg Wien', Reviewer_Nationality=' Netherlands ', Negative_Review=' Although the building looks majestic on the outside the inner hallways on the higher floors could use some renovation old carpets walls and ceilings need a freshen up The wooden floors expecially in the hallways are quite squeaky Our room was in decent shape but had no airconditioning a fan was provided though We stayed during a 30 degree celcius period so the room was rather warm and hard to ventilate because of the small single window ', Review_Total_Negative_Word_Counts=79, Total_Number_of_Reviews=1558, Positive_Review=' Excellent location with spectacular view over the city provided your room is on the backside of the building Local bus to the city stops right in front of the hotel Ample free outdoor parking on the hotel site Friendly staff Clean updated bathroom with good shower Good beds Good wifi Price performance good ', Review_Total_Positive_Word_Counts=55, Total_Number_of_Reviews_Reviewer_Has_Given=3, Reviewer_Score=8.3, Tags=\"[' Leisure trip ', ' Group ', ' Classic Room ', ' Stayed 3 nights ']\", days_since_review='3 days', lat='NA', lng='NA')"
      ]
     },
     "execution_count": 86,
     "metadata": {},
     "output_type": "execute_result"
    }
   ],
   "source": [
    "df_distinct_hotels.head()"
   ]
  },
  {
   "cell_type": "code",
   "execution_count": 87,
   "metadata": {
    "editable": true
   },
   "outputs": [
    {
     "name": "stdout",
     "output_type": "stream",
     "text": [
      "(1494, 4)\n"
     ]
    }
   ],
   "source": [
    "# Remove all columns except the ones we need\n",
    "df_distinct_hotels = df_distinct_hotels.select(dist_hotel_columns)\n",
    "print((df_distinct_hotels.count(), len(df_distinct_hotels.columns)))"
   ]
  },
  {
   "cell_type": "code",
   "execution_count": 88,
   "metadata": {
    "editable": true
   },
   "outputs": [
    {
     "data": {
      "text/html": [
       "<div>\n",
       "<style scoped>\n",
       "    .dataframe tbody tr th:only-of-type {\n",
       "        vertical-align: middle;\n",
       "    }\n",
       "\n",
       "    .dataframe tbody tr th {\n",
       "        vertical-align: top;\n",
       "    }\n",
       "\n",
       "    .dataframe thead th {\n",
       "        text-align: right;\n",
       "    }\n",
       "</style>\n",
       "<table border=\"1\" class=\"dataframe\">\n",
       "  <thead>\n",
       "    <tr style=\"text-align: right;\">\n",
       "      <th></th>\n",
       "      <th>Hotel_Name</th>\n",
       "      <th>Hotel_Address</th>\n",
       "      <th>lat</th>\n",
       "      <th>lng</th>\n",
       "    </tr>\n",
       "  </thead>\n",
       "  <tbody>\n",
       "    <tr>\n",
       "      <th>0</th>\n",
       "      <td>Hilton London Paddington</td>\n",
       "      <td>146 Praed Street Westminster Borough London W2...</td>\n",
       "      <td>51.515632</td>\n",
       "      <td>-0.175737</td>\n",
       "    </tr>\n",
       "    <tr>\n",
       "      <th>1</th>\n",
       "      <td>Millennium Hotel London Knightsbridge</td>\n",
       "      <td>17 25 Sloane Street Knightsbridge Kensington a...</td>\n",
       "      <td>51.4999683</td>\n",
       "      <td>-0.1599927</td>\n",
       "    </tr>\n",
       "    <tr>\n",
       "      <th>2</th>\n",
       "      <td>Grand Pigalle Hotel</td>\n",
       "      <td>29 rue Victor Mass 9th arr 75009 Paris France</td>\n",
       "      <td>48.880856</td>\n",
       "      <td>2.3375085</td>\n",
       "    </tr>\n",
       "    <tr>\n",
       "      <th>3</th>\n",
       "      <td>St George Hotel</td>\n",
       "      <td>49 Gloucester Place Marble Arch Westminster Bo...</td>\n",
       "      <td>51.5182768</td>\n",
       "      <td>-0.1583511</td>\n",
       "    </tr>\n",
       "    <tr>\n",
       "      <th>4</th>\n",
       "      <td>H tel Regent s Garden</td>\n",
       "      <td>6 Rue Pierre Demours 17th arr 75017 Paris France</td>\n",
       "      <td>48.8797513</td>\n",
       "      <td>2.2919634</td>\n",
       "    </tr>\n",
       "  </tbody>\n",
       "</table>\n",
       "</div>"
      ],
      "text/plain": [
       "                              Hotel_Name  \\\n",
       "0               Hilton London Paddington   \n",
       "1  Millennium Hotel London Knightsbridge   \n",
       "2                    Grand Pigalle Hotel   \n",
       "3                        St George Hotel   \n",
       "4                  H tel Regent s Garden   \n",
       "\n",
       "                                       Hotel_Address         lat         lng  \n",
       "0  146 Praed Street Westminster Borough London W2...   51.515632   -0.175737  \n",
       "1  17 25 Sloane Street Knightsbridge Kensington a...  51.4999683  -0.1599927  \n",
       "2      29 rue Victor Mass 9th arr 75009 Paris France   48.880856   2.3375085  \n",
       "3  49 Gloucester Place Marble Arch Westminster Bo...  51.5182768  -0.1583511  \n",
       "4   6 Rue Pierre Demours 17th arr 75017 Paris France  48.8797513   2.2919634  "
      ]
     },
     "execution_count": 88,
     "metadata": {},
     "output_type": "execute_result"
    }
   ],
   "source": [
    "df_distinct_hotels.limit(5).toPandas()"
   ]
  },
  {
   "cell_type": "markdown",
   "metadata": {
    "editable": true
   },
   "source": [
    "Step 2. Create a Normalised_Hotel_Name column, we use this column to join this data set with the Google Local data set. This column has trailing and leading spaces removed, punctuations cut out, and the text converted to lower case."
   ]
  },
  {
   "cell_type": "code",
   "execution_count": 89,
   "metadata": {
    "editable": true
   },
   "outputs": [],
   "source": [
    "@F.udf(returnType=StringType())\n",
    "def normalise_string(text):\n",
    "    \"\"\" Normalises a string by first replacing punctuations with a space,\n",
    "    and then stripping leading and trailing spaces, and lower casing the text\"\"\"\n",
    "    return preprocessing.strip_punctuation(text).strip().lower()"
   ]
  },
  {
   "cell_type": "code",
   "execution_count": 90,
   "metadata": {
    "editable": true
   },
   "outputs": [],
   "source": [
    "df_distinct_hotels = df_distinct_hotels.withColumn('Normalised_Hotel_Name', normalise_string(F.col('Hotel_Name')))"
   ]
  },
  {
   "cell_type": "code",
   "execution_count": 91,
   "metadata": {
    "editable": true
   },
   "outputs": [
    {
     "data": {
      "text/html": [
       "<div>\n",
       "<style scoped>\n",
       "    .dataframe tbody tr th:only-of-type {\n",
       "        vertical-align: middle;\n",
       "    }\n",
       "\n",
       "    .dataframe tbody tr th {\n",
       "        vertical-align: top;\n",
       "    }\n",
       "\n",
       "    .dataframe thead th {\n",
       "        text-align: right;\n",
       "    }\n",
       "</style>\n",
       "<table border=\"1\" class=\"dataframe\">\n",
       "  <thead>\n",
       "    <tr style=\"text-align: right;\">\n",
       "      <th></th>\n",
       "      <th>Hotel_Name</th>\n",
       "      <th>Hotel_Address</th>\n",
       "      <th>lat</th>\n",
       "      <th>lng</th>\n",
       "      <th>Normalised_Hotel_Name</th>\n",
       "    </tr>\n",
       "  </thead>\n",
       "  <tbody>\n",
       "    <tr>\n",
       "      <th>0</th>\n",
       "      <td>Hilton London Paddington</td>\n",
       "      <td>146 Praed Street Westminster Borough London W2...</td>\n",
       "      <td>51.515632</td>\n",
       "      <td>-0.175737</td>\n",
       "      <td>hilton london paddington</td>\n",
       "    </tr>\n",
       "    <tr>\n",
       "      <th>1</th>\n",
       "      <td>Millennium Hotel London Knightsbridge</td>\n",
       "      <td>17 25 Sloane Street Knightsbridge Kensington a...</td>\n",
       "      <td>51.4999683</td>\n",
       "      <td>-0.1599927</td>\n",
       "      <td>millennium hotel london knightsbridge</td>\n",
       "    </tr>\n",
       "    <tr>\n",
       "      <th>2</th>\n",
       "      <td>Grand Pigalle Hotel</td>\n",
       "      <td>29 rue Victor Mass 9th arr 75009 Paris France</td>\n",
       "      <td>48.880856</td>\n",
       "      <td>2.3375085</td>\n",
       "      <td>grand pigalle hotel</td>\n",
       "    </tr>\n",
       "    <tr>\n",
       "      <th>3</th>\n",
       "      <td>St George Hotel</td>\n",
       "      <td>49 Gloucester Place Marble Arch Westminster Bo...</td>\n",
       "      <td>51.5182768</td>\n",
       "      <td>-0.1583511</td>\n",
       "      <td>st george hotel</td>\n",
       "    </tr>\n",
       "    <tr>\n",
       "      <th>4</th>\n",
       "      <td>H tel Regent s Garden</td>\n",
       "      <td>6 Rue Pierre Demours 17th arr 75017 Paris France</td>\n",
       "      <td>48.8797513</td>\n",
       "      <td>2.2919634</td>\n",
       "      <td>h tel regent s garden</td>\n",
       "    </tr>\n",
       "  </tbody>\n",
       "</table>\n",
       "</div>"
      ],
      "text/plain": [
       "                              Hotel_Name  \\\n",
       "0               Hilton London Paddington   \n",
       "1  Millennium Hotel London Knightsbridge   \n",
       "2                    Grand Pigalle Hotel   \n",
       "3                        St George Hotel   \n",
       "4                  H tel Regent s Garden   \n",
       "\n",
       "                                       Hotel_Address         lat         lng  \\\n",
       "0  146 Praed Street Westminster Borough London W2...   51.515632   -0.175737   \n",
       "1  17 25 Sloane Street Knightsbridge Kensington a...  51.4999683  -0.1599927   \n",
       "2      29 rue Victor Mass 9th arr 75009 Paris France   48.880856   2.3375085   \n",
       "3  49 Gloucester Place Marble Arch Westminster Bo...  51.5182768  -0.1583511   \n",
       "4   6 Rue Pierre Demours 17th arr 75017 Paris France  48.8797513   2.2919634   \n",
       "\n",
       "                   Normalised_Hotel_Name  \n",
       "0               hilton london paddington  \n",
       "1  millennium hotel london knightsbridge  \n",
       "2                    grand pigalle hotel  \n",
       "3                        st george hotel  \n",
       "4                  h tel regent s garden  "
      ]
     },
     "execution_count": 91,
     "metadata": {},
     "output_type": "execute_result"
    }
   ],
   "source": [
    "df_distinct_hotels.limit(5).toPandas()"
   ]
  },
  {
   "cell_type": "markdown",
   "metadata": {
    "editable": true
   },
   "source": [
    "Step 3. Read in the already cleaned and reduced Google Local businesses data set. It is now in a valid JSONLines format, unlike in the original file."
   ]
  },
  {
   "cell_type": "code",
   "execution_count": 12,
   "metadata": {
    "editable": true
   },
   "outputs": [],
   "source": [
    "google_businesses_df = spark.read.json('Data/Cleaned/google_places_cleaned.jsonl')"
   ]
  },
  {
   "cell_type": "code",
   "execution_count": 13,
   "metadata": {
    "editable": true
   },
   "outputs": [
    {
     "name": "stdout",
     "output_type": "stream",
     "text": [
      "16 16\n"
     ]
    }
   ],
   "source": [
    "col_order = ['name', 'address', 'city', 'country', 'gPlusPlaceId', 'phone',\n",
    "             'price', 'latitude', 'longitude', 'MondayHours', 'TuesdayHours',\n",
    "            'WednesdayHours', 'ThursdayHours', 'FridayHours', 'SaturdayHours',\n",
    "            'SundayHours']\n",
    "print(len(col_order), len(google_businesses_df.columns))"
   ]
  },
  {
   "cell_type": "markdown",
   "metadata": {
    "editable": true
   },
   "source": [
    "Step 4. Reorder the columns"
   ]
  },
  {
   "cell_type": "code",
   "execution_count": 14,
   "metadata": {
    "editable": true
   },
   "outputs": [
    {
     "data": {
      "text/html": [
       "<div>\n",
       "<style scoped>\n",
       "    .dataframe tbody tr th:only-of-type {\n",
       "        vertical-align: middle;\n",
       "    }\n",
       "\n",
       "    .dataframe tbody tr th {\n",
       "        vertical-align: top;\n",
       "    }\n",
       "\n",
       "    .dataframe thead th {\n",
       "        text-align: right;\n",
       "    }\n",
       "</style>\n",
       "<table border=\"1\" class=\"dataframe\">\n",
       "  <thead>\n",
       "    <tr style=\"text-align: right;\">\n",
       "      <th></th>\n",
       "      <th>name</th>\n",
       "      <th>address</th>\n",
       "      <th>city</th>\n",
       "      <th>country</th>\n",
       "      <th>gPlusPlaceId</th>\n",
       "      <th>phone</th>\n",
       "      <th>price</th>\n",
       "      <th>latitude</th>\n",
       "      <th>longitude</th>\n",
       "      <th>MondayHours</th>\n",
       "      <th>TuesdayHours</th>\n",
       "      <th>WednesdayHours</th>\n",
       "      <th>ThursdayHours</th>\n",
       "      <th>FridayHours</th>\n",
       "      <th>SaturdayHours</th>\n",
       "      <th>SundayHours</th>\n",
       "    </tr>\n",
       "  </thead>\n",
       "  <tbody>\n",
       "    <tr>\n",
       "      <th>0</th>\n",
       "      <td>Café Langereis</td>\n",
       "      <td>[Amstel 202, 1017 AH Amsterdam, Netherlands]</td>\n",
       "      <td>None</td>\n",
       "      <td>Netherlands</td>\n",
       "      <td>110421660062903864339</td>\n",
       "      <td>020 785 0641</td>\n",
       "      <td>None</td>\n",
       "      <td>52.366119</td>\n",
       "      <td>4.900194</td>\n",
       "      <td>11:00 am--1:00 am</td>\n",
       "      <td>11:00 am--1:00 am</td>\n",
       "      <td>11:00 am--1:00 am</td>\n",
       "      <td>11:00 am--1:00 am</td>\n",
       "      <td>11:00 am--3:00 am</td>\n",
       "      <td>11:00 am--3:00 am</td>\n",
       "      <td>11:00 am--1:00 am</td>\n",
       "    </tr>\n",
       "    <tr>\n",
       "      <th>1</th>\n",
       "      <td>LA ROMA</td>\n",
       "      <td>[Calle Zaragoza, 16, 11402 Jerez de la Fronter...</td>\n",
       "      <td>None</td>\n",
       "      <td>Spain</td>\n",
       "      <td>103062340852821108165</td>\n",
       "      <td>856 92 73 32</td>\n",
       "      <td>None</td>\n",
       "      <td>36.688028</td>\n",
       "      <td>-6.134660</td>\n",
       "      <td>1:00--4:00 pm</td>\n",
       "      <td>1:00--4:00 pm</td>\n",
       "      <td>1:00--4:00 pm</td>\n",
       "      <td>1:00--4:00 pm</td>\n",
       "      <td>1:00--4:00 pm</td>\n",
       "      <td>1:00--4:00 pm</td>\n",
       "      <td>1:00--4:00 pm</td>\n",
       "    </tr>\n",
       "    <tr>\n",
       "      <th>2</th>\n",
       "      <td>HSBC Head Quarters</td>\n",
       "      <td>[8 Canada Sq, London E14 5HQ, United Kingdom]</td>\n",
       "      <td>London</td>\n",
       "      <td>United Kingdom</td>\n",
       "      <td>102297455696045037925</td>\n",
       "      <td>020 7991 8888</td>\n",
       "      <td>None</td>\n",
       "      <td>51.506582</td>\n",
       "      <td>-0.016885</td>\n",
       "      <td>8:00 am--7:00 pm</td>\n",
       "      <td>9:30 am--7:00 pm</td>\n",
       "      <td>8:00 am--7:00 pm</td>\n",
       "      <td>8:00 am--7:00 pm</td>\n",
       "      <td>9:00 am--7:00 pm</td>\n",
       "      <td>10:00 am--6:00 pm</td>\n",
       "      <td>12:00--6:00 pm</td>\n",
       "    </tr>\n",
       "    <tr>\n",
       "      <th>3</th>\n",
       "      <td>Scuola Media Statale Antonino De Stefano</td>\n",
       "      <td>[Via Salvatore Caruso, 1, 91016 Casa Santa, Er...</td>\n",
       "      <td>Casa Santa</td>\n",
       "      <td>Italy</td>\n",
       "      <td>112728625344817603614</td>\n",
       "      <td>0923 561446</td>\n",
       "      <td>None</td>\n",
       "      <td>38.022947</td>\n",
       "      <td>12.547262</td>\n",
       "      <td>None</td>\n",
       "      <td>None</td>\n",
       "      <td>None</td>\n",
       "      <td>None</td>\n",
       "      <td>None</td>\n",
       "      <td>None</td>\n",
       "      <td>None</td>\n",
       "    </tr>\n",
       "    <tr>\n",
       "      <th>4</th>\n",
       "      <td>Medical Óptica La Paz</td>\n",
       "      <td>[La Paz Kalea, 27, 01004 Vitoria-Gasteiz, Arab...</td>\n",
       "      <td>La Paz</td>\n",
       "      <td>Spain</td>\n",
       "      <td>116613597224081757967</td>\n",
       "      <td>945 56 79 18</td>\n",
       "      <td>None</td>\n",
       "      <td>42.846554</td>\n",
       "      <td>-2.667956</td>\n",
       "      <td>None</td>\n",
       "      <td>None</td>\n",
       "      <td>None</td>\n",
       "      <td>None</td>\n",
       "      <td>None</td>\n",
       "      <td>None</td>\n",
       "      <td>None</td>\n",
       "    </tr>\n",
       "    <tr>\n",
       "      <th>5</th>\n",
       "      <td>Bar Sport Internet Point</td>\n",
       "      <td>[Via Dante, 14 39042 Bressanone BZ, Italy]</td>\n",
       "      <td>None</td>\n",
       "      <td>Italy</td>\n",
       "      <td>100602226910017835754</td>\n",
       "      <td>0472 831537</td>\n",
       "      <td>None</td>\n",
       "      <td>46.717622</td>\n",
       "      <td>11.651580</td>\n",
       "      <td>7:00 am--10:00 pm</td>\n",
       "      <td>7:00 am--11:30 pm</td>\n",
       "      <td>7:00 am--11:30 pm</td>\n",
       "      <td>7:00 am--11:30 pm</td>\n",
       "      <td>7:00 am--11:30 pm</td>\n",
       "      <td>5:30--11:30 pm</td>\n",
       "      <td>2:30--11:30 pm</td>\n",
       "    </tr>\n",
       "  </tbody>\n",
       "</table>\n",
       "</div>"
      ],
      "text/plain": [
       "                                       name  \\\n",
       "0                            Café Langereis   \n",
       "1                                   LA ROMA   \n",
       "2                        HSBC Head Quarters   \n",
       "3  Scuola Media Statale Antonino De Stefano   \n",
       "4                     Medical Óptica La Paz   \n",
       "5                  Bar Sport Internet Point   \n",
       "\n",
       "                                             address        city  \\\n",
       "0       [Amstel 202, 1017 AH Amsterdam, Netherlands]        None   \n",
       "1  [Calle Zaragoza, 16, 11402 Jerez de la Fronter...        None   \n",
       "2      [8 Canada Sq, London E14 5HQ, United Kingdom]      London   \n",
       "3  [Via Salvatore Caruso, 1, 91016 Casa Santa, Er...  Casa Santa   \n",
       "4  [La Paz Kalea, 27, 01004 Vitoria-Gasteiz, Arab...      La Paz   \n",
       "5         [Via Dante, 14 39042 Bressanone BZ, Italy]        None   \n",
       "\n",
       "          country           gPlusPlaceId          phone price   latitude  \\\n",
       "0     Netherlands  110421660062903864339   020 785 0641  None  52.366119   \n",
       "1           Spain  103062340852821108165   856 92 73 32  None  36.688028   \n",
       "2  United Kingdom  102297455696045037925  020 7991 8888  None  51.506582   \n",
       "3           Italy  112728625344817603614    0923 561446  None  38.022947   \n",
       "4           Spain  116613597224081757967   945 56 79 18  None  42.846554   \n",
       "5           Italy  100602226910017835754    0472 831537  None  46.717622   \n",
       "\n",
       "   longitude        MondayHours       TuesdayHours     WednesdayHours  \\\n",
       "0   4.900194  11:00 am--1:00 am  11:00 am--1:00 am  11:00 am--1:00 am   \n",
       "1  -6.134660      1:00--4:00 pm      1:00--4:00 pm      1:00--4:00 pm   \n",
       "2  -0.016885   8:00 am--7:00 pm   9:30 am--7:00 pm   8:00 am--7:00 pm   \n",
       "3  12.547262               None               None               None   \n",
       "4  -2.667956               None               None               None   \n",
       "5  11.651580  7:00 am--10:00 pm  7:00 am--11:30 pm  7:00 am--11:30 pm   \n",
       "\n",
       "       ThursdayHours        FridayHours      SaturdayHours        SundayHours  \n",
       "0  11:00 am--1:00 am  11:00 am--3:00 am  11:00 am--3:00 am  11:00 am--1:00 am  \n",
       "1      1:00--4:00 pm      1:00--4:00 pm      1:00--4:00 pm      1:00--4:00 pm  \n",
       "2   8:00 am--7:00 pm   9:00 am--7:00 pm  10:00 am--6:00 pm     12:00--6:00 pm  \n",
       "3               None               None               None               None  \n",
       "4               None               None               None               None  \n",
       "5  7:00 am--11:30 pm  7:00 am--11:30 pm     5:30--11:30 pm     2:30--11:30 pm  "
      ]
     },
     "execution_count": 14,
     "metadata": {},
     "output_type": "execute_result"
    }
   ],
   "source": [
    "google_businesses_df = google_businesses_df.select(col_order)\n",
    "google_businesses_df.limit(6).toPandas()"
   ]
  },
  {
   "cell_type": "markdown",
   "metadata": {
    "editable": true
   },
   "source": [
    "Step 5. Like in Step 2, normalise the hotel name for this data set."
   ]
  },
  {
   "cell_type": "code",
   "execution_count": 15,
   "metadata": {
    "editable": true
   },
   "outputs": [],
   "source": [
    "google_businesses_df = google_businesses_df.withColumn('NormalisedHotelName', normalise_string(F.col('name')))"
   ]
  },
  {
   "cell_type": "code",
   "execution_count": 16,
   "metadata": {
    "editable": true
   },
   "outputs": [
    {
     "data": {
      "text/html": [
       "<div>\n",
       "<style scoped>\n",
       "    .dataframe tbody tr th:only-of-type {\n",
       "        vertical-align: middle;\n",
       "    }\n",
       "\n",
       "    .dataframe tbody tr th {\n",
       "        vertical-align: top;\n",
       "    }\n",
       "\n",
       "    .dataframe thead th {\n",
       "        text-align: right;\n",
       "    }\n",
       "</style>\n",
       "<table border=\"1\" class=\"dataframe\">\n",
       "  <thead>\n",
       "    <tr style=\"text-align: right;\">\n",
       "      <th></th>\n",
       "      <th>name</th>\n",
       "      <th>address</th>\n",
       "      <th>city</th>\n",
       "      <th>country</th>\n",
       "      <th>gPlusPlaceId</th>\n",
       "      <th>phone</th>\n",
       "      <th>price</th>\n",
       "      <th>latitude</th>\n",
       "      <th>longitude</th>\n",
       "      <th>MondayHours</th>\n",
       "      <th>TuesdayHours</th>\n",
       "      <th>WednesdayHours</th>\n",
       "      <th>ThursdayHours</th>\n",
       "      <th>FridayHours</th>\n",
       "      <th>SaturdayHours</th>\n",
       "      <th>SundayHours</th>\n",
       "      <th>NormalisedHotelName</th>\n",
       "    </tr>\n",
       "  </thead>\n",
       "  <tbody>\n",
       "    <tr>\n",
       "      <th>0</th>\n",
       "      <td>Café Langereis</td>\n",
       "      <td>[Amstel 202, 1017 AH Amsterdam, Netherlands]</td>\n",
       "      <td>None</td>\n",
       "      <td>Netherlands</td>\n",
       "      <td>110421660062903864339</td>\n",
       "      <td>020 785 0641</td>\n",
       "      <td>None</td>\n",
       "      <td>52.366119</td>\n",
       "      <td>4.900194</td>\n",
       "      <td>11:00 am--1:00 am</td>\n",
       "      <td>11:00 am--1:00 am</td>\n",
       "      <td>11:00 am--1:00 am</td>\n",
       "      <td>11:00 am--1:00 am</td>\n",
       "      <td>11:00 am--3:00 am</td>\n",
       "      <td>11:00 am--3:00 am</td>\n",
       "      <td>11:00 am--1:00 am</td>\n",
       "      <td>café langereis</td>\n",
       "    </tr>\n",
       "    <tr>\n",
       "      <th>1</th>\n",
       "      <td>LA ROMA</td>\n",
       "      <td>[Calle Zaragoza, 16, 11402 Jerez de la Fronter...</td>\n",
       "      <td>None</td>\n",
       "      <td>Spain</td>\n",
       "      <td>103062340852821108165</td>\n",
       "      <td>856 92 73 32</td>\n",
       "      <td>None</td>\n",
       "      <td>36.688028</td>\n",
       "      <td>-6.134660</td>\n",
       "      <td>1:00--4:00 pm</td>\n",
       "      <td>1:00--4:00 pm</td>\n",
       "      <td>1:00--4:00 pm</td>\n",
       "      <td>1:00--4:00 pm</td>\n",
       "      <td>1:00--4:00 pm</td>\n",
       "      <td>1:00--4:00 pm</td>\n",
       "      <td>1:00--4:00 pm</td>\n",
       "      <td>la roma</td>\n",
       "    </tr>\n",
       "    <tr>\n",
       "      <th>2</th>\n",
       "      <td>HSBC Head Quarters</td>\n",
       "      <td>[8 Canada Sq, London E14 5HQ, United Kingdom]</td>\n",
       "      <td>London</td>\n",
       "      <td>United Kingdom</td>\n",
       "      <td>102297455696045037925</td>\n",
       "      <td>020 7991 8888</td>\n",
       "      <td>None</td>\n",
       "      <td>51.506582</td>\n",
       "      <td>-0.016885</td>\n",
       "      <td>8:00 am--7:00 pm</td>\n",
       "      <td>9:30 am--7:00 pm</td>\n",
       "      <td>8:00 am--7:00 pm</td>\n",
       "      <td>8:00 am--7:00 pm</td>\n",
       "      <td>9:00 am--7:00 pm</td>\n",
       "      <td>10:00 am--6:00 pm</td>\n",
       "      <td>12:00--6:00 pm</td>\n",
       "      <td>hsbc head quarters</td>\n",
       "    </tr>\n",
       "    <tr>\n",
       "      <th>3</th>\n",
       "      <td>Scuola Media Statale Antonino De Stefano</td>\n",
       "      <td>[Via Salvatore Caruso, 1, 91016 Casa Santa, Er...</td>\n",
       "      <td>Casa Santa</td>\n",
       "      <td>Italy</td>\n",
       "      <td>112728625344817603614</td>\n",
       "      <td>0923 561446</td>\n",
       "      <td>None</td>\n",
       "      <td>38.022947</td>\n",
       "      <td>12.547262</td>\n",
       "      <td>None</td>\n",
       "      <td>None</td>\n",
       "      <td>None</td>\n",
       "      <td>None</td>\n",
       "      <td>None</td>\n",
       "      <td>None</td>\n",
       "      <td>None</td>\n",
       "      <td>scuola media statale antonino de stefano</td>\n",
       "    </tr>\n",
       "    <tr>\n",
       "      <th>4</th>\n",
       "      <td>Medical Óptica La Paz</td>\n",
       "      <td>[La Paz Kalea, 27, 01004 Vitoria-Gasteiz, Arab...</td>\n",
       "      <td>La Paz</td>\n",
       "      <td>Spain</td>\n",
       "      <td>116613597224081757967</td>\n",
       "      <td>945 56 79 18</td>\n",
       "      <td>None</td>\n",
       "      <td>42.846554</td>\n",
       "      <td>-2.667956</td>\n",
       "      <td>None</td>\n",
       "      <td>None</td>\n",
       "      <td>None</td>\n",
       "      <td>None</td>\n",
       "      <td>None</td>\n",
       "      <td>None</td>\n",
       "      <td>None</td>\n",
       "      <td>medical óptica la paz</td>\n",
       "    </tr>\n",
       "    <tr>\n",
       "      <th>5</th>\n",
       "      <td>Bar Sport Internet Point</td>\n",
       "      <td>[Via Dante, 14 39042 Bressanone BZ, Italy]</td>\n",
       "      <td>None</td>\n",
       "      <td>Italy</td>\n",
       "      <td>100602226910017835754</td>\n",
       "      <td>0472 831537</td>\n",
       "      <td>None</td>\n",
       "      <td>46.717622</td>\n",
       "      <td>11.651580</td>\n",
       "      <td>7:00 am--10:00 pm</td>\n",
       "      <td>7:00 am--11:30 pm</td>\n",
       "      <td>7:00 am--11:30 pm</td>\n",
       "      <td>7:00 am--11:30 pm</td>\n",
       "      <td>7:00 am--11:30 pm</td>\n",
       "      <td>5:30--11:30 pm</td>\n",
       "      <td>2:30--11:30 pm</td>\n",
       "      <td>bar sport internet point</td>\n",
       "    </tr>\n",
       "  </tbody>\n",
       "</table>\n",
       "</div>"
      ],
      "text/plain": [
       "                                       name  \\\n",
       "0                            Café Langereis   \n",
       "1                                   LA ROMA   \n",
       "2                        HSBC Head Quarters   \n",
       "3  Scuola Media Statale Antonino De Stefano   \n",
       "4                     Medical Óptica La Paz   \n",
       "5                  Bar Sport Internet Point   \n",
       "\n",
       "                                             address        city  \\\n",
       "0       [Amstel 202, 1017 AH Amsterdam, Netherlands]        None   \n",
       "1  [Calle Zaragoza, 16, 11402 Jerez de la Fronter...        None   \n",
       "2      [8 Canada Sq, London E14 5HQ, United Kingdom]      London   \n",
       "3  [Via Salvatore Caruso, 1, 91016 Casa Santa, Er...  Casa Santa   \n",
       "4  [La Paz Kalea, 27, 01004 Vitoria-Gasteiz, Arab...      La Paz   \n",
       "5         [Via Dante, 14 39042 Bressanone BZ, Italy]        None   \n",
       "\n",
       "          country           gPlusPlaceId          phone price   latitude  \\\n",
       "0     Netherlands  110421660062903864339   020 785 0641  None  52.366119   \n",
       "1           Spain  103062340852821108165   856 92 73 32  None  36.688028   \n",
       "2  United Kingdom  102297455696045037925  020 7991 8888  None  51.506582   \n",
       "3           Italy  112728625344817603614    0923 561446  None  38.022947   \n",
       "4           Spain  116613597224081757967   945 56 79 18  None  42.846554   \n",
       "5           Italy  100602226910017835754    0472 831537  None  46.717622   \n",
       "\n",
       "   longitude        MondayHours       TuesdayHours     WednesdayHours  \\\n",
       "0   4.900194  11:00 am--1:00 am  11:00 am--1:00 am  11:00 am--1:00 am   \n",
       "1  -6.134660      1:00--4:00 pm      1:00--4:00 pm      1:00--4:00 pm   \n",
       "2  -0.016885   8:00 am--7:00 pm   9:30 am--7:00 pm   8:00 am--7:00 pm   \n",
       "3  12.547262               None               None               None   \n",
       "4  -2.667956               None               None               None   \n",
       "5  11.651580  7:00 am--10:00 pm  7:00 am--11:30 pm  7:00 am--11:30 pm   \n",
       "\n",
       "       ThursdayHours        FridayHours      SaturdayHours        SundayHours  \\\n",
       "0  11:00 am--1:00 am  11:00 am--3:00 am  11:00 am--3:00 am  11:00 am--1:00 am   \n",
       "1      1:00--4:00 pm      1:00--4:00 pm      1:00--4:00 pm      1:00--4:00 pm   \n",
       "2   8:00 am--7:00 pm   9:00 am--7:00 pm  10:00 am--6:00 pm     12:00--6:00 pm   \n",
       "3               None               None               None               None   \n",
       "4               None               None               None               None   \n",
       "5  7:00 am--11:30 pm  7:00 am--11:30 pm     5:30--11:30 pm     2:30--11:30 pm   \n",
       "\n",
       "                        NormalisedHotelName  \n",
       "0                            café langereis  \n",
       "1                                   la roma  \n",
       "2                        hsbc head quarters  \n",
       "3  scuola media statale antonino de stefano  \n",
       "4                     medical óptica la paz  \n",
       "5                  bar sport internet point  "
      ]
     },
     "execution_count": 16,
     "metadata": {},
     "output_type": "execute_result"
    }
   ],
   "source": [
    "google_businesses_df.limit(6).toPandas()"
   ]
  },
  {
   "cell_type": "code",
   "execution_count": 17,
   "metadata": {
    "editable": true
   },
   "outputs": [
    {
     "name": "stdout",
     "output_type": "stream",
     "text": [
      "No. of rows currently in Google Local Businesses dataset =  464906\n",
      "No. of unique hotels in hotel reviews data set =  1494\n"
     ]
    }
   ],
   "source": [
    "print(\"No. of rows currently in Google Local Businesses dataset = \", google_businesses_df.count())\n",
    "print(\"No. of unique hotels in hotel reviews data set = \", df_distinct_hotels.count())"
   ]
  },
  {
   "cell_type": "markdown",
   "metadata": {
    "editable": true
   },
   "source": [
    "Test with normal (not fuzzy join).\n",
    "\n",
    "I use the google_businesses_df as the left table, df_distinct_hotels as the right table, and try to inner join the two tables (dfs) on the hotel name. "
   ]
  },
  {
   "cell_type": "code",
   "execution_count": 31,
   "metadata": {
    "editable": true
   },
   "outputs": [],
   "source": [
    "df_google_hotels = google_businesses_df.join(df_distinct_hotels,\n",
    "                                             google_businesses_df.name == df_distinct_hotels.Hotel_Name)"
   ]
  },
  {
   "cell_type": "code",
   "execution_count": 32,
   "metadata": {
    "editable": true
   },
   "outputs": [
    {
     "data": {
      "text/plain": [
       "581"
      ]
     },
     "execution_count": 32,
     "metadata": {},
     "output_type": "execute_result"
    }
   ],
   "source": [
    "df_google_hotels.count()"
   ]
  },
  {
   "cell_type": "code",
   "execution_count": 33,
   "metadata": {
    "editable": true
   },
   "outputs": [],
   "source": [
    "df_google_hotels_norm = google_businesses_df.join(df_distinct_hotels,\n",
    "                                             google_businesses_df.NormalisedHotelName == df_distinct_hotels.Normalised_Hotel_Name)"
   ]
  },
  {
   "cell_type": "code",
   "execution_count": 34,
   "metadata": {
    "editable": true
   },
   "outputs": [
    {
     "data": {
      "text/plain": [
       "611"
      ]
     },
     "execution_count": 34,
     "metadata": {},
     "output_type": "execute_result"
    }
   ],
   "source": [
    "df_google_hotels_norm.count()"
   ]
  },
  {
   "cell_type": "code",
   "execution_count": 36,
   "metadata": {
    "editable": true
   },
   "outputs": [
    {
     "data": {
      "text/html": [
       "<div>\n",
       "<style scoped>\n",
       "    .dataframe tbody tr th:only-of-type {\n",
       "        vertical-align: middle;\n",
       "    }\n",
       "\n",
       "    .dataframe tbody tr th {\n",
       "        vertical-align: top;\n",
       "    }\n",
       "\n",
       "    .dataframe thead th {\n",
       "        text-align: right;\n",
       "    }\n",
       "</style>\n",
       "<table border=\"1\" class=\"dataframe\">\n",
       "  <thead>\n",
       "    <tr style=\"text-align: right;\">\n",
       "      <th></th>\n",
       "      <th>name</th>\n",
       "      <th>address</th>\n",
       "      <th>city</th>\n",
       "      <th>country</th>\n",
       "      <th>gPlusPlaceId</th>\n",
       "      <th>phone</th>\n",
       "      <th>price</th>\n",
       "      <th>latitude</th>\n",
       "      <th>longitude</th>\n",
       "      <th>MondayHours</th>\n",
       "      <th>...</th>\n",
       "      <th>ThursdayHours</th>\n",
       "      <th>FridayHours</th>\n",
       "      <th>SaturdayHours</th>\n",
       "      <th>SundayHours</th>\n",
       "      <th>NormalisedHotelName</th>\n",
       "      <th>Hotel_Name</th>\n",
       "      <th>Hotel_Address</th>\n",
       "      <th>lat</th>\n",
       "      <th>lng</th>\n",
       "      <th>Normalised_Hotel_Name</th>\n",
       "    </tr>\n",
       "  </thead>\n",
       "  <tbody>\n",
       "    <tr>\n",
       "      <th>0</th>\n",
       "      <td>NH Carlton Amsterdam</td>\n",
       "      <td>[Vijzelstraat 4, 1017 HK Amsterdam, Netherlands]</td>\n",
       "      <td>None</td>\n",
       "      <td>Netherlands</td>\n",
       "      <td>115445721912297534396</td>\n",
       "      <td>020 622 2266</td>\n",
       "      <td>None</td>\n",
       "      <td>52.366360</td>\n",
       "      <td>4.892972</td>\n",
       "      <td>None</td>\n",
       "      <td>...</td>\n",
       "      <td>None</td>\n",
       "      <td>None</td>\n",
       "      <td>None</td>\n",
       "      <td>None</td>\n",
       "      <td>nh carlton amsterdam</td>\n",
       "      <td>NH Carlton Amsterdam</td>\n",
       "      <td>Vijzelstraat 4 Amsterdam City Center 1017 HK A...</td>\n",
       "      <td>52.3663727</td>\n",
       "      <td>4.8930505</td>\n",
       "      <td>nh carlton amsterdam</td>\n",
       "    </tr>\n",
       "    <tr>\n",
       "      <th>1</th>\n",
       "      <td>Le Meridien Piccadilly</td>\n",
       "      <td>[21 Piccadilly, London W1J 0BH, United Kingdom]</td>\n",
       "      <td>London</td>\n",
       "      <td>United Kingdom</td>\n",
       "      <td>103834982949277428473</td>\n",
       "      <td>020 7734 8000</td>\n",
       "      <td>None</td>\n",
       "      <td>51.509438</td>\n",
       "      <td>-0.136648</td>\n",
       "      <td>None</td>\n",
       "      <td>...</td>\n",
       "      <td>None</td>\n",
       "      <td>None</td>\n",
       "      <td>None</td>\n",
       "      <td>None</td>\n",
       "      <td>le meridien piccadilly</td>\n",
       "      <td>Le Meridien Piccadilly</td>\n",
       "      <td>21 Piccadilly Westminster Borough London W1J 0...</td>\n",
       "      <td>51.5094835</td>\n",
       "      <td>-0.1362538</td>\n",
       "      <td>le meridien piccadilly</td>\n",
       "    </tr>\n",
       "    <tr>\n",
       "      <th>2</th>\n",
       "      <td>Starhotels Anderson</td>\n",
       "      <td>[Piazza Luigi di Savoia, 20, 20124 Milano, Italy]</td>\n",
       "      <td>Milano</td>\n",
       "      <td>Italy</td>\n",
       "      <td>101216097738766780510</td>\n",
       "      <td>02 669 0141</td>\n",
       "      <td>None</td>\n",
       "      <td>45.485177</td>\n",
       "      <td>9.206873</td>\n",
       "      <td>None</td>\n",
       "      <td>...</td>\n",
       "      <td>None</td>\n",
       "      <td>None</td>\n",
       "      <td>None</td>\n",
       "      <td>None</td>\n",
       "      <td>starhotels anderson</td>\n",
       "      <td>Starhotels Anderson</td>\n",
       "      <td>Piazza Luigi di Savoia 20 Central Station 2012...</td>\n",
       "      <td>45.4852549</td>\n",
       "      <td>9.2069501</td>\n",
       "      <td>starhotels anderson</td>\n",
       "    </tr>\n",
       "    <tr>\n",
       "      <th>3</th>\n",
       "      <td>Room Mate Aitana</td>\n",
       "      <td>[IJdok, 1013 MM Amsterdam, Netherlands]</td>\n",
       "      <td>None</td>\n",
       "      <td>Netherlands</td>\n",
       "      <td>107517641782692436781</td>\n",
       "      <td>020 891 4800</td>\n",
       "      <td>None</td>\n",
       "      <td>52.384276</td>\n",
       "      <td>4.894653</td>\n",
       "      <td>None</td>\n",
       "      <td>...</td>\n",
       "      <td>None</td>\n",
       "      <td>None</td>\n",
       "      <td>None</td>\n",
       "      <td>None</td>\n",
       "      <td>room mate aitana</td>\n",
       "      <td>Room Mate Aitana</td>\n",
       "      <td>IJdock 6 Amsterdam City Center 1013 MM Amsterd...</td>\n",
       "      <td>52.3846059</td>\n",
       "      <td>4.8941866</td>\n",
       "      <td>room mate aitana</td>\n",
       "    </tr>\n",
       "    <tr>\n",
       "      <th>4</th>\n",
       "      <td>Catalonia Barcelona Plaza</td>\n",
       "      <td>[Plaza España, 6-8, 08014 Barcelona, Spain]</td>\n",
       "      <td>Barcelona</td>\n",
       "      <td>Spain</td>\n",
       "      <td>104385384533610737798</td>\n",
       "      <td>934 26 26 00</td>\n",
       "      <td>None</td>\n",
       "      <td>41.375339</td>\n",
       "      <td>2.148359</td>\n",
       "      <td>None</td>\n",
       "      <td>...</td>\n",
       "      <td>None</td>\n",
       "      <td>None</td>\n",
       "      <td>None</td>\n",
       "      <td>None</td>\n",
       "      <td>catalonia barcelona plaza</td>\n",
       "      <td>Catalonia Barcelona Plaza</td>\n",
       "      <td>Plaza Espa a 6 8 Sants Montju c 08014 Barcelon...</td>\n",
       "      <td>41.3750293</td>\n",
       "      <td>2.1491172</td>\n",
       "      <td>catalonia barcelona plaza</td>\n",
       "    </tr>\n",
       "    <tr>\n",
       "      <th>5</th>\n",
       "      <td>La Villa Maillot</td>\n",
       "      <td>[143 Avenue de Malakoff, 75116 Paris, France]</td>\n",
       "      <td>Paris</td>\n",
       "      <td>France</td>\n",
       "      <td>113033302845655399954</td>\n",
       "      <td>01 53 64 52 52</td>\n",
       "      <td>None</td>\n",
       "      <td>48.875582</td>\n",
       "      <td>2.283694</td>\n",
       "      <td>None</td>\n",
       "      <td>...</td>\n",
       "      <td>None</td>\n",
       "      <td>None</td>\n",
       "      <td>None</td>\n",
       "      <td>None</td>\n",
       "      <td>la villa maillot</td>\n",
       "      <td>La Villa Maillot</td>\n",
       "      <td>143 Avenue De Malakoff 16th arr 75016 Paris Fr...</td>\n",
       "      <td>48.875551</td>\n",
       "      <td>2.2835191</td>\n",
       "      <td>la villa maillot</td>\n",
       "    </tr>\n",
       "    <tr>\n",
       "      <th>6</th>\n",
       "      <td>The Kensington Hotel</td>\n",
       "      <td>[109-113 Queen's Gate, London SW75LR, United K...</td>\n",
       "      <td>None</td>\n",
       "      <td>United Kingdom</td>\n",
       "      <td>105960748767223941294</td>\n",
       "      <td>020 7589 6300</td>\n",
       "      <td>None</td>\n",
       "      <td>51.492500</td>\n",
       "      <td>-0.178217</td>\n",
       "      <td>None</td>\n",
       "      <td>...</td>\n",
       "      <td>None</td>\n",
       "      <td>None</td>\n",
       "      <td>None</td>\n",
       "      <td>None</td>\n",
       "      <td>the kensington hotel</td>\n",
       "      <td>The Kensington Hotel</td>\n",
       "      <td>109 113 Queen s Gate Kensington and Chelsea Lo...</td>\n",
       "      <td>51.4925478</td>\n",
       "      <td>-0.1780611</td>\n",
       "      <td>the kensington hotel</td>\n",
       "    </tr>\n",
       "    <tr>\n",
       "      <th>7</th>\n",
       "      <td>The Kensington Hotel</td>\n",
       "      <td>[29 North Dr, Great Yarmouth, Norfolk NR30 4EW...</td>\n",
       "      <td>Great Yarmouth</td>\n",
       "      <td>United Kingdom</td>\n",
       "      <td>114540475697613464314</td>\n",
       "      <td>01493 844145</td>\n",
       "      <td>None</td>\n",
       "      <td>52.615730</td>\n",
       "      <td>1.737812</td>\n",
       "      <td>None</td>\n",
       "      <td>...</td>\n",
       "      <td>None</td>\n",
       "      <td>None</td>\n",
       "      <td>None</td>\n",
       "      <td>None</td>\n",
       "      <td>the kensington hotel</td>\n",
       "      <td>The Kensington Hotel</td>\n",
       "      <td>109 113 Queen s Gate Kensington and Chelsea Lo...</td>\n",
       "      <td>51.4925478</td>\n",
       "      <td>-0.1780611</td>\n",
       "      <td>the kensington hotel</td>\n",
       "    </tr>\n",
       "    <tr>\n",
       "      <th>8</th>\n",
       "      <td>W12 Rooms</td>\n",
       "      <td>[54 Uxbridge Rd, London W12 8LP, United Kingdom]</td>\n",
       "      <td>London</td>\n",
       "      <td>United Kingdom</td>\n",
       "      <td>107794965009522642601</td>\n",
       "      <td>020 3675 8551</td>\n",
       "      <td>None</td>\n",
       "      <td>51.504445</td>\n",
       "      <td>-0.219223</td>\n",
       "      <td>None</td>\n",
       "      <td>...</td>\n",
       "      <td>None</td>\n",
       "      <td>None</td>\n",
       "      <td>None</td>\n",
       "      <td>None</td>\n",
       "      <td>w12 rooms</td>\n",
       "      <td>W12 Rooms</td>\n",
       "      <td>54 Uxbridge Road Shepherds Bush Hammersmith an...</td>\n",
       "      <td>51.5045326</td>\n",
       "      <td>-0.2191174</td>\n",
       "      <td>w12 rooms</td>\n",
       "    </tr>\n",
       "    <tr>\n",
       "      <th>9</th>\n",
       "      <td>The Savoy</td>\n",
       "      <td>[92 Sandgate, Ayr KA7 1BX, United Kingdom]</td>\n",
       "      <td>None</td>\n",
       "      <td>United Kingdom</td>\n",
       "      <td>112020769094116910189</td>\n",
       "      <td>01292 262563</td>\n",
       "      <td>None</td>\n",
       "      <td>55.462326</td>\n",
       "      <td>-4.634529</td>\n",
       "      <td>None</td>\n",
       "      <td>...</td>\n",
       "      <td>None</td>\n",
       "      <td>None</td>\n",
       "      <td>None</td>\n",
       "      <td>None</td>\n",
       "      <td>the savoy</td>\n",
       "      <td>The Savoy</td>\n",
       "      <td>Strand Westminster Borough London WC2R 0EU Uni...</td>\n",
       "      <td>51.5111922</td>\n",
       "      <td>-0.1194006</td>\n",
       "      <td>the savoy</td>\n",
       "    </tr>\n",
       "  </tbody>\n",
       "</table>\n",
       "<p>10 rows × 22 columns</p>\n",
       "</div>"
      ],
      "text/plain": [
       "                        name  \\\n",
       "0       NH Carlton Amsterdam   \n",
       "1     Le Meridien Piccadilly   \n",
       "2        Starhotels Anderson   \n",
       "3           Room Mate Aitana   \n",
       "4  Catalonia Barcelona Plaza   \n",
       "5           La Villa Maillot   \n",
       "6       The Kensington Hotel   \n",
       "7       The Kensington Hotel   \n",
       "8                  W12 Rooms   \n",
       "9                  The Savoy   \n",
       "\n",
       "                                             address            city  \\\n",
       "0   [Vijzelstraat 4, 1017 HK Amsterdam, Netherlands]            None   \n",
       "1    [21 Piccadilly, London W1J 0BH, United Kingdom]          London   \n",
       "2  [Piazza Luigi di Savoia, 20, 20124 Milano, Italy]          Milano   \n",
       "3            [IJdok, 1013 MM Amsterdam, Netherlands]            None   \n",
       "4        [Plaza España, 6-8, 08014 Barcelona, Spain]       Barcelona   \n",
       "5      [143 Avenue de Malakoff, 75116 Paris, France]           Paris   \n",
       "6  [109-113 Queen's Gate, London SW75LR, United K...            None   \n",
       "7  [29 North Dr, Great Yarmouth, Norfolk NR30 4EW...  Great Yarmouth   \n",
       "8   [54 Uxbridge Rd, London W12 8LP, United Kingdom]          London   \n",
       "9         [92 Sandgate, Ayr KA7 1BX, United Kingdom]            None   \n",
       "\n",
       "          country           gPlusPlaceId           phone price   latitude  \\\n",
       "0     Netherlands  115445721912297534396    020 622 2266  None  52.366360   \n",
       "1  United Kingdom  103834982949277428473   020 7734 8000  None  51.509438   \n",
       "2           Italy  101216097738766780510     02 669 0141  None  45.485177   \n",
       "3     Netherlands  107517641782692436781    020 891 4800  None  52.384276   \n",
       "4           Spain  104385384533610737798    934 26 26 00  None  41.375339   \n",
       "5          France  113033302845655399954  01 53 64 52 52  None  48.875582   \n",
       "6  United Kingdom  105960748767223941294   020 7589 6300  None  51.492500   \n",
       "7  United Kingdom  114540475697613464314    01493 844145  None  52.615730   \n",
       "8  United Kingdom  107794965009522642601   020 3675 8551  None  51.504445   \n",
       "9  United Kingdom  112020769094116910189    01292 262563  None  55.462326   \n",
       "\n",
       "   longitude MondayHours            ...             ThursdayHours FridayHours  \\\n",
       "0   4.892972        None            ...                      None        None   \n",
       "1  -0.136648        None            ...                      None        None   \n",
       "2   9.206873        None            ...                      None        None   \n",
       "3   4.894653        None            ...                      None        None   \n",
       "4   2.148359        None            ...                      None        None   \n",
       "5   2.283694        None            ...                      None        None   \n",
       "6  -0.178217        None            ...                      None        None   \n",
       "7   1.737812        None            ...                      None        None   \n",
       "8  -0.219223        None            ...                      None        None   \n",
       "9  -4.634529        None            ...                      None        None   \n",
       "\n",
       "  SaturdayHours SundayHours        NormalisedHotelName  \\\n",
       "0          None        None       nh carlton amsterdam   \n",
       "1          None        None     le meridien piccadilly   \n",
       "2          None        None        starhotels anderson   \n",
       "3          None        None           room mate aitana   \n",
       "4          None        None  catalonia barcelona plaza   \n",
       "5          None        None           la villa maillot   \n",
       "6          None        None       the kensington hotel   \n",
       "7          None        None       the kensington hotel   \n",
       "8          None        None                  w12 rooms   \n",
       "9          None        None                  the savoy   \n",
       "\n",
       "                  Hotel_Name  \\\n",
       "0       NH Carlton Amsterdam   \n",
       "1     Le Meridien Piccadilly   \n",
       "2        Starhotels Anderson   \n",
       "3           Room Mate Aitana   \n",
       "4  Catalonia Barcelona Plaza   \n",
       "5           La Villa Maillot   \n",
       "6       The Kensington Hotel   \n",
       "7       The Kensington Hotel   \n",
       "8                  W12 Rooms   \n",
       "9                  The Savoy   \n",
       "\n",
       "                                       Hotel_Address         lat         lng  \\\n",
       "0  Vijzelstraat 4 Amsterdam City Center 1017 HK A...  52.3663727   4.8930505   \n",
       "1  21 Piccadilly Westminster Borough London W1J 0...  51.5094835  -0.1362538   \n",
       "2  Piazza Luigi di Savoia 20 Central Station 2012...  45.4852549   9.2069501   \n",
       "3  IJdock 6 Amsterdam City Center 1013 MM Amsterd...  52.3846059   4.8941866   \n",
       "4  Plaza Espa a 6 8 Sants Montju c 08014 Barcelon...  41.3750293   2.1491172   \n",
       "5  143 Avenue De Malakoff 16th arr 75016 Paris Fr...   48.875551   2.2835191   \n",
       "6  109 113 Queen s Gate Kensington and Chelsea Lo...  51.4925478  -0.1780611   \n",
       "7  109 113 Queen s Gate Kensington and Chelsea Lo...  51.4925478  -0.1780611   \n",
       "8  54 Uxbridge Road Shepherds Bush Hammersmith an...  51.5045326  -0.2191174   \n",
       "9  Strand Westminster Borough London WC2R 0EU Uni...  51.5111922  -0.1194006   \n",
       "\n",
       "       Normalised_Hotel_Name  \n",
       "0       nh carlton amsterdam  \n",
       "1     le meridien piccadilly  \n",
       "2        starhotels anderson  \n",
       "3           room mate aitana  \n",
       "4  catalonia barcelona plaza  \n",
       "5           la villa maillot  \n",
       "6       the kensington hotel  \n",
       "7       the kensington hotel  \n",
       "8                  w12 rooms  \n",
       "9                  the savoy  \n",
       "\n",
       "[10 rows x 22 columns]"
      ]
     },
     "execution_count": 36,
     "metadata": {},
     "output_type": "execute_result"
    }
   ],
   "source": [
    "df_google_hotels_norm.limit(10).toPandas()"
   ]
  },
  {
   "cell_type": "markdown",
   "metadata": {
    "editable": true
   },
   "source": [
    "Step 6. **Fuzzy join**: Fuzzy Join on the normalised hotel name column of the 2 data sets -- google local and distinct hotels in the reviews data set. The fuzzy join is done by considering a Levenshtein distance < 3.  This will produce many false positives.\n",
    "\n",
    "I perform a second filter step next which compares the latitudes and longitudes. Any false positives will be removed at that stage."
   ]
  },
  {
   "cell_type": "code",
   "execution_count": 18,
   "metadata": {
    "editable": true
   },
   "outputs": [],
   "source": [
    "df_google_hotels_norm_levenshtein = google_businesses_df.join(df_distinct_hotels,\n",
    "                                                             F.levenshtein(\n",
    "                                                 google_businesses_df.NormalisedHotelName, df_distinct_hotels.Normalised_Hotel_Name) < 3\n",
    "                                                             )"
   ]
  },
  {
   "cell_type": "code",
   "execution_count": 19,
   "metadata": {
    "editable": true
   },
   "outputs": [
    {
     "data": {
      "text/plain": [
       "2428"
      ]
     },
     "execution_count": 19,
     "metadata": {},
     "output_type": "execute_result"
    }
   ],
   "source": [
    "df_google_hotels_norm_levenshtein.count()"
   ]
  },
  {
   "cell_type": "code",
   "execution_count": 22,
   "metadata": {
    "editable": true
   },
   "outputs": [
    {
     "data": {
      "text/html": [
       "<div>\n",
       "<style scoped>\n",
       "    .dataframe tbody tr th:only-of-type {\n",
       "        vertical-align: middle;\n",
       "    }\n",
       "\n",
       "    .dataframe tbody tr th {\n",
       "        vertical-align: top;\n",
       "    }\n",
       "\n",
       "    .dataframe thead th {\n",
       "        text-align: right;\n",
       "    }\n",
       "</style>\n",
       "<table border=\"1\" class=\"dataframe\">\n",
       "  <thead>\n",
       "    <tr style=\"text-align: right;\">\n",
       "      <th></th>\n",
       "      <th>name</th>\n",
       "      <th>address</th>\n",
       "      <th>city</th>\n",
       "      <th>country</th>\n",
       "      <th>gPlusPlaceId</th>\n",
       "      <th>phone</th>\n",
       "      <th>price</th>\n",
       "      <th>latitude</th>\n",
       "      <th>longitude</th>\n",
       "      <th>MondayHours</th>\n",
       "      <th>...</th>\n",
       "      <th>ThursdayHours</th>\n",
       "      <th>FridayHours</th>\n",
       "      <th>SaturdayHours</th>\n",
       "      <th>SundayHours</th>\n",
       "      <th>NormalisedHotelName</th>\n",
       "      <th>Hotel_Name</th>\n",
       "      <th>Hotel_Address</th>\n",
       "      <th>lat</th>\n",
       "      <th>lng</th>\n",
       "      <th>Normalised_Hotel_Name</th>\n",
       "    </tr>\n",
       "  </thead>\n",
       "  <tbody>\n",
       "    <tr>\n",
       "      <th>0</th>\n",
       "      <td>St George Hotel</td>\n",
       "      <td>[49 Gloucester Pl, London W1U 8JE, United King...</td>\n",
       "      <td>London</td>\n",
       "      <td>United Kingdom</td>\n",
       "      <td>105255034750157983625</td>\n",
       "      <td>020 7486 8586</td>\n",
       "      <td>None</td>\n",
       "      <td>51.518083</td>\n",
       "      <td>-0.158144</td>\n",
       "      <td>None</td>\n",
       "      <td>...</td>\n",
       "      <td>None</td>\n",
       "      <td>None</td>\n",
       "      <td>None</td>\n",
       "      <td>None</td>\n",
       "      <td>st george hotel</td>\n",
       "      <td>St George Hotel</td>\n",
       "      <td>49 Gloucester Place Marble Arch Westminster Bo...</td>\n",
       "      <td>51.5182768</td>\n",
       "      <td>-0.1583511</td>\n",
       "      <td>st george hotel</td>\n",
       "    </tr>\n",
       "    <tr>\n",
       "      <th>1</th>\n",
       "      <td>Hotel Cavendish</td>\n",
       "      <td>[75 Gower St, London WC1E 6HJ, United Kingdom]</td>\n",
       "      <td>None</td>\n",
       "      <td>United Kingdom</td>\n",
       "      <td>111392875259801452166</td>\n",
       "      <td>020 7636 9079</td>\n",
       "      <td>None</td>\n",
       "      <td>51.522073</td>\n",
       "      <td>-0.132332</td>\n",
       "      <td>None</td>\n",
       "      <td>...</td>\n",
       "      <td>None</td>\n",
       "      <td>None</td>\n",
       "      <td>None</td>\n",
       "      <td>None</td>\n",
       "      <td>hotel cavendish</td>\n",
       "      <td>Hotel Cavendish</td>\n",
       "      <td>75 Gower Street Camden London WC1E 6HJ United ...</td>\n",
       "      <td>51.5220522</td>\n",
       "      <td>-0.132414</td>\n",
       "      <td>hotel cavendish</td>\n",
       "    </tr>\n",
       "    <tr>\n",
       "      <th>2</th>\n",
       "      <td>St George's Hotel</td>\n",
       "      <td>[St George's Pl, The Promenade, Llandudno, Con...</td>\n",
       "      <td>Llandudno</td>\n",
       "      <td>United Kingdom</td>\n",
       "      <td>113796526104636891443</td>\n",
       "      <td>01492 877544</td>\n",
       "      <td>None</td>\n",
       "      <td>53.324845</td>\n",
       "      <td>-3.828792</td>\n",
       "      <td>None</td>\n",
       "      <td>...</td>\n",
       "      <td>None</td>\n",
       "      <td>None</td>\n",
       "      <td>None</td>\n",
       "      <td>None</td>\n",
       "      <td>st george s hotel</td>\n",
       "      <td>St George Hotel</td>\n",
       "      <td>49 Gloucester Place Marble Arch Westminster Bo...</td>\n",
       "      <td>51.5182768</td>\n",
       "      <td>-0.1583511</td>\n",
       "      <td>st george hotel</td>\n",
       "    </tr>\n",
       "    <tr>\n",
       "      <th>3</th>\n",
       "      <td>Hotel Regina</td>\n",
       "      <td>[Via Regina Levante, 18, 22015 Gravedona ed Un...</td>\n",
       "      <td>None</td>\n",
       "      <td>Italy</td>\n",
       "      <td>105748442507824066289</td>\n",
       "      <td>0344 89446</td>\n",
       "      <td>None</td>\n",
       "      <td>46.148994</td>\n",
       "      <td>9.312078</td>\n",
       "      <td>None</td>\n",
       "      <td>...</td>\n",
       "      <td>None</td>\n",
       "      <td>None</td>\n",
       "      <td>None</td>\n",
       "      <td>None</td>\n",
       "      <td>hotel regina</td>\n",
       "      <td>H tel Regina</td>\n",
       "      <td>2 place des Pyramides 1st arr 75001 Paris France</td>\n",
       "      <td>48.8637503</td>\n",
       "      <td>2.3320406</td>\n",
       "      <td>h tel regina</td>\n",
       "    </tr>\n",
       "    <tr>\n",
       "      <th>4</th>\n",
       "      <td>Hyatt Regency Paris Etoile</td>\n",
       "      <td>[3 Place du Général Kœnig, 75017 Paris, France]</td>\n",
       "      <td>Paris</td>\n",
       "      <td>France</td>\n",
       "      <td>108843403167966082324</td>\n",
       "      <td>01 40 68 12 34</td>\n",
       "      <td>None</td>\n",
       "      <td>48.880255</td>\n",
       "      <td>2.284369</td>\n",
       "      <td>None</td>\n",
       "      <td>...</td>\n",
       "      <td>None</td>\n",
       "      <td>None</td>\n",
       "      <td>None</td>\n",
       "      <td>None</td>\n",
       "      <td>hyatt regency paris etoile</td>\n",
       "      <td>Hyatt Regency Paris Etoile</td>\n",
       "      <td>3 Place du G n ral Koenig 17th arr 75017 Paris...</td>\n",
       "      <td>48.8802782</td>\n",
       "      <td>2.2843852</td>\n",
       "      <td>hyatt regency paris etoile</td>\n",
       "    </tr>\n",
       "    <tr>\n",
       "      <th>5</th>\n",
       "      <td>Hotel Regina</td>\n",
       "      <td>[Piazzale della Puppa, 2, 33081 Piancavallo Po...</td>\n",
       "      <td>None</td>\n",
       "      <td>Italy</td>\n",
       "      <td>108841501360671846117</td>\n",
       "      <td>0434 655166</td>\n",
       "      <td>None</td>\n",
       "      <td>46.107441</td>\n",
       "      <td>12.516762</td>\n",
       "      <td>None</td>\n",
       "      <td>...</td>\n",
       "      <td>None</td>\n",
       "      <td>None</td>\n",
       "      <td>None</td>\n",
       "      <td>None</td>\n",
       "      <td>hotel regina</td>\n",
       "      <td>H tel Regina</td>\n",
       "      <td>2 place des Pyramides 1st arr 75001 Paris France</td>\n",
       "      <td>48.8637503</td>\n",
       "      <td>2.3320406</td>\n",
       "      <td>h tel regina</td>\n",
       "    </tr>\n",
       "    <tr>\n",
       "      <th>6</th>\n",
       "      <td>Hotel Regina</td>\n",
       "      <td>[Avenue Santa Maria, 20260 Calvi, France]</td>\n",
       "      <td>None</td>\n",
       "      <td>France</td>\n",
       "      <td>118039822242888646074</td>\n",
       "      <td>04 95 65 24 23</td>\n",
       "      <td>None</td>\n",
       "      <td>42.564736</td>\n",
       "      <td>8.753747</td>\n",
       "      <td>None</td>\n",
       "      <td>...</td>\n",
       "      <td>None</td>\n",
       "      <td>None</td>\n",
       "      <td>None</td>\n",
       "      <td>None</td>\n",
       "      <td>hotel regina</td>\n",
       "      <td>H tel Regina</td>\n",
       "      <td>2 place des Pyramides 1st arr 75001 Paris France</td>\n",
       "      <td>48.8637503</td>\n",
       "      <td>2.3320406</td>\n",
       "      <td>h tel regina</td>\n",
       "    </tr>\n",
       "    <tr>\n",
       "      <th>7</th>\n",
       "      <td>Hotel Regina</td>\n",
       "      <td>[Gänsackerweg 10, 6534 Serfaus, Austria]</td>\n",
       "      <td>None</td>\n",
       "      <td>Austria</td>\n",
       "      <td>117218391667356161265</td>\n",
       "      <td>05476 6253</td>\n",
       "      <td>None</td>\n",
       "      <td>47.039051</td>\n",
       "      <td>10.606122</td>\n",
       "      <td>None</td>\n",
       "      <td>...</td>\n",
       "      <td>None</td>\n",
       "      <td>None</td>\n",
       "      <td>None</td>\n",
       "      <td>None</td>\n",
       "      <td>hotel regina</td>\n",
       "      <td>H tel Regina</td>\n",
       "      <td>2 place des Pyramides 1st arr 75001 Paris France</td>\n",
       "      <td>48.8637503</td>\n",
       "      <td>2.3320406</td>\n",
       "      <td>h tel regina</td>\n",
       "    </tr>\n",
       "    <tr>\n",
       "      <th>8</th>\n",
       "      <td>Hotel Regina</td>\n",
       "      <td>[Rooseveltplatz 15, 1090 Wien, Austria]</td>\n",
       "      <td>None</td>\n",
       "      <td>Austria</td>\n",
       "      <td>113634606384935765566</td>\n",
       "      <td>01 404460</td>\n",
       "      <td>None</td>\n",
       "      <td>48.216302</td>\n",
       "      <td>16.359817</td>\n",
       "      <td>None</td>\n",
       "      <td>...</td>\n",
       "      <td>None</td>\n",
       "      <td>None</td>\n",
       "      <td>None</td>\n",
       "      <td>None</td>\n",
       "      <td>hotel regina</td>\n",
       "      <td>H tel Regina</td>\n",
       "      <td>2 place des Pyramides 1st arr 75001 Paris France</td>\n",
       "      <td>48.8637503</td>\n",
       "      <td>2.3320406</td>\n",
       "      <td>h tel regina</td>\n",
       "    </tr>\n",
       "    <tr>\n",
       "      <th>9</th>\n",
       "      <td>Hotel Regina</td>\n",
       "      <td>[1 Rue Ropartz Morvan, 29680 Roscoff, France]</td>\n",
       "      <td>None</td>\n",
       "      <td>France</td>\n",
       "      <td>111293295639449237938</td>\n",
       "      <td>02 98 61 23 55</td>\n",
       "      <td>None</td>\n",
       "      <td>48.721077</td>\n",
       "      <td>-3.984033</td>\n",
       "      <td>None</td>\n",
       "      <td>...</td>\n",
       "      <td>None</td>\n",
       "      <td>None</td>\n",
       "      <td>None</td>\n",
       "      <td>None</td>\n",
       "      <td>hotel regina</td>\n",
       "      <td>H tel Regina</td>\n",
       "      <td>2 place des Pyramides 1st arr 75001 Paris France</td>\n",
       "      <td>48.8637503</td>\n",
       "      <td>2.3320406</td>\n",
       "      <td>h tel regina</td>\n",
       "    </tr>\n",
       "  </tbody>\n",
       "</table>\n",
       "<p>10 rows × 22 columns</p>\n",
       "</div>"
      ],
      "text/plain": [
       "                         name  \\\n",
       "0             St George Hotel   \n",
       "1             Hotel Cavendish   \n",
       "2           St George's Hotel   \n",
       "3                Hotel Regina   \n",
       "4  Hyatt Regency Paris Etoile   \n",
       "5                Hotel Regina   \n",
       "6                Hotel Regina   \n",
       "7                Hotel Regina   \n",
       "8                Hotel Regina   \n",
       "9                Hotel Regina   \n",
       "\n",
       "                                             address       city  \\\n",
       "0  [49 Gloucester Pl, London W1U 8JE, United King...     London   \n",
       "1     [75 Gower St, London WC1E 6HJ, United Kingdom]       None   \n",
       "2  [St George's Pl, The Promenade, Llandudno, Con...  Llandudno   \n",
       "3  [Via Regina Levante, 18, 22015 Gravedona ed Un...       None   \n",
       "4    [3 Place du Général Kœnig, 75017 Paris, France]      Paris   \n",
       "5  [Piazzale della Puppa, 2, 33081 Piancavallo Po...       None   \n",
       "6          [Avenue Santa Maria, 20260 Calvi, France]       None   \n",
       "7           [Gänsackerweg 10, 6534 Serfaus, Austria]       None   \n",
       "8            [Rooseveltplatz 15, 1090 Wien, Austria]       None   \n",
       "9      [1 Rue Ropartz Morvan, 29680 Roscoff, France]       None   \n",
       "\n",
       "          country           gPlusPlaceId           phone price   latitude  \\\n",
       "0  United Kingdom  105255034750157983625   020 7486 8586  None  51.518083   \n",
       "1  United Kingdom  111392875259801452166   020 7636 9079  None  51.522073   \n",
       "2  United Kingdom  113796526104636891443    01492 877544  None  53.324845   \n",
       "3           Italy  105748442507824066289      0344 89446  None  46.148994   \n",
       "4          France  108843403167966082324  01 40 68 12 34  None  48.880255   \n",
       "5           Italy  108841501360671846117     0434 655166  None  46.107441   \n",
       "6          France  118039822242888646074  04 95 65 24 23  None  42.564736   \n",
       "7         Austria  117218391667356161265      05476 6253  None  47.039051   \n",
       "8         Austria  113634606384935765566       01 404460  None  48.216302   \n",
       "9          France  111293295639449237938  02 98 61 23 55  None  48.721077   \n",
       "\n",
       "   longitude MondayHours             ...             ThursdayHours  \\\n",
       "0  -0.158144        None             ...                      None   \n",
       "1  -0.132332        None             ...                      None   \n",
       "2  -3.828792        None             ...                      None   \n",
       "3   9.312078        None             ...                      None   \n",
       "4   2.284369        None             ...                      None   \n",
       "5  12.516762        None             ...                      None   \n",
       "6   8.753747        None             ...                      None   \n",
       "7  10.606122        None             ...                      None   \n",
       "8  16.359817        None             ...                      None   \n",
       "9  -3.984033        None             ...                      None   \n",
       "\n",
       "  FridayHours SaturdayHours SundayHours         NormalisedHotelName  \\\n",
       "0        None          None        None             st george hotel   \n",
       "1        None          None        None             hotel cavendish   \n",
       "2        None          None        None           st george s hotel   \n",
       "3        None          None        None                hotel regina   \n",
       "4        None          None        None  hyatt regency paris etoile   \n",
       "5        None          None        None                hotel regina   \n",
       "6        None          None        None                hotel regina   \n",
       "7        None          None        None                hotel regina   \n",
       "8        None          None        None                hotel regina   \n",
       "9        None          None        None                hotel regina   \n",
       "\n",
       "                   Hotel_Name  \\\n",
       "0             St George Hotel   \n",
       "1             Hotel Cavendish   \n",
       "2             St George Hotel   \n",
       "3                H tel Regina   \n",
       "4  Hyatt Regency Paris Etoile   \n",
       "5                H tel Regina   \n",
       "6                H tel Regina   \n",
       "7                H tel Regina   \n",
       "8                H tel Regina   \n",
       "9                H tel Regina   \n",
       "\n",
       "                                       Hotel_Address         lat         lng  \\\n",
       "0  49 Gloucester Place Marble Arch Westminster Bo...  51.5182768  -0.1583511   \n",
       "1  75 Gower Street Camden London WC1E 6HJ United ...  51.5220522   -0.132414   \n",
       "2  49 Gloucester Place Marble Arch Westminster Bo...  51.5182768  -0.1583511   \n",
       "3   2 place des Pyramides 1st arr 75001 Paris France  48.8637503   2.3320406   \n",
       "4  3 Place du G n ral Koenig 17th arr 75017 Paris...  48.8802782   2.2843852   \n",
       "5   2 place des Pyramides 1st arr 75001 Paris France  48.8637503   2.3320406   \n",
       "6   2 place des Pyramides 1st arr 75001 Paris France  48.8637503   2.3320406   \n",
       "7   2 place des Pyramides 1st arr 75001 Paris France  48.8637503   2.3320406   \n",
       "8   2 place des Pyramides 1st arr 75001 Paris France  48.8637503   2.3320406   \n",
       "9   2 place des Pyramides 1st arr 75001 Paris France  48.8637503   2.3320406   \n",
       "\n",
       "        Normalised_Hotel_Name  \n",
       "0             st george hotel  \n",
       "1             hotel cavendish  \n",
       "2             st george hotel  \n",
       "3                h tel regina  \n",
       "4  hyatt regency paris etoile  \n",
       "5                h tel regina  \n",
       "6                h tel regina  \n",
       "7                h tel regina  \n",
       "8                h tel regina  \n",
       "9                h tel regina  \n",
       "\n",
       "[10 rows x 22 columns]"
      ]
     },
     "execution_count": 22,
     "metadata": {},
     "output_type": "execute_result"
    }
   ],
   "source": [
    "df_google_hotels_norm_levenshtein.limit(10).toPandas()"
   ]
  },
  {
   "cell_type": "code",
   "execution_count": 20,
   "metadata": {
    "editable": true
   },
   "outputs": [],
   "source": [
    "#df_google_hotels_norm_levenshtein.write.partitionBy(\"country\").format(\"parquet\").save(\"Data/Cleaned/google_places_levenshtein.parquet\")\n",
    "df_google_hotels_norm_levenshtein.write.format('json').save('Data/Cleaned/google_places_levenshtein.jsonl')"
   ]
  },
  {
   "cell_type": "code",
   "execution_count": 92,
   "metadata": {
    "editable": true
   },
   "outputs": [],
   "source": [
    "df_google_hotels_norm_levenshtein = spark.read.json('Data/Cleaned/google_places_levenshtein.jsonl')"
   ]
  },
  {
   "cell_type": "code",
   "execution_count": 93,
   "metadata": {
    "editable": true
   },
   "outputs": [
    {
     "data": {
      "text/plain": [
       "2428"
      ]
     },
     "execution_count": 93,
     "metadata": {},
     "output_type": "execute_result"
    }
   ],
   "source": [
    "df_google_hotels_norm_levenshtein.count()"
   ]
  },
  {
   "cell_type": "markdown",
   "metadata": {
    "editable": true
   },
   "source": [
    "### Data Issues and fixes (apart from the ones already fixed in other notebooks)\n",
    "\n",
    "Step 7. The plan is to remove false positives by getting the distance between the respective latitude and longitude columns  in the 2 data sets. This is done using the geodesic distance. But before that, we have to fix some issues with these columns. "
   ]
  },
  {
   "cell_type": "code",
   "execution_count": 56,
   "metadata": {
    "editable": true
   },
   "outputs": [
    {
     "data": {
      "text/plain": [
       "[Row(max(lng)='NA', max(latitude)=55949617.0, max(lat)='NA', max(longitude)=16174364.0)]"
      ]
     },
     "execution_count": 56,
     "metadata": {},
     "output_type": "execute_result"
    }
   ],
   "source": [
    "df_google_hotels_norm_levenshtein.agg({'latitude': 'max',\n",
    "                                      'longitude': 'max',\n",
    "                                      'lat': 'max', \n",
    "                                      'lng': 'max'}).collect()"
   ]
  },
  {
   "cell_type": "code",
   "execution_count": 43,
   "metadata": {
    "editable": true
   },
   "outputs": [
    {
     "data": {
      "text/plain": [
       "[Row(min(lng)='-0.0023367', min(latitude)=10.682302, min(lat)='41.368437', min(longitude)=-5702343.0)]"
      ]
     },
     "execution_count": 43,
     "metadata": {},
     "output_type": "execute_result"
    }
   ],
   "source": [
    "df_google_hotels_norm_levenshtein.agg({'latitude': 'min',\n",
    "                                      'longitude': 'min',\n",
    "                                      'lat': 'min', \n",
    "                                      'lng': 'min'}).collect()"
   ]
  },
  {
   "cell_type": "markdown",
   "metadata": {
    "editable": true
   },
   "source": [
    "We have invalid latitudes and longitudes from the Google Businesses data set. We also seem to have NaNs in the Reviews data set (lat and lng cols). "
   ]
  },
  {
   "cell_type": "markdown",
   "metadata": {
    "editable": true
   },
   "source": [
    "Step 8. **Fix latitude and longitude data issue 1: NA values from reviews data set**. We find that there are 16 rows like this, but 10 are for a single hotel, 'Hotel Atlanta'. We drop these rows as they are false positives. For the other 6 rows, we get the values from the lat and lng columns of the Google Local data set and insert it in the latitude and longitude columns of the distinct hotels data set."
   ]
  },
  {
   "cell_type": "code",
   "execution_count": 55,
   "metadata": {
    "editable": true
   },
   "outputs": [
    {
     "data": {
      "text/plain": [
       "0"
      ]
     },
     "execution_count": 55,
     "metadata": {},
     "output_type": "execute_result"
    }
   ],
   "source": [
    "df_google_hotels_norm_levenshtein.filter(F.isnan(F.col('lng'))).count()"
   ]
  },
  {
   "cell_type": "code",
   "execution_count": 26,
   "metadata": {
    "editable": true
   },
   "outputs": [
    {
     "data": {
      "text/plain": [
       "17"
      ]
     },
     "execution_count": 26,
     "metadata": {},
     "output_type": "execute_result"
    }
   ],
   "source": [
    "df_google_hotels_norm_levenshtein.filter((df_google_hotels_norm_levenshtein.lat=='NA') |\n",
    "                                        (df_google_hotels_norm_levenshtein.lng=='NA')).count()"
   ]
  },
  {
   "cell_type": "code",
   "execution_count": 67,
   "metadata": {
    "editable": true
   },
   "outputs": [
    {
     "data": {
      "text/html": [
       "<div>\n",
       "<style scoped>\n",
       "    .dataframe tbody tr th:only-of-type {\n",
       "        vertical-align: middle;\n",
       "    }\n",
       "\n",
       "    .dataframe tbody tr th {\n",
       "        vertical-align: top;\n",
       "    }\n",
       "\n",
       "    .dataframe thead th {\n",
       "        text-align: right;\n",
       "    }\n",
       "</style>\n",
       "<table border=\"1\" class=\"dataframe\">\n",
       "  <thead>\n",
       "    <tr style=\"text-align: right;\">\n",
       "      <th></th>\n",
       "      <th>Hotel_Name</th>\n",
       "      <th>Hotel_Address</th>\n",
       "      <th>name</th>\n",
       "      <th>address</th>\n",
       "      <th>latitude</th>\n",
       "      <th>longitude</th>\n",
       "      <th>lat</th>\n",
       "      <th>lng</th>\n",
       "    </tr>\n",
       "  </thead>\n",
       "  <tbody>\n",
       "    <tr>\n",
       "      <th>0</th>\n",
       "      <td>Hotel Park Villa</td>\n",
       "      <td>Hasenauerstra e 12 19 D bling 1190 Vienna Austria</td>\n",
       "      <td>Hotel Park-Villa</td>\n",
       "      <td>[Hasenauerstraße 12, 1190 Wien, Austria]</td>\n",
       "      <td>48.233495</td>\n",
       "      <td>16.345612</td>\n",
       "      <td>NA</td>\n",
       "      <td>NA</td>\n",
       "    </tr>\n",
       "    <tr>\n",
       "      <th>1</th>\n",
       "      <td>Hotel Atlanta</td>\n",
       "      <td>W hringer Stra e 33 35 09 Alsergrund 1090 Vien...</td>\n",
       "      <td>Hotel Atlantic</td>\n",
       "      <td>[Via G. Matteotti, 60, 47043 Gatteo Forlì-Cese...</td>\n",
       "      <td>44.169158</td>\n",
       "      <td>12.437540</td>\n",
       "      <td>NA</td>\n",
       "      <td>NA</td>\n",
       "    </tr>\n",
       "    <tr>\n",
       "      <th>2</th>\n",
       "      <td>Hotel Atlanta</td>\n",
       "      <td>W hringer Stra e 33 35 09 Alsergrund 1090 Vien...</td>\n",
       "      <td>Hotel Atlantic</td>\n",
       "      <td>[Viale Trieste, 365, 61121 Pesaro Pesaro e Urb...</td>\n",
       "      <td>43.918432</td>\n",
       "      <td>12.911133</td>\n",
       "      <td>NA</td>\n",
       "      <td>NA</td>\n",
       "    </tr>\n",
       "    <tr>\n",
       "      <th>3</th>\n",
       "      <td>Hotel Atlanta</td>\n",
       "      <td>W hringer Stra e 33 35 09 Alsergrund 1090 Vien...</td>\n",
       "      <td>Hotel Atlantic</td>\n",
       "      <td>[Corso Repubblica, 124, 28041 Arona Novara, It...</td>\n",
       "      <td>45.756229</td>\n",
       "      <td>8.559663</td>\n",
       "      <td>NA</td>\n",
       "      <td>NA</td>\n",
       "    </tr>\n",
       "    <tr>\n",
       "      <th>4</th>\n",
       "      <td>Hotel Atlanta</td>\n",
       "      <td>W hringer Stra e 33 35 09 Alsergrund 1090 Vien...</td>\n",
       "      <td>Hostal Atlanta</td>\n",
       "      <td>[Carrer Terral, 50, 07600 S'Arenal, ISLAS BALE...</td>\n",
       "      <td>39.499603</td>\n",
       "      <td>2.755165</td>\n",
       "      <td>NA</td>\n",
       "      <td>NA</td>\n",
       "    </tr>\n",
       "    <tr>\n",
       "      <th>5</th>\n",
       "      <td>Hotel Atlanta</td>\n",
       "      <td>W hringer Stra e 33 35 09 Alsergrund 1090 Vien...</td>\n",
       "      <td>Hotel Atlanta</td>\n",
       "      <td>[Neerhem 20, 6301 CH Valkenburg, Netherlands]</td>\n",
       "      <td>50.861029</td>\n",
       "      <td>5.833056</td>\n",
       "      <td>NA</td>\n",
       "      <td>NA</td>\n",
       "    </tr>\n",
       "    <tr>\n",
       "      <th>6</th>\n",
       "      <td>Hotel Atlanta</td>\n",
       "      <td>W hringer Stra e 33 35 09 Alsergrund 1090 Vien...</td>\n",
       "      <td>Hotel Atlantic</td>\n",
       "      <td>[Lungomare Italia, 8, 60017 Senigallia Ancona,...</td>\n",
       "      <td>43.682004</td>\n",
       "      <td>13.279568</td>\n",
       "      <td>NA</td>\n",
       "      <td>NA</td>\n",
       "    </tr>\n",
       "    <tr>\n",
       "      <th>7</th>\n",
       "      <td>Hotel Atlanta</td>\n",
       "      <td>W hringer Stra e 33 35 09 Alsergrund 1090 Vien...</td>\n",
       "      <td>HOTEL ATALANTE</td>\n",
       "      <td>[42 Rue de Genève, 74100 Annemasse, France]</td>\n",
       "      <td>46.193034</td>\n",
       "      <td>6.227661</td>\n",
       "      <td>NA</td>\n",
       "      <td>NA</td>\n",
       "    </tr>\n",
       "    <tr>\n",
       "      <th>8</th>\n",
       "      <td>Hotel Atlanta</td>\n",
       "      <td>W hringer Stra e 33 35 09 Alsergrund 1090 Vien...</td>\n",
       "      <td>Hotel Atlanta</td>\n",
       "      <td>[Calle Alfredo L Jones, 37, 35008 Las Palmas d...</td>\n",
       "      <td>28.142006</td>\n",
       "      <td>-15.433365</td>\n",
       "      <td>NA</td>\n",
       "      <td>NA</td>\n",
       "    </tr>\n",
       "    <tr>\n",
       "      <th>9</th>\n",
       "      <td>Cordial Theaterhotel Wien</td>\n",
       "      <td>Josefst dter Stra e 22 08 Josefstadt 1080 Vien...</td>\n",
       "      <td>Cordial Theaterhotel Wien</td>\n",
       "      <td>[Josefstädter Straße 22, 1080 Wien, Austria]</td>\n",
       "      <td>48.209456</td>\n",
       "      <td>16.351568</td>\n",
       "      <td>NA</td>\n",
       "      <td>NA</td>\n",
       "    </tr>\n",
       "    <tr>\n",
       "      <th>10</th>\n",
       "      <td>Holiday Inn Paris Montmartre</td>\n",
       "      <td>23 Rue Damr mont 18th arr 75018 Paris France</td>\n",
       "      <td>Holiday Inn Paris - Montmartre</td>\n",
       "      <td>[23 Rue Damrémont, 75018 Paris, France]</td>\n",
       "      <td>48.888800</td>\n",
       "      <td>2.333100</td>\n",
       "      <td>NA</td>\n",
       "      <td>NA</td>\n",
       "    </tr>\n",
       "    <tr>\n",
       "      <th>11</th>\n",
       "      <td>Hotel Advance</td>\n",
       "      <td>Sep lveda 180 Eixample 08011 Barcelona Spain</td>\n",
       "      <td>Hotel Advance</td>\n",
       "      <td>[Carrer Sepúlveda, 180, 08011 Barcelona, Provi...</td>\n",
       "      <td>41.383319</td>\n",
       "      <td>2.162813</td>\n",
       "      <td>NA</td>\n",
       "      <td>NA</td>\n",
       "    </tr>\n",
       "    <tr>\n",
       "      <th>12</th>\n",
       "      <td>Renaissance Barcelona Hotel</td>\n",
       "      <td>Pau Clar s 122 Eixample 08009 Barcelona Spain</td>\n",
       "      <td>Renaissance Barcelona Hotel</td>\n",
       "      <td>[Carrer de Pau Claris, 122, 08009 Barcelona, S...</td>\n",
       "      <td>41.392612</td>\n",
       "      <td>2.167507</td>\n",
       "      <td>NA</td>\n",
       "      <td>NA</td>\n",
       "    </tr>\n",
       "    <tr>\n",
       "      <th>13</th>\n",
       "      <td>Hotel Atlanta</td>\n",
       "      <td>W hringer Stra e 33 35 09 Alsergrund 1090 Vien...</td>\n",
       "      <td>Hotel Atlantic</td>\n",
       "      <td>[Lungomare Trieste, 160, 33054 Lignano Sabbiad...</td>\n",
       "      <td>45.679770</td>\n",
       "      <td>13.129622</td>\n",
       "      <td>NA</td>\n",
       "      <td>NA</td>\n",
       "    </tr>\n",
       "    <tr>\n",
       "      <th>14</th>\n",
       "      <td>Hotel Atlanta</td>\n",
       "      <td>W hringer Stra e 33 35 09 Alsergrund 1090 Vien...</td>\n",
       "      <td>Hotel Atlanta</td>\n",
       "      <td>[Rembrandtplein 8-10, 1017 CV Amsterdam, Nethe...</td>\n",
       "      <td>52.365976</td>\n",
       "      <td>4.895548</td>\n",
       "      <td>NA</td>\n",
       "      <td>NA</td>\n",
       "    </tr>\n",
       "    <tr>\n",
       "      <th>15</th>\n",
       "      <td>Roomz Vienna</td>\n",
       "      <td>Paragonstra e 1 11 Simmering 1110 Vienna Austria</td>\n",
       "      <td>Roomz Vienna</td>\n",
       "      <td>[Paragonstraße 1, 1110 Wien, Austria]</td>\n",
       "      <td>48.186635</td>\n",
       "      <td>16.420513</td>\n",
       "      <td>NA</td>\n",
       "      <td>NA</td>\n",
       "    </tr>\n",
       "    <tr>\n",
       "      <th>16</th>\n",
       "      <td>Hotel Daniel Vienna</td>\n",
       "      <td>Landstra er G rtel 5 03 Landstra e 1030 Vienna...</td>\n",
       "      <td>Hotel Daniel Vienna</td>\n",
       "      <td>[Landstraßer Gürtel 5, 1030 Wien, Austria]</td>\n",
       "      <td>48.188770</td>\n",
       "      <td>16.383972</td>\n",
       "      <td>NA</td>\n",
       "      <td>NA</td>\n",
       "    </tr>\n",
       "  </tbody>\n",
       "</table>\n",
       "</div>"
      ],
      "text/plain": [
       "                      Hotel_Name  \\\n",
       "0               Hotel Park Villa   \n",
       "1                  Hotel Atlanta   \n",
       "2                  Hotel Atlanta   \n",
       "3                  Hotel Atlanta   \n",
       "4                  Hotel Atlanta   \n",
       "5                  Hotel Atlanta   \n",
       "6                  Hotel Atlanta   \n",
       "7                  Hotel Atlanta   \n",
       "8                  Hotel Atlanta   \n",
       "9      Cordial Theaterhotel Wien   \n",
       "10  Holiday Inn Paris Montmartre   \n",
       "11                 Hotel Advance   \n",
       "12   Renaissance Barcelona Hotel   \n",
       "13                 Hotel Atlanta   \n",
       "14                 Hotel Atlanta   \n",
       "15                  Roomz Vienna   \n",
       "16           Hotel Daniel Vienna   \n",
       "\n",
       "                                        Hotel_Address  \\\n",
       "0   Hasenauerstra e 12 19 D bling 1190 Vienna Austria   \n",
       "1   W hringer Stra e 33 35 09 Alsergrund 1090 Vien...   \n",
       "2   W hringer Stra e 33 35 09 Alsergrund 1090 Vien...   \n",
       "3   W hringer Stra e 33 35 09 Alsergrund 1090 Vien...   \n",
       "4   W hringer Stra e 33 35 09 Alsergrund 1090 Vien...   \n",
       "5   W hringer Stra e 33 35 09 Alsergrund 1090 Vien...   \n",
       "6   W hringer Stra e 33 35 09 Alsergrund 1090 Vien...   \n",
       "7   W hringer Stra e 33 35 09 Alsergrund 1090 Vien...   \n",
       "8   W hringer Stra e 33 35 09 Alsergrund 1090 Vien...   \n",
       "9   Josefst dter Stra e 22 08 Josefstadt 1080 Vien...   \n",
       "10       23 Rue Damr mont 18th arr 75018 Paris France   \n",
       "11       Sep lveda 180 Eixample 08011 Barcelona Spain   \n",
       "12      Pau Clar s 122 Eixample 08009 Barcelona Spain   \n",
       "13  W hringer Stra e 33 35 09 Alsergrund 1090 Vien...   \n",
       "14  W hringer Stra e 33 35 09 Alsergrund 1090 Vien...   \n",
       "15   Paragonstra e 1 11 Simmering 1110 Vienna Austria   \n",
       "16  Landstra er G rtel 5 03 Landstra e 1030 Vienna...   \n",
       "\n",
       "                              name  \\\n",
       "0                 Hotel Park-Villa   \n",
       "1                   Hotel Atlantic   \n",
       "2                   Hotel Atlantic   \n",
       "3                   Hotel Atlantic   \n",
       "4                   Hostal Atlanta   \n",
       "5                    Hotel Atlanta   \n",
       "6                   Hotel Atlantic   \n",
       "7                   HOTEL ATALANTE   \n",
       "8                    Hotel Atlanta   \n",
       "9        Cordial Theaterhotel Wien   \n",
       "10  Holiday Inn Paris - Montmartre   \n",
       "11                   Hotel Advance   \n",
       "12     Renaissance Barcelona Hotel   \n",
       "13                  Hotel Atlantic   \n",
       "14                   Hotel Atlanta   \n",
       "15                    Roomz Vienna   \n",
       "16             Hotel Daniel Vienna   \n",
       "\n",
       "                                              address   latitude  longitude  \\\n",
       "0            [Hasenauerstraße 12, 1190 Wien, Austria]  48.233495  16.345612   \n",
       "1   [Via G. Matteotti, 60, 47043 Gatteo Forlì-Cese...  44.169158  12.437540   \n",
       "2   [Viale Trieste, 365, 61121 Pesaro Pesaro e Urb...  43.918432  12.911133   \n",
       "3   [Corso Repubblica, 124, 28041 Arona Novara, It...  45.756229   8.559663   \n",
       "4   [Carrer Terral, 50, 07600 S'Arenal, ISLAS BALE...  39.499603   2.755165   \n",
       "5       [Neerhem 20, 6301 CH Valkenburg, Netherlands]  50.861029   5.833056   \n",
       "6   [Lungomare Italia, 8, 60017 Senigallia Ancona,...  43.682004  13.279568   \n",
       "7         [42 Rue de Genève, 74100 Annemasse, France]  46.193034   6.227661   \n",
       "8   [Calle Alfredo L Jones, 37, 35008 Las Palmas d...  28.142006 -15.433365   \n",
       "9        [Josefstädter Straße 22, 1080 Wien, Austria]  48.209456  16.351568   \n",
       "10            [23 Rue Damrémont, 75018 Paris, France]  48.888800   2.333100   \n",
       "11  [Carrer Sepúlveda, 180, 08011 Barcelona, Provi...  41.383319   2.162813   \n",
       "12  [Carrer de Pau Claris, 122, 08009 Barcelona, S...  41.392612   2.167507   \n",
       "13  [Lungomare Trieste, 160, 33054 Lignano Sabbiad...  45.679770  13.129622   \n",
       "14  [Rembrandtplein 8-10, 1017 CV Amsterdam, Nethe...  52.365976   4.895548   \n",
       "15              [Paragonstraße 1, 1110 Wien, Austria]  48.186635  16.420513   \n",
       "16         [Landstraßer Gürtel 5, 1030 Wien, Austria]  48.188770  16.383972   \n",
       "\n",
       "   lat lng  \n",
       "0   NA  NA  \n",
       "1   NA  NA  \n",
       "2   NA  NA  \n",
       "3   NA  NA  \n",
       "4   NA  NA  \n",
       "5   NA  NA  \n",
       "6   NA  NA  \n",
       "7   NA  NA  \n",
       "8   NA  NA  \n",
       "9   NA  NA  \n",
       "10  NA  NA  \n",
       "11  NA  NA  \n",
       "12  NA  NA  \n",
       "13  NA  NA  \n",
       "14  NA  NA  \n",
       "15  NA  NA  \n",
       "16  NA  NA  "
      ]
     },
     "execution_count": 67,
     "metadata": {},
     "output_type": "execute_result"
    }
   ],
   "source": [
    "df_google_hotels_norm_levenshtein.filter((df_google_hotels_norm_levenshtein.lat=='NA') |\n",
    "                                        (df_google_hotels_norm_levenshtein.lng=='NA'))\\\n",
    "    .select(['Hotel_Name', 'Hotel_Address', 'name', 'address', 'latitude', 'longitude', 'lat', 'lng']).toPandas()"
   ]
  },
  {
   "cell_type": "markdown",
   "metadata": {
    "editable": true
   },
   "source": [
    "There are only 16 of these invalid rows. Also, 10 of these rows are just Hotel Atlanta. These can be fixed manually by comparing the address and adding the latitude and longitude. Let's first drop all the rows with 'Hotel Atlanta', they are all false positives, and we can't filter with geo-coordinates as they are NA.\n",
    "### Note:\n",
    "This needs to be done in the original reviews data set too."
   ]
  },
  {
   "cell_type": "code",
   "execution_count": 70,
   "metadata": {
    "editable": true
   },
   "outputs": [
    {
     "data": {
      "text/plain": [
       "10"
      ]
     },
     "execution_count": 70,
     "metadata": {},
     "output_type": "execute_result"
    }
   ],
   "source": [
    "df_google_hotels_norm_levenshtein.filter(df_google_hotels_norm_levenshtein.Hotel_Name=='Hotel Atlanta').count()"
   ]
  },
  {
   "cell_type": "markdown",
   "metadata": {
    "editable": true
   },
   "source": [
    "Drop Hotel Atlanta rows"
   ]
  },
  {
   "cell_type": "code",
   "execution_count": 94,
   "metadata": {
    "editable": true
   },
   "outputs": [],
   "source": [
    "df_google_hotels_norm_levenshtein = df_google_hotels_norm_levenshtein.filter(df_google_hotels_norm_levenshtein.Hotel_Name!='Hotel Atlanta')"
   ]
  },
  {
   "cell_type": "code",
   "execution_count": 95,
   "metadata": {
    "editable": true
   },
   "outputs": [
    {
     "data": {
      "text/plain": [
       "0"
      ]
     },
     "execution_count": 95,
     "metadata": {},
     "output_type": "execute_result"
    }
   ],
   "source": [
    "df_google_hotels_norm_levenshtein.filter(df_google_hotels_norm_levenshtein.Hotel_Name=='Hotel Atlanta').count()"
   ]
  },
  {
   "cell_type": "markdown",
   "metadata": {
    "editable": true
   },
   "source": [
    "Do the latitude and longitude replacement."
   ]
  },
  {
   "cell_type": "code",
   "execution_count": 73,
   "metadata": {
    "editable": true
   },
   "outputs": [
    {
     "data": {
      "text/html": [
       "<div>\n",
       "<style scoped>\n",
       "    .dataframe tbody tr th:only-of-type {\n",
       "        vertical-align: middle;\n",
       "    }\n",
       "\n",
       "    .dataframe tbody tr th {\n",
       "        vertical-align: top;\n",
       "    }\n",
       "\n",
       "    .dataframe thead th {\n",
       "        text-align: right;\n",
       "    }\n",
       "</style>\n",
       "<table border=\"1\" class=\"dataframe\">\n",
       "  <thead>\n",
       "    <tr style=\"text-align: right;\">\n",
       "      <th></th>\n",
       "      <th>Hotel_Name</th>\n",
       "      <th>Hotel_Address</th>\n",
       "      <th>name</th>\n",
       "      <th>address</th>\n",
       "      <th>latitude</th>\n",
       "      <th>longitude</th>\n",
       "      <th>lat</th>\n",
       "      <th>lng</th>\n",
       "    </tr>\n",
       "  </thead>\n",
       "  <tbody>\n",
       "    <tr>\n",
       "      <th>0</th>\n",
       "      <td>Hotel Park Villa</td>\n",
       "      <td>Hasenauerstra e 12 19 D bling 1190 Vienna Austria</td>\n",
       "      <td>Hotel Park-Villa</td>\n",
       "      <td>[Hasenauerstraße 12, 1190 Wien, Austria]</td>\n",
       "      <td>48.233495</td>\n",
       "      <td>16.345612</td>\n",
       "      <td>NA</td>\n",
       "      <td>NA</td>\n",
       "    </tr>\n",
       "    <tr>\n",
       "      <th>1</th>\n",
       "      <td>Cordial Theaterhotel Wien</td>\n",
       "      <td>Josefst dter Stra e 22 08 Josefstadt 1080 Vien...</td>\n",
       "      <td>Cordial Theaterhotel Wien</td>\n",
       "      <td>[Josefstädter Straße 22, 1080 Wien, Austria]</td>\n",
       "      <td>48.209456</td>\n",
       "      <td>16.351568</td>\n",
       "      <td>NA</td>\n",
       "      <td>NA</td>\n",
       "    </tr>\n",
       "    <tr>\n",
       "      <th>2</th>\n",
       "      <td>Holiday Inn Paris Montmartre</td>\n",
       "      <td>23 Rue Damr mont 18th arr 75018 Paris France</td>\n",
       "      <td>Holiday Inn Paris - Montmartre</td>\n",
       "      <td>[23 Rue Damrémont, 75018 Paris, France]</td>\n",
       "      <td>48.888800</td>\n",
       "      <td>2.333100</td>\n",
       "      <td>NA</td>\n",
       "      <td>NA</td>\n",
       "    </tr>\n",
       "    <tr>\n",
       "      <th>3</th>\n",
       "      <td>Hotel Advance</td>\n",
       "      <td>Sep lveda 180 Eixample 08011 Barcelona Spain</td>\n",
       "      <td>Hotel Advance</td>\n",
       "      <td>[Carrer Sepúlveda, 180, 08011 Barcelona, Provi...</td>\n",
       "      <td>41.383319</td>\n",
       "      <td>2.162813</td>\n",
       "      <td>NA</td>\n",
       "      <td>NA</td>\n",
       "    </tr>\n",
       "    <tr>\n",
       "      <th>4</th>\n",
       "      <td>Renaissance Barcelona Hotel</td>\n",
       "      <td>Pau Clar s 122 Eixample 08009 Barcelona Spain</td>\n",
       "      <td>Renaissance Barcelona Hotel</td>\n",
       "      <td>[Carrer de Pau Claris, 122, 08009 Barcelona, S...</td>\n",
       "      <td>41.392612</td>\n",
       "      <td>2.167507</td>\n",
       "      <td>NA</td>\n",
       "      <td>NA</td>\n",
       "    </tr>\n",
       "    <tr>\n",
       "      <th>5</th>\n",
       "      <td>Roomz Vienna</td>\n",
       "      <td>Paragonstra e 1 11 Simmering 1110 Vienna Austria</td>\n",
       "      <td>Roomz Vienna</td>\n",
       "      <td>[Paragonstraße 1, 1110 Wien, Austria]</td>\n",
       "      <td>48.186635</td>\n",
       "      <td>16.420513</td>\n",
       "      <td>NA</td>\n",
       "      <td>NA</td>\n",
       "    </tr>\n",
       "    <tr>\n",
       "      <th>6</th>\n",
       "      <td>Hotel Daniel Vienna</td>\n",
       "      <td>Landstra er G rtel 5 03 Landstra e 1030 Vienna...</td>\n",
       "      <td>Hotel Daniel Vienna</td>\n",
       "      <td>[Landstraßer Gürtel 5, 1030 Wien, Austria]</td>\n",
       "      <td>48.188770</td>\n",
       "      <td>16.383972</td>\n",
       "      <td>NA</td>\n",
       "      <td>NA</td>\n",
       "    </tr>\n",
       "  </tbody>\n",
       "</table>\n",
       "</div>"
      ],
      "text/plain": [
       "                     Hotel_Name  \\\n",
       "0              Hotel Park Villa   \n",
       "1     Cordial Theaterhotel Wien   \n",
       "2  Holiday Inn Paris Montmartre   \n",
       "3                 Hotel Advance   \n",
       "4   Renaissance Barcelona Hotel   \n",
       "5                  Roomz Vienna   \n",
       "6           Hotel Daniel Vienna   \n",
       "\n",
       "                                       Hotel_Address  \\\n",
       "0  Hasenauerstra e 12 19 D bling 1190 Vienna Austria   \n",
       "1  Josefst dter Stra e 22 08 Josefstadt 1080 Vien...   \n",
       "2       23 Rue Damr mont 18th arr 75018 Paris France   \n",
       "3       Sep lveda 180 Eixample 08011 Barcelona Spain   \n",
       "4      Pau Clar s 122 Eixample 08009 Barcelona Spain   \n",
       "5   Paragonstra e 1 11 Simmering 1110 Vienna Austria   \n",
       "6  Landstra er G rtel 5 03 Landstra e 1030 Vienna...   \n",
       "\n",
       "                             name  \\\n",
       "0                Hotel Park-Villa   \n",
       "1       Cordial Theaterhotel Wien   \n",
       "2  Holiday Inn Paris - Montmartre   \n",
       "3                   Hotel Advance   \n",
       "4     Renaissance Barcelona Hotel   \n",
       "5                    Roomz Vienna   \n",
       "6             Hotel Daniel Vienna   \n",
       "\n",
       "                                             address   latitude  longitude  \\\n",
       "0           [Hasenauerstraße 12, 1190 Wien, Austria]  48.233495  16.345612   \n",
       "1       [Josefstädter Straße 22, 1080 Wien, Austria]  48.209456  16.351568   \n",
       "2            [23 Rue Damrémont, 75018 Paris, France]  48.888800   2.333100   \n",
       "3  [Carrer Sepúlveda, 180, 08011 Barcelona, Provi...  41.383319   2.162813   \n",
       "4  [Carrer de Pau Claris, 122, 08009 Barcelona, S...  41.392612   2.167507   \n",
       "5              [Paragonstraße 1, 1110 Wien, Austria]  48.186635  16.420513   \n",
       "6         [Landstraßer Gürtel 5, 1030 Wien, Austria]  48.188770  16.383972   \n",
       "\n",
       "  lat lng  \n",
       "0  NA  NA  \n",
       "1  NA  NA  \n",
       "2  NA  NA  \n",
       "3  NA  NA  \n",
       "4  NA  NA  \n",
       "5  NA  NA  \n",
       "6  NA  NA  "
      ]
     },
     "execution_count": 73,
     "metadata": {},
     "output_type": "execute_result"
    }
   ],
   "source": [
    "df_google_hotels_norm_levenshtein.filter((df_google_hotels_norm_levenshtein.lat=='NA') |\n",
    "                                        (df_google_hotels_norm_levenshtein.lng=='NA'))\\\n",
    "    .select(['Hotel_Name', 'Hotel_Address', 'name', 'address', 'latitude', 'longitude', 'lat', 'lng']).toPandas()"
   ]
  },
  {
   "cell_type": "markdown",
   "metadata": {
    "editable": true
   },
   "source": [
    "Replace lat and lng for rows in which they are NA with the corresponding latitude and longitude values respectively."
   ]
  },
  {
   "cell_type": "code",
   "execution_count": 96,
   "metadata": {
    "editable": true
   },
   "outputs": [],
   "source": [
    "df_google_hotels_norm_levenshtein = df_google_hotels_norm_levenshtein \\\n",
    ".withColumn('lat_new',F.when(df_google_hotels_norm_levenshtein.lat == 'NA', df_google_hotels_norm_levenshtein.latitude).otherwise(df_google_hotels_norm_levenshtein.lat))\\\n",
    ".drop(df_google_hotels_norm_levenshtein.lat)\\\n",
    ".withColumnRenamed('lat_new', 'lat')"
   ]
  },
  {
   "cell_type": "code",
   "execution_count": 97,
   "metadata": {
    "editable": true
   },
   "outputs": [],
   "source": [
    "df_google_hotels_norm_levenshtein = df_google_hotels_norm_levenshtein \\\n",
    ".withColumn('lng_new',F.when(df_google_hotels_norm_levenshtein.lng == 'NA', df_google_hotels_norm_levenshtein.longitude).otherwise(df_google_hotels_norm_levenshtein.lng))\\\n",
    ".drop(df_google_hotels_norm_levenshtein.lng)\\\n",
    ".withColumnRenamed('lng_new', 'lng')"
   ]
  },
  {
   "cell_type": "code",
   "execution_count": 117,
   "metadata": {
    "editable": true
   },
   "outputs": [
    {
     "data": {
      "text/html": [
       "<div>\n",
       "<style scoped>\n",
       "    .dataframe tbody tr th:only-of-type {\n",
       "        vertical-align: middle;\n",
       "    }\n",
       "\n",
       "    .dataframe tbody tr th {\n",
       "        vertical-align: top;\n",
       "    }\n",
       "\n",
       "    .dataframe thead th {\n",
       "        text-align: right;\n",
       "    }\n",
       "</style>\n",
       "<table border=\"1\" class=\"dataframe\">\n",
       "  <thead>\n",
       "    <tr style=\"text-align: right;\">\n",
       "      <th></th>\n",
       "      <th>FridayHours</th>\n",
       "      <th>Hotel_Address</th>\n",
       "      <th>Hotel_Name</th>\n",
       "      <th>MondayHours</th>\n",
       "      <th>NormalisedHotelName</th>\n",
       "      <th>Normalised_Hotel_Name</th>\n",
       "      <th>SaturdayHours</th>\n",
       "      <th>SundayHours</th>\n",
       "      <th>ThursdayHours</th>\n",
       "      <th>TuesdayHours</th>\n",
       "      <th>...</th>\n",
       "      <th>city</th>\n",
       "      <th>country</th>\n",
       "      <th>gPlusPlaceId</th>\n",
       "      <th>latitude</th>\n",
       "      <th>longitude</th>\n",
       "      <th>name</th>\n",
       "      <th>phone</th>\n",
       "      <th>price</th>\n",
       "      <th>lat</th>\n",
       "      <th>lng</th>\n",
       "    </tr>\n",
       "  </thead>\n",
       "  <tbody>\n",
       "    <tr>\n",
       "      <th>0</th>\n",
       "      <td>None</td>\n",
       "      <td>Landstra er G rtel 5 03 Landstra e 1030 Vienna...</td>\n",
       "      <td>Hotel Daniel Vienna</td>\n",
       "      <td>None</td>\n",
       "      <td>hotel daniel vienna</td>\n",
       "      <td>hotel daniel vienna</td>\n",
       "      <td>None</td>\n",
       "      <td>None</td>\n",
       "      <td>None</td>\n",
       "      <td>None</td>\n",
       "      <td>...</td>\n",
       "      <td>None</td>\n",
       "      <td>Austria</td>\n",
       "      <td>114296229584927016602</td>\n",
       "      <td>48.18877</td>\n",
       "      <td>16.383972</td>\n",
       "      <td>Hotel Daniel Vienna</td>\n",
       "      <td>01 901310</td>\n",
       "      <td>None</td>\n",
       "      <td>48.18877</td>\n",
       "      <td>16.383972</td>\n",
       "    </tr>\n",
       "  </tbody>\n",
       "</table>\n",
       "<p>1 rows × 22 columns</p>\n",
       "</div>"
      ],
      "text/plain": [
       "  FridayHours                                      Hotel_Address  \\\n",
       "0        None  Landstra er G rtel 5 03 Landstra e 1030 Vienna...   \n",
       "\n",
       "            Hotel_Name MondayHours  NormalisedHotelName Normalised_Hotel_Name  \\\n",
       "0  Hotel Daniel Vienna        None  hotel daniel vienna   hotel daniel vienna   \n",
       "\n",
       "  SaturdayHours SundayHours ThursdayHours TuesdayHours    ...      city  \\\n",
       "0          None        None          None         None    ...      None   \n",
       "\n",
       "   country           gPlusPlaceId  latitude  longitude                 name  \\\n",
       "0  Austria  114296229584927016602  48.18877  16.383972  Hotel Daniel Vienna   \n",
       "\n",
       "       phone price       lat        lng  \n",
       "0  01 901310  None  48.18877  16.383972  \n",
       "\n",
       "[1 rows x 22 columns]"
      ]
     },
     "execution_count": 117,
     "metadata": {},
     "output_type": "execute_result"
    }
   ],
   "source": [
    "df_google_hotels_norm_levenshtein.filter(df_test.Hotel_Name=='Hotel Daniel Vienna').toPandas()"
   ]
  },
  {
   "cell_type": "code",
   "execution_count": 98,
   "metadata": {
    "editable": true
   },
   "outputs": [
    {
     "data": {
      "text/html": [
       "<div>\n",
       "<style scoped>\n",
       "    .dataframe tbody tr th:only-of-type {\n",
       "        vertical-align: middle;\n",
       "    }\n",
       "\n",
       "    .dataframe tbody tr th {\n",
       "        vertical-align: top;\n",
       "    }\n",
       "\n",
       "    .dataframe thead th {\n",
       "        text-align: right;\n",
       "    }\n",
       "</style>\n",
       "<table border=\"1\" class=\"dataframe\">\n",
       "  <thead>\n",
       "    <tr style=\"text-align: right;\">\n",
       "      <th></th>\n",
       "      <th>Hotel_Name</th>\n",
       "      <th>Hotel_Address</th>\n",
       "      <th>name</th>\n",
       "      <th>address</th>\n",
       "      <th>latitude</th>\n",
       "      <th>longitude</th>\n",
       "      <th>lat</th>\n",
       "      <th>lng</th>\n",
       "    </tr>\n",
       "  </thead>\n",
       "  <tbody>\n",
       "  </tbody>\n",
       "</table>\n",
       "</div>"
      ],
      "text/plain": [
       "Empty DataFrame\n",
       "Columns: [Hotel_Name, Hotel_Address, name, address, latitude, longitude, lat, lng]\n",
       "Index: []"
      ]
     },
     "execution_count": 98,
     "metadata": {},
     "output_type": "execute_result"
    }
   ],
   "source": [
    "df_google_hotels_norm_levenshtein.filter((df_google_hotels_norm_levenshtein.lat=='NA') |\n",
    "                                        (df_google_hotels_norm_levenshtein.lng=='NA'))\\\n",
    "    .select(['Hotel_Name', 'Hotel_Address', 'name', 'address', 'latitude', 'longitude', 'lat', 'lng']).toPandas()"
   ]
  },
  {
   "cell_type": "markdown",
   "metadata": {
    "editable": true
   },
   "source": [
    "Step 9. **Fix latitude and longitude data issue 2: latitudes and longitudes outside the [-90,90] range**. These values are from the lat and lng columns in the Google Local data set. It seems like all these values are missing a decimal -- they seem to be multiplied by 1,000,000. \n",
    "\n",
    "All these rows seem to be false positives (see cells below). We can safely delete them."
   ]
  },
  {
   "cell_type": "code",
   "execution_count": 121,
   "metadata": {
    "editable": true
   },
   "outputs": [
    {
     "data": {
      "text/plain": [
       "[Row(max(lng)='9.2570459', max(latitude)=55949617.0, max(lat)='52.385601', max(longitude)=16174364.0)]"
      ]
     },
     "execution_count": 121,
     "metadata": {},
     "output_type": "execute_result"
    }
   ],
   "source": [
    "df_google_hotels_norm_levenshtein.agg({'latitude': 'max',\n",
    "                                      'longitude': 'max',\n",
    "                                      'lat': 'max', \n",
    "                                      'lng': 'max'}).collect()"
   ]
  },
  {
   "cell_type": "code",
   "execution_count": 122,
   "metadata": {
    "editable": true
   },
   "outputs": [
    {
     "data": {
      "text/plain": [
       "[Row(min(lng)='-0.0023367', min(latitude)=10.682302, min(lat)='41.368437', min(longitude)=-5702343.0)]"
      ]
     },
     "execution_count": 122,
     "metadata": {},
     "output_type": "execute_result"
    }
   ],
   "source": [
    "df_google_hotels_norm_levenshtein.agg({'latitude': 'min',\n",
    "                                      'longitude': 'min',\n",
    "                                      'lat': 'min', \n",
    "                                      'lng': 'min'}).collect()"
   ]
  },
  {
   "cell_type": "code",
   "execution_count": 19,
   "metadata": {
    "editable": true
   },
   "outputs": [
    {
     "data": {
      "text/plain": [
       "41"
      ]
     },
     "execution_count": 19,
     "metadata": {},
     "output_type": "execute_result"
    }
   ],
   "source": [
    "df_google_hotels_norm_levenshtein.filter((df_google_hotels_norm_levenshtein.latitude < -90 ) |\n",
    "                                        (df_google_hotels_norm_levenshtein.latitude > 90) |\n",
    "                                        (df_google_hotels_norm_levenshtein.longitude < -90) |\n",
    "                                        (df_google_hotels_norm_levenshtein.longitude > 90)).count()"
   ]
  },
  {
   "cell_type": "markdown",
   "metadata": {
    "editable": true
   },
   "source": [
    "So, we have 41 rows with invalid latitude and longitude values. Let's look at these rows."
   ]
  },
  {
   "cell_type": "code",
   "execution_count": 127,
   "metadata": {
    "editable": true
   },
   "outputs": [
    {
     "data": {
      "text/html": [
       "<div>\n",
       "<style scoped>\n",
       "    .dataframe tbody tr th:only-of-type {\n",
       "        vertical-align: middle;\n",
       "    }\n",
       "\n",
       "    .dataframe tbody tr th {\n",
       "        vertical-align: top;\n",
       "    }\n",
       "\n",
       "    .dataframe thead th {\n",
       "        text-align: right;\n",
       "    }\n",
       "</style>\n",
       "<table border=\"1\" class=\"dataframe\">\n",
       "  <thead>\n",
       "    <tr style=\"text-align: right;\">\n",
       "      <th></th>\n",
       "      <th>Hotel_Name</th>\n",
       "      <th>Hotel_Address</th>\n",
       "      <th>name</th>\n",
       "      <th>address</th>\n",
       "      <th>latitude</th>\n",
       "      <th>longitude</th>\n",
       "      <th>lat</th>\n",
       "      <th>lng</th>\n",
       "    </tr>\n",
       "  </thead>\n",
       "  <tbody>\n",
       "    <tr>\n",
       "      <th>0</th>\n",
       "      <td>Le A</td>\n",
       "      <td>4 rue d Artois 8th arr 75008 Paris France</td>\n",
       "      <td>Le 24</td>\n",
       "      <td>[Cours du commerce St André, 59-61 Rue Saint-A...</td>\n",
       "      <td>4.885356e+07</td>\n",
       "      <td>2.338949e+06</td>\n",
       "      <td>48.8723844</td>\n",
       "      <td>2.3088663</td>\n",
       "    </tr>\n",
       "    <tr>\n",
       "      <th>1</th>\n",
       "      <td>Arioso</td>\n",
       "      <td>7 rue d Argenson 8th arr 75008 Paris France</td>\n",
       "      <td>Argos</td>\n",
       "      <td>[Unit 2, Rheidol Retail Park, Aberystwyth, Cer...</td>\n",
       "      <td>5.241303e+02</td>\n",
       "      <td>-4.079567e+01</td>\n",
       "      <td>48.8746066</td>\n",
       "      <td>2.3167195</td>\n",
       "    </tr>\n",
       "    <tr>\n",
       "      <th>2</th>\n",
       "      <td>Arioso</td>\n",
       "      <td>7 rue d Argenson 8th arr 75008 Paris France</td>\n",
       "      <td>Argos</td>\n",
       "      <td>[Unit 2, Jolly Sailor Retail Park, Tamworth, S...</td>\n",
       "      <td>5.262839e+07</td>\n",
       "      <td>-1.708070e+06</td>\n",
       "      <td>48.8746066</td>\n",
       "      <td>2.3167195</td>\n",
       "    </tr>\n",
       "    <tr>\n",
       "      <th>3</th>\n",
       "      <td>Arioso</td>\n",
       "      <td>7 rue d Argenson 8th arr 75008 Paris France</td>\n",
       "      <td>Argos</td>\n",
       "      <td>[30 North St, Sudbury, Suffolk CO10 1RD, Unite...</td>\n",
       "      <td>5.204088e+07</td>\n",
       "      <td>7.299790e+05</td>\n",
       "      <td>48.8746066</td>\n",
       "      <td>2.3167195</td>\n",
       "    </tr>\n",
       "    <tr>\n",
       "      <th>4</th>\n",
       "      <td>Arioso</td>\n",
       "      <td>7 rue d Argenson 8th arr 75008 Paris France</td>\n",
       "      <td>Argos</td>\n",
       "      <td>[4 Berkeley Vale, Falmouth, Cornwall TR11 3PH,...</td>\n",
       "      <td>5.015442e+07</td>\n",
       "      <td>-5.074285e+06</td>\n",
       "      <td>48.8746066</td>\n",
       "      <td>2.3167195</td>\n",
       "    </tr>\n",
       "    <tr>\n",
       "      <th>5</th>\n",
       "      <td>Arioso</td>\n",
       "      <td>7 rue d Argenson 8th arr 75008 Paris France</td>\n",
       "      <td>Argos</td>\n",
       "      <td>[Unit 5, The Broadclose, Peterlee, Co. Durham ...</td>\n",
       "      <td>5.475871e+07</td>\n",
       "      <td>-1.333895e+06</td>\n",
       "      <td>48.8746066</td>\n",
       "      <td>2.3167195</td>\n",
       "    </tr>\n",
       "    <tr>\n",
       "      <th>6</th>\n",
       "      <td>Arioso</td>\n",
       "      <td>7 rue d Argenson 8th arr 75008 Paris France</td>\n",
       "      <td>Argos</td>\n",
       "      <td>[Orchard Centre, 30 Bosley's Orchard, Didcot O...</td>\n",
       "      <td>5.160694e+07</td>\n",
       "      <td>-1.238888e+06</td>\n",
       "      <td>48.8746066</td>\n",
       "      <td>2.3167195</td>\n",
       "    </tr>\n",
       "    <tr>\n",
       "      <th>7</th>\n",
       "      <td>41</td>\n",
       "      <td>41 Buckingham Palace Road Westminster Borough ...</td>\n",
       "      <td>Me</td>\n",
       "      <td>[Carrer de París, 162, 08036 Barcelona, Spain]</td>\n",
       "      <td>4.139201e+07</td>\n",
       "      <td>2.151599e+06</td>\n",
       "      <td>51.4981471</td>\n",
       "      <td>-0.1436492</td>\n",
       "    </tr>\n",
       "    <tr>\n",
       "      <th>8</th>\n",
       "      <td>41</td>\n",
       "      <td>41 Buckingham Palace Road Westminster Borough ...</td>\n",
       "      <td>J</td>\n",
       "      <td>[218 W End Ln, London NW6 1UU, United Kingdom]</td>\n",
       "      <td>5.155272e+07</td>\n",
       "      <td>-1.894860e+05</td>\n",
       "      <td>51.4981471</td>\n",
       "      <td>-0.1436492</td>\n",
       "    </tr>\n",
       "    <tr>\n",
       "      <th>9</th>\n",
       "      <td>Cram</td>\n",
       "      <td>Aribau 54 Eixample 08011 Barcelona Spain</td>\n",
       "      <td>Eram</td>\n",
       "      <td>[CC Alma, 5 Rue du Bosphore, 35200 Rennes, Fra...</td>\n",
       "      <td>4.808312e+07</td>\n",
       "      <td>-1.679306e+06</td>\n",
       "      <td>41.3880549</td>\n",
       "      <td>2.1599602</td>\n",
       "    </tr>\n",
       "    <tr>\n",
       "      <th>10</th>\n",
       "      <td>Le A</td>\n",
       "      <td>4 rue d Artois 8th arr 75008 Paris France</td>\n",
       "      <td>Le 4B</td>\n",
       "      <td>[189 Rue Gallieni, 92100 Boulogne-Billancourt,...</td>\n",
       "      <td>4.883574e+07</td>\n",
       "      <td>2.233486e+06</td>\n",
       "      <td>48.8723844</td>\n",
       "      <td>2.3088663</td>\n",
       "    </tr>\n",
       "    <tr>\n",
       "      <th>11</th>\n",
       "      <td>Le A</td>\n",
       "      <td>4 rue d Artois 8th arr 75008 Paris France</td>\n",
       "      <td>Le Raj</td>\n",
       "      <td>[199 Camp Hill Rd, Nuneaton, Warwickshire CV10...</td>\n",
       "      <td>5.253637e+02</td>\n",
       "      <td>-1.509846e+01</td>\n",
       "      <td>48.8723844</td>\n",
       "      <td>2.3088663</td>\n",
       "    </tr>\n",
       "    <tr>\n",
       "      <th>12</th>\n",
       "      <td>41</td>\n",
       "      <td>41 Buckingham Palace Road Westminster Borough ...</td>\n",
       "      <td>B4</td>\n",
       "      <td>[8 Square Sainte-Croix de la Bretonnerie, 7500...</td>\n",
       "      <td>4.885825e+07</td>\n",
       "      <td>2.354766e+06</td>\n",
       "      <td>51.4981471</td>\n",
       "      <td>-0.1436492</td>\n",
       "    </tr>\n",
       "    <tr>\n",
       "      <th>13</th>\n",
       "      <td>41</td>\n",
       "      <td>41 Buckingham Palace Road Westminster Borough ...</td>\n",
       "      <td>O2</td>\n",
       "      <td>[54/56 Fargate, Sheffield, South Yorkshire S1 ...</td>\n",
       "      <td>5.338171e+07</td>\n",
       "      <td>-1.469463e+06</td>\n",
       "      <td>51.4981471</td>\n",
       "      <td>-0.1436492</td>\n",
       "    </tr>\n",
       "    <tr>\n",
       "      <th>14</th>\n",
       "      <td>Cram</td>\n",
       "      <td>Aribau 54 Eixample 08011 Barcelona Spain</td>\n",
       "      <td>Sham</td>\n",
       "      <td>[8 Place du Nombre d'Or, 34000 Montpellier, Fr...</td>\n",
       "      <td>4.360792e+07</td>\n",
       "      <td>3.887293e+06</td>\n",
       "      <td>41.3880549</td>\n",
       "      <td>2.1599602</td>\n",
       "    </tr>\n",
       "    <tr>\n",
       "      <th>15</th>\n",
       "      <td>Arioso</td>\n",
       "      <td>7 rue d Argenson 8th arr 75008 Paris France</td>\n",
       "      <td>Argos</td>\n",
       "      <td>[32-33 East St, Taunton, Somerset TA1 3LS, Uni...</td>\n",
       "      <td>5.101511e+07</td>\n",
       "      <td>-3.097957e+06</td>\n",
       "      <td>48.8746066</td>\n",
       "      <td>2.3167195</td>\n",
       "    </tr>\n",
       "    <tr>\n",
       "      <th>16</th>\n",
       "      <td>Hotel Arena</td>\n",
       "      <td>s Gravesandestraat 55 Oost 1092 AA Amsterdam ...</td>\n",
       "      <td>Hotel Amina</td>\n",
       "      <td>[4 Rue Artois, 75008 Paris, France]</td>\n",
       "      <td>4.887253e+07</td>\n",
       "      <td>2.308759e+06</td>\n",
       "      <td>52.3605759</td>\n",
       "      <td>4.9159683</td>\n",
       "    </tr>\n",
       "    <tr>\n",
       "      <th>17</th>\n",
       "      <td>Hotel Auriga</td>\n",
       "      <td>Via G B Pirelli 7 Central Station 20124 Milan ...</td>\n",
       "      <td>Hotel Aurora</td>\n",
       "      <td>[Piazza S. Maria delle Grazie, 1, 71019 Vieste...</td>\n",
       "      <td>4.188007e+07</td>\n",
       "      <td>1.617436e+07</td>\n",
       "      <td>45.4858877</td>\n",
       "      <td>9.2042827</td>\n",
       "    </tr>\n",
       "    <tr>\n",
       "      <th>18</th>\n",
       "      <td>Hotel Arena</td>\n",
       "      <td>s Gravesandestraat 55 Oost 1092 AA Amsterdam ...</td>\n",
       "      <td>Hotel Rea</td>\n",
       "      <td>[Via Nazionale Puglie, 2, Casalnuovo di Napoli...</td>\n",
       "      <td>4.090122e+07</td>\n",
       "      <td>1.434475e+07</td>\n",
       "      <td>52.3605759</td>\n",
       "      <td>4.9159683</td>\n",
       "    </tr>\n",
       "    <tr>\n",
       "      <th>19</th>\n",
       "      <td>The Victoria</td>\n",
       "      <td>10 West Temple Sheen London SW14 7RT United Ki...</td>\n",
       "      <td>The Victoria</td>\n",
       "      <td>[46 Grosvenor Gardens, Westminster, London SW1...</td>\n",
       "      <td>5.149156e+07</td>\n",
       "      <td>-1.423280e+05</td>\n",
       "      <td>51.4611219</td>\n",
       "      <td>-0.2756216</td>\n",
       "    </tr>\n",
       "    <tr>\n",
       "      <th>20</th>\n",
       "      <td>MiHotel</td>\n",
       "      <td>Via Dei Fontanili 26 Ripamonti Corvetto 20141 ...</td>\n",
       "      <td>MIRATEL</td>\n",
       "      <td>[25 Boulevard de Larramet, 31300 Toulouse, Fra...</td>\n",
       "      <td>4.359256e+07</td>\n",
       "      <td>1.416845e+06</td>\n",
       "      <td>45.4405621</td>\n",
       "      <td>9.1921165</td>\n",
       "    </tr>\n",
       "    <tr>\n",
       "      <th>21</th>\n",
       "      <td>The Toren</td>\n",
       "      <td>Keizersgracht 164 Amsterdam City Center 1015 C...</td>\n",
       "      <td>The Store</td>\n",
       "      <td>[10 Rue de la Chalotais, 35000 Rennes, France]</td>\n",
       "      <td>4.338794e+07</td>\n",
       "      <td>-1.663205e+06</td>\n",
       "      <td>52.3758754</td>\n",
       "      <td>4.8859642</td>\n",
       "    </tr>\n",
       "    <tr>\n",
       "      <th>22</th>\n",
       "      <td>Park Hotel</td>\n",
       "      <td>Stadhouderskade 25 Oud Zuid 1071 ZD Amsterdam ...</td>\n",
       "      <td>Cara Hotel</td>\n",
       "      <td>[No.18, 47 &amp; 84 France, Phnom Penh, Cambodia]</td>\n",
       "      <td>1.158112e+01</td>\n",
       "      <td>1.049199e+02</td>\n",
       "      <td>52.3613814</td>\n",
       "      <td>4.8832594</td>\n",
       "    </tr>\n",
       "    <tr>\n",
       "      <th>23</th>\n",
       "      <td>Le Marcel</td>\n",
       "      <td>11 rue du 8 Mai 1945 10th arr 75010 Paris France</td>\n",
       "      <td>The Marcel</td>\n",
       "      <td>[5 Rue Lazare Carnot, 34200 Sète, France]</td>\n",
       "      <td>4.340260e+07</td>\n",
       "      <td>3.698179e+06</td>\n",
       "      <td>48.8761376</td>\n",
       "      <td>2.3572681</td>\n",
       "    </tr>\n",
       "    <tr>\n",
       "      <th>24</th>\n",
       "      <td>Nu Hotel</td>\n",
       "      <td>Via Feltre 19 B Citt Studi 20132 Milan Italy</td>\n",
       "      <td>Sun Hotel</td>\n",
       "      <td>[Sun St, Canterbury, Kent CT1 2HX, United King...</td>\n",
       "      <td>5.127953e+07</td>\n",
       "      <td>1.080852e+06</td>\n",
       "      <td>45.4911829</td>\n",
       "      <td>9.2393614</td>\n",
       "    </tr>\n",
       "    <tr>\n",
       "      <th>25</th>\n",
       "      <td>Avo Hotel</td>\n",
       "      <td>82 Dalston Lane Hackney London E8 3AH United K...</td>\n",
       "      <td>ABC Hotel</td>\n",
       "      <td>[Piazza Don Eugenio Leoni, 25-27, 46100 Mantov...</td>\n",
       "      <td>4.515826e+07</td>\n",
       "      <td>1.078338e+07</td>\n",
       "      <td>51.5460628</td>\n",
       "      <td>-0.0700817</td>\n",
       "    </tr>\n",
       "    <tr>\n",
       "      <th>26</th>\n",
       "      <td>Hotel Marconi</td>\n",
       "      <td>Via Fabio Filzi 3 Central Station 20124 Milan ...</td>\n",
       "      <td>Hotel Marconi</td>\n",
       "      <td>[Piazza Dante Alighieri, 3, 06081 Santa Maria ...</td>\n",
       "      <td>4.305932e+07</td>\n",
       "      <td>1.258552e+07</td>\n",
       "      <td>45.4868744</td>\n",
       "      <td>9.2018407</td>\n",
       "    </tr>\n",
       "    <tr>\n",
       "      <th>27</th>\n",
       "      <td>The Ned</td>\n",
       "      <td>Poultry 27 City of London London EC2R 8AJ Unit...</td>\n",
       "      <td>The Met</td>\n",
       "      <td>[Market St, Bury, Lancashire BL9 0BW, United K...</td>\n",
       "      <td>5.359314e+02</td>\n",
       "      <td>-2.297290e+01</td>\n",
       "      <td>51.5135929</td>\n",
       "      <td>-0.0907833</td>\n",
       "    </tr>\n",
       "    <tr>\n",
       "      <th>28</th>\n",
       "      <td>Bassano</td>\n",
       "      <td>15 Rue de Bassano 16th arr 75016 Paris France</td>\n",
       "      <td>Basso</td>\n",
       "      <td>[Coolsingel 123, Rotterdam, Netherlands]</td>\n",
       "      <td>5.191913e+07</td>\n",
       "      <td>4.479719e+06</td>\n",
       "      <td>48.8690596</td>\n",
       "      <td>2.2971078</td>\n",
       "    </tr>\n",
       "    <tr>\n",
       "      <th>29</th>\n",
       "      <td>The Ned</td>\n",
       "      <td>Poultry 27 City of London London EC2R 8AJ Unit...</td>\n",
       "      <td>The End</td>\n",
       "      <td>[18 W Central St, London WC1A 1JJ, United King...</td>\n",
       "      <td>5.151667e+07</td>\n",
       "      <td>-1.252710e+05</td>\n",
       "      <td>51.5135929</td>\n",
       "      <td>-0.0907833</td>\n",
       "    </tr>\n",
       "    <tr>\n",
       "      <th>30</th>\n",
       "      <td>Hotel Monge</td>\n",
       "      <td>55 rue Monge 5th arr 75005 Paris France</td>\n",
       "      <td>Hotel Ronce</td>\n",
       "      <td>[Strasse Ronc, 1, 39046 Ortisei Bolzano, Italy]</td>\n",
       "      <td>4.656985e+07</td>\n",
       "      <td>1.166825e+07</td>\n",
       "      <td>48.8447938</td>\n",
       "      <td>2.3524462</td>\n",
       "    </tr>\n",
       "    <tr>\n",
       "      <th>31</th>\n",
       "      <td>Hotel 55</td>\n",
       "      <td>Hanger Lane Ealing London W5 3HL United Kingdom</td>\n",
       "      <td>Hotel CN</td>\n",
       "      <td>[Av Langreo, 0, 33180 Noreña, Asturias, Spain]</td>\n",
       "      <td>4.339087e+07</td>\n",
       "      <td>-5.702343e+06</td>\n",
       "      <td>51.5213303</td>\n",
       "      <td>-0.2915052</td>\n",
       "    </tr>\n",
       "    <tr>\n",
       "      <th>32</th>\n",
       "      <td>The Academy</td>\n",
       "      <td>21 Gower Street Camden London WC1E 6HG United ...</td>\n",
       "      <td>The Academy</td>\n",
       "      <td>[Great Darkgate St, Aberystwyth, Dyfed SY23 1D...</td>\n",
       "      <td>5.241402e+07</td>\n",
       "      <td>-4.086412e+06</td>\n",
       "      <td>51.5205441</td>\n",
       "      <td>-0.1308091</td>\n",
       "    </tr>\n",
       "    <tr>\n",
       "      <th>33</th>\n",
       "      <td>Hotel Wagner</td>\n",
       "      <td>Via M Buonarroti 13 Fiera Milano City 20149 Mi...</td>\n",
       "      <td>Hotel Walder</td>\n",
       "      <td>[Via Vorland, 7, 39017 Scena Bolzano, Italy]</td>\n",
       "      <td>4.668590e+07</td>\n",
       "      <td>1.119052e+07</td>\n",
       "      <td>45.4684949</td>\n",
       "      <td>9.1550355</td>\n",
       "    </tr>\n",
       "    <tr>\n",
       "      <th>34</th>\n",
       "      <td>Hotel Manzoni</td>\n",
       "      <td>Via Santo Spirito 20 Milan City Center 20121 M...</td>\n",
       "      <td>Hotel Marconi</td>\n",
       "      <td>[Piazza Dante Alighieri, 3, 06081 Santa Maria ...</td>\n",
       "      <td>4.305932e+07</td>\n",
       "      <td>1.258552e+07</td>\n",
       "      <td>45.470238</td>\n",
       "      <td>9.195347</td>\n",
       "    </tr>\n",
       "    <tr>\n",
       "      <th>35</th>\n",
       "      <td>Hotel Dieci</td>\n",
       "      <td>Largo Rio de Janeiro 12 Citt Studi 20133 Milan...</td>\n",
       "      <td>Hotel Dieu</td>\n",
       "      <td>[1 Place de l'Hôpital, 69002 Lyon, France]</td>\n",
       "      <td>4.575927e+07</td>\n",
       "      <td>4.836106e+06</td>\n",
       "      <td>45.4738012</td>\n",
       "      <td>9.2239702</td>\n",
       "    </tr>\n",
       "    <tr>\n",
       "      <th>36</th>\n",
       "      <td>H tel de Lille</td>\n",
       "      <td>40 rue de Lille 7th arr 75007 Paris France</td>\n",
       "      <td>Hotel de Ville</td>\n",
       "      <td>[Place Napoléon, 85000 La Roche-sur-Yon, France]</td>\n",
       "      <td>4.667142e+07</td>\n",
       "      <td>-1.430081e+06</td>\n",
       "      <td>48.8585626</td>\n",
       "      <td>2.3299138</td>\n",
       "    </tr>\n",
       "    <tr>\n",
       "      <th>37</th>\n",
       "      <td>H tel de Lille</td>\n",
       "      <td>40 rue de Lille 7th arr 75007 Paris France</td>\n",
       "      <td>Hôtel de Ville</td>\n",
       "      <td>[3 Rue de l'Hôtel de ville, 17000 Rochelle (La...</td>\n",
       "      <td>4.615209e+07</td>\n",
       "      <td>-1.150528e+06</td>\n",
       "      <td>48.8585626</td>\n",
       "      <td>2.3299138</td>\n",
       "    </tr>\n",
       "    <tr>\n",
       "      <th>38</th>\n",
       "      <td>Hotel La Place</td>\n",
       "      <td>17 Nottingham Place Westminster Borough London...</td>\n",
       "      <td>Hotel La Pace</td>\n",
       "      <td>[Via Lungo Savio, 4, 47021 Bagno di Romagna Fo...</td>\n",
       "      <td>4.383403e+07</td>\n",
       "      <td>1.196032e+07</td>\n",
       "      <td>51.5215257</td>\n",
       "      <td>-0.1533039</td>\n",
       "    </tr>\n",
       "    <tr>\n",
       "      <th>39</th>\n",
       "      <td>Le Senat</td>\n",
       "      <td>10 rue de Vaugirard 6th arr 75006 Paris France</td>\n",
       "      <td>Le Sept</td>\n",
       "      <td>[5 Hunter Square, Edinburgh, Midlothian EH1 1Q...</td>\n",
       "      <td>5.594962e+07</td>\n",
       "      <td>-3.188094e+06</td>\n",
       "      <td>48.8491427</td>\n",
       "      <td>2.3397118</td>\n",
       "    </tr>\n",
       "    <tr>\n",
       "      <th>40</th>\n",
       "      <td>Hotel Rekord</td>\n",
       "      <td>Muntaner 352 Sarri St Gervasi 08021 Barcelona ...</td>\n",
       "      <td>Hotel Record</td>\n",
       "      <td>[Viale Catalani, 2, 47838 Riccione Rimini, Italy]</td>\n",
       "      <td>4.400847e+07</td>\n",
       "      <td>1.265342e+07</td>\n",
       "      <td>41.3985449</td>\n",
       "      <td>2.1438237</td>\n",
       "    </tr>\n",
       "  </tbody>\n",
       "</table>\n",
       "</div>"
      ],
      "text/plain": [
       "        Hotel_Name                                      Hotel_Address  \\\n",
       "0             Le A          4 rue d Artois 8th arr 75008 Paris France   \n",
       "1           Arioso        7 rue d Argenson 8th arr 75008 Paris France   \n",
       "2           Arioso        7 rue d Argenson 8th arr 75008 Paris France   \n",
       "3           Arioso        7 rue d Argenson 8th arr 75008 Paris France   \n",
       "4           Arioso        7 rue d Argenson 8th arr 75008 Paris France   \n",
       "5           Arioso        7 rue d Argenson 8th arr 75008 Paris France   \n",
       "6           Arioso        7 rue d Argenson 8th arr 75008 Paris France   \n",
       "7               41  41 Buckingham Palace Road Westminster Borough ...   \n",
       "8               41  41 Buckingham Palace Road Westminster Borough ...   \n",
       "9             Cram           Aribau 54 Eixample 08011 Barcelona Spain   \n",
       "10            Le A          4 rue d Artois 8th arr 75008 Paris France   \n",
       "11            Le A          4 rue d Artois 8th arr 75008 Paris France   \n",
       "12              41  41 Buckingham Palace Road Westminster Borough ...   \n",
       "13              41  41 Buckingham Palace Road Westminster Borough ...   \n",
       "14            Cram           Aribau 54 Eixample 08011 Barcelona Spain   \n",
       "15          Arioso        7 rue d Argenson 8th arr 75008 Paris France   \n",
       "16     Hotel Arena   s Gravesandestraat 55 Oost 1092 AA Amsterdam ...   \n",
       "17    Hotel Auriga  Via G B Pirelli 7 Central Station 20124 Milan ...   \n",
       "18     Hotel Arena   s Gravesandestraat 55 Oost 1092 AA Amsterdam ...   \n",
       "19    The Victoria  10 West Temple Sheen London SW14 7RT United Ki...   \n",
       "20         MiHotel  Via Dei Fontanili 26 Ripamonti Corvetto 20141 ...   \n",
       "21       The Toren  Keizersgracht 164 Amsterdam City Center 1015 C...   \n",
       "22      Park Hotel  Stadhouderskade 25 Oud Zuid 1071 ZD Amsterdam ...   \n",
       "23       Le Marcel   11 rue du 8 Mai 1945 10th arr 75010 Paris France   \n",
       "24        Nu Hotel       Via Feltre 19 B Citt Studi 20132 Milan Italy   \n",
       "25       Avo Hotel  82 Dalston Lane Hackney London E8 3AH United K...   \n",
       "26   Hotel Marconi  Via Fabio Filzi 3 Central Station 20124 Milan ...   \n",
       "27         The Ned  Poultry 27 City of London London EC2R 8AJ Unit...   \n",
       "28         Bassano      15 Rue de Bassano 16th arr 75016 Paris France   \n",
       "29         The Ned  Poultry 27 City of London London EC2R 8AJ Unit...   \n",
       "30     Hotel Monge            55 rue Monge 5th arr 75005 Paris France   \n",
       "31        Hotel 55    Hanger Lane Ealing London W5 3HL United Kingdom   \n",
       "32     The Academy  21 Gower Street Camden London WC1E 6HG United ...   \n",
       "33    Hotel Wagner  Via M Buonarroti 13 Fiera Milano City 20149 Mi...   \n",
       "34   Hotel Manzoni  Via Santo Spirito 20 Milan City Center 20121 M...   \n",
       "35     Hotel Dieci  Largo Rio de Janeiro 12 Citt Studi 20133 Milan...   \n",
       "36  H tel de Lille         40 rue de Lille 7th arr 75007 Paris France   \n",
       "37  H tel de Lille         40 rue de Lille 7th arr 75007 Paris France   \n",
       "38  Hotel La Place  17 Nottingham Place Westminster Borough London...   \n",
       "39        Le Senat     10 rue de Vaugirard 6th arr 75006 Paris France   \n",
       "40    Hotel Rekord  Muntaner 352 Sarri St Gervasi 08021 Barcelona ...   \n",
       "\n",
       "              name                                            address  \\\n",
       "0            Le 24  [Cours du commerce St André, 59-61 Rue Saint-A...   \n",
       "1            Argos  [Unit 2, Rheidol Retail Park, Aberystwyth, Cer...   \n",
       "2            Argos  [Unit 2, Jolly Sailor Retail Park, Tamworth, S...   \n",
       "3            Argos  [30 North St, Sudbury, Suffolk CO10 1RD, Unite...   \n",
       "4            Argos  [4 Berkeley Vale, Falmouth, Cornwall TR11 3PH,...   \n",
       "5            Argos  [Unit 5, The Broadclose, Peterlee, Co. Durham ...   \n",
       "6            Argos  [Orchard Centre, 30 Bosley's Orchard, Didcot O...   \n",
       "7               Me     [Carrer de París, 162, 08036 Barcelona, Spain]   \n",
       "8                J     [218 W End Ln, London NW6 1UU, United Kingdom]   \n",
       "9             Eram  [CC Alma, 5 Rue du Bosphore, 35200 Rennes, Fra...   \n",
       "10           Le 4B  [189 Rue Gallieni, 92100 Boulogne-Billancourt,...   \n",
       "11          Le Raj  [199 Camp Hill Rd, Nuneaton, Warwickshire CV10...   \n",
       "12              B4  [8 Square Sainte-Croix de la Bretonnerie, 7500...   \n",
       "13              O2  [54/56 Fargate, Sheffield, South Yorkshire S1 ...   \n",
       "14            Sham  [8 Place du Nombre d'Or, 34000 Montpellier, Fr...   \n",
       "15           Argos  [32-33 East St, Taunton, Somerset TA1 3LS, Uni...   \n",
       "16     Hotel Amina                [4 Rue Artois, 75008 Paris, France]   \n",
       "17    Hotel Aurora  [Piazza S. Maria delle Grazie, 1, 71019 Vieste...   \n",
       "18       Hotel Rea  [Via Nazionale Puglie, 2, Casalnuovo di Napoli...   \n",
       "19    The Victoria  [46 Grosvenor Gardens, Westminster, London SW1...   \n",
       "20         MIRATEL  [25 Boulevard de Larramet, 31300 Toulouse, Fra...   \n",
       "21       The Store     [10 Rue de la Chalotais, 35000 Rennes, France]   \n",
       "22      Cara Hotel      [No.18, 47 & 84 France, Phnom Penh, Cambodia]   \n",
       "23      The Marcel          [5 Rue Lazare Carnot, 34200 Sète, France]   \n",
       "24       Sun Hotel  [Sun St, Canterbury, Kent CT1 2HX, United King...   \n",
       "25       ABC Hotel  [Piazza Don Eugenio Leoni, 25-27, 46100 Mantov...   \n",
       "26   Hotel Marconi  [Piazza Dante Alighieri, 3, 06081 Santa Maria ...   \n",
       "27         The Met  [Market St, Bury, Lancashire BL9 0BW, United K...   \n",
       "28           Basso           [Coolsingel 123, Rotterdam, Netherlands]   \n",
       "29         The End  [18 W Central St, London WC1A 1JJ, United King...   \n",
       "30     Hotel Ronce    [Strasse Ronc, 1, 39046 Ortisei Bolzano, Italy]   \n",
       "31        Hotel CN     [Av Langreo, 0, 33180 Noreña, Asturias, Spain]   \n",
       "32     The Academy  [Great Darkgate St, Aberystwyth, Dyfed SY23 1D...   \n",
       "33    Hotel Walder       [Via Vorland, 7, 39017 Scena Bolzano, Italy]   \n",
       "34   Hotel Marconi  [Piazza Dante Alighieri, 3, 06081 Santa Maria ...   \n",
       "35      Hotel Dieu         [1 Place de l'Hôpital, 69002 Lyon, France]   \n",
       "36  Hotel de Ville   [Place Napoléon, 85000 La Roche-sur-Yon, France]   \n",
       "37  Hôtel de Ville  [3 Rue de l'Hôtel de ville, 17000 Rochelle (La...   \n",
       "38   Hotel La Pace  [Via Lungo Savio, 4, 47021 Bagno di Romagna Fo...   \n",
       "39         Le Sept  [5 Hunter Square, Edinburgh, Midlothian EH1 1Q...   \n",
       "40    Hotel Record  [Viale Catalani, 2, 47838 Riccione Rimini, Italy]   \n",
       "\n",
       "        latitude     longitude         lat         lng  \n",
       "0   4.885356e+07  2.338949e+06  48.8723844   2.3088663  \n",
       "1   5.241303e+02 -4.079567e+01  48.8746066   2.3167195  \n",
       "2   5.262839e+07 -1.708070e+06  48.8746066   2.3167195  \n",
       "3   5.204088e+07  7.299790e+05  48.8746066   2.3167195  \n",
       "4   5.015442e+07 -5.074285e+06  48.8746066   2.3167195  \n",
       "5   5.475871e+07 -1.333895e+06  48.8746066   2.3167195  \n",
       "6   5.160694e+07 -1.238888e+06  48.8746066   2.3167195  \n",
       "7   4.139201e+07  2.151599e+06  51.4981471  -0.1436492  \n",
       "8   5.155272e+07 -1.894860e+05  51.4981471  -0.1436492  \n",
       "9   4.808312e+07 -1.679306e+06  41.3880549   2.1599602  \n",
       "10  4.883574e+07  2.233486e+06  48.8723844   2.3088663  \n",
       "11  5.253637e+02 -1.509846e+01  48.8723844   2.3088663  \n",
       "12  4.885825e+07  2.354766e+06  51.4981471  -0.1436492  \n",
       "13  5.338171e+07 -1.469463e+06  51.4981471  -0.1436492  \n",
       "14  4.360792e+07  3.887293e+06  41.3880549   2.1599602  \n",
       "15  5.101511e+07 -3.097957e+06  48.8746066   2.3167195  \n",
       "16  4.887253e+07  2.308759e+06  52.3605759   4.9159683  \n",
       "17  4.188007e+07  1.617436e+07  45.4858877   9.2042827  \n",
       "18  4.090122e+07  1.434475e+07  52.3605759   4.9159683  \n",
       "19  5.149156e+07 -1.423280e+05  51.4611219  -0.2756216  \n",
       "20  4.359256e+07  1.416845e+06  45.4405621   9.1921165  \n",
       "21  4.338794e+07 -1.663205e+06  52.3758754   4.8859642  \n",
       "22  1.158112e+01  1.049199e+02  52.3613814   4.8832594  \n",
       "23  4.340260e+07  3.698179e+06  48.8761376   2.3572681  \n",
       "24  5.127953e+07  1.080852e+06  45.4911829   9.2393614  \n",
       "25  4.515826e+07  1.078338e+07  51.5460628  -0.0700817  \n",
       "26  4.305932e+07  1.258552e+07  45.4868744   9.2018407  \n",
       "27  5.359314e+02 -2.297290e+01  51.5135929  -0.0907833  \n",
       "28  5.191913e+07  4.479719e+06  48.8690596   2.2971078  \n",
       "29  5.151667e+07 -1.252710e+05  51.5135929  -0.0907833  \n",
       "30  4.656985e+07  1.166825e+07  48.8447938   2.3524462  \n",
       "31  4.339087e+07 -5.702343e+06  51.5213303  -0.2915052  \n",
       "32  5.241402e+07 -4.086412e+06  51.5205441  -0.1308091  \n",
       "33  4.668590e+07  1.119052e+07  45.4684949   9.1550355  \n",
       "34  4.305932e+07  1.258552e+07   45.470238    9.195347  \n",
       "35  4.575927e+07  4.836106e+06  45.4738012   9.2239702  \n",
       "36  4.667142e+07 -1.430081e+06  48.8585626   2.3299138  \n",
       "37  4.615209e+07 -1.150528e+06  48.8585626   2.3299138  \n",
       "38  4.383403e+07  1.196032e+07  51.5215257  -0.1533039  \n",
       "39  5.594962e+07 -3.188094e+06  48.8491427   2.3397118  \n",
       "40  4.400847e+07  1.265342e+07  41.3985449   2.1438237  "
      ]
     },
     "execution_count": 127,
     "metadata": {},
     "output_type": "execute_result"
    }
   ],
   "source": [
    "df_google_hotels_norm_levenshtein.filter((df_google_hotels_norm_levenshtein.latitude < -90 ) |\n",
    "                                        (df_google_hotels_norm_levenshtein.latitude > 90) |\n",
    "                                        (df_google_hotels_norm_levenshtein.longitude < -90) |\n",
    "                                        (df_google_hotels_norm_levenshtein.longitude > 90))\\\n",
    "    .select(['Hotel_Name', 'Hotel_Address', 'name', 'address', 'latitude', 'longitude', 'lat', 'lng'])\\\n",
    "    .toPandas()"
   ]
  },
  {
   "cell_type": "markdown",
   "metadata": {
    "editable": true
   },
   "source": [
    "All these rows seem to be false positives. We can safely delete them."
   ]
  },
  {
   "cell_type": "code",
   "execution_count": 99,
   "metadata": {
    "editable": true
   },
   "outputs": [],
   "source": [
    "df_google_hotels_norm_levenshtein = df_google_hotels_norm_levenshtein.filter((df_google_hotels_norm_levenshtein.latitude < 90 ) &\n",
    "                                        (df_google_hotels_norm_levenshtein.latitude > -90) &\n",
    "                                        (df_google_hotels_norm_levenshtein.longitude < 90) &\n",
    "                                        (df_google_hotels_norm_levenshtein.longitude > -90))"
   ]
  },
  {
   "cell_type": "code",
   "execution_count": 100,
   "metadata": {
    "editable": true
   },
   "outputs": [
    {
     "data": {
      "text/plain": [
       "2377"
      ]
     },
     "execution_count": 100,
     "metadata": {},
     "output_type": "execute_result"
    }
   ],
   "source": [
    "df_google_hotels_norm_levenshtein.count()"
   ]
  },
  {
   "cell_type": "code",
   "execution_count": 101,
   "metadata": {
    "editable": true
   },
   "outputs": [
    {
     "data": {
      "text/plain": [
       "0"
      ]
     },
     "execution_count": 101,
     "metadata": {},
     "output_type": "execute_result"
    }
   ],
   "source": [
    "df_google_hotels_norm_levenshtein.filter((df_google_hotels_norm_levenshtein.latitude < -90 ) |\n",
    "                                        (df_google_hotels_norm_levenshtein.latitude > 90) |\n",
    "                                        (df_google_hotels_norm_levenshtein.longitude < -90) |\n",
    "                                        (df_google_hotels_norm_levenshtein.longitude > 90)).count()"
   ]
  },
  {
   "cell_type": "markdown",
   "metadata": {
    "editable": true
   },
   "source": [
    "Step 10. Now, we are ready to correct the false positives prolem from step 6. We create a new column 'distance' using the latitude and longitude columns (from the reviews data set), and the lat and lng columns (from the google local data set). We do this using the geodesic distance using the geopy library."
   ]
  },
  {
   "cell_type": "code",
   "execution_count": 102,
   "metadata": {
    "editable": true
   },
   "outputs": [],
   "source": [
    "@F.udf(returnType=DoubleType())\n",
    "def calculate_geodesic_distance(lat, lng, latitude, longitude):\n",
    "    \"\"\" Calculates the distance between two sets of coordinates using the Geodesic distance\"\"\"\n",
    "    return distance.distance((lat, lng), (latitude, longitude)).km\n",
    "    \n",
    "from geopy import distance\n",
    "df_google_hotels_distance = df_google_hotels_norm_levenshtein.withColumn(\n",
    "    'distance', calculate_geodesic_distance('lat', 'lng', 'latitude', 'longitude'))"
   ]
  },
  {
   "cell_type": "code",
   "execution_count": 147,
   "metadata": {
    "editable": true
   },
   "outputs": [
    {
     "data": {
      "text/plain": [
       "16213.471559599755"
      ]
     },
     "execution_count": 147,
     "metadata": {},
     "output_type": "execute_result"
    }
   ],
   "source": [
    "# Testing\n",
    "distance.distance(48,2.3,51,-0.9).km"
   ]
  },
  {
   "cell_type": "code",
   "execution_count": 35,
   "metadata": {
    "editable": true
   },
   "outputs": [
    {
     "data": {
      "text/plain": [
       "0"
      ]
     },
     "execution_count": 35,
     "metadata": {},
     "output_type": "execute_result"
    }
   ],
   "source": [
    "df_google_hotels_distance.filter(F.col('distance').isNull()).count()"
   ]
  },
  {
   "cell_type": "code",
   "execution_count": 163,
   "metadata": {
    "editable": true
   },
   "outputs": [
    {
     "data": {
      "text/html": [
       "<div>\n",
       "<style scoped>\n",
       "    .dataframe tbody tr th:only-of-type {\n",
       "        vertical-align: middle;\n",
       "    }\n",
       "\n",
       "    .dataframe tbody tr th {\n",
       "        vertical-align: top;\n",
       "    }\n",
       "\n",
       "    .dataframe thead th {\n",
       "        text-align: right;\n",
       "    }\n",
       "</style>\n",
       "<table border=\"1\" class=\"dataframe\">\n",
       "  <thead>\n",
       "    <tr style=\"text-align: right;\">\n",
       "      <th></th>\n",
       "      <th>FridayHours</th>\n",
       "      <th>Hotel_Address</th>\n",
       "      <th>Hotel_Name</th>\n",
       "      <th>MondayHours</th>\n",
       "      <th>NormalisedHotelName</th>\n",
       "      <th>Normalised_Hotel_Name</th>\n",
       "      <th>SaturdayHours</th>\n",
       "      <th>SundayHours</th>\n",
       "      <th>ThursdayHours</th>\n",
       "      <th>TuesdayHours</th>\n",
       "      <th>...</th>\n",
       "      <th>country</th>\n",
       "      <th>gPlusPlaceId</th>\n",
       "      <th>latitude</th>\n",
       "      <th>longitude</th>\n",
       "      <th>name</th>\n",
       "      <th>phone</th>\n",
       "      <th>price</th>\n",
       "      <th>lat</th>\n",
       "      <th>lng</th>\n",
       "      <th>distance</th>\n",
       "    </tr>\n",
       "  </thead>\n",
       "  <tbody>\n",
       "    <tr>\n",
       "      <th>0</th>\n",
       "      <td>8:00--10:00 pm</td>\n",
       "      <td>4 rue d Artois 8th arr 75008 Paris France</td>\n",
       "      <td>Le A</td>\n",
       "      <td>8:00--10:00 pm</td>\n",
       "      <td>leon</td>\n",
       "      <td>le a</td>\n",
       "      <td>10:00 am--10:00 pm</td>\n",
       "      <td>11:00 am--7:00 pm</td>\n",
       "      <td>8:00--10:00 pm</td>\n",
       "      <td>8:00--10:00 pm</td>\n",
       "      <td>...</td>\n",
       "      <td>United Kingdom</td>\n",
       "      <td>103493159103476742775</td>\n",
       "      <td>51.506552</td>\n",
       "      <td>-0.099553</td>\n",
       "      <td>Leon</td>\n",
       "      <td>020 7620 0035</td>\n",
       "      <td>None</td>\n",
       "      <td>48.8723844</td>\n",
       "      <td>2.3088663</td>\n",
       "      <td>339.711343</td>\n",
       "    </tr>\n",
       "    <tr>\n",
       "      <th>1</th>\n",
       "      <td>None</td>\n",
       "      <td>4 rue d Artois 8th arr 75008 Paris France</td>\n",
       "      <td>Le A</td>\n",
       "      <td>None</td>\n",
       "      <td>leo</td>\n",
       "      <td>le a</td>\n",
       "      <td>None</td>\n",
       "      <td>None</td>\n",
       "      <td>None</td>\n",
       "      <td>None</td>\n",
       "      <td>...</td>\n",
       "      <td>France</td>\n",
       "      <td>103937408246271125915</td>\n",
       "      <td>43.693919</td>\n",
       "      <td>7.282358</td>\n",
       "      <td>Leo</td>\n",
       "      <td>None</td>\n",
       "      <td>None</td>\n",
       "      <td>48.8723844</td>\n",
       "      <td>2.3088663</td>\n",
       "      <td>691.213970</td>\n",
       "    </tr>\n",
       "    <tr>\n",
       "      <th>2</th>\n",
       "      <td>None</td>\n",
       "      <td>4 rue d Artois 8th arr 75008 Paris France</td>\n",
       "      <td>Le A</td>\n",
       "      <td>None</td>\n",
       "      <td>hema</td>\n",
       "      <td>le a</td>\n",
       "      <td>None</td>\n",
       "      <td>None</td>\n",
       "      <td>None</td>\n",
       "      <td>None</td>\n",
       "      <td>...</td>\n",
       "      <td>Netherlands</td>\n",
       "      <td>107968499121084428167</td>\n",
       "      <td>53.175012</td>\n",
       "      <td>5.418390</td>\n",
       "      <td>HEMA</td>\n",
       "      <td>0517 430 350</td>\n",
       "      <td>None</td>\n",
       "      <td>48.8723844</td>\n",
       "      <td>2.3088663</td>\n",
       "      <td>525.911358</td>\n",
       "    </tr>\n",
       "    <tr>\n",
       "      <th>3</th>\n",
       "      <td>None</td>\n",
       "      <td>4 rue d Artois 8th arr 75008 Paris France</td>\n",
       "      <td>Le A</td>\n",
       "      <td>None</td>\n",
       "      <td>lara</td>\n",
       "      <td>le a</td>\n",
       "      <td>None</td>\n",
       "      <td>None</td>\n",
       "      <td>None</td>\n",
       "      <td>None</td>\n",
       "      <td>...</td>\n",
       "      <td>Spain</td>\n",
       "      <td>106999805727842219797</td>\n",
       "      <td>38.435366</td>\n",
       "      <td>-0.840959</td>\n",
       "      <td>Lara</td>\n",
       "      <td>965 47 29 88</td>\n",
       "      <td>None</td>\n",
       "      <td>48.8723844</td>\n",
       "      <td>2.3088663</td>\n",
       "      <td>1186.840223</td>\n",
       "    </tr>\n",
       "    <tr>\n",
       "      <th>4</th>\n",
       "      <td>None</td>\n",
       "      <td>4 rue d Artois 8th arr 75008 Paris France</td>\n",
       "      <td>Le A</td>\n",
       "      <td>None</td>\n",
       "      <td>le m</td>\n",
       "      <td>le a</td>\n",
       "      <td>None</td>\n",
       "      <td>None</td>\n",
       "      <td>None</td>\n",
       "      <td>None</td>\n",
       "      <td>...</td>\n",
       "      <td>France</td>\n",
       "      <td>113922546541525201915</td>\n",
       "      <td>48.972683</td>\n",
       "      <td>2.042885</td>\n",
       "      <td>Le M</td>\n",
       "      <td>01 39 27 62 40</td>\n",
       "      <td>None</td>\n",
       "      <td>48.8723844</td>\n",
       "      <td>2.3088663</td>\n",
       "      <td>22.458158</td>\n",
       "    </tr>\n",
       "    <tr>\n",
       "      <th>5</th>\n",
       "      <td>None</td>\n",
       "      <td>4 rue d Artois 8th arr 75008 Paris France</td>\n",
       "      <td>Le A</td>\n",
       "      <td>None</td>\n",
       "      <td>ll as</td>\n",
       "      <td>le a</td>\n",
       "      <td>None</td>\n",
       "      <td>None</td>\n",
       "      <td>None</td>\n",
       "      <td>None</td>\n",
       "      <td>...</td>\n",
       "      <td>France</td>\n",
       "      <td>116478106792243581969</td>\n",
       "      <td>48.700800</td>\n",
       "      <td>2.483921</td>\n",
       "      <td>Ll'as</td>\n",
       "      <td>01 69 83 91 37</td>\n",
       "      <td>None</td>\n",
       "      <td>48.8723844</td>\n",
       "      <td>2.3088663</td>\n",
       "      <td>23.012264</td>\n",
       "    </tr>\n",
       "    <tr>\n",
       "      <th>6</th>\n",
       "      <td>9:00 am--6:00 pm</td>\n",
       "      <td>4 rue d Artois 8th arr 75008 Paris France</td>\n",
       "      <td>Le A</td>\n",
       "      <td>9:00 am--6:00 pm</td>\n",
       "      <td>hema</td>\n",
       "      <td>le a</td>\n",
       "      <td>9:00 am--6:00 pm</td>\n",
       "      <td>Closed</td>\n",
       "      <td>9:00 am--9:00 pm</td>\n",
       "      <td>9:00 am--6:00 pm</td>\n",
       "      <td>...</td>\n",
       "      <td>Netherlands</td>\n",
       "      <td>106764406647303728656</td>\n",
       "      <td>51.958509</td>\n",
       "      <td>5.897844</td>\n",
       "      <td>Hema</td>\n",
       "      <td>026 323 1663</td>\n",
       "      <td>None</td>\n",
       "      <td>48.8723844</td>\n",
       "      <td>2.3088663</td>\n",
       "      <td>427.577360</td>\n",
       "    </tr>\n",
       "    <tr>\n",
       "      <th>7</th>\n",
       "      <td>None</td>\n",
       "      <td>4 rue d Artois 8th arr 75008 Paris France</td>\n",
       "      <td>Le A</td>\n",
       "      <td>None</td>\n",
       "      <td>le jay</td>\n",
       "      <td>le a</td>\n",
       "      <td>None</td>\n",
       "      <td>None</td>\n",
       "      <td>None</td>\n",
       "      <td>None</td>\n",
       "      <td>...</td>\n",
       "      <td>France</td>\n",
       "      <td>105647946029563375724</td>\n",
       "      <td>46.962910</td>\n",
       "      <td>2.921518</td>\n",
       "      <td>Le Jay</td>\n",
       "      <td>02 48 74 18 53</td>\n",
       "      <td>None</td>\n",
       "      <td>48.8723844</td>\n",
       "      <td>2.3088663</td>\n",
       "      <td>217.192027</td>\n",
       "    </tr>\n",
       "    <tr>\n",
       "      <th>8</th>\n",
       "      <td>None</td>\n",
       "      <td>4 rue d Artois 8th arr 75008 Paris France</td>\n",
       "      <td>Le A</td>\n",
       "      <td>None</td>\n",
       "      <td>hema</td>\n",
       "      <td>le a</td>\n",
       "      <td>None</td>\n",
       "      <td>None</td>\n",
       "      <td>None</td>\n",
       "      <td>None</td>\n",
       "      <td>...</td>\n",
       "      <td>Netherlands</td>\n",
       "      <td>109900589358081101370</td>\n",
       "      <td>51.847259</td>\n",
       "      <td>5.863737</td>\n",
       "      <td>HEMA</td>\n",
       "      <td>024 322 0557</td>\n",
       "      <td>None</td>\n",
       "      <td>48.8723844</td>\n",
       "      <td>2.3088663</td>\n",
       "      <td>416.417559</td>\n",
       "    </tr>\n",
       "    <tr>\n",
       "      <th>9</th>\n",
       "      <td>None</td>\n",
       "      <td>4 rue d Artois 8th arr 75008 Paris France</td>\n",
       "      <td>Le A</td>\n",
       "      <td>None</td>\n",
       "      <td>hema</td>\n",
       "      <td>le a</td>\n",
       "      <td>None</td>\n",
       "      <td>None</td>\n",
       "      <td>None</td>\n",
       "      <td>None</td>\n",
       "      <td>...</td>\n",
       "      <td>Netherlands</td>\n",
       "      <td>116396317554914703807</td>\n",
       "      <td>52.385932</td>\n",
       "      <td>6.276086</td>\n",
       "      <td>HEMA</td>\n",
       "      <td>0572 351 273</td>\n",
       "      <td>None</td>\n",
       "      <td>48.8723844</td>\n",
       "      <td>2.3088663</td>\n",
       "      <td>481.045952</td>\n",
       "    </tr>\n",
       "  </tbody>\n",
       "</table>\n",
       "<p>10 rows × 23 columns</p>\n",
       "</div>"
      ],
      "text/plain": [
       "        FridayHours                              Hotel_Address Hotel_Name  \\\n",
       "0    8:00--10:00 pm  4 rue d Artois 8th arr 75008 Paris France       Le A   \n",
       "1              None  4 rue d Artois 8th arr 75008 Paris France       Le A   \n",
       "2              None  4 rue d Artois 8th arr 75008 Paris France       Le A   \n",
       "3              None  4 rue d Artois 8th arr 75008 Paris France       Le A   \n",
       "4              None  4 rue d Artois 8th arr 75008 Paris France       Le A   \n",
       "5              None  4 rue d Artois 8th arr 75008 Paris France       Le A   \n",
       "6  9:00 am--6:00 pm  4 rue d Artois 8th arr 75008 Paris France       Le A   \n",
       "7              None  4 rue d Artois 8th arr 75008 Paris France       Le A   \n",
       "8              None  4 rue d Artois 8th arr 75008 Paris France       Le A   \n",
       "9              None  4 rue d Artois 8th arr 75008 Paris France       Le A   \n",
       "\n",
       "        MondayHours NormalisedHotelName Normalised_Hotel_Name  \\\n",
       "0    8:00--10:00 pm                leon                  le a   \n",
       "1              None                 leo                  le a   \n",
       "2              None                hema                  le a   \n",
       "3              None                lara                  le a   \n",
       "4              None                le m                  le a   \n",
       "5              None               ll as                  le a   \n",
       "6  9:00 am--6:00 pm                hema                  le a   \n",
       "7              None              le jay                  le a   \n",
       "8              None                hema                  le a   \n",
       "9              None                hema                  le a   \n",
       "\n",
       "        SaturdayHours        SundayHours     ThursdayHours      TuesdayHours  \\\n",
       "0  10:00 am--10:00 pm  11:00 am--7:00 pm    8:00--10:00 pm    8:00--10:00 pm   \n",
       "1                None               None              None              None   \n",
       "2                None               None              None              None   \n",
       "3                None               None              None              None   \n",
       "4                None               None              None              None   \n",
       "5                None               None              None              None   \n",
       "6    9:00 am--6:00 pm             Closed  9:00 am--9:00 pm  9:00 am--6:00 pm   \n",
       "7                None               None              None              None   \n",
       "8                None               None              None              None   \n",
       "9                None               None              None              None   \n",
       "\n",
       "      ...              country           gPlusPlaceId   latitude longitude  \\\n",
       "0     ...       United Kingdom  103493159103476742775  51.506552 -0.099553   \n",
       "1     ...               France  103937408246271125915  43.693919  7.282358   \n",
       "2     ...          Netherlands  107968499121084428167  53.175012  5.418390   \n",
       "3     ...                Spain  106999805727842219797  38.435366 -0.840959   \n",
       "4     ...               France  113922546541525201915  48.972683  2.042885   \n",
       "5     ...               France  116478106792243581969  48.700800  2.483921   \n",
       "6     ...          Netherlands  106764406647303728656  51.958509  5.897844   \n",
       "7     ...               France  105647946029563375724  46.962910  2.921518   \n",
       "8     ...          Netherlands  109900589358081101370  51.847259  5.863737   \n",
       "9     ...          Netherlands  116396317554914703807  52.385932  6.276086   \n",
       "\n",
       "     name           phone  price         lat        lng     distance  \n",
       "0    Leon   020 7620 0035   None  48.8723844  2.3088663   339.711343  \n",
       "1     Leo            None   None  48.8723844  2.3088663   691.213970  \n",
       "2    HEMA    0517 430 350   None  48.8723844  2.3088663   525.911358  \n",
       "3    Lara    965 47 29 88   None  48.8723844  2.3088663  1186.840223  \n",
       "4    Le M  01 39 27 62 40   None  48.8723844  2.3088663    22.458158  \n",
       "5   Ll'as  01 69 83 91 37   None  48.8723844  2.3088663    23.012264  \n",
       "6    Hema    026 323 1663   None  48.8723844  2.3088663   427.577360  \n",
       "7  Le Jay  02 48 74 18 53   None  48.8723844  2.3088663   217.192027  \n",
       "8    HEMA    024 322 0557   None  48.8723844  2.3088663   416.417559  \n",
       "9    HEMA    0572 351 273   None  48.8723844  2.3088663   481.045952  \n",
       "\n",
       "[10 rows x 23 columns]"
      ]
     },
     "execution_count": 163,
     "metadata": {},
     "output_type": "execute_result"
    }
   ],
   "source": [
    "df_google_hotels_distance.limit(10).toPandas()"
   ]
  },
  {
   "cell_type": "markdown",
   "metadata": {
    "editable": true
   },
   "source": [
    "We can look at all hotels which have a distance 10 between their data in the 2 data sets.Exploring the distance values showed that most of the true positives have distance < 0.3 between the respective latitudes and longitudes from the two data sets."
   ]
  },
  {
   "cell_type": "code",
   "execution_count": 172,
   "metadata": {
    "editable": true
   },
   "outputs": [],
   "source": [
    "df_google_hotels_distance.filter(F.col('distance') < 10)\\\n",
    ".select(['Hotel_Name', 'Hotel_Address', 'name', 'address', 'distance', 'latitude', 'longitude', 'lat', 'lng'])\\\n",
    ".toPandas().to_csv('distance_test.csv')"
   ]
  },
  {
   "cell_type": "code",
   "execution_count": 103,
   "metadata": {
    "editable": true
   },
   "outputs": [],
   "source": [
    "df_google_hotels_distance = df_google_hotels_distance.filter(F.col('distance') < 0.58)"
   ]
  },
  {
   "cell_type": "code",
   "execution_count": 25,
   "metadata": {
    "editable": true
   },
   "outputs": [],
   "source": [
    "#df_google_hotels_distance = df_google_hotels_distance.filter(F.col('distance') < 0.3)"
   ]
  },
  {
   "cell_type": "code",
   "execution_count": null,
   "metadata": {
    "editable": true
   },
   "outputs": [],
   "source": [
    "#df_google_hotels_distance.filter(~F.col('distance').isin([0.427064259369519, 0.308453755411568, 0.219268485234889])).count()"
   ]
  },
  {
   "cell_type": "code",
   "execution_count": 104,
   "metadata": {
    "editable": true
   },
   "outputs": [],
   "source": [
    "df_google_hotels_distance = df_google_hotels_distance.filter(~F.col('distance').isin([0.427064259369519, 0.308453755411568, 0.219268485234889]))"
   ]
  },
  {
   "cell_type": "code",
   "execution_count": 105,
   "metadata": {
    "editable": true
   },
   "outputs": [
    {
     "data": {
      "text/plain": [
       "462"
      ]
     },
     "execution_count": 105,
     "metadata": {},
     "output_type": "execute_result"
    }
   ],
   "source": [
    "df_google_hotels_distance.count()"
   ]
  },
  {
   "cell_type": "markdown",
   "metadata": {
    "editable": true
   },
   "source": [
    "Check for and drop duplicates"
   ]
  },
  {
   "cell_type": "code",
   "execution_count": 49,
   "metadata": {
    "editable": true
   },
   "outputs": [
    {
     "data": {
      "text/html": [
       "<div>\n",
       "<style scoped>\n",
       "    .dataframe tbody tr th:only-of-type {\n",
       "        vertical-align: middle;\n",
       "    }\n",
       "\n",
       "    .dataframe tbody tr th {\n",
       "        vertical-align: top;\n",
       "    }\n",
       "\n",
       "    .dataframe thead th {\n",
       "        text-align: right;\n",
       "    }\n",
       "</style>\n",
       "<table border=\"1\" class=\"dataframe\">\n",
       "  <thead>\n",
       "    <tr style=\"text-align: right;\">\n",
       "      <th></th>\n",
       "      <th>Hotel_Name</th>\n",
       "      <th>lat</th>\n",
       "      <th>lng</th>\n",
       "      <th>count</th>\n",
       "    </tr>\n",
       "  </thead>\n",
       "  <tbody>\n",
       "    <tr>\n",
       "      <th>0</th>\n",
       "      <td>Relais Du Louvre</td>\n",
       "      <td>48.8592264</td>\n",
       "      <td>2.340996</td>\n",
       "      <td>2</td>\n",
       "    </tr>\n",
       "    <tr>\n",
       "      <th>1</th>\n",
       "      <td>Ayre Hotel Rosell n</td>\n",
       "      <td>41.4047382</td>\n",
       "      <td>2.1727127</td>\n",
       "      <td>2</td>\n",
       "    </tr>\n",
       "    <tr>\n",
       "      <th>2</th>\n",
       "      <td>Hotel Berna</td>\n",
       "      <td>45.4826692</td>\n",
       "      <td>9.2034371</td>\n",
       "      <td>2</td>\n",
       "    </tr>\n",
       "    <tr>\n",
       "      <th>3</th>\n",
       "      <td>Austria Trend Hotel Europa Wien</td>\n",
       "      <td>48.2062103</td>\n",
       "      <td>16.3710387</td>\n",
       "      <td>2</td>\n",
       "    </tr>\n",
       "  </tbody>\n",
       "</table>\n",
       "</div>"
      ],
      "text/plain": [
       "                        Hotel_Name         lat         lng  count\n",
       "0                 Relais Du Louvre  48.8592264    2.340996      2\n",
       "1              Ayre Hotel Rosell n  41.4047382   2.1727127      2\n",
       "2                      Hotel Berna  45.4826692   9.2034371      2\n",
       "3  Austria Trend Hotel Europa Wien  48.2062103  16.3710387      2"
      ]
     },
     "execution_count": 49,
     "metadata": {},
     "output_type": "execute_result"
    }
   ],
   "source": [
    "df_google_hotels_distance \\\n",
    "    .groupby(['Hotel_Name', 'lat', 'lng']) \\\n",
    "    .count() \\\n",
    "    .where('count > 1') \\\n",
    "    .sort('count', ascending=False) \\\n",
    "    .limit(8).toPandas()"
   ]
  },
  {
   "cell_type": "code",
   "execution_count": 53,
   "metadata": {
    "editable": true
   },
   "outputs": [
    {
     "data": {
      "text/html": [
       "<div>\n",
       "<style scoped>\n",
       "    .dataframe tbody tr th:only-of-type {\n",
       "        vertical-align: middle;\n",
       "    }\n",
       "\n",
       "    .dataframe tbody tr th {\n",
       "        vertical-align: top;\n",
       "    }\n",
       "\n",
       "    .dataframe thead th {\n",
       "        text-align: right;\n",
       "    }\n",
       "</style>\n",
       "<table border=\"1\" class=\"dataframe\">\n",
       "  <thead>\n",
       "    <tr style=\"text-align: right;\">\n",
       "      <th></th>\n",
       "      <th>Hotel_Name</th>\n",
       "      <th>address</th>\n",
       "      <th>Hotel_Address</th>\n",
       "      <th>name</th>\n",
       "    </tr>\n",
       "  </thead>\n",
       "  <tbody>\n",
       "    <tr>\n",
       "      <th>0</th>\n",
       "      <td>Hotel Berna</td>\n",
       "      <td>[Via Napo Torriani, 27, 20124 Milano, Italy]</td>\n",
       "      <td>Via Napo Torriani 18 Central Station 20124 Mil...</td>\n",
       "      <td>Hotel Bernina</td>\n",
       "    </tr>\n",
       "    <tr>\n",
       "      <th>1</th>\n",
       "      <td>Hotel Berna</td>\n",
       "      <td>[Via Napo Torriani, 18, 20124 Milano, Italy]</td>\n",
       "      <td>Via Napo Torriani 18 Central Station 20124 Mil...</td>\n",
       "      <td>Hotel Berna</td>\n",
       "    </tr>\n",
       "    <tr>\n",
       "      <th>2</th>\n",
       "      <td>Austria Trend Hotel Europa Wien</td>\n",
       "      <td>[Kärntner Straße 32, 1010 Wien, Austria]</td>\n",
       "      <td>K rntnerstra e 18 Eingang Neuer Markt 3 01 Inn...</td>\n",
       "      <td>Austria Trend Hotel Europa Wien</td>\n",
       "    </tr>\n",
       "    <tr>\n",
       "      <th>3</th>\n",
       "      <td>Austria Trend Hotel Europa Wien</td>\n",
       "      <td>[Kärntner Straße 18, 1010 Wien, Austria]</td>\n",
       "      <td>K rntnerstra e 18 Eingang Neuer Markt 3 01 Inn...</td>\n",
       "      <td>Austria Trend Hotel Europa Wien</td>\n",
       "    </tr>\n",
       "    <tr>\n",
       "      <th>4</th>\n",
       "      <td>Relais Du Louvre</td>\n",
       "      <td>[3 Rue du Louvre, 75001 Paris, France]</td>\n",
       "      <td>19 Rue Des Pretres Saint Germain L Auxerrois 1...</td>\n",
       "      <td>Relais Du Louvre</td>\n",
       "    </tr>\n",
       "    <tr>\n",
       "      <th>5</th>\n",
       "      <td>Relais Du Louvre</td>\n",
       "      <td>[19 Rue des Prêtres Saint-Germain l'Auxerrois,...</td>\n",
       "      <td>19 Rue Des Pretres Saint Germain L Auxerrois 1...</td>\n",
       "      <td>Relais Du Louvre</td>\n",
       "    </tr>\n",
       "    <tr>\n",
       "      <th>6</th>\n",
       "      <td>Ayre Hotel Rosell n</td>\n",
       "      <td>[Carrer del Rossellón, 390, 08025 Barcelona, S...</td>\n",
       "      <td>Rossell 390 Eixample 08025 Barcelona Spain</td>\n",
       "      <td>Ayre Hotel Rosellon</td>\n",
       "    </tr>\n",
       "    <tr>\n",
       "      <th>7</th>\n",
       "      <td>Ayre Hotel Rosell n</td>\n",
       "      <td>[Carrer del Rossellón, 390, 08025 Barcelona, S...</td>\n",
       "      <td>Rossell 390 Eixample 08025 Barcelona Spain</td>\n",
       "      <td>Ayre Hotel Rosellon</td>\n",
       "    </tr>\n",
       "  </tbody>\n",
       "</table>\n",
       "</div>"
      ],
      "text/plain": [
       "                        Hotel_Name  \\\n",
       "0                      Hotel Berna   \n",
       "1                      Hotel Berna   \n",
       "2  Austria Trend Hotel Europa Wien   \n",
       "3  Austria Trend Hotel Europa Wien   \n",
       "4                 Relais Du Louvre   \n",
       "5                 Relais Du Louvre   \n",
       "6              Ayre Hotel Rosell n   \n",
       "7              Ayre Hotel Rosell n   \n",
       "\n",
       "                                             address  \\\n",
       "0       [Via Napo Torriani, 27, 20124 Milano, Italy]   \n",
       "1       [Via Napo Torriani, 18, 20124 Milano, Italy]   \n",
       "2           [Kärntner Straße 32, 1010 Wien, Austria]   \n",
       "3           [Kärntner Straße 18, 1010 Wien, Austria]   \n",
       "4             [3 Rue du Louvre, 75001 Paris, France]   \n",
       "5  [19 Rue des Prêtres Saint-Germain l'Auxerrois,...   \n",
       "6  [Carrer del Rossellón, 390, 08025 Barcelona, S...   \n",
       "7  [Carrer del Rossellón, 390, 08025 Barcelona, S...   \n",
       "\n",
       "                                       Hotel_Address  \\\n",
       "0  Via Napo Torriani 18 Central Station 20124 Mil...   \n",
       "1  Via Napo Torriani 18 Central Station 20124 Mil...   \n",
       "2  K rntnerstra e 18 Eingang Neuer Markt 3 01 Inn...   \n",
       "3  K rntnerstra e 18 Eingang Neuer Markt 3 01 Inn...   \n",
       "4  19 Rue Des Pretres Saint Germain L Auxerrois 1...   \n",
       "5  19 Rue Des Pretres Saint Germain L Auxerrois 1...   \n",
       "6         Rossell 390 Eixample 08025 Barcelona Spain   \n",
       "7         Rossell 390 Eixample 08025 Barcelona Spain   \n",
       "\n",
       "                              name  \n",
       "0                    Hotel Bernina  \n",
       "1                      Hotel Berna  \n",
       "2  Austria Trend Hotel Europa Wien  \n",
       "3  Austria Trend Hotel Europa Wien  \n",
       "4                 Relais Du Louvre  \n",
       "5                 Relais Du Louvre  \n",
       "6              Ayre Hotel Rosellon  \n",
       "7              Ayre Hotel Rosellon  "
      ]
     },
     "execution_count": 53,
     "metadata": {},
     "output_type": "execute_result"
    }
   ],
   "source": [
    "#df_google_hotels_distance.exceptAll(df.drop_duplicates(['ID', 'ID2', 'Number'])).show()\n",
    "dup_hotels = ['Austria Trend Hotel Europa Wien', 'Hotel Berna', 'Ayre Hotel Rosell n', 'Relais Du Louvre']\n",
    "df_google_hotels_distance.select(['Hotel_Name', 'address', 'Hotel_Address', 'name']).filter(F.col('Hotel_Name').isin(dup_hotels)).toPandas()"
   ]
  },
  {
   "cell_type": "code",
   "execution_count": 59,
   "metadata": {
    "editable": true
   },
   "outputs": [
    {
     "data": {
      "text/plain": [
       "461"
      ]
     },
     "execution_count": 59,
     "metadata": {},
     "output_type": "execute_result"
    }
   ],
   "source": [
    "df_google_hotels_distance.filter(~((F.col('name') == 'Hotel Bernina') & (F.col('Hotel_Name')=='Hotel Berna'))).count()"
   ]
  },
  {
   "cell_type": "code",
   "execution_count": 106,
   "metadata": {
    "editable": true
   },
   "outputs": [
    {
     "data": {
      "text/plain": [
       "458"
      ]
     },
     "execution_count": 106,
     "metadata": {},
     "output_type": "execute_result"
    }
   ],
   "source": [
    "df_google_hotels_distance = df_google_hotels_distance.filter(~((F.col('name') == 'Hotel Bernina') & (F.col('Hotel_Name')=='Hotel Berna')))\n",
    "df_google_hotels_distance = df_google_hotels_distance.dropDuplicates(subset=['Hotel_Name', 'lat', 'lng'])\n",
    "df_google_hotels_distance.count()"
   ]
  },
  {
   "cell_type": "markdown",
   "metadata": {
    "editable": true
   },
   "source": [
    "Step 12. As we don't have all hotels from the reviews data set in the google local data set, we need the remaining hotels as well from the reviews data set. To get these hotels, we perform a set difference using the Hotel_Name column in the data sets (data set in Step 1 and data set in Step 11). Remember that this column in Step 11 originally came from Step 1, so it will have the same values for the rows which were successfully joined."
   ]
  },
  {
   "cell_type": "code",
   "execution_count": 107,
   "metadata": {
    "editable": true
   },
   "outputs": [
    {
     "data": {
      "text/plain": [
       "1493"
      ]
     },
     "execution_count": 107,
     "metadata": {},
     "output_type": "execute_result"
    }
   ],
   "source": [
    "# Remove the invalid row -- it has no location\n",
    "df_distinct_hotels = df_distinct_hotels.filter(F.col('Hotel_Name')!= 'Hotel Atlanta')\n",
    "df_distinct_hotels.count()"
   ]
  },
  {
   "cell_type": "code",
   "execution_count": 33,
   "metadata": {
    "editable": true
   },
   "outputs": [
    {
     "data": {
      "text/html": [
       "<div>\n",
       "<style scoped>\n",
       "    .dataframe tbody tr th:only-of-type {\n",
       "        vertical-align: middle;\n",
       "    }\n",
       "\n",
       "    .dataframe tbody tr th {\n",
       "        vertical-align: top;\n",
       "    }\n",
       "\n",
       "    .dataframe thead th {\n",
       "        text-align: right;\n",
       "    }\n",
       "</style>\n",
       "<table border=\"1\" class=\"dataframe\">\n",
       "  <thead>\n",
       "    <tr style=\"text-align: right;\">\n",
       "      <th></th>\n",
       "      <th>Hotel_Name</th>\n",
       "      <th>Hotel_Address</th>\n",
       "      <th>lat</th>\n",
       "      <th>lng</th>\n",
       "      <th>Normalised_Hotel_Name</th>\n",
       "    </tr>\n",
       "  </thead>\n",
       "  <tbody>\n",
       "    <tr>\n",
       "      <th>0</th>\n",
       "      <td>Hilton London Paddington</td>\n",
       "      <td>146 Praed Street Westminster Borough London W2...</td>\n",
       "      <td>51.515632</td>\n",
       "      <td>-0.175737</td>\n",
       "      <td>hilton london paddington</td>\n",
       "    </tr>\n",
       "    <tr>\n",
       "      <th>1</th>\n",
       "      <td>Millennium Hotel London Knightsbridge</td>\n",
       "      <td>17 25 Sloane Street Knightsbridge Kensington a...</td>\n",
       "      <td>51.4999683</td>\n",
       "      <td>-0.1599927</td>\n",
       "      <td>millennium hotel london knightsbridge</td>\n",
       "    </tr>\n",
       "    <tr>\n",
       "      <th>2</th>\n",
       "      <td>Grand Pigalle Hotel</td>\n",
       "      <td>29 rue Victor Mass 9th arr 75009 Paris France</td>\n",
       "      <td>48.880856</td>\n",
       "      <td>2.3375085</td>\n",
       "      <td>grand pigalle hotel</td>\n",
       "    </tr>\n",
       "  </tbody>\n",
       "</table>\n",
       "</div>"
      ],
      "text/plain": [
       "                              Hotel_Name  \\\n",
       "0               Hilton London Paddington   \n",
       "1  Millennium Hotel London Knightsbridge   \n",
       "2                    Grand Pigalle Hotel   \n",
       "\n",
       "                                       Hotel_Address         lat         lng  \\\n",
       "0  146 Praed Street Westminster Borough London W2...   51.515632   -0.175737   \n",
       "1  17 25 Sloane Street Knightsbridge Kensington a...  51.4999683  -0.1599927   \n",
       "2      29 rue Victor Mass 9th arr 75009 Paris France   48.880856   2.3375085   \n",
       "\n",
       "                   Normalised_Hotel_Name  \n",
       "0               hilton london paddington  \n",
       "1  millennium hotel london knightsbridge  \n",
       "2                    grand pigalle hotel  "
      ]
     },
     "execution_count": 33,
     "metadata": {},
     "output_type": "execute_result"
    }
   ],
   "source": [
    "df_distinct_hotels.limit(3).toPandas()"
   ]
  },
  {
   "cell_type": "code",
   "execution_count": 41,
   "metadata": {
    "editable": true
   },
   "outputs": [
    {
     "data": {
      "text/plain": [
       "0"
      ]
     },
     "execution_count": 41,
     "metadata": {},
     "output_type": "execute_result"
    }
   ],
   "source": [
    "df_distinct_hotels.filter(\n",
    "    (F.col('lat').isNull() | (F.col('lng').isNull()))).count()"
   ]
  },
  {
   "cell_type": "markdown",
   "metadata": {
    "editable": true
   },
   "source": [
    "A left anti-join will get the hotels in df_distinct_hotels which are not in df_google_hotels_distance. One possible solution would be to get these hotels and then do a union. \n",
    "\n",
    "However, a much simpler solution would be do to a left join between these 2 data frames."
   ]
  },
  {
   "cell_type": "code",
   "execution_count": 108,
   "metadata": {
    "editable": true
   },
   "outputs": [
    {
     "data": {
      "text/plain": [
       "1493"
      ]
     },
     "execution_count": 108,
     "metadata": {},
     "output_type": "execute_result"
    }
   ],
   "source": [
    "df_distinct_hotels.join(df_google_hotels_distance, on=['Hotel_Name', 'lat', 'lng'], how='left').count()"
   ]
  },
  {
   "cell_type": "markdown",
   "metadata": {
    "editable": true
   },
   "source": [
    "As we are going to join the df_google_hotels_distance with the original df_distinct_hotels table (where a few of its columns came from), it is imperative to drop these columns at this stage. Otherwise, we will have duplicate columns when the same column name exists in the two data frames to be joined. \n",
    "\n",
    "Also, we drop the other unnecessary columns"
   ]
  },
  {
   "cell_type": "code",
   "execution_count": 109,
   "metadata": {
    "editable": true
   },
   "outputs": [
    {
     "data": {
      "text/plain": [
       "['FridayHours',\n",
       " 'Hotel_Name',\n",
       " 'MondayHours',\n",
       " 'NormalisedHotelName',\n",
       " 'SaturdayHours',\n",
       " 'SundayHours',\n",
       " 'ThursdayHours',\n",
       " 'TuesdayHours',\n",
       " 'WednesdayHours',\n",
       " 'address',\n",
       " 'city',\n",
       " 'country',\n",
       " 'gPlusPlaceId',\n",
       " 'name',\n",
       " 'phone',\n",
       " 'price',\n",
       " 'lat',\n",
       " 'lng']"
      ]
     },
     "execution_count": 109,
     "metadata": {},
     "output_type": "execute_result"
    }
   ],
   "source": [
    "columns_to_drop = ['Hotel_Address', 'Normalised_Hotel_Name', 'distance', 'latitude', 'longitude']\n",
    "df_google_hotels_distance = df_google_hotels_distance.drop(*columns_to_drop)\n",
    "df_google_hotels_distance.columns"
   ]
  },
  {
   "cell_type": "code",
   "execution_count": 110,
   "metadata": {
    "editable": true
   },
   "outputs": [],
   "source": [
    "df_google_hotels = df_distinct_hotels.join(df_google_hotels_distance, on=['Hotel_Name', 'lat', 'lng'], how='left')"
   ]
  },
  {
   "cell_type": "code",
   "execution_count": 111,
   "metadata": {
    "editable": true
   },
   "outputs": [
    {
     "data": {
      "text/plain": [
       "1493"
      ]
     },
     "execution_count": 111,
     "metadata": {},
     "output_type": "execute_result"
    }
   ],
   "source": [
    "df_google_hotels.count()"
   ]
  },
  {
   "cell_type": "markdown",
   "metadata": {
    "editable": true
   },
   "source": [
    "Step 13. **Data issue: the hotel name and address in the reviews data set does not render latin characters properly**. Use the hotel name from the google local data set, where available to populate a new hotel name column. When it is not available, use the hotel name from the reviews data set."
   ]
  },
  {
   "cell_type": "code",
   "execution_count": 112,
   "metadata": {
    "editable": true
   },
   "outputs": [
    {
     "name": "stdout",
     "output_type": "stream",
     "text": [
      "1493\n"
     ]
    },
    {
     "data": {
      "text/html": [
       "<div>\n",
       "<style scoped>\n",
       "    .dataframe tbody tr th:only-of-type {\n",
       "        vertical-align: middle;\n",
       "    }\n",
       "\n",
       "    .dataframe tbody tr th {\n",
       "        vertical-align: top;\n",
       "    }\n",
       "\n",
       "    .dataframe thead th {\n",
       "        text-align: right;\n",
       "    }\n",
       "</style>\n",
       "<table border=\"1\" class=\"dataframe\">\n",
       "  <thead>\n",
       "    <tr style=\"text-align: right;\">\n",
       "      <th></th>\n",
       "      <th>Hotel_Name</th>\n",
       "      <th>lat</th>\n",
       "      <th>lng</th>\n",
       "      <th>Hotel_Address</th>\n",
       "      <th>Normalised_Hotel_Name</th>\n",
       "      <th>FridayHours</th>\n",
       "      <th>MondayHours</th>\n",
       "      <th>NormalisedHotelName</th>\n",
       "      <th>SaturdayHours</th>\n",
       "      <th>SundayHours</th>\n",
       "      <th>...</th>\n",
       "      <th>TuesdayHours</th>\n",
       "      <th>WednesdayHours</th>\n",
       "      <th>address</th>\n",
       "      <th>city</th>\n",
       "      <th>country</th>\n",
       "      <th>gPlusPlaceId</th>\n",
       "      <th>name</th>\n",
       "      <th>phone</th>\n",
       "      <th>price</th>\n",
       "      <th>HotelName</th>\n",
       "    </tr>\n",
       "  </thead>\n",
       "  <tbody>\n",
       "    <tr>\n",
       "      <th>0</th>\n",
       "      <td>Hilton London Paddington</td>\n",
       "      <td>51.515632</td>\n",
       "      <td>-0.175737</td>\n",
       "      <td>146 Praed Street Westminster Borough London W2...</td>\n",
       "      <td>hilton london paddington</td>\n",
       "      <td>None</td>\n",
       "      <td>None</td>\n",
       "      <td>None</td>\n",
       "      <td>None</td>\n",
       "      <td>None</td>\n",
       "      <td>...</td>\n",
       "      <td>None</td>\n",
       "      <td>None</td>\n",
       "      <td>None</td>\n",
       "      <td>None</td>\n",
       "      <td>None</td>\n",
       "      <td>None</td>\n",
       "      <td>None</td>\n",
       "      <td>None</td>\n",
       "      <td>None</td>\n",
       "      <td>Hilton London Paddington</td>\n",
       "    </tr>\n",
       "    <tr>\n",
       "      <th>1</th>\n",
       "      <td>Millennium Hotel London Knightsbridge</td>\n",
       "      <td>51.4999683</td>\n",
       "      <td>-0.1599927</td>\n",
       "      <td>17 25 Sloane Street Knightsbridge Kensington a...</td>\n",
       "      <td>millennium hotel london knightsbridge</td>\n",
       "      <td>None</td>\n",
       "      <td>None</td>\n",
       "      <td>millennium hotel london knightsbridge</td>\n",
       "      <td>None</td>\n",
       "      <td>None</td>\n",
       "      <td>...</td>\n",
       "      <td>None</td>\n",
       "      <td>None</td>\n",
       "      <td>[17 Sloane St, London SW1X 9NU, United Kingdom]</td>\n",
       "      <td>None</td>\n",
       "      <td>United Kingdom</td>\n",
       "      <td>102371155121784386535</td>\n",
       "      <td>Millennium Hotel London Knightsbridge</td>\n",
       "      <td>020 7235 4377</td>\n",
       "      <td>None</td>\n",
       "      <td>Millennium Hotel London Knightsbridge</td>\n",
       "    </tr>\n",
       "    <tr>\n",
       "      <th>2</th>\n",
       "      <td>Grand Pigalle Hotel</td>\n",
       "      <td>48.880856</td>\n",
       "      <td>2.3375085</td>\n",
       "      <td>29 rue Victor Mass 9th arr 75009 Paris France</td>\n",
       "      <td>grand pigalle hotel</td>\n",
       "      <td>None</td>\n",
       "      <td>None</td>\n",
       "      <td>None</td>\n",
       "      <td>None</td>\n",
       "      <td>None</td>\n",
       "      <td>...</td>\n",
       "      <td>None</td>\n",
       "      <td>None</td>\n",
       "      <td>None</td>\n",
       "      <td>None</td>\n",
       "      <td>None</td>\n",
       "      <td>None</td>\n",
       "      <td>None</td>\n",
       "      <td>None</td>\n",
       "      <td>None</td>\n",
       "      <td>Grand Pigalle Hotel</td>\n",
       "    </tr>\n",
       "    <tr>\n",
       "      <th>3</th>\n",
       "      <td>St George Hotel</td>\n",
       "      <td>51.5182768</td>\n",
       "      <td>-0.1583511</td>\n",
       "      <td>49 Gloucester Place Marble Arch Westminster Bo...</td>\n",
       "      <td>st george hotel</td>\n",
       "      <td>None</td>\n",
       "      <td>None</td>\n",
       "      <td>st george hotel</td>\n",
       "      <td>None</td>\n",
       "      <td>None</td>\n",
       "      <td>...</td>\n",
       "      <td>None</td>\n",
       "      <td>None</td>\n",
       "      <td>[49 Gloucester Pl, London W1U 8JE, United King...</td>\n",
       "      <td>London</td>\n",
       "      <td>United Kingdom</td>\n",
       "      <td>105255034750157983625</td>\n",
       "      <td>St George Hotel</td>\n",
       "      <td>020 7486 8586</td>\n",
       "      <td>None</td>\n",
       "      <td>St George Hotel</td>\n",
       "    </tr>\n",
       "    <tr>\n",
       "      <th>4</th>\n",
       "      <td>H tel Regent s Garden</td>\n",
       "      <td>48.8797513</td>\n",
       "      <td>2.2919634</td>\n",
       "      <td>6 Rue Pierre Demours 17th arr 75017 Paris France</td>\n",
       "      <td>h tel regent s garden</td>\n",
       "      <td>None</td>\n",
       "      <td>None</td>\n",
       "      <td>None</td>\n",
       "      <td>None</td>\n",
       "      <td>None</td>\n",
       "      <td>...</td>\n",
       "      <td>None</td>\n",
       "      <td>None</td>\n",
       "      <td>None</td>\n",
       "      <td>None</td>\n",
       "      <td>None</td>\n",
       "      <td>None</td>\n",
       "      <td>None</td>\n",
       "      <td>None</td>\n",
       "      <td>None</td>\n",
       "      <td>H tel Regent s Garden</td>\n",
       "    </tr>\n",
       "    <tr>\n",
       "      <th>5</th>\n",
       "      <td>Hotel Cavendish</td>\n",
       "      <td>51.5220522</td>\n",
       "      <td>-0.132414</td>\n",
       "      <td>75 Gower Street Camden London WC1E 6HJ United ...</td>\n",
       "      <td>hotel cavendish</td>\n",
       "      <td>None</td>\n",
       "      <td>None</td>\n",
       "      <td>hotel cavendish</td>\n",
       "      <td>None</td>\n",
       "      <td>None</td>\n",
       "      <td>...</td>\n",
       "      <td>None</td>\n",
       "      <td>None</td>\n",
       "      <td>[75 Gower St, London WC1E 6HJ, United Kingdom]</td>\n",
       "      <td>None</td>\n",
       "      <td>United Kingdom</td>\n",
       "      <td>111392875259801452166</td>\n",
       "      <td>Hotel Cavendish</td>\n",
       "      <td>020 7636 9079</td>\n",
       "      <td>None</td>\n",
       "      <td>Hotel Cavendish</td>\n",
       "    </tr>\n",
       "    <tr>\n",
       "      <th>6</th>\n",
       "      <td>Best Western PLUS Epping Forest</td>\n",
       "      <td>51.603207</td>\n",
       "      <td>0.010607</td>\n",
       "      <td>Epping Forest 30 Oak Hill London IG8 9NY Unite...</td>\n",
       "      <td>best western plus epping forest</td>\n",
       "      <td>None</td>\n",
       "      <td>None</td>\n",
       "      <td>None</td>\n",
       "      <td>None</td>\n",
       "      <td>None</td>\n",
       "      <td>...</td>\n",
       "      <td>None</td>\n",
       "      <td>None</td>\n",
       "      <td>None</td>\n",
       "      <td>None</td>\n",
       "      <td>None</td>\n",
       "      <td>None</td>\n",
       "      <td>None</td>\n",
       "      <td>None</td>\n",
       "      <td>None</td>\n",
       "      <td>Best Western PLUS Epping Forest</td>\n",
       "    </tr>\n",
       "    <tr>\n",
       "      <th>7</th>\n",
       "      <td>Fleming s Selection Hotel Wien City</td>\n",
       "      <td>NA</td>\n",
       "      <td>NA</td>\n",
       "      <td>Josefst dter Stra e 10 12 08 Josefstadt 1080 V...</td>\n",
       "      <td>fleming s selection hotel wien city</td>\n",
       "      <td>None</td>\n",
       "      <td>None</td>\n",
       "      <td>None</td>\n",
       "      <td>None</td>\n",
       "      <td>None</td>\n",
       "      <td>...</td>\n",
       "      <td>None</td>\n",
       "      <td>None</td>\n",
       "      <td>None</td>\n",
       "      <td>None</td>\n",
       "      <td>None</td>\n",
       "      <td>None</td>\n",
       "      <td>None</td>\n",
       "      <td>None</td>\n",
       "      <td>None</td>\n",
       "      <td>Fleming s Selection Hotel Wien City</td>\n",
       "    </tr>\n",
       "    <tr>\n",
       "      <th>8</th>\n",
       "      <td>Eurostars Bcn Design</td>\n",
       "      <td>41.3907208</td>\n",
       "      <td>2.1660732</td>\n",
       "      <td>Passeig de Gr cia 29 Eixample 08007 Barcelona ...</td>\n",
       "      <td>eurostars bcn design</td>\n",
       "      <td>None</td>\n",
       "      <td>None</td>\n",
       "      <td>None</td>\n",
       "      <td>None</td>\n",
       "      <td>None</td>\n",
       "      <td>...</td>\n",
       "      <td>None</td>\n",
       "      <td>None</td>\n",
       "      <td>None</td>\n",
       "      <td>None</td>\n",
       "      <td>None</td>\n",
       "      <td>None</td>\n",
       "      <td>None</td>\n",
       "      <td>None</td>\n",
       "      <td>None</td>\n",
       "      <td>Eurostars Bcn Design</td>\n",
       "    </tr>\n",
       "    <tr>\n",
       "      <th>9</th>\n",
       "      <td>The Yard Milano</td>\n",
       "      <td>45.453152</td>\n",
       "      <td>9.179172</td>\n",
       "      <td>Piazza XXIV Maggio 8 Milan City Center 20123 M...</td>\n",
       "      <td>the yard milano</td>\n",
       "      <td>None</td>\n",
       "      <td>None</td>\n",
       "      <td>None</td>\n",
       "      <td>None</td>\n",
       "      <td>None</td>\n",
       "      <td>...</td>\n",
       "      <td>None</td>\n",
       "      <td>None</td>\n",
       "      <td>None</td>\n",
       "      <td>None</td>\n",
       "      <td>None</td>\n",
       "      <td>None</td>\n",
       "      <td>None</td>\n",
       "      <td>None</td>\n",
       "      <td>None</td>\n",
       "      <td>The Yard Milano</td>\n",
       "    </tr>\n",
       "  </tbody>\n",
       "</table>\n",
       "<p>10 rows × 21 columns</p>\n",
       "</div>"
      ],
      "text/plain": [
       "                              Hotel_Name         lat         lng  \\\n",
       "0               Hilton London Paddington   51.515632   -0.175737   \n",
       "1  Millennium Hotel London Knightsbridge  51.4999683  -0.1599927   \n",
       "2                    Grand Pigalle Hotel   48.880856   2.3375085   \n",
       "3                        St George Hotel  51.5182768  -0.1583511   \n",
       "4                  H tel Regent s Garden  48.8797513   2.2919634   \n",
       "5                        Hotel Cavendish  51.5220522   -0.132414   \n",
       "6        Best Western PLUS Epping Forest   51.603207    0.010607   \n",
       "7    Fleming s Selection Hotel Wien City          NA          NA   \n",
       "8                   Eurostars Bcn Design  41.3907208   2.1660732   \n",
       "9                        The Yard Milano   45.453152    9.179172   \n",
       "\n",
       "                                       Hotel_Address  \\\n",
       "0  146 Praed Street Westminster Borough London W2...   \n",
       "1  17 25 Sloane Street Knightsbridge Kensington a...   \n",
       "2      29 rue Victor Mass 9th arr 75009 Paris France   \n",
       "3  49 Gloucester Place Marble Arch Westminster Bo...   \n",
       "4   6 Rue Pierre Demours 17th arr 75017 Paris France   \n",
       "5  75 Gower Street Camden London WC1E 6HJ United ...   \n",
       "6  Epping Forest 30 Oak Hill London IG8 9NY Unite...   \n",
       "7  Josefst dter Stra e 10 12 08 Josefstadt 1080 V...   \n",
       "8  Passeig de Gr cia 29 Eixample 08007 Barcelona ...   \n",
       "9  Piazza XXIV Maggio 8 Milan City Center 20123 M...   \n",
       "\n",
       "                   Normalised_Hotel_Name FridayHours MondayHours  \\\n",
       "0               hilton london paddington        None        None   \n",
       "1  millennium hotel london knightsbridge        None        None   \n",
       "2                    grand pigalle hotel        None        None   \n",
       "3                        st george hotel        None        None   \n",
       "4                  h tel regent s garden        None        None   \n",
       "5                        hotel cavendish        None        None   \n",
       "6        best western plus epping forest        None        None   \n",
       "7    fleming s selection hotel wien city        None        None   \n",
       "8                   eurostars bcn design        None        None   \n",
       "9                        the yard milano        None        None   \n",
       "\n",
       "                     NormalisedHotelName SaturdayHours SundayHours  \\\n",
       "0                                   None          None        None   \n",
       "1  millennium hotel london knightsbridge          None        None   \n",
       "2                                   None          None        None   \n",
       "3                        st george hotel          None        None   \n",
       "4                                   None          None        None   \n",
       "5                        hotel cavendish          None        None   \n",
       "6                                   None          None        None   \n",
       "7                                   None          None        None   \n",
       "8                                   None          None        None   \n",
       "9                                   None          None        None   \n",
       "\n",
       "                   ...                   TuesdayHours WednesdayHours  \\\n",
       "0                  ...                           None           None   \n",
       "1                  ...                           None           None   \n",
       "2                  ...                           None           None   \n",
       "3                  ...                           None           None   \n",
       "4                  ...                           None           None   \n",
       "5                  ...                           None           None   \n",
       "6                  ...                           None           None   \n",
       "7                  ...                           None           None   \n",
       "8                  ...                           None           None   \n",
       "9                  ...                           None           None   \n",
       "\n",
       "                                             address    city         country  \\\n",
       "0                                               None    None            None   \n",
       "1    [17 Sloane St, London SW1X 9NU, United Kingdom]    None  United Kingdom   \n",
       "2                                               None    None            None   \n",
       "3  [49 Gloucester Pl, London W1U 8JE, United King...  London  United Kingdom   \n",
       "4                                               None    None            None   \n",
       "5     [75 Gower St, London WC1E 6HJ, United Kingdom]    None  United Kingdom   \n",
       "6                                               None    None            None   \n",
       "7                                               None    None            None   \n",
       "8                                               None    None            None   \n",
       "9                                               None    None            None   \n",
       "\n",
       "            gPlusPlaceId                                   name  \\\n",
       "0                   None                                   None   \n",
       "1  102371155121784386535  Millennium Hotel London Knightsbridge   \n",
       "2                   None                                   None   \n",
       "3  105255034750157983625                        St George Hotel   \n",
       "4                   None                                   None   \n",
       "5  111392875259801452166                        Hotel Cavendish   \n",
       "6                   None                                   None   \n",
       "7                   None                                   None   \n",
       "8                   None                                   None   \n",
       "9                   None                                   None   \n",
       "\n",
       "           phone price                              HotelName  \n",
       "0           None  None               Hilton London Paddington  \n",
       "1  020 7235 4377  None  Millennium Hotel London Knightsbridge  \n",
       "2           None  None                    Grand Pigalle Hotel  \n",
       "3  020 7486 8586  None                        St George Hotel  \n",
       "4           None  None                  H tel Regent s Garden  \n",
       "5  020 7636 9079  None                        Hotel Cavendish  \n",
       "6           None  None        Best Western PLUS Epping Forest  \n",
       "7           None  None    Fleming s Selection Hotel Wien City  \n",
       "8           None  None                   Eurostars Bcn Design  \n",
       "9           None  None                        The Yard Milano  \n",
       "\n",
       "[10 rows x 21 columns]"
      ]
     },
     "execution_count": 112,
     "metadata": {},
     "output_type": "execute_result"
    }
   ],
   "source": [
    "df_google_hotels = df_google_hotels.withColumn('HotelName', F.when(~F.col('name').isNull(), F.col('name')).otherwise(F.col('Hotel_Name')))\n",
    "print(df_google_hotels.count())\n",
    "df_google_hotels.limit(10).toPandas()\n"
   ]
  },
  {
   "cell_type": "markdown",
   "metadata": {
    "editable": true
   },
   "source": [
    "Step 14. Get the country from the hotel address string column."
   ]
  },
  {
   "cell_type": "code",
   "execution_count": 113,
   "metadata": {
    "editable": true
   },
   "outputs": [],
   "source": [
    "@F.udf(returnType=StringType())\n",
    "def get_country(address, countries_list=['france', 'italy', 'spain', 'united kingdom', 'austria', 'netherlands']):\n",
    "    \"\"\" Gets the country from the hotel address\"\"\"\n",
    "    #geo_address = GeoText(address.title())\n",
    "    matching_country = [country for country in countries_list if country in address.lower()][0].title()\n",
    "    return matching_country\n",
    "\n",
    "df_google_hotels = df_google_hotels.withColumn('Country', get_country('Hotel_Address'))"
   ]
  },
  {
   "cell_type": "code",
   "execution_count": 114,
   "metadata": {
    "editable": true
   },
   "outputs": [
    {
     "name": "stdout",
     "output_type": "stream",
     "text": [
      "+--------------+\n",
      "|       Country|\n",
      "+--------------+\n",
      "|        France|\n",
      "|         Italy|\n",
      "|         Spain|\n",
      "|       Austria|\n",
      "|United Kingdom|\n",
      "|   Netherlands|\n",
      "+--------------+\n",
      "\n"
     ]
    }
   ],
   "source": [
    "df_google_hotels.select('Country').distinct().show()"
   ]
  },
  {
   "cell_type": "code",
   "execution_count": 115,
   "metadata": {
    "editable": true
   },
   "outputs": [
    {
     "data": {
      "text/plain": [
       "0"
      ]
     },
     "execution_count": 115,
     "metadata": {},
     "output_type": "execute_result"
    }
   ],
   "source": [
    "# Check for null Country\n",
    "df_google_hotels.filter(F.col('Country').isNull()).count()"
   ]
  },
  {
   "cell_type": "markdown",
   "metadata": {
    "editable": true
   },
   "source": [
    "Step 15. Remove all adiditional columns which won't be written to the staging table: latitude, longitude, distance the second hotel name, second hotel address. \n",
    "Step 16. Rename the columns as required."
   ]
  },
  {
   "cell_type": "code",
   "execution_count": 234,
   "metadata": {
    "editable": true
   },
   "outputs": [
    {
     "data": {
      "text/plain": [
       "['Hotel_Name',\n",
       " 'lat',\n",
       " 'lng',\n",
       " 'HotelAddress',\n",
       " 'FridayHours',\n",
       " 'MondayHours',\n",
       " 'NormalisedHotelName',\n",
       " 'SaturdayHours',\n",
       " 'SundayHours',\n",
       " 'ThursdayHours',\n",
       " 'TuesdayHours',\n",
       " 'WednesdayHours',\n",
       " 'GoogleAddress',\n",
       " 'Country',\n",
       " 'gPlusPlaceId',\n",
       " 'Phone',\n",
       " 'Price',\n",
       " 'HotelName',\n",
       " 'HotelID']"
      ]
     },
     "execution_count": 234,
     "metadata": {},
     "output_type": "execute_result"
    }
   ],
   "source": [
    "df_google_hotels.columns"
   ]
  },
  {
   "cell_type": "code",
   "execution_count": 116,
   "metadata": {
    "editable": true
   },
   "outputs": [
    {
     "data": {
      "text/plain": [
       "['Hotel_Name',\n",
       " 'lat',\n",
       " 'lng',\n",
       " 'Hotel_Address',\n",
       " 'FridayHours',\n",
       " 'MondayHours',\n",
       " 'NormalisedHotelName',\n",
       " 'SaturdayHours',\n",
       " 'SundayHours',\n",
       " 'ThursdayHours',\n",
       " 'TuesdayHours',\n",
       " 'WednesdayHours',\n",
       " 'address',\n",
       " 'Country',\n",
       " 'gPlusPlaceId',\n",
       " 'phone',\n",
       " 'price',\n",
       " 'HotelName']"
      ]
     },
     "execution_count": 116,
     "metadata": {},
     "output_type": "execute_result"
    }
   ],
   "source": [
    "columns_to_drop = ['name', 'Normalised_Hotel_Name', 'Normalised_Hotel_Name', 'city'] \n",
    "df_google_hotels = df_google_hotels.drop(*columns_to_drop)\n",
    "df_google_hotels.columns"
   ]
  },
  {
   "cell_type": "code",
   "execution_count": 117,
   "metadata": {
    "editable": true
   },
   "outputs": [],
   "source": [
    "df_google_hotels = df_google_hotels.withColumnRenamed('address', 'GoogleAddress')\n",
    "df_google_hotels = df_google_hotels.withColumnRenamed('Hotel_Address', 'HotelAddress')\n",
    "df_google_hotels = df_google_hotels.withColumnRenamed('phone', 'Phone')\n",
    "df_google_hotels = df_google_hotels.withColumnRenamed('price', 'Price')\n"
   ]
  },
  {
   "cell_type": "code",
   "execution_count": 118,
   "metadata": {
    "editable": true
   },
   "outputs": [
    {
     "data": {
      "text/plain": [
       "['Hotel_Name',\n",
       " 'lat',\n",
       " 'lng',\n",
       " 'HotelAddress',\n",
       " 'FridayHours',\n",
       " 'MondayHours',\n",
       " 'NormalisedHotelName',\n",
       " 'SaturdayHours',\n",
       " 'SundayHours',\n",
       " 'ThursdayHours',\n",
       " 'TuesdayHours',\n",
       " 'WednesdayHours',\n",
       " 'GoogleAddress',\n",
       " 'Country',\n",
       " 'gPlusPlaceId',\n",
       " 'Phone',\n",
       " 'Price',\n",
       " 'HotelName']"
      ]
     },
     "execution_count": 118,
     "metadata": {},
     "output_type": "execute_result"
    }
   ],
   "source": [
    "df_google_hotels.columns"
   ]
  },
  {
   "cell_type": "markdown",
   "metadata": {
    "editable": true
   },
   "source": [
    "Step 17. **Assign a new primary key column to the hotels: HotelID**"
   ]
  },
  {
   "cell_type": "code",
   "execution_count": 119,
   "metadata": {
    "editable": true
   },
   "outputs": [],
   "source": [
    "from pyspark.sql.functions import row_number,lit\n",
    "from pyspark.sql.window import Window\n",
    "# lit('A') is just dummy data so that we can calculate row number over the complete data set,\n",
    "# we don't have separate groups/windows of data.\n",
    "w = Window().orderBy(lit('A'))\n",
    "#df_google_hotels.withColumn(\"HotelID\", row_number().over(w)).select('HotelID').agg({'HotelID': 'max'}).show()\n",
    "df_google_hotels = df_google_hotels.withColumn(\"HotelID\", row_number().over(w))"
   ]
  },
  {
   "cell_type": "markdown",
   "metadata": {
    "editable": true
   },
   "source": [
    "Step 18. Data Fix: Manually fill in the latitude and longitude of 16 hotels for which they are both 'NA'. I get these values from Google (manually) as there are only 16 rows."
   ]
  },
  {
   "cell_type": "code",
   "execution_count": 233,
   "metadata": {
    "editable": true
   },
   "outputs": [
    {
     "data": {
      "text/html": [
       "<div>\n",
       "<style scoped>\n",
       "    .dataframe tbody tr th:only-of-type {\n",
       "        vertical-align: middle;\n",
       "    }\n",
       "\n",
       "    .dataframe tbody tr th {\n",
       "        vertical-align: top;\n",
       "    }\n",
       "\n",
       "    .dataframe thead th {\n",
       "        text-align: right;\n",
       "    }\n",
       "</style>\n",
       "<table border=\"1\" class=\"dataframe\">\n",
       "  <thead>\n",
       "    <tr style=\"text-align: right;\">\n",
       "      <th></th>\n",
       "      <th>Hotel_Name</th>\n",
       "      <th>lat</th>\n",
       "      <th>lng</th>\n",
       "      <th>HotelAddress</th>\n",
       "      <th>FridayHours</th>\n",
       "      <th>MondayHours</th>\n",
       "      <th>NormalisedHotelName</th>\n",
       "      <th>SaturdayHours</th>\n",
       "      <th>SundayHours</th>\n",
       "      <th>ThursdayHours</th>\n",
       "      <th>TuesdayHours</th>\n",
       "      <th>WednesdayHours</th>\n",
       "      <th>GoogleAddress</th>\n",
       "      <th>Country</th>\n",
       "      <th>gPlusPlaceId</th>\n",
       "      <th>Phone</th>\n",
       "      <th>Price</th>\n",
       "      <th>HotelName</th>\n",
       "      <th>HotelID</th>\n",
       "    </tr>\n",
       "  </thead>\n",
       "  <tbody>\n",
       "    <tr>\n",
       "      <th>0</th>\n",
       "      <td>Fleming s Selection Hotel Wien City</td>\n",
       "      <td>NA</td>\n",
       "      <td>NA</td>\n",
       "      <td>Josefst dter Stra e 10 12 08 Josefstadt 1080 V...</td>\n",
       "      <td>None</td>\n",
       "      <td>None</td>\n",
       "      <td>None</td>\n",
       "      <td>None</td>\n",
       "      <td>None</td>\n",
       "      <td>None</td>\n",
       "      <td>None</td>\n",
       "      <td>None</td>\n",
       "      <td>None</td>\n",
       "      <td>Austria</td>\n",
       "      <td>None</td>\n",
       "      <td>None</td>\n",
       "      <td>None</td>\n",
       "      <td>Fleming s Selection Hotel Wien City</td>\n",
       "      <td>8</td>\n",
       "    </tr>\n",
       "    <tr>\n",
       "      <th>1</th>\n",
       "      <td>Austria Trend Hotel Schloss Wilhelminenberg Wien</td>\n",
       "      <td>NA</td>\n",
       "      <td>NA</td>\n",
       "      <td>Savoyenstra e 2 16 Ottakring 1160 Vienna Austria</td>\n",
       "      <td>None</td>\n",
       "      <td>None</td>\n",
       "      <td>None</td>\n",
       "      <td>None</td>\n",
       "      <td>None</td>\n",
       "      <td>None</td>\n",
       "      <td>None</td>\n",
       "      <td>None</td>\n",
       "      <td>None</td>\n",
       "      <td>Austria</td>\n",
       "      <td>None</td>\n",
       "      <td>None</td>\n",
       "      <td>None</td>\n",
       "      <td>Austria Trend Hotel Schloss Wilhelminenberg Wien</td>\n",
       "      <td>11</td>\n",
       "    </tr>\n",
       "    <tr>\n",
       "      <th>2</th>\n",
       "      <td>Hotel Park Villa</td>\n",
       "      <td>NA</td>\n",
       "      <td>NA</td>\n",
       "      <td>Hasenauerstra e 12 19 D bling 1190 Vienna Austria</td>\n",
       "      <td>None</td>\n",
       "      <td>None</td>\n",
       "      <td>None</td>\n",
       "      <td>None</td>\n",
       "      <td>None</td>\n",
       "      <td>None</td>\n",
       "      <td>None</td>\n",
       "      <td>None</td>\n",
       "      <td>None</td>\n",
       "      <td>Austria</td>\n",
       "      <td>None</td>\n",
       "      <td>None</td>\n",
       "      <td>None</td>\n",
       "      <td>Hotel Park Villa</td>\n",
       "      <td>182</td>\n",
       "    </tr>\n",
       "    <tr>\n",
       "      <th>3</th>\n",
       "      <td>Hotel Advance</td>\n",
       "      <td>NA</td>\n",
       "      <td>NA</td>\n",
       "      <td>Sep lveda 180 Eixample 08011 Barcelona Spain</td>\n",
       "      <td>None</td>\n",
       "      <td>None</td>\n",
       "      <td>None</td>\n",
       "      <td>None</td>\n",
       "      <td>None</td>\n",
       "      <td>None</td>\n",
       "      <td>None</td>\n",
       "      <td>None</td>\n",
       "      <td>None</td>\n",
       "      <td>Spain</td>\n",
       "      <td>None</td>\n",
       "      <td>None</td>\n",
       "      <td>None</td>\n",
       "      <td>Hotel Advance</td>\n",
       "      <td>277</td>\n",
       "    </tr>\n",
       "    <tr>\n",
       "      <th>4</th>\n",
       "      <td>Roomz Vienna</td>\n",
       "      <td>NA</td>\n",
       "      <td>NA</td>\n",
       "      <td>Paragonstra e 1 11 Simmering 1110 Vienna Austria</td>\n",
       "      <td>None</td>\n",
       "      <td>None</td>\n",
       "      <td>None</td>\n",
       "      <td>None</td>\n",
       "      <td>None</td>\n",
       "      <td>None</td>\n",
       "      <td>None</td>\n",
       "      <td>None</td>\n",
       "      <td>None</td>\n",
       "      <td>Austria</td>\n",
       "      <td>None</td>\n",
       "      <td>None</td>\n",
       "      <td>None</td>\n",
       "      <td>Roomz Vienna</td>\n",
       "      <td>545</td>\n",
       "    </tr>\n",
       "    <tr>\n",
       "      <th>5</th>\n",
       "      <td>NH Collection Barcelona Podium</td>\n",
       "      <td>NA</td>\n",
       "      <td>NA</td>\n",
       "      <td>Bail n 4 6 Eixample 08010 Barcelona Spain</td>\n",
       "      <td>None</td>\n",
       "      <td>None</td>\n",
       "      <td>None</td>\n",
       "      <td>None</td>\n",
       "      <td>None</td>\n",
       "      <td>None</td>\n",
       "      <td>None</td>\n",
       "      <td>None</td>\n",
       "      <td>None</td>\n",
       "      <td>Spain</td>\n",
       "      <td>None</td>\n",
       "      <td>None</td>\n",
       "      <td>None</td>\n",
       "      <td>NH Collection Barcelona Podium</td>\n",
       "      <td>587</td>\n",
       "    </tr>\n",
       "    <tr>\n",
       "      <th>6</th>\n",
       "      <td>City Hotel Deutschmeister</td>\n",
       "      <td>NA</td>\n",
       "      <td>NA</td>\n",
       "      <td>Gr nentorgasse 30 09 Alsergrund 1090 Vienna Au...</td>\n",
       "      <td>None</td>\n",
       "      <td>None</td>\n",
       "      <td>None</td>\n",
       "      <td>None</td>\n",
       "      <td>None</td>\n",
       "      <td>None</td>\n",
       "      <td>None</td>\n",
       "      <td>None</td>\n",
       "      <td>None</td>\n",
       "      <td>Austria</td>\n",
       "      <td>None</td>\n",
       "      <td>None</td>\n",
       "      <td>None</td>\n",
       "      <td>City Hotel Deutschmeister</td>\n",
       "      <td>905</td>\n",
       "    </tr>\n",
       "    <tr>\n",
       "      <th>7</th>\n",
       "      <td>Hotel Daniel Vienna</td>\n",
       "      <td>NA</td>\n",
       "      <td>NA</td>\n",
       "      <td>Landstra er G rtel 5 03 Landstra e 1030 Vienna...</td>\n",
       "      <td>None</td>\n",
       "      <td>None</td>\n",
       "      <td>None</td>\n",
       "      <td>None</td>\n",
       "      <td>None</td>\n",
       "      <td>None</td>\n",
       "      <td>None</td>\n",
       "      <td>None</td>\n",
       "      <td>None</td>\n",
       "      <td>Austria</td>\n",
       "      <td>None</td>\n",
       "      <td>None</td>\n",
       "      <td>None</td>\n",
       "      <td>Hotel Daniel Vienna</td>\n",
       "      <td>958</td>\n",
       "    </tr>\n",
       "    <tr>\n",
       "      <th>8</th>\n",
       "      <td>Derag Livinghotel Kaiser Franz Joseph Vienna</td>\n",
       "      <td>NA</td>\n",
       "      <td>NA</td>\n",
       "      <td>Sieveringer Stra e 4 19 D bling 1190 Vienna Au...</td>\n",
       "      <td>None</td>\n",
       "      <td>None</td>\n",
       "      <td>None</td>\n",
       "      <td>None</td>\n",
       "      <td>None</td>\n",
       "      <td>None</td>\n",
       "      <td>None</td>\n",
       "      <td>None</td>\n",
       "      <td>None</td>\n",
       "      <td>Austria</td>\n",
       "      <td>None</td>\n",
       "      <td>None</td>\n",
       "      <td>None</td>\n",
       "      <td>Derag Livinghotel Kaiser Franz Joseph Vienna</td>\n",
       "      <td>1122</td>\n",
       "    </tr>\n",
       "    <tr>\n",
       "      <th>9</th>\n",
       "      <td>Hotel City Central</td>\n",
       "      <td>NA</td>\n",
       "      <td>NA</td>\n",
       "      <td>Taborstra e 8 A 02 Leopoldstadt 1020 Vienna Au...</td>\n",
       "      <td>None</td>\n",
       "      <td>None</td>\n",
       "      <td>None</td>\n",
       "      <td>None</td>\n",
       "      <td>None</td>\n",
       "      <td>None</td>\n",
       "      <td>None</td>\n",
       "      <td>None</td>\n",
       "      <td>None</td>\n",
       "      <td>Austria</td>\n",
       "      <td>None</td>\n",
       "      <td>None</td>\n",
       "      <td>None</td>\n",
       "      <td>Hotel City Central</td>\n",
       "      <td>1124</td>\n",
       "    </tr>\n",
       "    <tr>\n",
       "      <th>10</th>\n",
       "      <td>Hotel Pension Baron am Schottentor</td>\n",
       "      <td>NA</td>\n",
       "      <td>NA</td>\n",
       "      <td>W hringer Stra e 12 09 Alsergrund 1090 Vienna ...</td>\n",
       "      <td>None</td>\n",
       "      <td>None</td>\n",
       "      <td>None</td>\n",
       "      <td>None</td>\n",
       "      <td>None</td>\n",
       "      <td>None</td>\n",
       "      <td>None</td>\n",
       "      <td>None</td>\n",
       "      <td>None</td>\n",
       "      <td>Austria</td>\n",
       "      <td>None</td>\n",
       "      <td>None</td>\n",
       "      <td>None</td>\n",
       "      <td>Hotel Pension Baron am Schottentor</td>\n",
       "      <td>1125</td>\n",
       "    </tr>\n",
       "    <tr>\n",
       "      <th>11</th>\n",
       "      <td>Mercure Paris Gare Montparnasse</td>\n",
       "      <td>NA</td>\n",
       "      <td>NA</td>\n",
       "      <td>20 Rue De La Ga t 14th arr 75014 Paris France</td>\n",
       "      <td>None</td>\n",
       "      <td>None</td>\n",
       "      <td>None</td>\n",
       "      <td>None</td>\n",
       "      <td>None</td>\n",
       "      <td>None</td>\n",
       "      <td>None</td>\n",
       "      <td>None</td>\n",
       "      <td>None</td>\n",
       "      <td>France</td>\n",
       "      <td>None</td>\n",
       "      <td>None</td>\n",
       "      <td>None</td>\n",
       "      <td>Mercure Paris Gare Montparnasse</td>\n",
       "      <td>1316</td>\n",
       "    </tr>\n",
       "    <tr>\n",
       "      <th>12</th>\n",
       "      <td>Maison Albar Hotel Paris Op ra Diamond</td>\n",
       "      <td>NA</td>\n",
       "      <td>NA</td>\n",
       "      <td>4 rue de la P pini re 8th arr 75008 Paris France</td>\n",
       "      <td>None</td>\n",
       "      <td>None</td>\n",
       "      <td>None</td>\n",
       "      <td>None</td>\n",
       "      <td>None</td>\n",
       "      <td>None</td>\n",
       "      <td>None</td>\n",
       "      <td>None</td>\n",
       "      <td>None</td>\n",
       "      <td>France</td>\n",
       "      <td>None</td>\n",
       "      <td>None</td>\n",
       "      <td>None</td>\n",
       "      <td>Maison Albar Hotel Paris Op ra Diamond</td>\n",
       "      <td>1355</td>\n",
       "    </tr>\n",
       "    <tr>\n",
       "      <th>13</th>\n",
       "      <td>Holiday Inn Paris Montmartre</td>\n",
       "      <td>NA</td>\n",
       "      <td>NA</td>\n",
       "      <td>23 Rue Damr mont 18th arr 75018 Paris France</td>\n",
       "      <td>None</td>\n",
       "      <td>None</td>\n",
       "      <td>None</td>\n",
       "      <td>None</td>\n",
       "      <td>None</td>\n",
       "      <td>None</td>\n",
       "      <td>None</td>\n",
       "      <td>None</td>\n",
       "      <td>None</td>\n",
       "      <td>France</td>\n",
       "      <td>None</td>\n",
       "      <td>None</td>\n",
       "      <td>None</td>\n",
       "      <td>Holiday Inn Paris Montmartre</td>\n",
       "      <td>1366</td>\n",
       "    </tr>\n",
       "    <tr>\n",
       "      <th>14</th>\n",
       "      <td>Cordial Theaterhotel Wien</td>\n",
       "      <td>NA</td>\n",
       "      <td>NA</td>\n",
       "      <td>Josefst dter Stra e 22 08 Josefstadt 1080 Vien...</td>\n",
       "      <td>None</td>\n",
       "      <td>None</td>\n",
       "      <td>None</td>\n",
       "      <td>None</td>\n",
       "      <td>None</td>\n",
       "      <td>None</td>\n",
       "      <td>None</td>\n",
       "      <td>None</td>\n",
       "      <td>None</td>\n",
       "      <td>Austria</td>\n",
       "      <td>None</td>\n",
       "      <td>None</td>\n",
       "      <td>None</td>\n",
       "      <td>Cordial Theaterhotel Wien</td>\n",
       "      <td>1372</td>\n",
       "    </tr>\n",
       "    <tr>\n",
       "      <th>15</th>\n",
       "      <td>Renaissance Barcelona Hotel</td>\n",
       "      <td>NA</td>\n",
       "      <td>NA</td>\n",
       "      <td>Pau Clar s 122 Eixample 08009 Barcelona Spain</td>\n",
       "      <td>None</td>\n",
       "      <td>None</td>\n",
       "      <td>None</td>\n",
       "      <td>None</td>\n",
       "      <td>None</td>\n",
       "      <td>None</td>\n",
       "      <td>None</td>\n",
       "      <td>None</td>\n",
       "      <td>None</td>\n",
       "      <td>Spain</td>\n",
       "      <td>None</td>\n",
       "      <td>None</td>\n",
       "      <td>None</td>\n",
       "      <td>Renaissance Barcelona Hotel</td>\n",
       "      <td>1472</td>\n",
       "    </tr>\n",
       "  </tbody>\n",
       "</table>\n",
       "</div>"
      ],
      "text/plain": [
       "                                          Hotel_Name lat lng  \\\n",
       "0                Fleming s Selection Hotel Wien City  NA  NA   \n",
       "1   Austria Trend Hotel Schloss Wilhelminenberg Wien  NA  NA   \n",
       "2                                   Hotel Park Villa  NA  NA   \n",
       "3                                      Hotel Advance  NA  NA   \n",
       "4                                       Roomz Vienna  NA  NA   \n",
       "5                     NH Collection Barcelona Podium  NA  NA   \n",
       "6                          City Hotel Deutschmeister  NA  NA   \n",
       "7                                Hotel Daniel Vienna  NA  NA   \n",
       "8       Derag Livinghotel Kaiser Franz Joseph Vienna  NA  NA   \n",
       "9                                 Hotel City Central  NA  NA   \n",
       "10                Hotel Pension Baron am Schottentor  NA  NA   \n",
       "11                   Mercure Paris Gare Montparnasse  NA  NA   \n",
       "12            Maison Albar Hotel Paris Op ra Diamond  NA  NA   \n",
       "13                      Holiday Inn Paris Montmartre  NA  NA   \n",
       "14                         Cordial Theaterhotel Wien  NA  NA   \n",
       "15                       Renaissance Barcelona Hotel  NA  NA   \n",
       "\n",
       "                                         HotelAddress FridayHours MondayHours  \\\n",
       "0   Josefst dter Stra e 10 12 08 Josefstadt 1080 V...        None        None   \n",
       "1    Savoyenstra e 2 16 Ottakring 1160 Vienna Austria        None        None   \n",
       "2   Hasenauerstra e 12 19 D bling 1190 Vienna Austria        None        None   \n",
       "3        Sep lveda 180 Eixample 08011 Barcelona Spain        None        None   \n",
       "4    Paragonstra e 1 11 Simmering 1110 Vienna Austria        None        None   \n",
       "5           Bail n 4 6 Eixample 08010 Barcelona Spain        None        None   \n",
       "6   Gr nentorgasse 30 09 Alsergrund 1090 Vienna Au...        None        None   \n",
       "7   Landstra er G rtel 5 03 Landstra e 1030 Vienna...        None        None   \n",
       "8   Sieveringer Stra e 4 19 D bling 1190 Vienna Au...        None        None   \n",
       "9   Taborstra e 8 A 02 Leopoldstadt 1020 Vienna Au...        None        None   \n",
       "10  W hringer Stra e 12 09 Alsergrund 1090 Vienna ...        None        None   \n",
       "11      20 Rue De La Ga t 14th arr 75014 Paris France        None        None   \n",
       "12   4 rue de la P pini re 8th arr 75008 Paris France        None        None   \n",
       "13       23 Rue Damr mont 18th arr 75018 Paris France        None        None   \n",
       "14  Josefst dter Stra e 22 08 Josefstadt 1080 Vien...        None        None   \n",
       "15      Pau Clar s 122 Eixample 08009 Barcelona Spain        None        None   \n",
       "\n",
       "   NormalisedHotelName SaturdayHours SundayHours ThursdayHours TuesdayHours  \\\n",
       "0                 None          None        None          None         None   \n",
       "1                 None          None        None          None         None   \n",
       "2                 None          None        None          None         None   \n",
       "3                 None          None        None          None         None   \n",
       "4                 None          None        None          None         None   \n",
       "5                 None          None        None          None         None   \n",
       "6                 None          None        None          None         None   \n",
       "7                 None          None        None          None         None   \n",
       "8                 None          None        None          None         None   \n",
       "9                 None          None        None          None         None   \n",
       "10                None          None        None          None         None   \n",
       "11                None          None        None          None         None   \n",
       "12                None          None        None          None         None   \n",
       "13                None          None        None          None         None   \n",
       "14                None          None        None          None         None   \n",
       "15                None          None        None          None         None   \n",
       "\n",
       "   WednesdayHours GoogleAddress  Country gPlusPlaceId Phone Price  \\\n",
       "0            None          None  Austria         None  None  None   \n",
       "1            None          None  Austria         None  None  None   \n",
       "2            None          None  Austria         None  None  None   \n",
       "3            None          None    Spain         None  None  None   \n",
       "4            None          None  Austria         None  None  None   \n",
       "5            None          None    Spain         None  None  None   \n",
       "6            None          None  Austria         None  None  None   \n",
       "7            None          None  Austria         None  None  None   \n",
       "8            None          None  Austria         None  None  None   \n",
       "9            None          None  Austria         None  None  None   \n",
       "10           None          None  Austria         None  None  None   \n",
       "11           None          None   France         None  None  None   \n",
       "12           None          None   France         None  None  None   \n",
       "13           None          None   France         None  None  None   \n",
       "14           None          None  Austria         None  None  None   \n",
       "15           None          None    Spain         None  None  None   \n",
       "\n",
       "                                           HotelName  HotelID  \n",
       "0                Fleming s Selection Hotel Wien City        8  \n",
       "1   Austria Trend Hotel Schloss Wilhelminenberg Wien       11  \n",
       "2                                   Hotel Park Villa      182  \n",
       "3                                      Hotel Advance      277  \n",
       "4                                       Roomz Vienna      545  \n",
       "5                     NH Collection Barcelona Podium      587  \n",
       "6                          City Hotel Deutschmeister      905  \n",
       "7                                Hotel Daniel Vienna      958  \n",
       "8       Derag Livinghotel Kaiser Franz Joseph Vienna     1122  \n",
       "9                                 Hotel City Central     1124  \n",
       "10                Hotel Pension Baron am Schottentor     1125  \n",
       "11                   Mercure Paris Gare Montparnasse     1316  \n",
       "12            Maison Albar Hotel Paris Op ra Diamond     1355  \n",
       "13                      Holiday Inn Paris Montmartre     1366  \n",
       "14                         Cordial Theaterhotel Wien     1372  \n",
       "15                       Renaissance Barcelona Hotel     1472  "
      ]
     },
     "execution_count": 233,
     "metadata": {},
     "output_type": "execute_result"
    }
   ],
   "source": [
    "df_google_hotels.filter((F.col('lat')=='NA')| (F.col('lng')=='NA')).toPandas()"
   ]
  },
  {
   "cell_type": "code",
   "execution_count": 238,
   "metadata": {
    "editable": true
   },
   "outputs": [],
   "source": [
    "def replace_na_with_latlong(df, HotelID, latit, longi):\n",
    "    df = df.withColumn('lat', F.when(F.col('HotelID')==HotelID, latit).otherwise(F.col('lat')))\n",
    "    df = df.withColumn('lng', F.when(F.col('HotelID')==HotelID, longi).otherwise(F.col('lng')))\n",
    "    return df\n",
    "    \n",
    "df_google_hotels = replace_na_with_latlong(df_google_hotels, 8, 48.2094, 16.3534) # Fleming s Selection Hotel Wien City\n",
    "df_google_hotels = replace_na_with_latlong(df_google_hotels, 11, 48.2196, 16.2856) # Austria Trend Hotel Schloss Wilhelminenberg Wien\n",
    "df_google_hotels = replace_na_with_latlong(df_google_hotels, 182, 48.2336, 16.3457) # Hotel Park Villa\n",
    "df_google_hotels = replace_na_with_latlong(df_google_hotels, 277, 41.3833, 2.1628) # Hotel Advance\n",
    "df_google_hotels = replace_na_with_latlong(df_google_hotels, 545, 48.1868, 16.4207) # Roomz Vienna\n",
    "df_google_hotels = replace_na_with_latlong(df_google_hotels, 587, 41.3916, 2.1779) # NH Collection Barcelona Podium\n",
    "df_google_hotels = replace_na_with_latlong(df_google_hotels, 905, 48.2209, 16.3666) # City Hotel Deutschmeister\n",
    "df_google_hotels = replace_na_with_latlong(df_google_hotels, 958, 48.1888, 16.3838) # Hotel Daniel Vienna\n",
    "df_google_hotels = replace_na_with_latlong(df_google_hotels, 1122, 48.2460, 16.3415) # Derag Livinghotel Kaiser Franz Joseph Vienna\n",
    "df_google_hotels = replace_na_with_latlong(df_google_hotels, 1124, 48.2136, 16.3799) # Hotel City Central\n",
    "df_google_hotels = replace_na_with_latlong(df_google_hotels, 1125, 48.2168, 16.3601) # Hotel Pension Baron am Schottentor\n",
    "df_google_hotels = replace_na_with_latlong(df_google_hotels, 1316, 48.8400, 2.3236) # Mercure Paris Gare Montparnasse\n",
    "df_google_hotels = replace_na_with_latlong(df_google_hotels, 1366, 48.8889, 2.3331) # Holiday Inn Paris Montmartre\n",
    "df_google_hotels = replace_na_with_latlong(df_google_hotels, 1372, 48.2095, 16.3515) # Cordial Theaterhotel Wien\n",
    "df_google_hotels = replace_na_with_latlong(df_google_hotels, 1472, 41.3927, 2.1674) # Renaissance Barcelona Hotel\n"
   ]
  },
  {
   "cell_type": "code",
   "execution_count": 241,
   "metadata": {
    "editable": true
   },
   "outputs": [
    {
     "data": {
      "text/html": [
       "<div>\n",
       "<style scoped>\n",
       "    .dataframe tbody tr th:only-of-type {\n",
       "        vertical-align: middle;\n",
       "    }\n",
       "\n",
       "    .dataframe tbody tr th {\n",
       "        vertical-align: top;\n",
       "    }\n",
       "\n",
       "    .dataframe thead th {\n",
       "        text-align: right;\n",
       "    }\n",
       "</style>\n",
       "<table border=\"1\" class=\"dataframe\">\n",
       "  <thead>\n",
       "    <tr style=\"text-align: right;\">\n",
       "      <th></th>\n",
       "      <th>Hotel_Name</th>\n",
       "      <th>lat</th>\n",
       "      <th>lng</th>\n",
       "      <th>HotelAddress</th>\n",
       "      <th>FridayHours</th>\n",
       "      <th>MondayHours</th>\n",
       "      <th>NormalisedHotelName</th>\n",
       "      <th>SaturdayHours</th>\n",
       "      <th>SundayHours</th>\n",
       "      <th>ThursdayHours</th>\n",
       "      <th>TuesdayHours</th>\n",
       "      <th>WednesdayHours</th>\n",
       "      <th>GoogleAddress</th>\n",
       "      <th>Country</th>\n",
       "      <th>gPlusPlaceId</th>\n",
       "      <th>Phone</th>\n",
       "      <th>Price</th>\n",
       "      <th>HotelName</th>\n",
       "      <th>HotelID</th>\n",
       "    </tr>\n",
       "  </thead>\n",
       "  <tbody>\n",
       "    <tr>\n",
       "      <th>0</th>\n",
       "      <td>Fleming s Selection Hotel Wien City</td>\n",
       "      <td>48.2094</td>\n",
       "      <td>16.3534</td>\n",
       "      <td>Josefst dter Stra e 10 12 08 Josefstadt 1080 V...</td>\n",
       "      <td>None</td>\n",
       "      <td>None</td>\n",
       "      <td>None</td>\n",
       "      <td>None</td>\n",
       "      <td>None</td>\n",
       "      <td>None</td>\n",
       "      <td>None</td>\n",
       "      <td>None</td>\n",
       "      <td>None</td>\n",
       "      <td>Austria</td>\n",
       "      <td>None</td>\n",
       "      <td>None</td>\n",
       "      <td>None</td>\n",
       "      <td>Fleming s Selection Hotel Wien City</td>\n",
       "      <td>8</td>\n",
       "    </tr>\n",
       "  </tbody>\n",
       "</table>\n",
       "</div>"
      ],
      "text/plain": [
       "                            Hotel_Name      lat      lng  \\\n",
       "0  Fleming s Selection Hotel Wien City  48.2094  16.3534   \n",
       "\n",
       "                                        HotelAddress FridayHours MondayHours  \\\n",
       "0  Josefst dter Stra e 10 12 08 Josefstadt 1080 V...        None        None   \n",
       "\n",
       "  NormalisedHotelName SaturdayHours SundayHours ThursdayHours TuesdayHours  \\\n",
       "0                None          None        None          None         None   \n",
       "\n",
       "  WednesdayHours GoogleAddress  Country gPlusPlaceId Phone Price  \\\n",
       "0           None          None  Austria         None  None  None   \n",
       "\n",
       "                             HotelName  HotelID  \n",
       "0  Fleming s Selection Hotel Wien City        8  "
      ]
     },
     "execution_count": 241,
     "metadata": {},
     "output_type": "execute_result"
    }
   ],
   "source": [
    "df_google_hotels.filter(F.col('HotelID')==8).toPandas()"
   ]
  },
  {
   "cell_type": "code",
   "execution_count": 239,
   "metadata": {
    "editable": true
   },
   "outputs": [
    {
     "data": {
      "text/html": [
       "<div>\n",
       "<style scoped>\n",
       "    .dataframe tbody tr th:only-of-type {\n",
       "        vertical-align: middle;\n",
       "    }\n",
       "\n",
       "    .dataframe tbody tr th {\n",
       "        vertical-align: top;\n",
       "    }\n",
       "\n",
       "    .dataframe thead th {\n",
       "        text-align: right;\n",
       "    }\n",
       "</style>\n",
       "<table border=\"1\" class=\"dataframe\">\n",
       "  <thead>\n",
       "    <tr style=\"text-align: right;\">\n",
       "      <th></th>\n",
       "      <th>Hotel_Name</th>\n",
       "      <th>lat</th>\n",
       "      <th>lng</th>\n",
       "      <th>HotelAddress</th>\n",
       "      <th>FridayHours</th>\n",
       "      <th>MondayHours</th>\n",
       "      <th>NormalisedHotelName</th>\n",
       "      <th>SaturdayHours</th>\n",
       "      <th>SundayHours</th>\n",
       "      <th>ThursdayHours</th>\n",
       "      <th>TuesdayHours</th>\n",
       "      <th>WednesdayHours</th>\n",
       "      <th>GoogleAddress</th>\n",
       "      <th>Country</th>\n",
       "      <th>gPlusPlaceId</th>\n",
       "      <th>Phone</th>\n",
       "      <th>Price</th>\n",
       "      <th>HotelName</th>\n",
       "      <th>HotelID</th>\n",
       "    </tr>\n",
       "  </thead>\n",
       "  <tbody>\n",
       "    <tr>\n",
       "      <th>0</th>\n",
       "      <td>Maison Albar Hotel Paris Op ra Diamond</td>\n",
       "      <td>NA</td>\n",
       "      <td>NA</td>\n",
       "      <td>4 rue de la P pini re 8th arr 75008 Paris France</td>\n",
       "      <td>None</td>\n",
       "      <td>None</td>\n",
       "      <td>None</td>\n",
       "      <td>None</td>\n",
       "      <td>None</td>\n",
       "      <td>None</td>\n",
       "      <td>None</td>\n",
       "      <td>None</td>\n",
       "      <td>None</td>\n",
       "      <td>France</td>\n",
       "      <td>None</td>\n",
       "      <td>None</td>\n",
       "      <td>None</td>\n",
       "      <td>Maison Albar Hotel Paris Op ra Diamond</td>\n",
       "      <td>1355</td>\n",
       "    </tr>\n",
       "  </tbody>\n",
       "</table>\n",
       "</div>"
      ],
      "text/plain": [
       "                               Hotel_Name lat lng  \\\n",
       "0  Maison Albar Hotel Paris Op ra Diamond  NA  NA   \n",
       "\n",
       "                                       HotelAddress FridayHours MondayHours  \\\n",
       "0  4 rue de la P pini re 8th arr 75008 Paris France        None        None   \n",
       "\n",
       "  NormalisedHotelName SaturdayHours SundayHours ThursdayHours TuesdayHours  \\\n",
       "0                None          None        None          None         None   \n",
       "\n",
       "  WednesdayHours GoogleAddress Country gPlusPlaceId Phone Price  \\\n",
       "0           None          None  France         None  None  None   \n",
       "\n",
       "                                HotelName  HotelID  \n",
       "0  Maison Albar Hotel Paris Op ra Diamond     1355  "
      ]
     },
     "execution_count": 239,
     "metadata": {},
     "output_type": "execute_result"
    }
   ],
   "source": [
    "df_google_hotels.filter((F.col('lat')=='NA')| (F.col('lng')=='NA')).toPandas()"
   ]
  },
  {
   "cell_type": "code",
   "execution_count": 240,
   "metadata": {
    "editable": true
   },
   "outputs": [
    {
     "data": {
      "text/html": [
       "<div>\n",
       "<style scoped>\n",
       "    .dataframe tbody tr th:only-of-type {\n",
       "        vertical-align: middle;\n",
       "    }\n",
       "\n",
       "    .dataframe tbody tr th {\n",
       "        vertical-align: top;\n",
       "    }\n",
       "\n",
       "    .dataframe thead th {\n",
       "        text-align: right;\n",
       "    }\n",
       "</style>\n",
       "<table border=\"1\" class=\"dataframe\">\n",
       "  <thead>\n",
       "    <tr style=\"text-align: right;\">\n",
       "      <th></th>\n",
       "      <th>Hotel_Name</th>\n",
       "      <th>lat</th>\n",
       "      <th>lng</th>\n",
       "      <th>HotelAddress</th>\n",
       "      <th>FridayHours</th>\n",
       "      <th>MondayHours</th>\n",
       "      <th>NormalisedHotelName</th>\n",
       "      <th>SaturdayHours</th>\n",
       "      <th>SundayHours</th>\n",
       "      <th>ThursdayHours</th>\n",
       "      <th>TuesdayHours</th>\n",
       "      <th>WednesdayHours</th>\n",
       "      <th>GoogleAddress</th>\n",
       "      <th>Country</th>\n",
       "      <th>gPlusPlaceId</th>\n",
       "      <th>Phone</th>\n",
       "      <th>Price</th>\n",
       "      <th>HotelName</th>\n",
       "      <th>HotelID</th>\n",
       "    </tr>\n",
       "  </thead>\n",
       "  <tbody>\n",
       "  </tbody>\n",
       "</table>\n",
       "</div>"
      ],
      "text/plain": [
       "Empty DataFrame\n",
       "Columns: [Hotel_Name, lat, lng, HotelAddress, FridayHours, MondayHours, NormalisedHotelName, SaturdayHours, SundayHours, ThursdayHours, TuesdayHours, WednesdayHours, GoogleAddress, Country, gPlusPlaceId, Phone, Price, HotelName, HotelID]\n",
       "Index: []"
      ]
     },
     "execution_count": 240,
     "metadata": {},
     "output_type": "execute_result"
    }
   ],
   "source": [
    "df_google_hotels = replace_na_with_latlong(df_google_hotels, 1355,48.8753, 2.3234) # Maison Albar Hotel Paris Op ra Diamond\n",
    "\n",
    "df_google_hotels.filter((F.col('lat')=='NA')| (F.col('lng')=='NA')).toPandas()"
   ]
  },
  {
   "cell_type": "markdown",
   "metadata": {
    "editable": true
   },
   "source": [
    "## Part 2: Get the nearest airport to each hotel from Airport codes, get the final version of the Hotels and Airports data frames"
   ]
  },
  {
   "cell_type": "markdown",
   "metadata": {
    "editable": true
   },
   "source": [
    "Step 19. Read in airport_codes and filter so that we have airports in the EU. Also, **Data issue: remove spam records**"
   ]
  },
  {
   "cell_type": "code",
   "execution_count": 191,
   "metadata": {
    "editable": true
   },
   "outputs": [
    {
     "data": {
      "text/plain": [
       "55075"
      ]
     },
     "execution_count": 191,
     "metadata": {},
     "output_type": "execute_result"
    }
   ],
   "source": [
    "df_airport_codes = spark.read.csv('Data/Original/airport-codes_csv.csv', header=True)\n",
    "df_airport_codes.count()"
   ]
  },
  {
   "cell_type": "markdown",
   "metadata": {
    "editable": true
   },
   "source": [
    "There are spam records in the airport codes data set for some reason. These need to be thrown out. They all seem to have coordinates = 0, 0."
   ]
  },
  {
   "cell_type": "code",
   "execution_count": 192,
   "metadata": {
    "editable": true
   },
   "outputs": [
    {
     "data": {
      "text/html": [
       "<div>\n",
       "<style scoped>\n",
       "    .dataframe tbody tr th:only-of-type {\n",
       "        vertical-align: middle;\n",
       "    }\n",
       "\n",
       "    .dataframe tbody tr th {\n",
       "        vertical-align: top;\n",
       "    }\n",
       "\n",
       "    .dataframe thead th {\n",
       "        text-align: right;\n",
       "    }\n",
       "</style>\n",
       "<table border=\"1\" class=\"dataframe\">\n",
       "  <thead>\n",
       "    <tr style=\"text-align: right;\">\n",
       "      <th></th>\n",
       "      <th>ident</th>\n",
       "      <th>type</th>\n",
       "      <th>name</th>\n",
       "      <th>elevation_ft</th>\n",
       "      <th>continent</th>\n",
       "      <th>iso_country</th>\n",
       "      <th>iso_region</th>\n",
       "      <th>municipality</th>\n",
       "      <th>gps_code</th>\n",
       "      <th>iata_code</th>\n",
       "      <th>local_code</th>\n",
       "      <th>coordinates</th>\n",
       "    </tr>\n",
       "  </thead>\n",
       "  <tbody>\n",
       "    <tr>\n",
       "      <th>0</th>\n",
       "      <td>AE-0027</td>\n",
       "      <td>closed</td>\n",
       "      <td>marked as spam</td>\n",
       "      <td>None</td>\n",
       "      <td>AS</td>\n",
       "      <td>AE</td>\n",
       "      <td>AE-U-A</td>\n",
       "      <td>None</td>\n",
       "      <td>0000</td>\n",
       "      <td>None</td>\n",
       "      <td>None</td>\n",
       "      <td>0, 0</td>\n",
       "    </tr>\n",
       "    <tr>\n",
       "      <th>1</th>\n",
       "      <td>AE-0028</td>\n",
       "      <td>small_airport</td>\n",
       "      <td>osman anisa</td>\n",
       "      <td>None</td>\n",
       "      <td>AS</td>\n",
       "      <td>AE</td>\n",
       "      <td>AE-DU</td>\n",
       "      <td>Business Bay</td>\n",
       "      <td>None</td>\n",
       "      <td>None</td>\n",
       "      <td>None</td>\n",
       "      <td>0, 0</td>\n",
       "    </tr>\n",
       "    <tr>\n",
       "      <th>2</th>\n",
       "      <td>AE-0030</td>\n",
       "      <td>medium_airport</td>\n",
       "      <td>FIVE STAR FINANCE COMPANY</td>\n",
       "      <td>None</td>\n",
       "      <td>AS</td>\n",
       "      <td>AE</td>\n",
       "      <td>AE-DU</td>\n",
       "      <td>None</td>\n",
       "      <td>None</td>\n",
       "      <td>None</td>\n",
       "      <td>None</td>\n",
       "      <td>0, 0</td>\n",
       "    </tr>\n",
       "    <tr>\n",
       "      <th>3</th>\n",
       "      <td>AL-0004</td>\n",
       "      <td>medium_airport</td>\n",
       "      <td>Çá¸¾á¸á¸ á¸®á¸Ç{+91-9680118734} GiRLFRieNd...</td>\n",
       "      <td>None</td>\n",
       "      <td>EU</td>\n",
       "      <td>AL</td>\n",
       "      <td>AL-U-A</td>\n",
       "      <td>ki</td>\n",
       "      <td>None</td>\n",
       "      <td>None</td>\n",
       "      <td>None</td>\n",
       "      <td>0, 0</td>\n",
       "    </tr>\n",
       "    <tr>\n",
       "      <th>4</th>\n",
       "      <td>AU-0116</td>\n",
       "      <td>small_airport</td>\n",
       "      <td>SYD</td>\n",
       "      <td>None</td>\n",
       "      <td>OC</td>\n",
       "      <td>AU</td>\n",
       "      <td>AU-NSW</td>\n",
       "      <td>None</td>\n",
       "      <td>None</td>\n",
       "      <td>None</td>\n",
       "      <td>None</td>\n",
       "      <td>0, 0</td>\n",
       "    </tr>\n",
       "  </tbody>\n",
       "</table>\n",
       "</div>"
      ],
      "text/plain": [
       "     ident            type                                               name  \\\n",
       "0  AE-0027          closed                                     marked as spam   \n",
       "1  AE-0028   small_airport                                        osman anisa   \n",
       "2  AE-0030  medium_airport                          FIVE STAR FINANCE COMPANY   \n",
       "3  AL-0004  medium_airport  Çá¸¾á¸á¸ á¸®á¸Ç{+91-9680118734} GiRLFRieNd...   \n",
       "4  AU-0116   small_airport                                                SYD   \n",
       "\n",
       "  elevation_ft continent iso_country iso_region  municipality gps_code  \\\n",
       "0         None        AS          AE     AE-U-A          None     0000   \n",
       "1         None        AS          AE      AE-DU  Business Bay     None   \n",
       "2         None        AS          AE      AE-DU          None     None   \n",
       "3         None        EU          AL     AL-U-A            ki     None   \n",
       "4         None        OC          AU     AU-NSW          None     None   \n",
       "\n",
       "  iata_code local_code coordinates  \n",
       "0      None       None        0, 0  \n",
       "1      None       None        0, 0  \n",
       "2      None       None        0, 0  \n",
       "3      None       None        0, 0  \n",
       "4      None       None        0, 0  "
      ]
     },
     "execution_count": 192,
     "metadata": {},
     "output_type": "execute_result"
    }
   ],
   "source": [
    "df_airport_codes.filter(F.col('coordinates')=='0, 0').limit(5).toPandas()"
   ]
  },
  {
   "cell_type": "code",
   "execution_count": 193,
   "metadata": {
    "editable": true
   },
   "outputs": [
    {
     "data": {
      "text/plain": [
       "53"
      ]
     },
     "execution_count": 193,
     "metadata": {},
     "output_type": "execute_result"
    }
   ],
   "source": [
    "df_airport_codes.filter(F.col('coordinates')=='0, 0').count()"
   ]
  },
  {
   "cell_type": "code",
   "execution_count": 194,
   "metadata": {
    "editable": true
   },
   "outputs": [],
   "source": [
    "df_airport_codes = df_airport_codes.filter(F.col('coordinates') != '0, 0')"
   ]
  },
  {
   "cell_type": "code",
   "execution_count": 195,
   "metadata": {
    "editable": true
   },
   "outputs": [
    {
     "data": {
      "text/plain": [
       "51425"
      ]
     },
     "execution_count": 195,
     "metadata": {},
     "output_type": "execute_result"
    }
   ],
   "source": [
    "df_airport_codes = df_airport_codes.filter(F.col('type')!='closed')\n",
    "df_airport_codes.count()"
   ]
  },
  {
   "cell_type": "markdown",
   "metadata": {
    "editable": true
   },
   "source": [
    "Restrict to EU"
   ]
  },
  {
   "cell_type": "code",
   "execution_count": 196,
   "metadata": {
    "editable": true
   },
   "outputs": [
    {
     "data": {
      "text/plain": [
       "6965"
      ]
     },
     "execution_count": 196,
     "metadata": {},
     "output_type": "execute_result"
    }
   ],
   "source": [
    "df_airport_codes = df_airport_codes.filter(F.col('continent')=='EU')\n",
    "df_airport_codes.count()"
   ]
  },
  {
   "cell_type": "code",
   "execution_count": 197,
   "metadata": {
    "editable": true
   },
   "outputs": [
    {
     "name": "stdout",
     "output_type": "stream",
     "text": [
      "+--------------+\n",
      "|          type|\n",
      "+--------------+\n",
      "| large_airport|\n",
      "|   balloonport|\n",
      "| seaplane_base|\n",
      "|      heliport|\n",
      "|medium_airport|\n",
      "| small_airport|\n",
      "+--------------+\n",
      "\n"
     ]
    }
   ],
   "source": [
    "df_airport_codes.select('type').distinct().show()"
   ]
  },
  {
   "cell_type": "markdown",
   "metadata": {
    "editable": true
   },
   "source": [
    "We are only interested in small, medium, large airports"
   ]
  },
  {
   "cell_type": "code",
   "execution_count": 198,
   "metadata": {
    "editable": true
   },
   "outputs": [
    {
     "data": {
      "text/plain": [
       "5910"
      ]
     },
     "execution_count": 198,
     "metadata": {},
     "output_type": "execute_result"
    }
   ],
   "source": [
    "df_airport_codes = df_airport_codes.filter(F.col('type').isin('small_airport', 'medium_airport', 'large_airport'))\n",
    "df_airport_codes.count()"
   ]
  },
  {
   "cell_type": "code",
   "execution_count": 199,
   "metadata": {
    "editable": true
   },
   "outputs": [
    {
     "name": "stdout",
     "output_type": "stream",
     "text": [
      "+-----------+\n",
      "|iso_country|\n",
      "+-----------+\n",
      "|         LT|\n",
      "|         FI|\n",
      "|         UA|\n",
      "|         RO|\n",
      "|         NL|\n",
      "|         PL|\n",
      "|         MK|\n",
      "|         EE|\n",
      "|         SM|\n",
      "|         AT|\n",
      "|         RU|\n",
      "|         HR|\n",
      "|         CZ|\n",
      "|         PT|\n",
      "|         GG|\n",
      "|         GB|\n",
      "|         MT|\n",
      "|         BY|\n",
      "|         MD|\n",
      "|         DE|\n",
      "+-----------+\n",
      "only showing top 20 rows\n",
      "\n"
     ]
    }
   ],
   "source": [
    "df_airport_codes.select('iso_country').distinct().show()"
   ]
  },
  {
   "cell_type": "markdown",
   "metadata": {
    "editable": true
   },
   "source": [
    "Split the coordinates string column into 2 columns: latitude and longitude. Bizzarely, the airport codes data contains the longitude before the latitude."
   ]
  },
  {
   "cell_type": "code",
   "execution_count": 203,
   "metadata": {
    "editable": true
   },
   "outputs": [],
   "source": [
    "# https://stackoverflow.com/questions/39235704/split-spark-dataframe-string-column-into-multiple-columns\n",
    "split_col = F.split(df_airport_codes['coordinates'], ', ')\n",
    "df_airport_codes = df_airport_codes.withColumn('longitude', split_col.getItem(0))\n",
    "df_airport_codes = df_airport_codes.withColumn('latitude', split_col.getItem(1))"
   ]
  },
  {
   "cell_type": "code",
   "execution_count": 204,
   "metadata": {
    "editable": true
   },
   "outputs": [
    {
     "name": "stdout",
     "output_type": "stream",
     "text": [
      "[('ident', 'string'), ('type', 'string'), ('name', 'string'), ('elevation_ft', 'string'), ('continent', 'string'), ('iso_country', 'string'), ('iso_region', 'string'), ('municipality', 'string'), ('gps_code', 'string'), ('iata_code', 'string'), ('local_code', 'string'), ('coordinates', 'string'), ('longitude', 'double'), ('latitude', 'double')]\n"
     ]
    },
    {
     "data": {
      "text/html": [
       "<div>\n",
       "<style scoped>\n",
       "    .dataframe tbody tr th:only-of-type {\n",
       "        vertical-align: middle;\n",
       "    }\n",
       "\n",
       "    .dataframe tbody tr th {\n",
       "        vertical-align: top;\n",
       "    }\n",
       "\n",
       "    .dataframe thead th {\n",
       "        text-align: right;\n",
       "    }\n",
       "</style>\n",
       "<table border=\"1\" class=\"dataframe\">\n",
       "  <thead>\n",
       "    <tr style=\"text-align: right;\">\n",
       "      <th></th>\n",
       "      <th>ident</th>\n",
       "      <th>type</th>\n",
       "      <th>name</th>\n",
       "      <th>elevation_ft</th>\n",
       "      <th>continent</th>\n",
       "      <th>iso_country</th>\n",
       "      <th>iso_region</th>\n",
       "      <th>municipality</th>\n",
       "      <th>gps_code</th>\n",
       "      <th>iata_code</th>\n",
       "      <th>local_code</th>\n",
       "      <th>coordinates</th>\n",
       "      <th>longitude</th>\n",
       "      <th>latitude</th>\n",
       "    </tr>\n",
       "  </thead>\n",
       "  <tbody>\n",
       "    <tr>\n",
       "      <th>0</th>\n",
       "      <td>BA-0001</td>\n",
       "      <td>small_airport</td>\n",
       "      <td>Sport airfield Ciljuge</td>\n",
       "      <td>725</td>\n",
       "      <td>EU</td>\n",
       "      <td>BA</td>\n",
       "      <td>BA-BIH</td>\n",
       "      <td>Tuzla</td>\n",
       "      <td>LQCG</td>\n",
       "      <td>None</td>\n",
       "      <td>None</td>\n",
       "      <td>18.685613632202, 44.438152313232</td>\n",
       "      <td>18.685614</td>\n",
       "      <td>44.438152</td>\n",
       "    </tr>\n",
       "    <tr>\n",
       "      <th>1</th>\n",
       "      <td>BA-0002</td>\n",
       "      <td>small_airport</td>\n",
       "      <td>Sportski Aerodrom ZaluÅ¾ani</td>\n",
       "      <td>None</td>\n",
       "      <td>EU</td>\n",
       "      <td>BA</td>\n",
       "      <td>BA-BIH</td>\n",
       "      <td>ZaluÅ¾ani</td>\n",
       "      <td>LQBZ</td>\n",
       "      <td>None</td>\n",
       "      <td>None</td>\n",
       "      <td>17.222826, 44.8482</td>\n",
       "      <td>17.222826</td>\n",
       "      <td>44.848200</td>\n",
       "    </tr>\n",
       "    <tr>\n",
       "      <th>2</th>\n",
       "      <td>BA-0003</td>\n",
       "      <td>small_airport</td>\n",
       "      <td>Brod Airstrip</td>\n",
       "      <td>337</td>\n",
       "      <td>EU</td>\n",
       "      <td>BA</td>\n",
       "      <td>BA-SRP</td>\n",
       "      <td>Brod</td>\n",
       "      <td>None</td>\n",
       "      <td>None</td>\n",
       "      <td>None</td>\n",
       "      <td>18.761888, 44.846235</td>\n",
       "      <td>18.761888</td>\n",
       "      <td>44.846235</td>\n",
       "    </tr>\n",
       "    <tr>\n",
       "      <th>3</th>\n",
       "      <td>BE-0003</td>\n",
       "      <td>small_airport</td>\n",
       "      <td>Sovet Airfield</td>\n",
       "      <td>919</td>\n",
       "      <td>EU</td>\n",
       "      <td>BE</td>\n",
       "      <td>BE-WNA</td>\n",
       "      <td>Ciney</td>\n",
       "      <td>None</td>\n",
       "      <td>None</td>\n",
       "      <td>None</td>\n",
       "      <td>5.04027795791, 50.28666687</td>\n",
       "      <td>5.040278</td>\n",
       "      <td>50.286667</td>\n",
       "    </tr>\n",
       "    <tr>\n",
       "      <th>4</th>\n",
       "      <td>BE-0006</td>\n",
       "      <td>small_airport</td>\n",
       "      <td>[Duplicate] Neerpelt ULM</td>\n",
       "      <td>148</td>\n",
       "      <td>EU</td>\n",
       "      <td>BE</td>\n",
       "      <td>BE-VLI</td>\n",
       "      <td>None</td>\n",
       "      <td>EBNE</td>\n",
       "      <td>None</td>\n",
       "      <td>None</td>\n",
       "      <td>5.478611, 51.211944</td>\n",
       "      <td>5.478611</td>\n",
       "      <td>51.211944</td>\n",
       "    </tr>\n",
       "  </tbody>\n",
       "</table>\n",
       "</div>"
      ],
      "text/plain": [
       "     ident           type                         name elevation_ft continent  \\\n",
       "0  BA-0001  small_airport       Sport airfield Ciljuge          725        EU   \n",
       "1  BA-0002  small_airport  Sportski Aerodrom ZaluÅ¾ani         None        EU   \n",
       "2  BA-0003  small_airport                Brod Airstrip          337        EU   \n",
       "3  BE-0003  small_airport               Sovet Airfield          919        EU   \n",
       "4  BE-0006  small_airport     [Duplicate] Neerpelt ULM          148        EU   \n",
       "\n",
       "  iso_country iso_region municipality gps_code iata_code local_code  \\\n",
       "0          BA     BA-BIH        Tuzla     LQCG      None       None   \n",
       "1          BA     BA-BIH    ZaluÅ¾ani     LQBZ      None       None   \n",
       "2          BA     BA-SRP         Brod     None      None       None   \n",
       "3          BE     BE-WNA        Ciney     None      None       None   \n",
       "4          BE     BE-VLI         None     EBNE      None       None   \n",
       "\n",
       "                        coordinates  longitude   latitude  \n",
       "0  18.685613632202, 44.438152313232  18.685614  44.438152  \n",
       "1                17.222826, 44.8482  17.222826  44.848200  \n",
       "2              18.761888, 44.846235  18.761888  44.846235  \n",
       "3        5.04027795791, 50.28666687   5.040278  50.286667  \n",
       "4               5.478611, 51.211944   5.478611  51.211944  "
      ]
     },
     "execution_count": 204,
     "metadata": {},
     "output_type": "execute_result"
    }
   ],
   "source": [
    "df_airport_codes = df_airport_codes.withColumn('longitude', df_airport_codes.longitude.cast(DoubleType()))\n",
    "df_airport_codes = df_airport_codes.withColumn('latitude', df_airport_codes.latitude.cast(DoubleType()))\n",
    "print(df_airport_codes.dtypes)\n",
    "df_airport_codes.limit(5).toPandas()"
   ]
  },
  {
   "cell_type": "code",
   "execution_count": 205,
   "metadata": {
    "editable": true
   },
   "outputs": [],
   "source": [
    "df_airport_codes = df_airport_codes.drop('coordinates')"
   ]
  },
  {
   "cell_type": "markdown",
   "metadata": {
    "editable": true
   },
   "source": [
    "Step 20. Add in the country based on the countryiso.csv ISO-Country name mapping file."
   ]
  },
  {
   "cell_type": "code",
   "execution_count": 206,
   "metadata": {
    "editable": true
   },
   "outputs": [
    {
     "data": {
      "text/plain": [
       "249"
      ]
     },
     "execution_count": 206,
     "metadata": {},
     "output_type": "execute_result"
    }
   ],
   "source": [
    "isocountries_df = spark.read.csv('Data/Original/countryiso.csv', header=True)\n",
    "isocountries_df.count()"
   ]
  },
  {
   "cell_type": "code",
   "execution_count": 207,
   "metadata": {
    "editable": true
   },
   "outputs": [
    {
     "data": {
      "text/html": [
       "<div>\n",
       "<style scoped>\n",
       "    .dataframe tbody tr th:only-of-type {\n",
       "        vertical-align: middle;\n",
       "    }\n",
       "\n",
       "    .dataframe tbody tr th {\n",
       "        vertical-align: top;\n",
       "    }\n",
       "\n",
       "    .dataframe thead th {\n",
       "        text-align: right;\n",
       "    }\n",
       "</style>\n",
       "<table border=\"1\" class=\"dataframe\">\n",
       "  <thead>\n",
       "    <tr style=\"text-align: right;\">\n",
       "      <th></th>\n",
       "      <th>Country</th>\n",
       "      <th>Code</th>\n",
       "    </tr>\n",
       "  </thead>\n",
       "  <tbody>\n",
       "    <tr>\n",
       "      <th>0</th>\n",
       "      <td>Afghanistan</td>\n",
       "      <td>AF</td>\n",
       "    </tr>\n",
       "    <tr>\n",
       "      <th>1</th>\n",
       "      <td>Åland Islands</td>\n",
       "      <td>AX</td>\n",
       "    </tr>\n",
       "    <tr>\n",
       "      <th>2</th>\n",
       "      <td>Albania</td>\n",
       "      <td>AL</td>\n",
       "    </tr>\n",
       "  </tbody>\n",
       "</table>\n",
       "</div>"
      ],
      "text/plain": [
       "         Country Code\n",
       "0    Afghanistan   AF\n",
       "1  Åland Islands   AX\n",
       "2        Albania   AL"
      ]
     },
     "execution_count": 207,
     "metadata": {},
     "output_type": "execute_result"
    }
   ],
   "source": [
    "isocountries_df = isocountries_df.withColumnRenamed('Name', 'Country')\n",
    "isocountries_df.limit(3).toPandas()"
   ]
  },
  {
   "cell_type": "code",
   "execution_count": 208,
   "metadata": {
    "editable": true
   },
   "outputs": [],
   "source": [
    "df_airport_codes = df_airport_codes.join(isocountries_df, df_airport_codes.iso_country==isocountries_df.Code)"
   ]
  },
  {
   "cell_type": "code",
   "execution_count": 226,
   "metadata": {
    "editable": true
   },
   "outputs": [
    {
     "data": {
      "text/plain": [
       "0"
      ]
     },
     "execution_count": 226,
     "metadata": {},
     "output_type": "execute_result"
    }
   ],
   "source": [
    "df_airport_codes.filter((F.col('latitude')=='NA')| (F.col('longitude')=='NA')).count()"
   ]
  },
  {
   "cell_type": "code",
   "execution_count": 228,
   "metadata": {
    "editable": true
   },
   "outputs": [
    {
     "data": {
      "text/plain": [
       "0"
      ]
     },
     "execution_count": 228,
     "metadata": {},
     "output_type": "execute_result"
    }
   ],
   "source": [
    "df_airport_codes.filter((F.isnan('latitude'))| (F.isnan('longitude'))).count()"
   ]
  },
  {
   "cell_type": "code",
   "execution_count": 209,
   "metadata": {
    "editable": true
   },
   "outputs": [
    {
     "data": {
      "text/html": [
       "<div>\n",
       "<style scoped>\n",
       "    .dataframe tbody tr th:only-of-type {\n",
       "        vertical-align: middle;\n",
       "    }\n",
       "\n",
       "    .dataframe tbody tr th {\n",
       "        vertical-align: top;\n",
       "    }\n",
       "\n",
       "    .dataframe thead th {\n",
       "        text-align: right;\n",
       "    }\n",
       "</style>\n",
       "<table border=\"1\" class=\"dataframe\">\n",
       "  <thead>\n",
       "    <tr style=\"text-align: right;\">\n",
       "      <th></th>\n",
       "      <th>ident</th>\n",
       "      <th>type</th>\n",
       "      <th>name</th>\n",
       "      <th>elevation_ft</th>\n",
       "      <th>continent</th>\n",
       "      <th>iso_country</th>\n",
       "      <th>iso_region</th>\n",
       "      <th>municipality</th>\n",
       "      <th>gps_code</th>\n",
       "      <th>iata_code</th>\n",
       "      <th>local_code</th>\n",
       "      <th>longitude</th>\n",
       "      <th>latitude</th>\n",
       "      <th>Country</th>\n",
       "      <th>Code</th>\n",
       "    </tr>\n",
       "  </thead>\n",
       "  <tbody>\n",
       "    <tr>\n",
       "      <th>0</th>\n",
       "      <td>BA-0001</td>\n",
       "      <td>small_airport</td>\n",
       "      <td>Sport airfield Ciljuge</td>\n",
       "      <td>725</td>\n",
       "      <td>EU</td>\n",
       "      <td>BA</td>\n",
       "      <td>BA-BIH</td>\n",
       "      <td>Tuzla</td>\n",
       "      <td>LQCG</td>\n",
       "      <td>None</td>\n",
       "      <td>None</td>\n",
       "      <td>18.685614</td>\n",
       "      <td>44.438152</td>\n",
       "      <td>Bosnia and Herzegovina</td>\n",
       "      <td>BA</td>\n",
       "    </tr>\n",
       "    <tr>\n",
       "      <th>1</th>\n",
       "      <td>BA-0002</td>\n",
       "      <td>small_airport</td>\n",
       "      <td>Sportski Aerodrom ZaluÅ¾ani</td>\n",
       "      <td>None</td>\n",
       "      <td>EU</td>\n",
       "      <td>BA</td>\n",
       "      <td>BA-BIH</td>\n",
       "      <td>ZaluÅ¾ani</td>\n",
       "      <td>LQBZ</td>\n",
       "      <td>None</td>\n",
       "      <td>None</td>\n",
       "      <td>17.222826</td>\n",
       "      <td>44.848200</td>\n",
       "      <td>Bosnia and Herzegovina</td>\n",
       "      <td>BA</td>\n",
       "    </tr>\n",
       "    <tr>\n",
       "      <th>2</th>\n",
       "      <td>BA-0003</td>\n",
       "      <td>small_airport</td>\n",
       "      <td>Brod Airstrip</td>\n",
       "      <td>337</td>\n",
       "      <td>EU</td>\n",
       "      <td>BA</td>\n",
       "      <td>BA-SRP</td>\n",
       "      <td>Brod</td>\n",
       "      <td>None</td>\n",
       "      <td>None</td>\n",
       "      <td>None</td>\n",
       "      <td>18.761888</td>\n",
       "      <td>44.846235</td>\n",
       "      <td>Bosnia and Herzegovina</td>\n",
       "      <td>BA</td>\n",
       "    </tr>\n",
       "  </tbody>\n",
       "</table>\n",
       "</div>"
      ],
      "text/plain": [
       "     ident           type                         name elevation_ft continent  \\\n",
       "0  BA-0001  small_airport       Sport airfield Ciljuge          725        EU   \n",
       "1  BA-0002  small_airport  Sportski Aerodrom ZaluÅ¾ani         None        EU   \n",
       "2  BA-0003  small_airport                Brod Airstrip          337        EU   \n",
       "\n",
       "  iso_country iso_region municipality gps_code iata_code local_code  \\\n",
       "0          BA     BA-BIH        Tuzla     LQCG      None       None   \n",
       "1          BA     BA-BIH    ZaluÅ¾ani     LQBZ      None       None   \n",
       "2          BA     BA-SRP         Brod     None      None       None   \n",
       "\n",
       "   longitude   latitude                 Country Code  \n",
       "0  18.685614  44.438152  Bosnia and Herzegovina   BA  \n",
       "1  17.222826  44.848200  Bosnia and Herzegovina   BA  \n",
       "2  18.761888  44.846235  Bosnia and Herzegovina   BA  "
      ]
     },
     "execution_count": 209,
     "metadata": {},
     "output_type": "execute_result"
    }
   ],
   "source": [
    "df_airport_codes.limit(3).toPandas()"
   ]
  },
  {
   "cell_type": "code",
   "execution_count": 210,
   "metadata": {
    "editable": true
   },
   "outputs": [],
   "source": [
    "df_airport_codes = df_airport_codes.withColumnRenamed('ident', 'AirportID')\n",
    "df_airport_codes = df_airport_codes.withColumnRenamed('name', 'AirportName')"
   ]
  },
  {
   "cell_type": "code",
   "execution_count": 211,
   "metadata": {
    "editable": true
   },
   "outputs": [],
   "source": [
    "df_airport_codes = df_airport_codes.drop('Code')"
   ]
  },
  {
   "cell_type": "code",
   "execution_count": 212,
   "metadata": {
    "editable": true
   },
   "outputs": [
    {
     "data": {
      "text/html": [
       "<div>\n",
       "<style scoped>\n",
       "    .dataframe tbody tr th:only-of-type {\n",
       "        vertical-align: middle;\n",
       "    }\n",
       "\n",
       "    .dataframe tbody tr th {\n",
       "        vertical-align: top;\n",
       "    }\n",
       "\n",
       "    .dataframe thead th {\n",
       "        text-align: right;\n",
       "    }\n",
       "</style>\n",
       "<table border=\"1\" class=\"dataframe\">\n",
       "  <thead>\n",
       "    <tr style=\"text-align: right;\">\n",
       "      <th></th>\n",
       "      <th>AirportID</th>\n",
       "      <th>type</th>\n",
       "      <th>AirportName</th>\n",
       "      <th>elevation_ft</th>\n",
       "      <th>continent</th>\n",
       "      <th>iso_country</th>\n",
       "      <th>iso_region</th>\n",
       "      <th>municipality</th>\n",
       "      <th>gps_code</th>\n",
       "      <th>iata_code</th>\n",
       "      <th>local_code</th>\n",
       "      <th>longitude</th>\n",
       "      <th>latitude</th>\n",
       "      <th>Country</th>\n",
       "    </tr>\n",
       "  </thead>\n",
       "  <tbody>\n",
       "    <tr>\n",
       "      <th>0</th>\n",
       "      <td>BA-0001</td>\n",
       "      <td>small_airport</td>\n",
       "      <td>Sport airfield Ciljuge</td>\n",
       "      <td>725</td>\n",
       "      <td>EU</td>\n",
       "      <td>BA</td>\n",
       "      <td>BA-BIH</td>\n",
       "      <td>Tuzla</td>\n",
       "      <td>LQCG</td>\n",
       "      <td>None</td>\n",
       "      <td>None</td>\n",
       "      <td>18.685614</td>\n",
       "      <td>44.438152</td>\n",
       "      <td>Bosnia and Herzegovina</td>\n",
       "    </tr>\n",
       "    <tr>\n",
       "      <th>1</th>\n",
       "      <td>BA-0002</td>\n",
       "      <td>small_airport</td>\n",
       "      <td>Sportski Aerodrom ZaluÅ¾ani</td>\n",
       "      <td>None</td>\n",
       "      <td>EU</td>\n",
       "      <td>BA</td>\n",
       "      <td>BA-BIH</td>\n",
       "      <td>ZaluÅ¾ani</td>\n",
       "      <td>LQBZ</td>\n",
       "      <td>None</td>\n",
       "      <td>None</td>\n",
       "      <td>17.222826</td>\n",
       "      <td>44.848200</td>\n",
       "      <td>Bosnia and Herzegovina</td>\n",
       "    </tr>\n",
       "    <tr>\n",
       "      <th>2</th>\n",
       "      <td>BA-0003</td>\n",
       "      <td>small_airport</td>\n",
       "      <td>Brod Airstrip</td>\n",
       "      <td>337</td>\n",
       "      <td>EU</td>\n",
       "      <td>BA</td>\n",
       "      <td>BA-SRP</td>\n",
       "      <td>Brod</td>\n",
       "      <td>None</td>\n",
       "      <td>None</td>\n",
       "      <td>None</td>\n",
       "      <td>18.761888</td>\n",
       "      <td>44.846235</td>\n",
       "      <td>Bosnia and Herzegovina</td>\n",
       "    </tr>\n",
       "  </tbody>\n",
       "</table>\n",
       "</div>"
      ],
      "text/plain": [
       "  AirportID           type                  AirportName elevation_ft  \\\n",
       "0   BA-0001  small_airport       Sport airfield Ciljuge          725   \n",
       "1   BA-0002  small_airport  Sportski Aerodrom ZaluÅ¾ani         None   \n",
       "2   BA-0003  small_airport                Brod Airstrip          337   \n",
       "\n",
       "  continent iso_country iso_region municipality gps_code iata_code local_code  \\\n",
       "0        EU          BA     BA-BIH        Tuzla     LQCG      None       None   \n",
       "1        EU          BA     BA-BIH    ZaluÅ¾ani     LQBZ      None       None   \n",
       "2        EU          BA     BA-SRP         Brod     None      None       None   \n",
       "\n",
       "   longitude   latitude                 Country  \n",
       "0  18.685614  44.438152  Bosnia and Herzegovina  \n",
       "1  17.222826  44.848200  Bosnia and Herzegovina  \n",
       "2  18.761888  44.846235  Bosnia and Herzegovina  "
      ]
     },
     "execution_count": 212,
     "metadata": {},
     "output_type": "execute_result"
    }
   ],
   "source": [
    "df_airport_codes.limit(3).toPandas()"
   ]
  },
  {
   "cell_type": "markdown",
   "metadata": {
    "editable": true
   },
   "source": [
    "Step 21. Insert the nearest airport to every hotel Now, we need to join the airport codes data with the df_google_hotels data based on Country. We only want to insert the 'AirportID', 'latitude' and 'longitude' columns into the df_google_hotels data frame along with all the existing columns. Obviously, we will get a lot of duplicate data as every row in a particular country will join with every airport in that country."
   ]
  },
  {
   "cell_type": "code",
   "execution_count": 175,
   "metadata": {
    "editable": true
   },
   "outputs": [
    {
     "data": {
      "text/plain": [
       "697118"
      ]
     },
     "execution_count": 175,
     "metadata": {},
     "output_type": "execute_result"
    }
   ],
   "source": [
    "df_google_hotels.join(df_airport_codes, on='Country')\\\n",
    "    .select(df_google_hotels['*'], df_airport_codes.AirportID, df_airport_codes.latitude, df_airport_codes.longitude)\\\n",
    "    .count()"
   ]
  },
  {
   "cell_type": "code",
   "execution_count": 242,
   "metadata": {
    "editable": true
   },
   "outputs": [],
   "source": [
    "df_google_hotels_with_dups = df_google_hotels.join(df_airport_codes, on='Country')\\\n",
    "    .select(df_google_hotels['*'], df_airport_codes.AirportID, df_airport_codes.latitude, df_airport_codes.longitude)"
   ]
  },
  {
   "cell_type": "code",
   "execution_count": 243,
   "metadata": {
    "editable": true
   },
   "outputs": [
    {
     "data": {
      "text/html": [
       "<div>\n",
       "<style scoped>\n",
       "    .dataframe tbody tr th:only-of-type {\n",
       "        vertical-align: middle;\n",
       "    }\n",
       "\n",
       "    .dataframe tbody tr th {\n",
       "        vertical-align: top;\n",
       "    }\n",
       "\n",
       "    .dataframe thead th {\n",
       "        text-align: right;\n",
       "    }\n",
       "</style>\n",
       "<table border=\"1\" class=\"dataframe\">\n",
       "  <thead>\n",
       "    <tr style=\"text-align: right;\">\n",
       "      <th></th>\n",
       "      <th>Hotel_Name</th>\n",
       "      <th>lat</th>\n",
       "      <th>lng</th>\n",
       "      <th>HotelAddress</th>\n",
       "      <th>FridayHours</th>\n",
       "      <th>MondayHours</th>\n",
       "      <th>NormalisedHotelName</th>\n",
       "      <th>SaturdayHours</th>\n",
       "      <th>SundayHours</th>\n",
       "      <th>ThursdayHours</th>\n",
       "      <th>...</th>\n",
       "      <th>GoogleAddress</th>\n",
       "      <th>Country</th>\n",
       "      <th>gPlusPlaceId</th>\n",
       "      <th>Phone</th>\n",
       "      <th>Price</th>\n",
       "      <th>HotelName</th>\n",
       "      <th>HotelID</th>\n",
       "      <th>AirportID</th>\n",
       "      <th>latitude</th>\n",
       "      <th>longitude</th>\n",
       "    </tr>\n",
       "  </thead>\n",
       "  <tbody>\n",
       "    <tr>\n",
       "      <th>0</th>\n",
       "      <td>Grand Pigalle Hotel</td>\n",
       "      <td>48.880856</td>\n",
       "      <td>2.3375085</td>\n",
       "      <td>29 rue Victor Mass 9th arr 75009 Paris France</td>\n",
       "      <td>None</td>\n",
       "      <td>None</td>\n",
       "      <td>None</td>\n",
       "      <td>None</td>\n",
       "      <td>None</td>\n",
       "      <td>None</td>\n",
       "      <td>...</td>\n",
       "      <td>None</td>\n",
       "      <td>France</td>\n",
       "      <td>None</td>\n",
       "      <td>None</td>\n",
       "      <td>None</td>\n",
       "      <td>Grand Pigalle Hotel</td>\n",
       "      <td>3</td>\n",
       "      <td>FR-0098</td>\n",
       "      <td>43.194168</td>\n",
       "      <td>3.051667</td>\n",
       "    </tr>\n",
       "    <tr>\n",
       "      <th>1</th>\n",
       "      <td>Grand Pigalle Hotel</td>\n",
       "      <td>48.880856</td>\n",
       "      <td>2.3375085</td>\n",
       "      <td>29 rue Victor Mass 9th arr 75009 Paris France</td>\n",
       "      <td>None</td>\n",
       "      <td>None</td>\n",
       "      <td>None</td>\n",
       "      <td>None</td>\n",
       "      <td>None</td>\n",
       "      <td>None</td>\n",
       "      <td>...</td>\n",
       "      <td>None</td>\n",
       "      <td>France</td>\n",
       "      <td>None</td>\n",
       "      <td>None</td>\n",
       "      <td>None</td>\n",
       "      <td>Grand Pigalle Hotel</td>\n",
       "      <td>3</td>\n",
       "      <td>FR-0158</td>\n",
       "      <td>46.890148</td>\n",
       "      <td>-2.088156</td>\n",
       "    </tr>\n",
       "    <tr>\n",
       "      <th>2</th>\n",
       "      <td>Grand Pigalle Hotel</td>\n",
       "      <td>48.880856</td>\n",
       "      <td>2.3375085</td>\n",
       "      <td>29 rue Victor Mass 9th arr 75009 Paris France</td>\n",
       "      <td>None</td>\n",
       "      <td>None</td>\n",
       "      <td>None</td>\n",
       "      <td>None</td>\n",
       "      <td>None</td>\n",
       "      <td>None</td>\n",
       "      <td>...</td>\n",
       "      <td>None</td>\n",
       "      <td>France</td>\n",
       "      <td>None</td>\n",
       "      <td>None</td>\n",
       "      <td>None</td>\n",
       "      <td>Grand Pigalle Hotel</td>\n",
       "      <td>3</td>\n",
       "      <td>FR-0183</td>\n",
       "      <td>43.082699</td>\n",
       "      <td>5.933806</td>\n",
       "    </tr>\n",
       "    <tr>\n",
       "      <th>3</th>\n",
       "      <td>Grand Pigalle Hotel</td>\n",
       "      <td>48.880856</td>\n",
       "      <td>2.3375085</td>\n",
       "      <td>29 rue Victor Mass 9th arr 75009 Paris France</td>\n",
       "      <td>None</td>\n",
       "      <td>None</td>\n",
       "      <td>None</td>\n",
       "      <td>None</td>\n",
       "      <td>None</td>\n",
       "      <td>None</td>\n",
       "      <td>...</td>\n",
       "      <td>None</td>\n",
       "      <td>France</td>\n",
       "      <td>None</td>\n",
       "      <td>None</td>\n",
       "      <td>None</td>\n",
       "      <td>Grand Pigalle Hotel</td>\n",
       "      <td>3</td>\n",
       "      <td>FR-0242</td>\n",
       "      <td>45.376718</td>\n",
       "      <td>6.276920</td>\n",
       "    </tr>\n",
       "    <tr>\n",
       "      <th>4</th>\n",
       "      <td>Grand Pigalle Hotel</td>\n",
       "      <td>48.880856</td>\n",
       "      <td>2.3375085</td>\n",
       "      <td>29 rue Victor Mass 9th arr 75009 Paris France</td>\n",
       "      <td>None</td>\n",
       "      <td>None</td>\n",
       "      <td>None</td>\n",
       "      <td>None</td>\n",
       "      <td>None</td>\n",
       "      <td>None</td>\n",
       "      <td>...</td>\n",
       "      <td>None</td>\n",
       "      <td>France</td>\n",
       "      <td>None</td>\n",
       "      <td>None</td>\n",
       "      <td>None</td>\n",
       "      <td>Grand Pigalle Hotel</td>\n",
       "      <td>3</td>\n",
       "      <td>FR-0246</td>\n",
       "      <td>42.900002</td>\n",
       "      <td>1.275000</td>\n",
       "    </tr>\n",
       "  </tbody>\n",
       "</table>\n",
       "<p>5 rows × 22 columns</p>\n",
       "</div>"
      ],
      "text/plain": [
       "            Hotel_Name        lat        lng  \\\n",
       "0  Grand Pigalle Hotel  48.880856  2.3375085   \n",
       "1  Grand Pigalle Hotel  48.880856  2.3375085   \n",
       "2  Grand Pigalle Hotel  48.880856  2.3375085   \n",
       "3  Grand Pigalle Hotel  48.880856  2.3375085   \n",
       "4  Grand Pigalle Hotel  48.880856  2.3375085   \n",
       "\n",
       "                                    HotelAddress FridayHours MondayHours  \\\n",
       "0  29 rue Victor Mass 9th arr 75009 Paris France        None        None   \n",
       "1  29 rue Victor Mass 9th arr 75009 Paris France        None        None   \n",
       "2  29 rue Victor Mass 9th arr 75009 Paris France        None        None   \n",
       "3  29 rue Victor Mass 9th arr 75009 Paris France        None        None   \n",
       "4  29 rue Victor Mass 9th arr 75009 Paris France        None        None   \n",
       "\n",
       "  NormalisedHotelName SaturdayHours SundayHours ThursdayHours    ...     \\\n",
       "0                None          None        None          None    ...      \n",
       "1                None          None        None          None    ...      \n",
       "2                None          None        None          None    ...      \n",
       "3                None          None        None          None    ...      \n",
       "4                None          None        None          None    ...      \n",
       "\n",
       "  GoogleAddress Country gPlusPlaceId Phone Price            HotelName HotelID  \\\n",
       "0          None  France         None  None  None  Grand Pigalle Hotel       3   \n",
       "1          None  France         None  None  None  Grand Pigalle Hotel       3   \n",
       "2          None  France         None  None  None  Grand Pigalle Hotel       3   \n",
       "3          None  France         None  None  None  Grand Pigalle Hotel       3   \n",
       "4          None  France         None  None  None  Grand Pigalle Hotel       3   \n",
       "\n",
       "  AirportID   latitude longitude  \n",
       "0   FR-0098  43.194168  3.051667  \n",
       "1   FR-0158  46.890148 -2.088156  \n",
       "2   FR-0183  43.082699  5.933806  \n",
       "3   FR-0242  45.376718  6.276920  \n",
       "4   FR-0246  42.900002  1.275000  \n",
       "\n",
       "[5 rows x 22 columns]"
      ]
     },
     "execution_count": 243,
     "metadata": {},
     "output_type": "execute_result"
    }
   ],
   "source": [
    "df_google_hotels_with_dups.limit(5).toPandas()"
   ]
  },
  {
   "cell_type": "markdown",
   "metadata": {
    "editable": true
   },
   "source": [
    "Step 22. Calculate the geodesic distance using exactly the same method as before"
   ]
  },
  {
   "cell_type": "code",
   "execution_count": 245,
   "metadata": {
    "editable": true
   },
   "outputs": [],
   "source": [
    "@F.udf(returnType=DoubleType())\n",
    "def calculate_geodesic_distance(lat, lng, latitude, longitude):\n",
    "    \"\"\" Calculates the distance between two sets of coordinates using the Geodesic distance\"\"\"\n",
    "    return distance.distance((lat, lng), (latitude, longitude)).km\n",
    "    \n",
    "from geopy import distance\n",
    "df_google_hotels_with_dups = df_google_hotels_with_dups.withColumn(\n",
    "    'distance', calculate_geodesic_distance('lat', 'lng', 'latitude', 'longitude'))"
   ]
  },
  {
   "cell_type": "code",
   "execution_count": 246,
   "metadata": {
    "editable": true
   },
   "outputs": [
    {
     "data": {
      "text/html": [
       "<div>\n",
       "<style scoped>\n",
       "    .dataframe tbody tr th:only-of-type {\n",
       "        vertical-align: middle;\n",
       "    }\n",
       "\n",
       "    .dataframe tbody tr th {\n",
       "        vertical-align: top;\n",
       "    }\n",
       "\n",
       "    .dataframe thead th {\n",
       "        text-align: right;\n",
       "    }\n",
       "</style>\n",
       "<table border=\"1\" class=\"dataframe\">\n",
       "  <thead>\n",
       "    <tr style=\"text-align: right;\">\n",
       "      <th></th>\n",
       "      <th>Hotel_Name</th>\n",
       "      <th>lat</th>\n",
       "      <th>lng</th>\n",
       "      <th>HotelAddress</th>\n",
       "      <th>FridayHours</th>\n",
       "      <th>MondayHours</th>\n",
       "      <th>NormalisedHotelName</th>\n",
       "      <th>SaturdayHours</th>\n",
       "      <th>SundayHours</th>\n",
       "      <th>ThursdayHours</th>\n",
       "      <th>...</th>\n",
       "      <th>Country</th>\n",
       "      <th>gPlusPlaceId</th>\n",
       "      <th>Phone</th>\n",
       "      <th>Price</th>\n",
       "      <th>HotelName</th>\n",
       "      <th>HotelID</th>\n",
       "      <th>AirportID</th>\n",
       "      <th>latitude</th>\n",
       "      <th>longitude</th>\n",
       "      <th>distance</th>\n",
       "    </tr>\n",
       "  </thead>\n",
       "  <tbody>\n",
       "    <tr>\n",
       "      <th>0</th>\n",
       "      <td>Grand Pigalle Hotel</td>\n",
       "      <td>48.880856</td>\n",
       "      <td>2.3375085</td>\n",
       "      <td>29 rue Victor Mass 9th arr 75009 Paris France</td>\n",
       "      <td>None</td>\n",
       "      <td>None</td>\n",
       "      <td>None</td>\n",
       "      <td>None</td>\n",
       "      <td>None</td>\n",
       "      <td>None</td>\n",
       "      <td>...</td>\n",
       "      <td>France</td>\n",
       "      <td>None</td>\n",
       "      <td>None</td>\n",
       "      <td>None</td>\n",
       "      <td>Grand Pigalle Hotel</td>\n",
       "      <td>3</td>\n",
       "      <td>FR-0098</td>\n",
       "      <td>43.194168</td>\n",
       "      <td>3.051667</td>\n",
       "      <td>634.491510</td>\n",
       "    </tr>\n",
       "    <tr>\n",
       "      <th>1</th>\n",
       "      <td>Grand Pigalle Hotel</td>\n",
       "      <td>48.880856</td>\n",
       "      <td>2.3375085</td>\n",
       "      <td>29 rue Victor Mass 9th arr 75009 Paris France</td>\n",
       "      <td>None</td>\n",
       "      <td>None</td>\n",
       "      <td>None</td>\n",
       "      <td>None</td>\n",
       "      <td>None</td>\n",
       "      <td>None</td>\n",
       "      <td>...</td>\n",
       "      <td>France</td>\n",
       "      <td>None</td>\n",
       "      <td>None</td>\n",
       "      <td>None</td>\n",
       "      <td>Grand Pigalle Hotel</td>\n",
       "      <td>3</td>\n",
       "      <td>FR-0158</td>\n",
       "      <td>46.890148</td>\n",
       "      <td>-2.088156</td>\n",
       "      <td>398.083062</td>\n",
       "    </tr>\n",
       "    <tr>\n",
       "      <th>2</th>\n",
       "      <td>Grand Pigalle Hotel</td>\n",
       "      <td>48.880856</td>\n",
       "      <td>2.3375085</td>\n",
       "      <td>29 rue Victor Mass 9th arr 75009 Paris France</td>\n",
       "      <td>None</td>\n",
       "      <td>None</td>\n",
       "      <td>None</td>\n",
       "      <td>None</td>\n",
       "      <td>None</td>\n",
       "      <td>None</td>\n",
       "      <td>...</td>\n",
       "      <td>France</td>\n",
       "      <td>None</td>\n",
       "      <td>None</td>\n",
       "      <td>None</td>\n",
       "      <td>Grand Pigalle Hotel</td>\n",
       "      <td>3</td>\n",
       "      <td>FR-0183</td>\n",
       "      <td>43.082699</td>\n",
       "      <td>5.933806</td>\n",
       "      <td>701.931381</td>\n",
       "    </tr>\n",
       "    <tr>\n",
       "      <th>3</th>\n",
       "      <td>Grand Pigalle Hotel</td>\n",
       "      <td>48.880856</td>\n",
       "      <td>2.3375085</td>\n",
       "      <td>29 rue Victor Mass 9th arr 75009 Paris France</td>\n",
       "      <td>None</td>\n",
       "      <td>None</td>\n",
       "      <td>None</td>\n",
       "      <td>None</td>\n",
       "      <td>None</td>\n",
       "      <td>None</td>\n",
       "      <td>...</td>\n",
       "      <td>France</td>\n",
       "      <td>None</td>\n",
       "      <td>None</td>\n",
       "      <td>None</td>\n",
       "      <td>Grand Pigalle Hotel</td>\n",
       "      <td>3</td>\n",
       "      <td>FR-0242</td>\n",
       "      <td>45.376718</td>\n",
       "      <td>6.276920</td>\n",
       "      <td>490.873303</td>\n",
       "    </tr>\n",
       "    <tr>\n",
       "      <th>4</th>\n",
       "      <td>Grand Pigalle Hotel</td>\n",
       "      <td>48.880856</td>\n",
       "      <td>2.3375085</td>\n",
       "      <td>29 rue Victor Mass 9th arr 75009 Paris France</td>\n",
       "      <td>None</td>\n",
       "      <td>None</td>\n",
       "      <td>None</td>\n",
       "      <td>None</td>\n",
       "      <td>None</td>\n",
       "      <td>None</td>\n",
       "      <td>...</td>\n",
       "      <td>France</td>\n",
       "      <td>None</td>\n",
       "      <td>None</td>\n",
       "      <td>None</td>\n",
       "      <td>Grand Pigalle Hotel</td>\n",
       "      <td>3</td>\n",
       "      <td>FR-0246</td>\n",
       "      <td>42.900002</td>\n",
       "      <td>1.275000</td>\n",
       "      <td>669.843161</td>\n",
       "    </tr>\n",
       "  </tbody>\n",
       "</table>\n",
       "<p>5 rows × 23 columns</p>\n",
       "</div>"
      ],
      "text/plain": [
       "            Hotel_Name        lat        lng  \\\n",
       "0  Grand Pigalle Hotel  48.880856  2.3375085   \n",
       "1  Grand Pigalle Hotel  48.880856  2.3375085   \n",
       "2  Grand Pigalle Hotel  48.880856  2.3375085   \n",
       "3  Grand Pigalle Hotel  48.880856  2.3375085   \n",
       "4  Grand Pigalle Hotel  48.880856  2.3375085   \n",
       "\n",
       "                                    HotelAddress FridayHours MondayHours  \\\n",
       "0  29 rue Victor Mass 9th arr 75009 Paris France        None        None   \n",
       "1  29 rue Victor Mass 9th arr 75009 Paris France        None        None   \n",
       "2  29 rue Victor Mass 9th arr 75009 Paris France        None        None   \n",
       "3  29 rue Victor Mass 9th arr 75009 Paris France        None        None   \n",
       "4  29 rue Victor Mass 9th arr 75009 Paris France        None        None   \n",
       "\n",
       "  NormalisedHotelName SaturdayHours SundayHours ThursdayHours     ...      \\\n",
       "0                None          None        None          None     ...       \n",
       "1                None          None        None          None     ...       \n",
       "2                None          None        None          None     ...       \n",
       "3                None          None        None          None     ...       \n",
       "4                None          None        None          None     ...       \n",
       "\n",
       "  Country gPlusPlaceId Phone Price            HotelName HotelID AirportID  \\\n",
       "0  France         None  None  None  Grand Pigalle Hotel       3   FR-0098   \n",
       "1  France         None  None  None  Grand Pigalle Hotel       3   FR-0158   \n",
       "2  France         None  None  None  Grand Pigalle Hotel       3   FR-0183   \n",
       "3  France         None  None  None  Grand Pigalle Hotel       3   FR-0242   \n",
       "4  France         None  None  None  Grand Pigalle Hotel       3   FR-0246   \n",
       "\n",
       "    latitude  longitude    distance  \n",
       "0  43.194168   3.051667  634.491510  \n",
       "1  46.890148  -2.088156  398.083062  \n",
       "2  43.082699   5.933806  701.931381  \n",
       "3  45.376718   6.276920  490.873303  \n",
       "4  42.900002   1.275000  669.843161  \n",
       "\n",
       "[5 rows x 23 columns]"
      ]
     },
     "execution_count": 246,
     "metadata": {},
     "output_type": "execute_result"
    }
   ],
   "source": [
    "df_google_hotels_with_dups.limit(5).toPandas()"
   ]
  },
  {
   "cell_type": "code",
   "execution_count": 237,
   "metadata": {
    "editable": true
   },
   "outputs": [
    {
     "data": {
      "text/plain": [
       "[('Hotel_Name', 'string'),\n",
       " ('lat', 'string'),\n",
       " ('lng', 'string'),\n",
       " ('HotelAddress', 'string'),\n",
       " ('FridayHours', 'string'),\n",
       " ('MondayHours', 'string'),\n",
       " ('NormalisedHotelName', 'string'),\n",
       " ('SaturdayHours', 'string'),\n",
       " ('SundayHours', 'string'),\n",
       " ('ThursdayHours', 'string'),\n",
       " ('TuesdayHours', 'string'),\n",
       " ('WednesdayHours', 'string'),\n",
       " ('GoogleAddress', 'array<string>'),\n",
       " ('Country', 'string'),\n",
       " ('gPlusPlaceId', 'string'),\n",
       " ('Phone', 'string'),\n",
       " ('Price', 'string'),\n",
       " ('HotelName', 'string'),\n",
       " ('HotelID', 'int'),\n",
       " ('AirportID', 'string'),\n",
       " ('latitude', 'double'),\n",
       " ('longitude', 'double'),\n",
       " ('distance', 'double')]"
      ]
     },
     "execution_count": 237,
     "metadata": {},
     "output_type": "execute_result"
    }
   ],
   "source": [
    "df_google_hotels_with_dups.dtypes"
   ]
  },
  {
   "cell_type": "code",
   "execution_count": 244,
   "metadata": {
    "editable": true
   },
   "outputs": [
    {
     "data": {
      "text/plain": [
       "0"
      ]
     },
     "execution_count": 244,
     "metadata": {},
     "output_type": "execute_result"
    }
   ],
   "source": [
    "# Testing.\n",
    "df_google_hotels_with_dups.filter((F.col('lat')=='NA')| (F.col('lng')=='NA')).count()"
   ]
  },
  {
   "cell_type": "markdown",
   "metadata": {
    "editable": true
   },
   "source": [
    "Manual test: check the min distance airport from HotelID=3. Then check whether this is the airport which is the min distance airport."
   ]
  },
  {
   "cell_type": "code",
   "execution_count": 247,
   "metadata": {
    "editable": true
   },
   "outputs": [
    {
     "name": "stdout",
     "output_type": "stream",
     "text": [
      "+------------------+\n",
      "|     min(distance)|\n",
      "+------------------+\n",
      "|12.446208126422647|\n",
      "+------------------+\n",
      "\n"
     ]
    }
   ],
   "source": [
    "df_google_hotels_with_dups.filter(df_google_hotels_with_dups.HotelID==3).agg({'distance': 'min'}).show()"
   ]
  },
  {
   "cell_type": "code",
   "execution_count": 248,
   "metadata": {
    "editable": true
   },
   "outputs": [
    {
     "name": "stdout",
     "output_type": "stream",
     "text": [
      "+-------------------+---------+---------+--------------------+-----------+-----------+-------------------+-------------+-----------+-------------+------------+--------------+-------------+-------+------------+-----+-----+-------------------+-------+---------+------------------+-----------------+------------------+\n",
      "|         Hotel_Name|      lat|      lng|        HotelAddress|FridayHours|MondayHours|NormalisedHotelName|SaturdayHours|SundayHours|ThursdayHours|TuesdayHours|WednesdayHours|GoogleAddress|Country|gPlusPlaceId|Phone|Price|          HotelName|HotelID|AirportID|          latitude|        longitude|          distance|\n",
      "+-------------------+---------+---------+--------------------+-----------+-----------+-------------------+-------------+-----------+-------------+------------+--------------+-------------+-------+------------+-----+-----+-------------------+-------+---------+------------------+-----------------+------------------+\n",
      "|Grand Pigalle Hotel|48.880856|2.3375085|29 rue Victor Mas...|       null|       null|               null|         null|       null|         null|        null|          null|         null| France|        null| null| null|Grand Pigalle Hotel|      3|     LFPB|48.969398498535156|2.441390037536621|12.446208126422647|\n",
      "+-------------------+---------+---------+--------------------+-----------+-----------+-------------------+-------------+-----------+-------------+------------+--------------+-------------+-------+------------+-----+-----+-------------------+-------+---------+------------------+-----------------+------------------+\n",
      "\n"
     ]
    }
   ],
   "source": [
    "df_google_hotels_with_dups.filter(F.col('distance')==12.446208126422647).show()"
   ]
  },
  {
   "cell_type": "code",
   "execution_count": 249,
   "metadata": {
    "editable": true
   },
   "outputs": [
    {
     "data": {
      "text/html": [
       "<div>\n",
       "<style scoped>\n",
       "    .dataframe tbody tr th:only-of-type {\n",
       "        vertical-align: middle;\n",
       "    }\n",
       "\n",
       "    .dataframe tbody tr th {\n",
       "        vertical-align: top;\n",
       "    }\n",
       "\n",
       "    .dataframe thead th {\n",
       "        text-align: right;\n",
       "    }\n",
       "</style>\n",
       "<table border=\"1\" class=\"dataframe\">\n",
       "  <thead>\n",
       "    <tr style=\"text-align: right;\">\n",
       "      <th></th>\n",
       "      <th>AirportID</th>\n",
       "      <th>type</th>\n",
       "      <th>AirportName</th>\n",
       "      <th>elevation_ft</th>\n",
       "      <th>continent</th>\n",
       "      <th>iso_country</th>\n",
       "      <th>iso_region</th>\n",
       "      <th>municipality</th>\n",
       "      <th>gps_code</th>\n",
       "      <th>iata_code</th>\n",
       "      <th>local_code</th>\n",
       "      <th>longitude</th>\n",
       "      <th>latitude</th>\n",
       "      <th>Country</th>\n",
       "    </tr>\n",
       "  </thead>\n",
       "  <tbody>\n",
       "    <tr>\n",
       "      <th>0</th>\n",
       "      <td>LFPB</td>\n",
       "      <td>medium_airport</td>\n",
       "      <td>Paris-Le Bourget Airport</td>\n",
       "      <td>218</td>\n",
       "      <td>EU</td>\n",
       "      <td>FR</td>\n",
       "      <td>FR-J</td>\n",
       "      <td>Paris</td>\n",
       "      <td>LFPB</td>\n",
       "      <td>LBG</td>\n",
       "      <td>None</td>\n",
       "      <td>2.44139</td>\n",
       "      <td>48.969398</td>\n",
       "      <td>France</td>\n",
       "    </tr>\n",
       "  </tbody>\n",
       "</table>\n",
       "</div>"
      ],
      "text/plain": [
       "  AirportID            type               AirportName elevation_ft continent  \\\n",
       "0      LFPB  medium_airport  Paris-Le Bourget Airport          218        EU   \n",
       "\n",
       "  iso_country iso_region municipality gps_code iata_code local_code  \\\n",
       "0          FR       FR-J        Paris     LFPB       LBG       None   \n",
       "\n",
       "   longitude   latitude Country  \n",
       "0    2.44139  48.969398  France  "
      ]
     },
     "execution_count": 249,
     "metadata": {},
     "output_type": "execute_result"
    }
   ],
   "source": [
    "df_airport_codes.filter(F.col('AirportID')=='LFPB').toPandas()"
   ]
  },
  {
   "cell_type": "markdown",
   "metadata": {
    "editable": true
   },
   "source": [
    "Step 23. Use a Window function by partitioning over the HotelID column. This will be used to get the minimum distance over each window. The airport with the minimum distance from the hotel is the nearest airport. This is a two-step process. First, we create a new column min_distance which contains the minimum distance to an airport for a window. Then, we filter rows where min_distance=distance to get the final results."
   ]
  },
  {
   "cell_type": "code",
   "execution_count": 250,
   "metadata": {
    "editable": true
   },
   "outputs": [],
   "source": [
    "from pyspark.sql.window import Window\n",
    "w = Window.partitionBy(\"HotelID\")"
   ]
  },
  {
   "cell_type": "code",
   "execution_count": 260,
   "metadata": {
    "editable": true
   },
   "outputs": [],
   "source": [
    "del df_test\n",
    "df_google_hotels_with_dups = df_google_hotels_with_dups.select(*df_google_hotels_with_dups.columns, F.min('distance').over(w).alias('min_distance'))"
   ]
  },
  {
   "cell_type": "code",
   "execution_count": 261,
   "metadata": {
    "editable": true
   },
   "outputs": [
    {
     "data": {
      "text/html": [
       "<div>\n",
       "<style scoped>\n",
       "    .dataframe tbody tr th:only-of-type {\n",
       "        vertical-align: middle;\n",
       "    }\n",
       "\n",
       "    .dataframe tbody tr th {\n",
       "        vertical-align: top;\n",
       "    }\n",
       "\n",
       "    .dataframe thead th {\n",
       "        text-align: right;\n",
       "    }\n",
       "</style>\n",
       "<table border=\"1\" class=\"dataframe\">\n",
       "  <thead>\n",
       "    <tr style=\"text-align: right;\">\n",
       "      <th></th>\n",
       "      <th>Hotel_Name</th>\n",
       "      <th>lat</th>\n",
       "      <th>lng</th>\n",
       "      <th>HotelAddress</th>\n",
       "      <th>FridayHours</th>\n",
       "      <th>MondayHours</th>\n",
       "      <th>NormalisedHotelName</th>\n",
       "      <th>SaturdayHours</th>\n",
       "      <th>SundayHours</th>\n",
       "      <th>ThursdayHours</th>\n",
       "      <th>...</th>\n",
       "      <th>gPlusPlaceId</th>\n",
       "      <th>Phone</th>\n",
       "      <th>Price</th>\n",
       "      <th>HotelName</th>\n",
       "      <th>HotelID</th>\n",
       "      <th>AirportID</th>\n",
       "      <th>latitude</th>\n",
       "      <th>longitude</th>\n",
       "      <th>distance</th>\n",
       "      <th>min_distance</th>\n",
       "    </tr>\n",
       "  </thead>\n",
       "  <tbody>\n",
       "    <tr>\n",
       "      <th>0</th>\n",
       "      <td>Courtyard by Marriott Amsterdam Arena Atlas</td>\n",
       "      <td>52.3101182</td>\n",
       "      <td>4.9472918</td>\n",
       "      <td>Hoogoorddreef 1 Zuidoost 1101 BA Amsterdam Net...</td>\n",
       "      <td>None</td>\n",
       "      <td>None</td>\n",
       "      <td>None</td>\n",
       "      <td>None</td>\n",
       "      <td>None</td>\n",
       "      <td>None</td>\n",
       "      <td>...</td>\n",
       "      <td>None</td>\n",
       "      <td>None</td>\n",
       "      <td>None</td>\n",
       "      <td>Courtyard by Marriott Amsterdam Arena Atlas</td>\n",
       "      <td>148</td>\n",
       "      <td>EHAL</td>\n",
       "      <td>53.451698</td>\n",
       "      <td>5.677220</td>\n",
       "      <td>136.210443</td>\n",
       "      <td>11.187869</td>\n",
       "    </tr>\n",
       "    <tr>\n",
       "      <th>1</th>\n",
       "      <td>Courtyard by Marriott Amsterdam Arena Atlas</td>\n",
       "      <td>52.3101182</td>\n",
       "      <td>4.9472918</td>\n",
       "      <td>Hoogoorddreef 1 Zuidoost 1101 BA Amsterdam Net...</td>\n",
       "      <td>None</td>\n",
       "      <td>None</td>\n",
       "      <td>None</td>\n",
       "      <td>None</td>\n",
       "      <td>None</td>\n",
       "      <td>None</td>\n",
       "      <td>...</td>\n",
       "      <td>None</td>\n",
       "      <td>None</td>\n",
       "      <td>None</td>\n",
       "      <td>Courtyard by Marriott Amsterdam Arena Atlas</td>\n",
       "      <td>148</td>\n",
       "      <td>EHAM</td>\n",
       "      <td>52.308601</td>\n",
       "      <td>4.763890</td>\n",
       "      <td>12.509798</td>\n",
       "      <td>11.187869</td>\n",
       "    </tr>\n",
       "    <tr>\n",
       "      <th>2</th>\n",
       "      <td>Courtyard by Marriott Amsterdam Arena Atlas</td>\n",
       "      <td>52.3101182</td>\n",
       "      <td>4.9472918</td>\n",
       "      <td>Hoogoorddreef 1 Zuidoost 1101 BA Amsterdam Net...</td>\n",
       "      <td>None</td>\n",
       "      <td>None</td>\n",
       "      <td>None</td>\n",
       "      <td>None</td>\n",
       "      <td>None</td>\n",
       "      <td>None</td>\n",
       "      <td>...</td>\n",
       "      <td>None</td>\n",
       "      <td>None</td>\n",
       "      <td>None</td>\n",
       "      <td>Courtyard by Marriott Amsterdam Arena Atlas</td>\n",
       "      <td>148</td>\n",
       "      <td>EHBD</td>\n",
       "      <td>51.255299</td>\n",
       "      <td>5.601390</td>\n",
       "      <td>125.742567</td>\n",
       "      <td>11.187869</td>\n",
       "    </tr>\n",
       "    <tr>\n",
       "      <th>3</th>\n",
       "      <td>Courtyard by Marriott Amsterdam Arena Atlas</td>\n",
       "      <td>52.3101182</td>\n",
       "      <td>4.9472918</td>\n",
       "      <td>Hoogoorddreef 1 Zuidoost 1101 BA Amsterdam Net...</td>\n",
       "      <td>None</td>\n",
       "      <td>None</td>\n",
       "      <td>None</td>\n",
       "      <td>None</td>\n",
       "      <td>None</td>\n",
       "      <td>None</td>\n",
       "      <td>...</td>\n",
       "      <td>None</td>\n",
       "      <td>None</td>\n",
       "      <td>None</td>\n",
       "      <td>Courtyard by Marriott Amsterdam Arena Atlas</td>\n",
       "      <td>148</td>\n",
       "      <td>EHBK</td>\n",
       "      <td>50.911701</td>\n",
       "      <td>5.770140</td>\n",
       "      <td>165.697380</td>\n",
       "      <td>11.187869</td>\n",
       "    </tr>\n",
       "    <tr>\n",
       "      <th>4</th>\n",
       "      <td>Courtyard by Marriott Amsterdam Arena Atlas</td>\n",
       "      <td>52.3101182</td>\n",
       "      <td>4.9472918</td>\n",
       "      <td>Hoogoorddreef 1 Zuidoost 1101 BA Amsterdam Net...</td>\n",
       "      <td>None</td>\n",
       "      <td>None</td>\n",
       "      <td>None</td>\n",
       "      <td>None</td>\n",
       "      <td>None</td>\n",
       "      <td>None</td>\n",
       "      <td>...</td>\n",
       "      <td>None</td>\n",
       "      <td>None</td>\n",
       "      <td>None</td>\n",
       "      <td>Courtyard by Marriott Amsterdam Arena Atlas</td>\n",
       "      <td>148</td>\n",
       "      <td>EHDB</td>\n",
       "      <td>52.099541</td>\n",
       "      <td>5.176417</td>\n",
       "      <td>28.184708</td>\n",
       "      <td>11.187869</td>\n",
       "    </tr>\n",
       "    <tr>\n",
       "      <th>5</th>\n",
       "      <td>Courtyard by Marriott Amsterdam Arena Atlas</td>\n",
       "      <td>52.3101182</td>\n",
       "      <td>4.9472918</td>\n",
       "      <td>Hoogoorddreef 1 Zuidoost 1101 BA Amsterdam Net...</td>\n",
       "      <td>None</td>\n",
       "      <td>None</td>\n",
       "      <td>None</td>\n",
       "      <td>None</td>\n",
       "      <td>None</td>\n",
       "      <td>None</td>\n",
       "      <td>...</td>\n",
       "      <td>None</td>\n",
       "      <td>None</td>\n",
       "      <td>None</td>\n",
       "      <td>Courtyard by Marriott Amsterdam Arena Atlas</td>\n",
       "      <td>148</td>\n",
       "      <td>EHDL</td>\n",
       "      <td>52.060600</td>\n",
       "      <td>5.873060</td>\n",
       "      <td>69.136057</td>\n",
       "      <td>11.187869</td>\n",
       "    </tr>\n",
       "    <tr>\n",
       "      <th>6</th>\n",
       "      <td>Courtyard by Marriott Amsterdam Arena Atlas</td>\n",
       "      <td>52.3101182</td>\n",
       "      <td>4.9472918</td>\n",
       "      <td>Hoogoorddreef 1 Zuidoost 1101 BA Amsterdam Net...</td>\n",
       "      <td>None</td>\n",
       "      <td>None</td>\n",
       "      <td>None</td>\n",
       "      <td>None</td>\n",
       "      <td>None</td>\n",
       "      <td>None</td>\n",
       "      <td>...</td>\n",
       "      <td>None</td>\n",
       "      <td>None</td>\n",
       "      <td>None</td>\n",
       "      <td>Courtyard by Marriott Amsterdam Arena Atlas</td>\n",
       "      <td>148</td>\n",
       "      <td>EHDP</td>\n",
       "      <td>51.517300</td>\n",
       "      <td>5.855720</td>\n",
       "      <td>108.113708</td>\n",
       "      <td>11.187869</td>\n",
       "    </tr>\n",
       "    <tr>\n",
       "      <th>7</th>\n",
       "      <td>Courtyard by Marriott Amsterdam Arena Atlas</td>\n",
       "      <td>52.3101182</td>\n",
       "      <td>4.9472918</td>\n",
       "      <td>Hoogoorddreef 1 Zuidoost 1101 BA Amsterdam Net...</td>\n",
       "      <td>None</td>\n",
       "      <td>None</td>\n",
       "      <td>None</td>\n",
       "      <td>None</td>\n",
       "      <td>None</td>\n",
       "      <td>None</td>\n",
       "      <td>...</td>\n",
       "      <td>None</td>\n",
       "      <td>None</td>\n",
       "      <td>None</td>\n",
       "      <td>Courtyard by Marriott Amsterdam Arena Atlas</td>\n",
       "      <td>148</td>\n",
       "      <td>EHDR</td>\n",
       "      <td>53.119202</td>\n",
       "      <td>6.129720</td>\n",
       "      <td>120.377646</td>\n",
       "      <td>11.187869</td>\n",
       "    </tr>\n",
       "    <tr>\n",
       "      <th>8</th>\n",
       "      <td>Courtyard by Marriott Amsterdam Arena Atlas</td>\n",
       "      <td>52.3101182</td>\n",
       "      <td>4.9472918</td>\n",
       "      <td>Hoogoorddreef 1 Zuidoost 1101 BA Amsterdam Net...</td>\n",
       "      <td>None</td>\n",
       "      <td>None</td>\n",
       "      <td>None</td>\n",
       "      <td>None</td>\n",
       "      <td>None</td>\n",
       "      <td>None</td>\n",
       "      <td>...</td>\n",
       "      <td>None</td>\n",
       "      <td>None</td>\n",
       "      <td>None</td>\n",
       "      <td>Courtyard by Marriott Amsterdam Arena Atlas</td>\n",
       "      <td>148</td>\n",
       "      <td>EHDS</td>\n",
       "      <td>52.468333</td>\n",
       "      <td>6.333333</td>\n",
       "      <td>95.989474</td>\n",
       "      <td>11.187869</td>\n",
       "    </tr>\n",
       "    <tr>\n",
       "      <th>9</th>\n",
       "      <td>Courtyard by Marriott Amsterdam Arena Atlas</td>\n",
       "      <td>52.3101182</td>\n",
       "      <td>4.9472918</td>\n",
       "      <td>Hoogoorddreef 1 Zuidoost 1101 BA Amsterdam Net...</td>\n",
       "      <td>None</td>\n",
       "      <td>None</td>\n",
       "      <td>None</td>\n",
       "      <td>None</td>\n",
       "      <td>None</td>\n",
       "      <td>None</td>\n",
       "      <td>...</td>\n",
       "      <td>None</td>\n",
       "      <td>None</td>\n",
       "      <td>None</td>\n",
       "      <td>Courtyard by Marriott Amsterdam Arena Atlas</td>\n",
       "      <td>148</td>\n",
       "      <td>EHEH</td>\n",
       "      <td>51.450100</td>\n",
       "      <td>5.374530</td>\n",
       "      <td>100.110056</td>\n",
       "      <td>11.187869</td>\n",
       "    </tr>\n",
       "  </tbody>\n",
       "</table>\n",
       "<p>10 rows × 24 columns</p>\n",
       "</div>"
      ],
      "text/plain": [
       "                                    Hotel_Name         lat        lng  \\\n",
       "0  Courtyard by Marriott Amsterdam Arena Atlas  52.3101182  4.9472918   \n",
       "1  Courtyard by Marriott Amsterdam Arena Atlas  52.3101182  4.9472918   \n",
       "2  Courtyard by Marriott Amsterdam Arena Atlas  52.3101182  4.9472918   \n",
       "3  Courtyard by Marriott Amsterdam Arena Atlas  52.3101182  4.9472918   \n",
       "4  Courtyard by Marriott Amsterdam Arena Atlas  52.3101182  4.9472918   \n",
       "5  Courtyard by Marriott Amsterdam Arena Atlas  52.3101182  4.9472918   \n",
       "6  Courtyard by Marriott Amsterdam Arena Atlas  52.3101182  4.9472918   \n",
       "7  Courtyard by Marriott Amsterdam Arena Atlas  52.3101182  4.9472918   \n",
       "8  Courtyard by Marriott Amsterdam Arena Atlas  52.3101182  4.9472918   \n",
       "9  Courtyard by Marriott Amsterdam Arena Atlas  52.3101182  4.9472918   \n",
       "\n",
       "                                        HotelAddress FridayHours MondayHours  \\\n",
       "0  Hoogoorddreef 1 Zuidoost 1101 BA Amsterdam Net...        None        None   \n",
       "1  Hoogoorddreef 1 Zuidoost 1101 BA Amsterdam Net...        None        None   \n",
       "2  Hoogoorddreef 1 Zuidoost 1101 BA Amsterdam Net...        None        None   \n",
       "3  Hoogoorddreef 1 Zuidoost 1101 BA Amsterdam Net...        None        None   \n",
       "4  Hoogoorddreef 1 Zuidoost 1101 BA Amsterdam Net...        None        None   \n",
       "5  Hoogoorddreef 1 Zuidoost 1101 BA Amsterdam Net...        None        None   \n",
       "6  Hoogoorddreef 1 Zuidoost 1101 BA Amsterdam Net...        None        None   \n",
       "7  Hoogoorddreef 1 Zuidoost 1101 BA Amsterdam Net...        None        None   \n",
       "8  Hoogoorddreef 1 Zuidoost 1101 BA Amsterdam Net...        None        None   \n",
       "9  Hoogoorddreef 1 Zuidoost 1101 BA Amsterdam Net...        None        None   \n",
       "\n",
       "  NormalisedHotelName SaturdayHours SundayHours ThursdayHours     ...       \\\n",
       "0                None          None        None          None     ...        \n",
       "1                None          None        None          None     ...        \n",
       "2                None          None        None          None     ...        \n",
       "3                None          None        None          None     ...        \n",
       "4                None          None        None          None     ...        \n",
       "5                None          None        None          None     ...        \n",
       "6                None          None        None          None     ...        \n",
       "7                None          None        None          None     ...        \n",
       "8                None          None        None          None     ...        \n",
       "9                None          None        None          None     ...        \n",
       "\n",
       "  gPlusPlaceId Phone Price                                    HotelName  \\\n",
       "0         None  None  None  Courtyard by Marriott Amsterdam Arena Atlas   \n",
       "1         None  None  None  Courtyard by Marriott Amsterdam Arena Atlas   \n",
       "2         None  None  None  Courtyard by Marriott Amsterdam Arena Atlas   \n",
       "3         None  None  None  Courtyard by Marriott Amsterdam Arena Atlas   \n",
       "4         None  None  None  Courtyard by Marriott Amsterdam Arena Atlas   \n",
       "5         None  None  None  Courtyard by Marriott Amsterdam Arena Atlas   \n",
       "6         None  None  None  Courtyard by Marriott Amsterdam Arena Atlas   \n",
       "7         None  None  None  Courtyard by Marriott Amsterdam Arena Atlas   \n",
       "8         None  None  None  Courtyard by Marriott Amsterdam Arena Atlas   \n",
       "9         None  None  None  Courtyard by Marriott Amsterdam Arena Atlas   \n",
       "\n",
       "  HotelID AirportID   latitude longitude    distance min_distance  \n",
       "0     148      EHAL  53.451698  5.677220  136.210443    11.187869  \n",
       "1     148      EHAM  52.308601  4.763890   12.509798    11.187869  \n",
       "2     148      EHBD  51.255299  5.601390  125.742567    11.187869  \n",
       "3     148      EHBK  50.911701  5.770140  165.697380    11.187869  \n",
       "4     148      EHDB  52.099541  5.176417   28.184708    11.187869  \n",
       "5     148      EHDL  52.060600  5.873060   69.136057    11.187869  \n",
       "6     148      EHDP  51.517300  5.855720  108.113708    11.187869  \n",
       "7     148      EHDR  53.119202  6.129720  120.377646    11.187869  \n",
       "8     148      EHDS  52.468333  6.333333   95.989474    11.187869  \n",
       "9     148      EHEH  51.450100  5.374530  100.110056    11.187869  \n",
       "\n",
       "[10 rows x 24 columns]"
      ]
     },
     "execution_count": 261,
     "metadata": {},
     "output_type": "execute_result"
    }
   ],
   "source": [
    "df_google_hotels_with_dups.limit(10).toPandas()"
   ]
  },
  {
   "cell_type": "code",
   "execution_count": 256,
   "metadata": {
    "editable": true
   },
   "outputs": [
    {
     "name": "stdout",
     "output_type": "stream",
     "text": [
      "+------------------+\n",
      "|     min(distance)|\n",
      "+------------------+\n",
      "|11.187869335386422|\n",
      "+------------------+\n",
      "\n"
     ]
    }
   ],
   "source": [
    "df_google_hotels_with_dups.filter(df_google_hotels_with_dups.HotelID==148).agg({'distance': 'min'}).show()"
   ]
  },
  {
   "cell_type": "markdown",
   "metadata": {
    "editable": true
   },
   "source": [
    "Filter rows where the min_distance == distance, those are the rows we want to keep"
   ]
  },
  {
   "cell_type": "code",
   "execution_count": 263,
   "metadata": {
    "editable": true
   },
   "outputs": [
    {
     "data": {
      "text/plain": [
       "1493"
      ]
     },
     "execution_count": 263,
     "metadata": {},
     "output_type": "execute_result"
    }
   ],
   "source": [
    "df_google_hotels_with_dups.filter(F.col('distance') == F.col('min_distance')).count()"
   ]
  },
  {
   "cell_type": "code",
   "execution_count": 265,
   "metadata": {
    "editable": true
   },
   "outputs": [],
   "source": [
    "df_google_hotels_with_airportid = df_google_hotels_with_dups.filter(F.col('distance') == F.col('min_distance'))"
   ]
  },
  {
   "cell_type": "code",
   "execution_count": 266,
   "metadata": {
    "editable": true
   },
   "outputs": [
    {
     "data": {
      "text/plain": [
       "1493"
      ]
     },
     "execution_count": 266,
     "metadata": {},
     "output_type": "execute_result"
    }
   ],
   "source": [
    "df_google_hotels_with_airportid.count()"
   ]
  },
  {
   "cell_type": "code",
   "execution_count": 268,
   "metadata": {
    "editable": true
   },
   "outputs": [
    {
     "data": {
      "text/html": [
       "<div>\n",
       "<style scoped>\n",
       "    .dataframe tbody tr th:only-of-type {\n",
       "        vertical-align: middle;\n",
       "    }\n",
       "\n",
       "    .dataframe tbody tr th {\n",
       "        vertical-align: top;\n",
       "    }\n",
       "\n",
       "    .dataframe thead th {\n",
       "        text-align: right;\n",
       "    }\n",
       "</style>\n",
       "<table border=\"1\" class=\"dataframe\">\n",
       "  <thead>\n",
       "    <tr style=\"text-align: right;\">\n",
       "      <th></th>\n",
       "      <th>Hotel_Name</th>\n",
       "      <th>lat</th>\n",
       "      <th>lng</th>\n",
       "      <th>HotelAddress</th>\n",
       "      <th>FridayHours</th>\n",
       "      <th>MondayHours</th>\n",
       "      <th>NormalisedHotelName</th>\n",
       "      <th>SaturdayHours</th>\n",
       "      <th>SundayHours</th>\n",
       "      <th>ThursdayHours</th>\n",
       "      <th>...</th>\n",
       "      <th>gPlusPlaceId</th>\n",
       "      <th>Phone</th>\n",
       "      <th>Price</th>\n",
       "      <th>HotelName</th>\n",
       "      <th>HotelID</th>\n",
       "      <th>AirportID</th>\n",
       "      <th>latitude</th>\n",
       "      <th>longitude</th>\n",
       "      <th>distance</th>\n",
       "      <th>min_distance</th>\n",
       "    </tr>\n",
       "  </thead>\n",
       "  <tbody>\n",
       "    <tr>\n",
       "      <th>0</th>\n",
       "      <td>Courtyard by Marriott Amsterdam Arena Atlas</td>\n",
       "      <td>52.3101182</td>\n",
       "      <td>4.9472918</td>\n",
       "      <td>Hoogoorddreef 1 Zuidoost 1101 BA Amsterdam Net...</td>\n",
       "      <td>None</td>\n",
       "      <td>None</td>\n",
       "      <td>None</td>\n",
       "      <td>None</td>\n",
       "      <td>None</td>\n",
       "      <td>None</td>\n",
       "      <td>...</td>\n",
       "      <td>None</td>\n",
       "      <td>None</td>\n",
       "      <td>None</td>\n",
       "      <td>Courtyard by Marriott Amsterdam Arena Atlas</td>\n",
       "      <td>148</td>\n",
       "      <td>NL-0050</td>\n",
       "      <td>52.281602</td>\n",
       "      <td>4.790039</td>\n",
       "      <td>11.187869</td>\n",
       "      <td>11.187869</td>\n",
       "    </tr>\n",
       "    <tr>\n",
       "      <th>1</th>\n",
       "      <td>Hotel The Serras</td>\n",
       "      <td>41.3801815</td>\n",
       "      <td>2.180688</td>\n",
       "      <td>Passeig de Colom 9 Ciutat Vella 08002 Barcelon...</td>\n",
       "      <td>None</td>\n",
       "      <td>None</td>\n",
       "      <td>None</td>\n",
       "      <td>None</td>\n",
       "      <td>None</td>\n",
       "      <td>None</td>\n",
       "      <td>...</td>\n",
       "      <td>None</td>\n",
       "      <td>None</td>\n",
       "      <td>None</td>\n",
       "      <td>Hotel The Serras</td>\n",
       "      <td>463</td>\n",
       "      <td>LEBL</td>\n",
       "      <td>41.297100</td>\n",
       "      <td>2.078460</td>\n",
       "      <td>12.584021</td>\n",
       "      <td>12.584021</td>\n",
       "    </tr>\n",
       "    <tr>\n",
       "      <th>2</th>\n",
       "      <td>Hotel Maison Ath n e</td>\n",
       "      <td>48.8713421</td>\n",
       "      <td>2.3280723</td>\n",
       "      <td>19 Rue De Caumartin 9th arr 75009 Paris France</td>\n",
       "      <td>None</td>\n",
       "      <td>None</td>\n",
       "      <td>None</td>\n",
       "      <td>None</td>\n",
       "      <td>None</td>\n",
       "      <td>None</td>\n",
       "      <td>...</td>\n",
       "      <td>None</td>\n",
       "      <td>None</td>\n",
       "      <td>None</td>\n",
       "      <td>Hotel Maison Ath n e</td>\n",
       "      <td>471</td>\n",
       "      <td>LFPB</td>\n",
       "      <td>48.969398</td>\n",
       "      <td>2.441390</td>\n",
       "      <td>13.707033</td>\n",
       "      <td>13.707033</td>\n",
       "    </tr>\n",
       "    <tr>\n",
       "      <th>3</th>\n",
       "      <td>Maison Albar H tel Paris Champs Elys es ex Mac...</td>\n",
       "      <td>48.8753837</td>\n",
       "      <td>2.2944651</td>\n",
       "      <td>3 avenue Mac Mahon 17th arr 75017 Paris France</td>\n",
       "      <td>None</td>\n",
       "      <td>None</td>\n",
       "      <td>None</td>\n",
       "      <td>None</td>\n",
       "      <td>None</td>\n",
       "      <td>None</td>\n",
       "      <td>...</td>\n",
       "      <td>None</td>\n",
       "      <td>None</td>\n",
       "      <td>None</td>\n",
       "      <td>Maison Albar H tel Paris Champs Elys es ex Mac...</td>\n",
       "      <td>496</td>\n",
       "      <td>LFPV</td>\n",
       "      <td>48.774167</td>\n",
       "      <td>2.191667</td>\n",
       "      <td>13.552623</td>\n",
       "      <td>13.552623</td>\n",
       "    </tr>\n",
       "    <tr>\n",
       "      <th>4</th>\n",
       "      <td>Catalonia Magdalenes</td>\n",
       "      <td>41.3861283</td>\n",
       "      <td>2.1745291</td>\n",
       "      <td>Magdalenes 13 15 Ciutat Vella 08002 Barcelona ...</td>\n",
       "      <td>None</td>\n",
       "      <td>None</td>\n",
       "      <td>None</td>\n",
       "      <td>None</td>\n",
       "      <td>None</td>\n",
       "      <td>None</td>\n",
       "      <td>...</td>\n",
       "      <td>None</td>\n",
       "      <td>None</td>\n",
       "      <td>None</td>\n",
       "      <td>Catalonia Magdalenes</td>\n",
       "      <td>833</td>\n",
       "      <td>LEBL</td>\n",
       "      <td>41.297100</td>\n",
       "      <td>2.078460</td>\n",
       "      <td>12.744391</td>\n",
       "      <td>12.744391</td>\n",
       "    </tr>\n",
       "    <tr>\n",
       "      <th>5</th>\n",
       "      <td>Mokinba Hotels Montebianco</td>\n",
       "      <td>45.4788051</td>\n",
       "      <td>9.1446276</td>\n",
       "      <td>Via Monte Rosa 90 Fiera Milano City 20149 Mila...</td>\n",
       "      <td>None</td>\n",
       "      <td>None</td>\n",
       "      <td>None</td>\n",
       "      <td>None</td>\n",
       "      <td>None</td>\n",
       "      <td>None</td>\n",
       "      <td>...</td>\n",
       "      <td>None</td>\n",
       "      <td>None</td>\n",
       "      <td>None</td>\n",
       "      <td>Mokinba Hotels Montebianco</td>\n",
       "      <td>1088</td>\n",
       "      <td>LIMB</td>\n",
       "      <td>45.542198</td>\n",
       "      <td>9.203330</td>\n",
       "      <td>8.407316</td>\n",
       "      <td>8.407316</td>\n",
       "    </tr>\n",
       "    <tr>\n",
       "      <th>6</th>\n",
       "      <td>ARCOTEL Kaiserwasser Superior</td>\n",
       "      <td>48.231915</td>\n",
       "      <td>16.417026</td>\n",
       "      <td>Wagramer Stra e 8 22 Donaustadt 1220 Vienna Au...</td>\n",
       "      <td>None</td>\n",
       "      <td>None</td>\n",
       "      <td>None</td>\n",
       "      <td>None</td>\n",
       "      <td>None</td>\n",
       "      <td>None</td>\n",
       "      <td>...</td>\n",
       "      <td>None</td>\n",
       "      <td>None</td>\n",
       "      <td>None</td>\n",
       "      <td>ARCOTEL Kaiserwasser Superior</td>\n",
       "      <td>1238</td>\n",
       "      <td>LOWW</td>\n",
       "      <td>48.110298</td>\n",
       "      <td>16.569700</td>\n",
       "      <td>17.658495</td>\n",
       "      <td>17.658495</td>\n",
       "    </tr>\n",
       "    <tr>\n",
       "      <th>7</th>\n",
       "      <td>L Edmond H tel</td>\n",
       "      <td>48.8823111</td>\n",
       "      <td>2.3132374</td>\n",
       "      <td>22 avenue de Villiers 17th arr 75017 Paris France</td>\n",
       "      <td>None</td>\n",
       "      <td>None</td>\n",
       "      <td>l edmond hotel</td>\n",
       "      <td>None</td>\n",
       "      <td>None</td>\n",
       "      <td>None</td>\n",
       "      <td>...</td>\n",
       "      <td>107909375352052892577</td>\n",
       "      <td>01 44 01 09 40</td>\n",
       "      <td>None</td>\n",
       "      <td>L'edmond Hotel</td>\n",
       "      <td>1342</td>\n",
       "      <td>LFPB</td>\n",
       "      <td>48.969398</td>\n",
       "      <td>2.441390</td>\n",
       "      <td>13.490302</td>\n",
       "      <td>13.490302</td>\n",
       "    </tr>\n",
       "    <tr>\n",
       "      <th>8</th>\n",
       "      <td>Palais Hansen Kempinski Vienna</td>\n",
       "      <td>48.2163149</td>\n",
       "      <td>16.3685103</td>\n",
       "      <td>Schottenring 24 01 Innere Stadt 1010 Vienna Au...</td>\n",
       "      <td>None</td>\n",
       "      <td>None</td>\n",
       "      <td>palais hansen kempinski vienna</td>\n",
       "      <td>None</td>\n",
       "      <td>None</td>\n",
       "      <td>None</td>\n",
       "      <td>...</td>\n",
       "      <td>115300235437179621025</td>\n",
       "      <td>01 2361000</td>\n",
       "      <td>None</td>\n",
       "      <td>Palais Hansen Kempinski Vienna</td>\n",
       "      <td>243</td>\n",
       "      <td>LOWW</td>\n",
       "      <td>48.110298</td>\n",
       "      <td>16.569700</td>\n",
       "      <td>19.051488</td>\n",
       "      <td>19.051488</td>\n",
       "    </tr>\n",
       "    <tr>\n",
       "      <th>9</th>\n",
       "      <td>Hotel Ares Eiffel</td>\n",
       "      <td>48.8503276</td>\n",
       "      <td>2.2982022</td>\n",
       "      <td>7 rue du G n ral de Larminat 15th arr 75015 Pa...</td>\n",
       "      <td>None</td>\n",
       "      <td>None</td>\n",
       "      <td>hotel ares eiffel</td>\n",
       "      <td>None</td>\n",
       "      <td>None</td>\n",
       "      <td>None</td>\n",
       "      <td>...</td>\n",
       "      <td>117469042429892205022</td>\n",
       "      <td>01 47 34 74 04</td>\n",
       "      <td>None</td>\n",
       "      <td>Hotel Ares Eiffel</td>\n",
       "      <td>392</td>\n",
       "      <td>LFPV</td>\n",
       "      <td>48.774167</td>\n",
       "      <td>2.191667</td>\n",
       "      <td>11.530764</td>\n",
       "      <td>11.530764</td>\n",
       "    </tr>\n",
       "  </tbody>\n",
       "</table>\n",
       "<p>10 rows × 24 columns</p>\n",
       "</div>"
      ],
      "text/plain": [
       "                                          Hotel_Name         lat         lng  \\\n",
       "0        Courtyard by Marriott Amsterdam Arena Atlas  52.3101182   4.9472918   \n",
       "1                                   Hotel The Serras  41.3801815    2.180688   \n",
       "2                               Hotel Maison Ath n e  48.8713421   2.3280723   \n",
       "3  Maison Albar H tel Paris Champs Elys es ex Mac...  48.8753837   2.2944651   \n",
       "4                               Catalonia Magdalenes  41.3861283   2.1745291   \n",
       "5                         Mokinba Hotels Montebianco  45.4788051   9.1446276   \n",
       "6                      ARCOTEL Kaiserwasser Superior   48.231915   16.417026   \n",
       "7                                     L Edmond H tel  48.8823111   2.3132374   \n",
       "8                     Palais Hansen Kempinski Vienna  48.2163149  16.3685103   \n",
       "9                                  Hotel Ares Eiffel  48.8503276   2.2982022   \n",
       "\n",
       "                                        HotelAddress FridayHours MondayHours  \\\n",
       "0  Hoogoorddreef 1 Zuidoost 1101 BA Amsterdam Net...        None        None   \n",
       "1  Passeig de Colom 9 Ciutat Vella 08002 Barcelon...        None        None   \n",
       "2     19 Rue De Caumartin 9th arr 75009 Paris France        None        None   \n",
       "3     3 avenue Mac Mahon 17th arr 75017 Paris France        None        None   \n",
       "4  Magdalenes 13 15 Ciutat Vella 08002 Barcelona ...        None        None   \n",
       "5  Via Monte Rosa 90 Fiera Milano City 20149 Mila...        None        None   \n",
       "6  Wagramer Stra e 8 22 Donaustadt 1220 Vienna Au...        None        None   \n",
       "7  22 avenue de Villiers 17th arr 75017 Paris France        None        None   \n",
       "8  Schottenring 24 01 Innere Stadt 1010 Vienna Au...        None        None   \n",
       "9  7 rue du G n ral de Larminat 15th arr 75015 Pa...        None        None   \n",
       "\n",
       "              NormalisedHotelName SaturdayHours SundayHours ThursdayHours  \\\n",
       "0                            None          None        None          None   \n",
       "1                            None          None        None          None   \n",
       "2                            None          None        None          None   \n",
       "3                            None          None        None          None   \n",
       "4                            None          None        None          None   \n",
       "5                            None          None        None          None   \n",
       "6                            None          None        None          None   \n",
       "7                  l edmond hotel          None        None          None   \n",
       "8  palais hansen kempinski vienna          None        None          None   \n",
       "9               hotel ares eiffel          None        None          None   \n",
       "\n",
       "      ...                gPlusPlaceId           Phone Price  \\\n",
       "0     ...                        None            None  None   \n",
       "1     ...                        None            None  None   \n",
       "2     ...                        None            None  None   \n",
       "3     ...                        None            None  None   \n",
       "4     ...                        None            None  None   \n",
       "5     ...                        None            None  None   \n",
       "6     ...                        None            None  None   \n",
       "7     ...       107909375352052892577  01 44 01 09 40  None   \n",
       "8     ...       115300235437179621025      01 2361000  None   \n",
       "9     ...       117469042429892205022  01 47 34 74 04  None   \n",
       "\n",
       "                                           HotelName HotelID AirportID  \\\n",
       "0        Courtyard by Marriott Amsterdam Arena Atlas     148   NL-0050   \n",
       "1                                   Hotel The Serras     463      LEBL   \n",
       "2                               Hotel Maison Ath n e     471      LFPB   \n",
       "3  Maison Albar H tel Paris Champs Elys es ex Mac...     496      LFPV   \n",
       "4                               Catalonia Magdalenes     833      LEBL   \n",
       "5                         Mokinba Hotels Montebianco    1088      LIMB   \n",
       "6                      ARCOTEL Kaiserwasser Superior    1238      LOWW   \n",
       "7                                     L'edmond Hotel    1342      LFPB   \n",
       "8                     Palais Hansen Kempinski Vienna     243      LOWW   \n",
       "9                                  Hotel Ares Eiffel     392      LFPV   \n",
       "\n",
       "    latitude  longitude   distance min_distance  \n",
       "0  52.281602   4.790039  11.187869    11.187869  \n",
       "1  41.297100   2.078460  12.584021    12.584021  \n",
       "2  48.969398   2.441390  13.707033    13.707033  \n",
       "3  48.774167   2.191667  13.552623    13.552623  \n",
       "4  41.297100   2.078460  12.744391    12.744391  \n",
       "5  45.542198   9.203330   8.407316     8.407316  \n",
       "6  48.110298  16.569700  17.658495    17.658495  \n",
       "7  48.969398   2.441390  13.490302    13.490302  \n",
       "8  48.110298  16.569700  19.051488    19.051488  \n",
       "9  48.774167   2.191667  11.530764    11.530764  \n",
       "\n",
       "[10 rows x 24 columns]"
      ]
     },
     "execution_count": 268,
     "metadata": {},
     "output_type": "execute_result"
    }
   ],
   "source": [
    "df_google_hotels_with_airportid.limit(10).toPandas()"
   ]
  },
  {
   "cell_type": "markdown",
   "metadata": {
    "editable": true
   },
   "source": [
    "Step 24. Create a lookup data frame with columns hotel_id, Hotel_name (from original data frame), lat and lng. This will be used to assign Hotel IDs as FKs to the original reviews data set in Part 3."
   ]
  },
  {
   "cell_type": "code",
   "execution_count": 273,
   "metadata": {
    "editable": true
   },
   "outputs": [],
   "source": [
    "df_hotelid_lookup = df_google_hotels_with_airportid.select('HotelID', 'Hotel_Name', 'HotelName', 'lat', 'lng')"
   ]
  },
  {
   "cell_type": "code",
   "execution_count": 270,
   "metadata": {
    "editable": true
   },
   "outputs": [
    {
     "data": {
      "text/plain": [
       "1493"
      ]
     },
     "execution_count": 270,
     "metadata": {},
     "output_type": "execute_result"
    }
   ],
   "source": [
    "df_hotelid_lookup.count()"
   ]
  },
  {
   "cell_type": "code",
   "execution_count": 274,
   "metadata": {
    "editable": true
   },
   "outputs": [
    {
     "data": {
      "text/html": [
       "<div>\n",
       "<style scoped>\n",
       "    .dataframe tbody tr th:only-of-type {\n",
       "        vertical-align: middle;\n",
       "    }\n",
       "\n",
       "    .dataframe tbody tr th {\n",
       "        vertical-align: top;\n",
       "    }\n",
       "\n",
       "    .dataframe thead th {\n",
       "        text-align: right;\n",
       "    }\n",
       "</style>\n",
       "<table border=\"1\" class=\"dataframe\">\n",
       "  <thead>\n",
       "    <tr style=\"text-align: right;\">\n",
       "      <th></th>\n",
       "      <th>HotelID</th>\n",
       "      <th>Hotel_Name</th>\n",
       "      <th>HotelName</th>\n",
       "      <th>lat</th>\n",
       "      <th>lng</th>\n",
       "    </tr>\n",
       "  </thead>\n",
       "  <tbody>\n",
       "    <tr>\n",
       "      <th>0</th>\n",
       "      <td>148</td>\n",
       "      <td>Courtyard by Marriott Amsterdam Arena Atlas</td>\n",
       "      <td>Courtyard by Marriott Amsterdam Arena Atlas</td>\n",
       "      <td>52.3101182</td>\n",
       "      <td>4.9472918</td>\n",
       "    </tr>\n",
       "    <tr>\n",
       "      <th>1</th>\n",
       "      <td>463</td>\n",
       "      <td>Hotel The Serras</td>\n",
       "      <td>Hotel The Serras</td>\n",
       "      <td>41.3801815</td>\n",
       "      <td>2.180688</td>\n",
       "    </tr>\n",
       "    <tr>\n",
       "      <th>2</th>\n",
       "      <td>471</td>\n",
       "      <td>Hotel Maison Ath n e</td>\n",
       "      <td>Hotel Maison Ath n e</td>\n",
       "      <td>48.8713421</td>\n",
       "      <td>2.3280723</td>\n",
       "    </tr>\n",
       "    <tr>\n",
       "      <th>3</th>\n",
       "      <td>496</td>\n",
       "      <td>Maison Albar H tel Paris Champs Elys es ex Mac...</td>\n",
       "      <td>Maison Albar H tel Paris Champs Elys es ex Mac...</td>\n",
       "      <td>48.8753837</td>\n",
       "      <td>2.2944651</td>\n",
       "    </tr>\n",
       "    <tr>\n",
       "      <th>4</th>\n",
       "      <td>833</td>\n",
       "      <td>Catalonia Magdalenes</td>\n",
       "      <td>Catalonia Magdalenes</td>\n",
       "      <td>41.3861283</td>\n",
       "      <td>2.1745291</td>\n",
       "    </tr>\n",
       "  </tbody>\n",
       "</table>\n",
       "</div>"
      ],
      "text/plain": [
       "   HotelID                                         Hotel_Name  \\\n",
       "0      148        Courtyard by Marriott Amsterdam Arena Atlas   \n",
       "1      463                                   Hotel The Serras   \n",
       "2      471                               Hotel Maison Ath n e   \n",
       "3      496  Maison Albar H tel Paris Champs Elys es ex Mac...   \n",
       "4      833                               Catalonia Magdalenes   \n",
       "\n",
       "                                           HotelName         lat        lng  \n",
       "0        Courtyard by Marriott Amsterdam Arena Atlas  52.3101182  4.9472918  \n",
       "1                                   Hotel The Serras  41.3801815   2.180688  \n",
       "2                               Hotel Maison Ath n e  48.8713421  2.3280723  \n",
       "3  Maison Albar H tel Paris Champs Elys es ex Mac...  48.8753837  2.2944651  \n",
       "4                               Catalonia Magdalenes  41.3861283  2.1745291  "
      ]
     },
     "execution_count": 274,
     "metadata": {},
     "output_type": "execute_result"
    }
   ],
   "source": [
    "df_hotelid_lookup.limit(5).toPandas()"
   ]
  },
  {
   "cell_type": "markdown",
   "metadata": {
    "editable": true
   },
   "source": [
    "Step 25. Create final version of the clean df_google_hotels_with_airport_id data frame. In this step, we drop unnecessary columns, rename and reorder columns. This is saved in JSONL format, will be loaded into S3 in Part 4, and will be loaded into a Redshift staging table from there."
   ]
  },
  {
   "cell_type": "code",
   "execution_count": 275,
   "metadata": {
    "editable": true
   },
   "outputs": [
    {
     "data": {
      "text/plain": [
       "['Hotel_Name',\n",
       " 'lat',\n",
       " 'lng',\n",
       " 'HotelAddress',\n",
       " 'FridayHours',\n",
       " 'MondayHours',\n",
       " 'SaturdayHours',\n",
       " 'SundayHours',\n",
       " 'ThursdayHours',\n",
       " 'TuesdayHours',\n",
       " 'WednesdayHours',\n",
       " 'GoogleAddress',\n",
       " 'Country',\n",
       " 'gPlusPlaceId',\n",
       " 'Phone',\n",
       " 'Price',\n",
       " 'HotelName',\n",
       " 'HotelID',\n",
       " 'AirportID']"
      ]
     },
     "execution_count": 275,
     "metadata": {},
     "output_type": "execute_result"
    }
   ],
   "source": [
    "columns_to_drop = ['latitude', 'longitude', 'distance', 'min_distance', 'NormalisedHotelName']\n",
    "df_google_hotels_with_airportid = df_google_hotels_with_airportid.drop(*columns_to_drop)\n",
    "df_google_hotels_with_airportid.columns"
   ]
  },
  {
   "cell_type": "code",
   "execution_count": 277,
   "metadata": {
    "editable": true
   },
   "outputs": [
    {
     "data": {
      "text/plain": [
       "['OriginalHotelName',\n",
       " 'Latitude',\n",
       " 'Longitude',\n",
       " 'HotelAddress',\n",
       " 'FridayHours',\n",
       " 'MondayHours',\n",
       " 'SaturdayHours',\n",
       " 'SundayHours',\n",
       " 'ThursdayHours',\n",
       " 'TuesdayHours',\n",
       " 'WednesdayHours',\n",
       " 'GoogleAddress',\n",
       " 'Country',\n",
       " 'gPlusPlaceId',\n",
       " 'Phone',\n",
       " 'Price',\n",
       " 'HotelName',\n",
       " 'HotelID',\n",
       " 'NearestAirportID']"
      ]
     },
     "execution_count": 277,
     "metadata": {},
     "output_type": "execute_result"
    }
   ],
   "source": [
    "df_google_hotels_with_airportid = df_google_hotels_with_airportid.withColumnRenamed('lat', 'Latitude')\n",
    "df_google_hotels_with_airportid = df_google_hotels_with_airportid.withColumnRenamed('lng', 'Longitude')\n",
    "df_google_hotels_with_airportid = df_google_hotels_with_airportid.withColumnRenamed('AirportID', 'NearestAirportID')\n",
    "df_google_hotels_with_airportid = df_google_hotels_with_airportid.withColumnRenamed('Hotel_Name', 'OriginalHotelName')\n",
    "df_google_hotels_with_airportid.columns"
   ]
  },
  {
   "cell_type": "code",
   "execution_count": 278,
   "metadata": {
    "editable": true
   },
   "outputs": [
    {
     "data": {
      "text/plain": [
       "['HotelID',\n",
       " 'HotelName',\n",
       " 'HotelAddress',\n",
       " 'Country',\n",
       " 'Phone',\n",
       " 'Price',\n",
       " 'OriginalHotelName',\n",
       " 'GoogleAddress',\n",
       " 'Latitude',\n",
       " 'Longitude',\n",
       " 'gPlusPlaceId',\n",
       " 'NearestAirportID',\n",
       " 'MondayHours',\n",
       " 'TuesdayHours',\n",
       " 'WednesdayHours',\n",
       " 'ThursdayHours',\n",
       " 'FridayHours',\n",
       " 'SaturdayHours',\n",
       " 'SundayHours']"
      ]
     },
     "execution_count": 278,
     "metadata": {},
     "output_type": "execute_result"
    }
   ],
   "source": [
    "column_order = ['HotelID', 'HotelName', 'HotelAddress', 'Country', 'Phone', 'Price',\n",
    "                'OriginalHotelName', 'GoogleAddress',  'Latitude', 'Longitude', 'gPlusPlaceId',\n",
    "                'NearestAirportID', 'MondayHours', 'TuesdayHours', 'WednesdayHours',\n",
    "                'ThursdayHours', 'FridayHours', 'SaturdayHours',  'SundayHours']\n",
    "df_google_hotels_with_airportid = df_google_hotels_with_airportid.select(*column_order)\n",
    "df_google_hotels_with_airportid.columns"
   ]
  },
  {
   "cell_type": "code",
   "execution_count": 279,
   "metadata": {
    "editable": true
   },
   "outputs": [
    {
     "data": {
      "text/html": [
       "<div>\n",
       "<style scoped>\n",
       "    .dataframe tbody tr th:only-of-type {\n",
       "        vertical-align: middle;\n",
       "    }\n",
       "\n",
       "    .dataframe tbody tr th {\n",
       "        vertical-align: top;\n",
       "    }\n",
       "\n",
       "    .dataframe thead th {\n",
       "        text-align: right;\n",
       "    }\n",
       "</style>\n",
       "<table border=\"1\" class=\"dataframe\">\n",
       "  <thead>\n",
       "    <tr style=\"text-align: right;\">\n",
       "      <th></th>\n",
       "      <th>HotelID</th>\n",
       "      <th>HotelName</th>\n",
       "      <th>HotelAddress</th>\n",
       "      <th>Country</th>\n",
       "      <th>Phone</th>\n",
       "      <th>Price</th>\n",
       "      <th>OriginalHotelName</th>\n",
       "      <th>GoogleAddress</th>\n",
       "      <th>Latitude</th>\n",
       "      <th>Longitude</th>\n",
       "      <th>gPlusPlaceId</th>\n",
       "      <th>NearestAirportID</th>\n",
       "      <th>MondayHours</th>\n",
       "      <th>TuesdayHours</th>\n",
       "      <th>WednesdayHours</th>\n",
       "      <th>ThursdayHours</th>\n",
       "      <th>FridayHours</th>\n",
       "      <th>SaturdayHours</th>\n",
       "      <th>SundayHours</th>\n",
       "    </tr>\n",
       "  </thead>\n",
       "  <tbody>\n",
       "    <tr>\n",
       "      <th>0</th>\n",
       "      <td>148</td>\n",
       "      <td>Courtyard by Marriott Amsterdam Arena Atlas</td>\n",
       "      <td>Hoogoorddreef 1 Zuidoost 1101 BA Amsterdam Net...</td>\n",
       "      <td>Netherlands</td>\n",
       "      <td>None</td>\n",
       "      <td>None</td>\n",
       "      <td>Courtyard by Marriott Amsterdam Arena Atlas</td>\n",
       "      <td>None</td>\n",
       "      <td>52.3101182</td>\n",
       "      <td>4.9472918</td>\n",
       "      <td>None</td>\n",
       "      <td>NL-0050</td>\n",
       "      <td>None</td>\n",
       "      <td>None</td>\n",
       "      <td>None</td>\n",
       "      <td>None</td>\n",
       "      <td>None</td>\n",
       "      <td>None</td>\n",
       "      <td>None</td>\n",
       "    </tr>\n",
       "    <tr>\n",
       "      <th>1</th>\n",
       "      <td>463</td>\n",
       "      <td>Hotel The Serras</td>\n",
       "      <td>Passeig de Colom 9 Ciutat Vella 08002 Barcelon...</td>\n",
       "      <td>Spain</td>\n",
       "      <td>None</td>\n",
       "      <td>None</td>\n",
       "      <td>Hotel The Serras</td>\n",
       "      <td>None</td>\n",
       "      <td>41.3801815</td>\n",
       "      <td>2.180688</td>\n",
       "      <td>None</td>\n",
       "      <td>LEBL</td>\n",
       "      <td>None</td>\n",
       "      <td>None</td>\n",
       "      <td>None</td>\n",
       "      <td>None</td>\n",
       "      <td>None</td>\n",
       "      <td>None</td>\n",
       "      <td>None</td>\n",
       "    </tr>\n",
       "    <tr>\n",
       "      <th>2</th>\n",
       "      <td>471</td>\n",
       "      <td>Hotel Maison Ath n e</td>\n",
       "      <td>19 Rue De Caumartin 9th arr 75009 Paris France</td>\n",
       "      <td>France</td>\n",
       "      <td>None</td>\n",
       "      <td>None</td>\n",
       "      <td>Hotel Maison Ath n e</td>\n",
       "      <td>None</td>\n",
       "      <td>48.8713421</td>\n",
       "      <td>2.3280723</td>\n",
       "      <td>None</td>\n",
       "      <td>LFPB</td>\n",
       "      <td>None</td>\n",
       "      <td>None</td>\n",
       "      <td>None</td>\n",
       "      <td>None</td>\n",
       "      <td>None</td>\n",
       "      <td>None</td>\n",
       "      <td>None</td>\n",
       "    </tr>\n",
       "    <tr>\n",
       "      <th>3</th>\n",
       "      <td>496</td>\n",
       "      <td>Maison Albar H tel Paris Champs Elys es ex Mac...</td>\n",
       "      <td>3 avenue Mac Mahon 17th arr 75017 Paris France</td>\n",
       "      <td>France</td>\n",
       "      <td>None</td>\n",
       "      <td>None</td>\n",
       "      <td>Maison Albar H tel Paris Champs Elys es ex Mac...</td>\n",
       "      <td>None</td>\n",
       "      <td>48.8753837</td>\n",
       "      <td>2.2944651</td>\n",
       "      <td>None</td>\n",
       "      <td>LFPV</td>\n",
       "      <td>None</td>\n",
       "      <td>None</td>\n",
       "      <td>None</td>\n",
       "      <td>None</td>\n",
       "      <td>None</td>\n",
       "      <td>None</td>\n",
       "      <td>None</td>\n",
       "    </tr>\n",
       "    <tr>\n",
       "      <th>4</th>\n",
       "      <td>833</td>\n",
       "      <td>Catalonia Magdalenes</td>\n",
       "      <td>Magdalenes 13 15 Ciutat Vella 08002 Barcelona ...</td>\n",
       "      <td>Spain</td>\n",
       "      <td>None</td>\n",
       "      <td>None</td>\n",
       "      <td>Catalonia Magdalenes</td>\n",
       "      <td>None</td>\n",
       "      <td>41.3861283</td>\n",
       "      <td>2.1745291</td>\n",
       "      <td>None</td>\n",
       "      <td>LEBL</td>\n",
       "      <td>None</td>\n",
       "      <td>None</td>\n",
       "      <td>None</td>\n",
       "      <td>None</td>\n",
       "      <td>None</td>\n",
       "      <td>None</td>\n",
       "      <td>None</td>\n",
       "    </tr>\n",
       "  </tbody>\n",
       "</table>\n",
       "</div>"
      ],
      "text/plain": [
       "   HotelID                                          HotelName  \\\n",
       "0      148        Courtyard by Marriott Amsterdam Arena Atlas   \n",
       "1      463                                   Hotel The Serras   \n",
       "2      471                               Hotel Maison Ath n e   \n",
       "3      496  Maison Albar H tel Paris Champs Elys es ex Mac...   \n",
       "4      833                               Catalonia Magdalenes   \n",
       "\n",
       "                                        HotelAddress      Country Phone Price  \\\n",
       "0  Hoogoorddreef 1 Zuidoost 1101 BA Amsterdam Net...  Netherlands  None  None   \n",
       "1  Passeig de Colom 9 Ciutat Vella 08002 Barcelon...        Spain  None  None   \n",
       "2     19 Rue De Caumartin 9th arr 75009 Paris France       France  None  None   \n",
       "3     3 avenue Mac Mahon 17th arr 75017 Paris France       France  None  None   \n",
       "4  Magdalenes 13 15 Ciutat Vella 08002 Barcelona ...        Spain  None  None   \n",
       "\n",
       "                                   OriginalHotelName GoogleAddress  \\\n",
       "0        Courtyard by Marriott Amsterdam Arena Atlas          None   \n",
       "1                                   Hotel The Serras          None   \n",
       "2                               Hotel Maison Ath n e          None   \n",
       "3  Maison Albar H tel Paris Champs Elys es ex Mac...          None   \n",
       "4                               Catalonia Magdalenes          None   \n",
       "\n",
       "     Latitude  Longitude gPlusPlaceId NearestAirportID MondayHours  \\\n",
       "0  52.3101182  4.9472918         None          NL-0050        None   \n",
       "1  41.3801815   2.180688         None             LEBL        None   \n",
       "2  48.8713421  2.3280723         None             LFPB        None   \n",
       "3  48.8753837  2.2944651         None             LFPV        None   \n",
       "4  41.3861283  2.1745291         None             LEBL        None   \n",
       "\n",
       "  TuesdayHours WednesdayHours ThursdayHours FridayHours SaturdayHours  \\\n",
       "0         None           None          None        None          None   \n",
       "1         None           None          None        None          None   \n",
       "2         None           None          None        None          None   \n",
       "3         None           None          None        None          None   \n",
       "4         None           None          None        None          None   \n",
       "\n",
       "  SundayHours  \n",
       "0        None  \n",
       "1        None  \n",
       "2        None  \n",
       "3        None  \n",
       "4        None  "
      ]
     },
     "execution_count": 279,
     "metadata": {},
     "output_type": "execute_result"
    }
   ],
   "source": [
    "df_google_hotels_with_airportid.limit(5).toPandas()"
   ]
  },
  {
   "cell_type": "markdown",
   "metadata": {
    "editable": true
   },
   "source": [
    "Step 26. Create final version of the df_airport_codes data frame. In this step, we drop unnecessary columns, rename and reorder columns. This is saved in JSONL format, will be loaded into S3 in Part 4, and will be directly loaded into a Redshift dimension table from there. "
   ]
  },
  {
   "cell_type": "code",
   "execution_count": 280,
   "metadata": {
    "editable": true
   },
   "outputs": [
    {
     "data": {
      "text/plain": [
       "['AirportID',\n",
       " 'type',\n",
       " 'AirportName',\n",
       " 'elevation_ft',\n",
       " 'continent',\n",
       " 'iso_country',\n",
       " 'iso_region',\n",
       " 'municipality',\n",
       " 'gps_code',\n",
       " 'iata_code',\n",
       " 'local_code',\n",
       " 'longitude',\n",
       " 'latitude',\n",
       " 'Country']"
      ]
     },
     "execution_count": 280,
     "metadata": {},
     "output_type": "execute_result"
    }
   ],
   "source": [
    "df_airport_codes.columns"
   ]
  },
  {
   "cell_type": "code",
   "execution_count": 281,
   "metadata": {
    "editable": true
   },
   "outputs": [
    {
     "data": {
      "text/plain": [
       "['AirportID',\n",
       " 'Type',\n",
       " 'AirportName',\n",
       " 'ElevationInFeet',\n",
       " 'Continent',\n",
       " 'ISOCountry',\n",
       " 'ISORegion',\n",
       " 'Municipality',\n",
       " 'GPSCode',\n",
       " 'IATACode',\n",
       " 'LocalCode',\n",
       " 'Longitude',\n",
       " 'Latitude',\n",
       " 'Country']"
      ]
     },
     "execution_count": 281,
     "metadata": {},
     "output_type": "execute_result"
    }
   ],
   "source": [
    "df_airport_codes = df_airport_codes.withColumnRenamed('type', 'Type')\n",
    "df_airport_codes = df_airport_codes.withColumnRenamed('elevation_ft', 'ElevationInFeet')\n",
    "df_airport_codes = df_airport_codes.withColumnRenamed('continent', 'Continent')\n",
    "df_airport_codes = df_airport_codes.withColumnRenamed('iso_country', 'ISOCountry')\n",
    "df_airport_codes = df_airport_codes.withColumnRenamed('iso_region', 'ISORegion')\n",
    "df_airport_codes = df_airport_codes.withColumnRenamed('municipality', 'Municipality')\n",
    "df_airport_codes = df_airport_codes.withColumnRenamed('gps_code', 'GPSCode')\n",
    "df_airport_codes = df_airport_codes.withColumnRenamed('iata_code', 'IATACode')\n",
    "df_airport_codes = df_airport_codes.withColumnRenamed('local_code', 'LocalCode')\n",
    "df_airport_codes = df_airport_codes.withColumnRenamed('longitude', 'Longitude')\n",
    "df_airport_codes = df_airport_codes.withColumnRenamed('latitude', 'Latitude')\n",
    "df_airport_codes.columns"
   ]
  },
  {
   "cell_type": "code",
   "execution_count": 302,
   "metadata": {
    "editable": true
   },
   "outputs": [
    {
     "data": {
      "text/plain": [
       "['AirportID',\n",
       " 'Type',\n",
       " 'AirportName',\n",
       " 'Municipality',\n",
       " 'Country',\n",
       " 'ISOCountry',\n",
       " 'Continent',\n",
       " 'ISORegion',\n",
       " 'Latitude',\n",
       " 'Longitude',\n",
       " 'ElevationInFeet',\n",
       " 'GPSCode',\n",
       " 'IATACode',\n",
       " 'LocalCode']"
      ]
     },
     "execution_count": 302,
     "metadata": {},
     "output_type": "execute_result"
    }
   ],
   "source": [
    "column_order = ['AirportID', 'Type', 'AirportName', 'Municipality', 'Country', 'ISOCountry',\n",
    "                'Continent', 'ISORegion', 'Latitude', 'Longitude', 'ElevationInFeet',\n",
    "                'GPSCode', 'IATACode', 'LocalCode']\n",
    "df_airport_codes = df_airport_codes.select(*column_order)\n",
    "df_airport_codes.columns"
   ]
  },
  {
   "cell_type": "markdown",
   "metadata": {
    "editable": true
   },
   "source": [
    "Checkpoint: save the airports and hotels results. Write locally."
   ]
  },
  {
   "cell_type": "code",
   "execution_count": 284,
   "metadata": {
    "editable": true
   },
   "outputs": [],
   "source": [
    "df_google_hotels_with_airportid.write.format('json').save('Data/Cleaned/hotels.jsonl')"
   ]
  },
  {
   "cell_type": "code",
   "execution_count": 304,
   "metadata": {
    "editable": true
   },
   "outputs": [],
   "source": [
    "df_google_hotels_with_airportid.write.partitionBy('Country').format('parquet').save('Data/Cleaned/hotels.parquet')"
   ]
  },
  {
   "cell_type": "code",
   "execution_count": 285,
   "metadata": {
    "editable": true
   },
   "outputs": [
    {
     "data": {
      "text/plain": [
       "5908"
      ]
     },
     "execution_count": 285,
     "metadata": {},
     "output_type": "execute_result"
    }
   ],
   "source": [
    "df_airport_codes.count()"
   ]
  },
  {
   "cell_type": "code",
   "execution_count": 307,
   "metadata": {
    "editable": true
   },
   "outputs": [
    {
     "data": {
      "text/plain": [
       "0"
      ]
     },
     "execution_count": 307,
     "metadata": {},
     "output_type": "execute_result"
    }
   ],
   "source": [
    "df_airport_codes.filter(F.col('municipality')=='NA').count()"
   ]
  },
  {
   "cell_type": "code",
   "execution_count": 14,
   "metadata": {
    "editable": true
   },
   "outputs": [],
   "source": [
    "df_airport_codes = df_airport_codes.filter(~F.col('AirportName').contains('Duplicate'))"
   ]
  },
  {
   "cell_type": "markdown",
   "metadata": {
    "editable": true
   },
   "source": [
    "Step 26b. **Data issue** : Some rows contain a string which starts with 'Duplicate' for the hotel name. These are duplicate rows and can be removed."
   ]
  },
  {
   "cell_type": "code",
   "execution_count": 15,
   "metadata": {
    "editable": true
   },
   "outputs": [
    {
     "data": {
      "text/plain": [
       "5878"
      ]
     },
     "execution_count": 15,
     "metadata": {},
     "output_type": "execute_result"
    }
   ],
   "source": [
    "df_airport_codes.count()"
   ]
  },
  {
   "cell_type": "code",
   "execution_count": 16,
   "metadata": {
    "editable": true
   },
   "outputs": [],
   "source": [
    "df_airport_codes.write.format('json').mode('overwrite').save('Data/Cleaned/airports.jsonl')"
   ]
  },
  {
   "cell_type": "code",
   "execution_count": 295,
   "metadata": {
    "editable": true
   },
   "outputs": [],
   "source": [
    "df_airport_codes.write.format('csv').mode('overwrite').save('Data/Cleaned/airports.csv', header=\"True\")"
   ]
  },
  {
   "cell_type": "code",
   "execution_count": 303,
   "metadata": {
    "editable": true
   },
   "outputs": [],
   "source": [
    "df_airport_codes.write.partitionBy('Country').format('parquet').save('Data/Cleaned/airports.parquet')"
   ]
  },
  {
   "cell_type": "code",
   "execution_count": 305,
   "metadata": {
    "editable": true
   },
   "outputs": [],
   "source": [
    "df_hotelid_lookup.drop('HotelName').write.format('parquet').save('Data/Cleaned/hotelidlookup.parquet')"
   ]
  },
  {
   "cell_type": "code",
   "execution_count": 10,
   "metadata": {
    "editable": true
   },
   "outputs": [],
   "source": [
    "df_airport_codes = spark.read.parquet('Data/Cleaned/airports.parquet')"
   ]
  },
  {
   "cell_type": "code",
   "execution_count": 6,
   "metadata": {
    "editable": true
   },
   "outputs": [],
   "source": [
    "df_google_hotels_with_airportid = spark.read.parquet('Data/Cleaned/hotels.parquet')"
   ]
  },
  {
   "cell_type": "code",
   "execution_count": 92,
   "metadata": {
    "editable": true
   },
   "outputs": [],
   "source": [
    "df_hotelid_lookup = spark.read.parquet('Data/Cleaned/hotelidlookup.parquet')"
   ]
  },
  {
   "cell_type": "markdown",
   "metadata": {
    "editable": true
   },
   "source": [
    "## Part 3: Assign Hotel IDs from the created data frames to the Reviews data set (foreign keys), create the final version of the reviews data frame."
   ]
  },
  {
   "cell_type": "code",
   "execution_count": 93,
   "metadata": {
    "editable": true
   },
   "outputs": [
    {
     "data": {
      "text/html": [
       "<div>\n",
       "<style scoped>\n",
       "    .dataframe tbody tr th:only-of-type {\n",
       "        vertical-align: middle;\n",
       "    }\n",
       "\n",
       "    .dataframe tbody tr th {\n",
       "        vertical-align: top;\n",
       "    }\n",
       "\n",
       "    .dataframe thead th {\n",
       "        text-align: right;\n",
       "    }\n",
       "</style>\n",
       "<table border=\"1\" class=\"dataframe\">\n",
       "  <thead>\n",
       "    <tr style=\"text-align: right;\">\n",
       "      <th></th>\n",
       "      <th>Hotel_Address</th>\n",
       "      <th>Additional_Number_of_Scoring</th>\n",
       "      <th>Review_Date</th>\n",
       "      <th>Average_Score</th>\n",
       "      <th>Hotel_Name</th>\n",
       "      <th>Reviewer_Nationality</th>\n",
       "      <th>Negative_Review</th>\n",
       "      <th>Review_Total_Negative_Word_Counts</th>\n",
       "      <th>Total_Number_of_Reviews</th>\n",
       "      <th>Positive_Review</th>\n",
       "      <th>Review_Total_Positive_Word_Counts</th>\n",
       "      <th>Total_Number_of_Reviews_Reviewer_Has_Given</th>\n",
       "      <th>Reviewer_Score</th>\n",
       "      <th>Tags</th>\n",
       "      <th>days_since_review</th>\n",
       "      <th>lat</th>\n",
       "      <th>lng</th>\n",
       "    </tr>\n",
       "  </thead>\n",
       "  <tbody>\n",
       "    <tr>\n",
       "      <th>0</th>\n",
       "      <td>s Gravesandestraat 55 Oost 1092 AA Amsterdam ...</td>\n",
       "      <td>194</td>\n",
       "      <td>8/3/2017</td>\n",
       "      <td>7.7</td>\n",
       "      <td>Hotel Arena</td>\n",
       "      <td>Russia</td>\n",
       "      <td>I am so angry that i made this post available...</td>\n",
       "      <td>397</td>\n",
       "      <td>1403</td>\n",
       "      <td>Only the park outside of the hotel was beauti...</td>\n",
       "      <td>11</td>\n",
       "      <td>7</td>\n",
       "      <td>2.9</td>\n",
       "      <td>[' Leisure trip ', ' Couple ', ' Duplex Double...</td>\n",
       "      <td>0 days</td>\n",
       "      <td>52.3605759</td>\n",
       "      <td>4.9159683</td>\n",
       "    </tr>\n",
       "    <tr>\n",
       "      <th>1</th>\n",
       "      <td>s Gravesandestraat 55 Oost 1092 AA Amsterdam ...</td>\n",
       "      <td>194</td>\n",
       "      <td>8/3/2017</td>\n",
       "      <td>7.7</td>\n",
       "      <td>Hotel Arena</td>\n",
       "      <td>Ireland</td>\n",
       "      <td>No Negative</td>\n",
       "      <td>0</td>\n",
       "      <td>1403</td>\n",
       "      <td>No real complaints the hotel was great great ...</td>\n",
       "      <td>105</td>\n",
       "      <td>7</td>\n",
       "      <td>7.5</td>\n",
       "      <td>[' Leisure trip ', ' Couple ', ' Duplex Double...</td>\n",
       "      <td>0 days</td>\n",
       "      <td>52.3605759</td>\n",
       "      <td>4.9159683</td>\n",
       "    </tr>\n",
       "    <tr>\n",
       "      <th>2</th>\n",
       "      <td>s Gravesandestraat 55 Oost 1092 AA Amsterdam ...</td>\n",
       "      <td>194</td>\n",
       "      <td>7/31/2017</td>\n",
       "      <td>7.7</td>\n",
       "      <td>Hotel Arena</td>\n",
       "      <td>Australia</td>\n",
       "      <td>Rooms are nice but for elderly a bit difficul...</td>\n",
       "      <td>42</td>\n",
       "      <td>1403</td>\n",
       "      <td>Location was good and staff were ok It is cut...</td>\n",
       "      <td>21</td>\n",
       "      <td>9</td>\n",
       "      <td>7.1</td>\n",
       "      <td>[' Leisure trip ', ' Family with young childre...</td>\n",
       "      <td>3 days</td>\n",
       "      <td>52.3605759</td>\n",
       "      <td>4.9159683</td>\n",
       "    </tr>\n",
       "    <tr>\n",
       "      <th>3</th>\n",
       "      <td>s Gravesandestraat 55 Oost 1092 AA Amsterdam ...</td>\n",
       "      <td>194</td>\n",
       "      <td>7/31/2017</td>\n",
       "      <td>7.7</td>\n",
       "      <td>Hotel Arena</td>\n",
       "      <td>United Kingdom</td>\n",
       "      <td>My room was dirty and I was afraid to walk ba...</td>\n",
       "      <td>210</td>\n",
       "      <td>1403</td>\n",
       "      <td>Great location in nice surroundings the bar a...</td>\n",
       "      <td>26</td>\n",
       "      <td>1</td>\n",
       "      <td>3.8</td>\n",
       "      <td>[' Leisure trip ', ' Solo traveler ', ' Duplex...</td>\n",
       "      <td>3 days</td>\n",
       "      <td>52.3605759</td>\n",
       "      <td>4.9159683</td>\n",
       "    </tr>\n",
       "    <tr>\n",
       "      <th>4</th>\n",
       "      <td>s Gravesandestraat 55 Oost 1092 AA Amsterdam ...</td>\n",
       "      <td>194</td>\n",
       "      <td>7/24/2017</td>\n",
       "      <td>7.7</td>\n",
       "      <td>Hotel Arena</td>\n",
       "      <td>New Zealand</td>\n",
       "      <td>You When I booked with your company on line y...</td>\n",
       "      <td>140</td>\n",
       "      <td>1403</td>\n",
       "      <td>Amazing location and building Romantic setting</td>\n",
       "      <td>8</td>\n",
       "      <td>3</td>\n",
       "      <td>6.7</td>\n",
       "      <td>[' Leisure trip ', ' Couple ', ' Suite ', ' St...</td>\n",
       "      <td>10 days</td>\n",
       "      <td>52.3605759</td>\n",
       "      <td>4.9159683</td>\n",
       "    </tr>\n",
       "  </tbody>\n",
       "</table>\n",
       "</div>"
      ],
      "text/plain": [
       "                                       Hotel_Address  \\\n",
       "0   s Gravesandestraat 55 Oost 1092 AA Amsterdam ...   \n",
       "1   s Gravesandestraat 55 Oost 1092 AA Amsterdam ...   \n",
       "2   s Gravesandestraat 55 Oost 1092 AA Amsterdam ...   \n",
       "3   s Gravesandestraat 55 Oost 1092 AA Amsterdam ...   \n",
       "4   s Gravesandestraat 55 Oost 1092 AA Amsterdam ...   \n",
       "\n",
       "   Additional_Number_of_Scoring Review_Date  Average_Score   Hotel_Name  \\\n",
       "0                           194    8/3/2017            7.7  Hotel Arena   \n",
       "1                           194    8/3/2017            7.7  Hotel Arena   \n",
       "2                           194   7/31/2017            7.7  Hotel Arena   \n",
       "3                           194   7/31/2017            7.7  Hotel Arena   \n",
       "4                           194   7/24/2017            7.7  Hotel Arena   \n",
       "\n",
       "  Reviewer_Nationality                                    Negative_Review  \\\n",
       "0              Russia    I am so angry that i made this post available...   \n",
       "1             Ireland                                         No Negative   \n",
       "2           Australia    Rooms are nice but for elderly a bit difficul...   \n",
       "3      United Kingdom    My room was dirty and I was afraid to walk ba...   \n",
       "4         New Zealand    You When I booked with your company on line y...   \n",
       "\n",
       "   Review_Total_Negative_Word_Counts  Total_Number_of_Reviews  \\\n",
       "0                                397                     1403   \n",
       "1                                  0                     1403   \n",
       "2                                 42                     1403   \n",
       "3                                210                     1403   \n",
       "4                                140                     1403   \n",
       "\n",
       "                                     Positive_Review  \\\n",
       "0   Only the park outside of the hotel was beauti...   \n",
       "1   No real complaints the hotel was great great ...   \n",
       "2   Location was good and staff were ok It is cut...   \n",
       "3   Great location in nice surroundings the bar a...   \n",
       "4    Amazing location and building Romantic setting    \n",
       "\n",
       "   Review_Total_Positive_Word_Counts  \\\n",
       "0                                 11   \n",
       "1                                105   \n",
       "2                                 21   \n",
       "3                                 26   \n",
       "4                                  8   \n",
       "\n",
       "   Total_Number_of_Reviews_Reviewer_Has_Given  Reviewer_Score  \\\n",
       "0                                           7             2.9   \n",
       "1                                           7             7.5   \n",
       "2                                           9             7.1   \n",
       "3                                           1             3.8   \n",
       "4                                           3             6.7   \n",
       "\n",
       "                                                Tags days_since_review  \\\n",
       "0  [' Leisure trip ', ' Couple ', ' Duplex Double...            0 days   \n",
       "1  [' Leisure trip ', ' Couple ', ' Duplex Double...            0 days   \n",
       "2  [' Leisure trip ', ' Family with young childre...            3 days   \n",
       "3  [' Leisure trip ', ' Solo traveler ', ' Duplex...            3 days   \n",
       "4  [' Leisure trip ', ' Couple ', ' Suite ', ' St...           10 days   \n",
       "\n",
       "          lat        lng  \n",
       "0  52.3605759  4.9159683  \n",
       "1  52.3605759  4.9159683  \n",
       "2  52.3605759  4.9159683  \n",
       "3  52.3605759  4.9159683  \n",
       "4  52.3605759  4.9159683  "
      ]
     },
     "execution_count": 93,
     "metadata": {},
     "output_type": "execute_result"
    }
   ],
   "source": [
    "df_hotel_reviews.limit(5).toPandas()"
   ]
  },
  {
   "cell_type": "code",
   "execution_count": 94,
   "metadata": {
    "editable": true
   },
   "outputs": [
    {
     "name": "stdout",
     "output_type": "stream",
     "text": [
      "root\n",
      " |-- Hotel_Address: string (nullable = true)\n",
      " |-- Additional_Number_of_Scoring: integer (nullable = true)\n",
      " |-- Review_Date: string (nullable = true)\n",
      " |-- Average_Score: double (nullable = true)\n",
      " |-- Hotel_Name: string (nullable = true)\n",
      " |-- Reviewer_Nationality: string (nullable = true)\n",
      " |-- Negative_Review: string (nullable = true)\n",
      " |-- Review_Total_Negative_Word_Counts: integer (nullable = true)\n",
      " |-- Total_Number_of_Reviews: integer (nullable = true)\n",
      " |-- Positive_Review: string (nullable = true)\n",
      " |-- Review_Total_Positive_Word_Counts: integer (nullable = true)\n",
      " |-- Total_Number_of_Reviews_Reviewer_Has_Given: integer (nullable = true)\n",
      " |-- Reviewer_Score: double (nullable = true)\n",
      " |-- Tags: string (nullable = true)\n",
      " |-- days_since_review: string (nullable = true)\n",
      " |-- lat: string (nullable = true)\n",
      " |-- lng: string (nullable = true)\n",
      "\n"
     ]
    }
   ],
   "source": [
    "df_hotel_reviews.printSchema()"
   ]
  },
  {
   "cell_type": "markdown",
   "metadata": {
    "editable": true
   },
   "source": [
    "Step 27. Our first goal is to join the Hotelid_lookup data frame with the reviews data frame on Hotel_Name, lat and lng. However, we need to fix the same issues we fixed while building the data frame for the join to take place successfully. In other words, we need to do something about the rows which have 'NA' lat/long values.\n",
    "Perform the same process as Step 18. Drop rows with Hotel_Name='Hotel Atlanta'. Add in the latitude and longitude for the rows with NA, i.e., for the same 16 hotels that were manipulated in Step 18.\n"
   ]
  },
  {
   "cell_type": "code",
   "execution_count": 95,
   "metadata": {
    "editable": true
   },
   "outputs": [],
   "source": [
    "df_hotel_reviews = df_hotel_reviews.filter(df_hotel_reviews.Hotel_Name!='Hotel Atlanta')"
   ]
  },
  {
   "cell_type": "code",
   "execution_count": 96,
   "metadata": {
    "editable": true
   },
   "outputs": [
    {
     "data": {
      "text/plain": [
       "515349"
      ]
     },
     "execution_count": 96,
     "metadata": {},
     "output_type": "execute_result"
    }
   ],
   "source": [
    "df_hotel_reviews.count()"
   ]
  },
  {
   "cell_type": "code",
   "execution_count": 36,
   "metadata": {
    "editable": true
   },
   "outputs": [
    {
     "data": {
      "text/plain": [
       "2879"
      ]
     },
     "execution_count": 36,
     "metadata": {},
     "output_type": "execute_result"
    }
   ],
   "source": [
    "df_hotel_reviews.filter((F.col('lat')=='NA') | (F.col('lng')=='NA')).count()"
   ]
  },
  {
   "cell_type": "markdown",
   "metadata": {
    "editable": true
   },
   "source": [
    "Check if there are multiple hotels with the names of the hotels below (the names are from Step 18). This is checked in the following cell using dropDuplicates. Once all the checks are done, the  next cell is executed to add the latitude and longitude of these cells."
   ]
  },
  {
   "cell_type": "code",
   "execution_count": 97,
   "metadata": {
    "editable": true
   },
   "outputs": [],
   "source": [
    "def replace_na_with_latlong(df, hotelname, latit, longi):\n",
    "    df = df.withColumn('lat', F.when(F.col('Hotel_Name')==hotelname, latit).otherwise(F.col('lat')))\n",
    "    df = df.withColumn('lng', F.when(F.col('Hotel_Name')==hotelname, longi).otherwise(F.col('lng')))\n",
    "    return df\n",
    "    \n",
    "df_hotel_reviews = replace_na_with_latlong(df_hotel_reviews, 'Fleming s Selection Hotel Wien City', 48.2094, 16.3534) # Fleming s Selection Hotel Wien City\n",
    "df_hotel_reviews = replace_na_with_latlong(df_hotel_reviews, 'Austria Trend Hotel Schloss Wilhelminenberg Wien', 48.2196, 16.2856) # Austria Trend Hotel Schloss Wilhelminenberg Wien\n",
    "df_hotel_reviews = replace_na_with_latlong(df_hotel_reviews, 'Hotel Park Villa', 48.2336, 16.3457) # Hotel Park Villa\n",
    "df_hotel_reviews = replace_na_with_latlong(df_hotel_reviews, 'Hotel Advance', 41.3833, 2.1628) # Hotel Advance\n",
    "df_hotel_reviews = replace_na_with_latlong(df_hotel_reviews, 'Roomz Vienna', 48.1868, 16.4207) # Roomz Vienna\n",
    "df_hotel_reviews = replace_na_with_latlong(df_hotel_reviews, 'NH Collection Barcelona Podium', 41.3916, 2.1779) # NH Collection Barcelona Podium\n",
    "df_hotel_reviews = replace_na_with_latlong(df_hotel_reviews, 'City Hotel Deutschmeister', 48.2209, 16.3666) # City Hotel Deutschmeister\n",
    "df_hotel_reviews = replace_na_with_latlong(df_hotel_reviews, 'Hotel Daniel Vienna', 48.1888, 16.3838) # Hotel Daniel Vienna\n",
    "df_hotel_reviews = replace_na_with_latlong(df_hotel_reviews, 'Derag Livinghotel Kaiser Franz Joseph Vienna', 48.2460, 16.3415) # Derag Livinghotel Kaiser Franz Joseph Vienna\n",
    "df_hotel_reviews = replace_na_with_latlong(df_hotel_reviews, 'Hotel City Central', 48.2136, 16.3799) # Hotel City Central\n",
    "df_hotel_reviews = replace_na_with_latlong(df_hotel_reviews, 'Hotel Pension Baron am Schottentor', 48.2168, 16.3601) # Hotel Pension Baron am Schottentor\n",
    "df_hotel_reviews = replace_na_with_latlong(df_hotel_reviews, 'Mercure Paris Gare Montparnasse', 48.8400, 2.3236) # Mercure Paris Gare Montparnasse\n",
    "df_hotel_reviews = replace_na_with_latlong(df_hotel_reviews, 'Holiday Inn Paris Montmartre', 48.8889, 2.3331) # Holiday Inn Paris Montmartre\n",
    "df_hotel_reviews = replace_na_with_latlong(df_hotel_reviews, 'Cordial Theaterhotel Wien', 48.2095, 16.3515) # Cordial Theaterhotel Wien\n",
    "df_hotel_reviews = replace_na_with_latlong(df_hotel_reviews, 'Renaissance Barcelona Hotel', 41.3927, 2.1674) # Renaissance Barcelona Hotel\n",
    "df_hotel_reviews = replace_na_with_latlong(df_hotel_reviews, 'Maison Albar Hotel Paris Op ra Diamond', 48.8753, 2.3234) # Maison Albar Hotel Paris Op ra Diamond\n"
   ]
  },
  {
   "cell_type": "code",
   "execution_count": 98,
   "metadata": {
    "editable": true
   },
   "outputs": [
    {
     "data": {
      "text/plain": [
       "1"
      ]
     },
     "execution_count": 98,
     "metadata": {},
     "output_type": "execute_result"
    }
   ],
   "source": [
    "df_hotel_reviews.filter(F.col('Hotel_Name')=='Cordial Theaterhotel Wien').dropDuplicates(subset=['Hotel_Name', 'Hotel_Address']).count()"
   ]
  },
  {
   "cell_type": "code",
   "execution_count": 99,
   "metadata": {
    "editable": true
   },
   "outputs": [
    {
     "data": {
      "text/plain": [
       "0"
      ]
     },
     "execution_count": 99,
     "metadata": {},
     "output_type": "execute_result"
    }
   ],
   "source": [
    "df_hotel_reviews.filter((F.col('lat')=='NA') | (F.col('lng')=='NA')).count()"
   ]
  },
  {
   "cell_type": "markdown",
   "metadata": {
    "editable": true
   },
   "source": [
    "Step 28. Join the df_hotelid_lookup data frame with the reviews data frame on (Hotel_Name, lat, lng)."
   ]
  },
  {
   "cell_type": "code",
   "execution_count": 100,
   "metadata": {
    "editable": true
   },
   "outputs": [
    {
     "data": {
      "text/plain": [
       "1493"
      ]
     },
     "execution_count": 100,
     "metadata": {},
     "output_type": "execute_result"
    }
   ],
   "source": [
    "df_hotel_reviews.join(df_hotelid_lookup, on=['Hotel_Name', 'lat', 'lng']).dropDuplicates(subset=['HotelID']).count()"
   ]
  },
  {
   "cell_type": "code",
   "execution_count": 101,
   "metadata": {
    "editable": true
   },
   "outputs": [],
   "source": [
    "df_hotel_reviews = df_hotel_reviews.join(df_hotelid_lookup, on=['Hotel_Name', 'lat', 'lng'])"
   ]
  },
  {
   "cell_type": "code",
   "execution_count": 102,
   "metadata": {
    "editable": true
   },
   "outputs": [
    {
     "data": {
      "text/html": [
       "<div>\n",
       "<style scoped>\n",
       "    .dataframe tbody tr th:only-of-type {\n",
       "        vertical-align: middle;\n",
       "    }\n",
       "\n",
       "    .dataframe tbody tr th {\n",
       "        vertical-align: top;\n",
       "    }\n",
       "\n",
       "    .dataframe thead th {\n",
       "        text-align: right;\n",
       "    }\n",
       "</style>\n",
       "<table border=\"1\" class=\"dataframe\">\n",
       "  <thead>\n",
       "    <tr style=\"text-align: right;\">\n",
       "      <th></th>\n",
       "      <th>Hotel_Name</th>\n",
       "      <th>lat</th>\n",
       "      <th>lng</th>\n",
       "      <th>Hotel_Address</th>\n",
       "      <th>Additional_Number_of_Scoring</th>\n",
       "      <th>Review_Date</th>\n",
       "      <th>Average_Score</th>\n",
       "      <th>Reviewer_Nationality</th>\n",
       "      <th>Negative_Review</th>\n",
       "      <th>Review_Total_Negative_Word_Counts</th>\n",
       "      <th>Total_Number_of_Reviews</th>\n",
       "      <th>Positive_Review</th>\n",
       "      <th>Review_Total_Positive_Word_Counts</th>\n",
       "      <th>Total_Number_of_Reviews_Reviewer_Has_Given</th>\n",
       "      <th>Reviewer_Score</th>\n",
       "      <th>Tags</th>\n",
       "      <th>days_since_review</th>\n",
       "      <th>HotelID</th>\n",
       "    </tr>\n",
       "  </thead>\n",
       "  <tbody>\n",
       "    <tr>\n",
       "      <th>0</th>\n",
       "      <td>Hotel Arena</td>\n",
       "      <td>52.3605759</td>\n",
       "      <td>4.9159683</td>\n",
       "      <td>s Gravesandestraat 55 Oost 1092 AA Amsterdam ...</td>\n",
       "      <td>194</td>\n",
       "      <td>8/3/2017</td>\n",
       "      <td>7.7</td>\n",
       "      <td>Russia</td>\n",
       "      <td>I am so angry that i made this post available...</td>\n",
       "      <td>397</td>\n",
       "      <td>1403</td>\n",
       "      <td>Only the park outside of the hotel was beauti...</td>\n",
       "      <td>11</td>\n",
       "      <td>7</td>\n",
       "      <td>2.9</td>\n",
       "      <td>[' Leisure trip ', ' Couple ', ' Duplex Double...</td>\n",
       "      <td>0 days</td>\n",
       "      <td>298</td>\n",
       "    </tr>\n",
       "    <tr>\n",
       "      <th>1</th>\n",
       "      <td>Hotel Arena</td>\n",
       "      <td>52.3605759</td>\n",
       "      <td>4.9159683</td>\n",
       "      <td>s Gravesandestraat 55 Oost 1092 AA Amsterdam ...</td>\n",
       "      <td>194</td>\n",
       "      <td>8/3/2017</td>\n",
       "      <td>7.7</td>\n",
       "      <td>Ireland</td>\n",
       "      <td>No Negative</td>\n",
       "      <td>0</td>\n",
       "      <td>1403</td>\n",
       "      <td>No real complaints the hotel was great great ...</td>\n",
       "      <td>105</td>\n",
       "      <td>7</td>\n",
       "      <td>7.5</td>\n",
       "      <td>[' Leisure trip ', ' Couple ', ' Duplex Double...</td>\n",
       "      <td>0 days</td>\n",
       "      <td>298</td>\n",
       "    </tr>\n",
       "    <tr>\n",
       "      <th>2</th>\n",
       "      <td>Hotel Arena</td>\n",
       "      <td>52.3605759</td>\n",
       "      <td>4.9159683</td>\n",
       "      <td>s Gravesandestraat 55 Oost 1092 AA Amsterdam ...</td>\n",
       "      <td>194</td>\n",
       "      <td>7/31/2017</td>\n",
       "      <td>7.7</td>\n",
       "      <td>Australia</td>\n",
       "      <td>Rooms are nice but for elderly a bit difficul...</td>\n",
       "      <td>42</td>\n",
       "      <td>1403</td>\n",
       "      <td>Location was good and staff were ok It is cut...</td>\n",
       "      <td>21</td>\n",
       "      <td>9</td>\n",
       "      <td>7.1</td>\n",
       "      <td>[' Leisure trip ', ' Family with young childre...</td>\n",
       "      <td>3 days</td>\n",
       "      <td>298</td>\n",
       "    </tr>\n",
       "    <tr>\n",
       "      <th>3</th>\n",
       "      <td>Hotel Arena</td>\n",
       "      <td>52.3605759</td>\n",
       "      <td>4.9159683</td>\n",
       "      <td>s Gravesandestraat 55 Oost 1092 AA Amsterdam ...</td>\n",
       "      <td>194</td>\n",
       "      <td>7/31/2017</td>\n",
       "      <td>7.7</td>\n",
       "      <td>United Kingdom</td>\n",
       "      <td>My room was dirty and I was afraid to walk ba...</td>\n",
       "      <td>210</td>\n",
       "      <td>1403</td>\n",
       "      <td>Great location in nice surroundings the bar a...</td>\n",
       "      <td>26</td>\n",
       "      <td>1</td>\n",
       "      <td>3.8</td>\n",
       "      <td>[' Leisure trip ', ' Solo traveler ', ' Duplex...</td>\n",
       "      <td>3 days</td>\n",
       "      <td>298</td>\n",
       "    </tr>\n",
       "    <tr>\n",
       "      <th>4</th>\n",
       "      <td>Hotel Arena</td>\n",
       "      <td>52.3605759</td>\n",
       "      <td>4.9159683</td>\n",
       "      <td>s Gravesandestraat 55 Oost 1092 AA Amsterdam ...</td>\n",
       "      <td>194</td>\n",
       "      <td>7/24/2017</td>\n",
       "      <td>7.7</td>\n",
       "      <td>New Zealand</td>\n",
       "      <td>You When I booked with your company on line y...</td>\n",
       "      <td>140</td>\n",
       "      <td>1403</td>\n",
       "      <td>Amazing location and building Romantic setting</td>\n",
       "      <td>8</td>\n",
       "      <td>3</td>\n",
       "      <td>6.7</td>\n",
       "      <td>[' Leisure trip ', ' Couple ', ' Suite ', ' St...</td>\n",
       "      <td>10 days</td>\n",
       "      <td>298</td>\n",
       "    </tr>\n",
       "  </tbody>\n",
       "</table>\n",
       "</div>"
      ],
      "text/plain": [
       "    Hotel_Name         lat        lng  \\\n",
       "0  Hotel Arena  52.3605759  4.9159683   \n",
       "1  Hotel Arena  52.3605759  4.9159683   \n",
       "2  Hotel Arena  52.3605759  4.9159683   \n",
       "3  Hotel Arena  52.3605759  4.9159683   \n",
       "4  Hotel Arena  52.3605759  4.9159683   \n",
       "\n",
       "                                       Hotel_Address  \\\n",
       "0   s Gravesandestraat 55 Oost 1092 AA Amsterdam ...   \n",
       "1   s Gravesandestraat 55 Oost 1092 AA Amsterdam ...   \n",
       "2   s Gravesandestraat 55 Oost 1092 AA Amsterdam ...   \n",
       "3   s Gravesandestraat 55 Oost 1092 AA Amsterdam ...   \n",
       "4   s Gravesandestraat 55 Oost 1092 AA Amsterdam ...   \n",
       "\n",
       "   Additional_Number_of_Scoring Review_Date  Average_Score  \\\n",
       "0                           194    8/3/2017            7.7   \n",
       "1                           194    8/3/2017            7.7   \n",
       "2                           194   7/31/2017            7.7   \n",
       "3                           194   7/31/2017            7.7   \n",
       "4                           194   7/24/2017            7.7   \n",
       "\n",
       "  Reviewer_Nationality                                    Negative_Review  \\\n",
       "0              Russia    I am so angry that i made this post available...   \n",
       "1             Ireland                                         No Negative   \n",
       "2           Australia    Rooms are nice but for elderly a bit difficul...   \n",
       "3      United Kingdom    My room was dirty and I was afraid to walk ba...   \n",
       "4         New Zealand    You When I booked with your company on line y...   \n",
       "\n",
       "   Review_Total_Negative_Word_Counts  Total_Number_of_Reviews  \\\n",
       "0                                397                     1403   \n",
       "1                                  0                     1403   \n",
       "2                                 42                     1403   \n",
       "3                                210                     1403   \n",
       "4                                140                     1403   \n",
       "\n",
       "                                     Positive_Review  \\\n",
       "0   Only the park outside of the hotel was beauti...   \n",
       "1   No real complaints the hotel was great great ...   \n",
       "2   Location was good and staff were ok It is cut...   \n",
       "3   Great location in nice surroundings the bar a...   \n",
       "4    Amazing location and building Romantic setting    \n",
       "\n",
       "   Review_Total_Positive_Word_Counts  \\\n",
       "0                                 11   \n",
       "1                                105   \n",
       "2                                 21   \n",
       "3                                 26   \n",
       "4                                  8   \n",
       "\n",
       "   Total_Number_of_Reviews_Reviewer_Has_Given  Reviewer_Score  \\\n",
       "0                                           7             2.9   \n",
       "1                                           7             7.5   \n",
       "2                                           9             7.1   \n",
       "3                                           1             3.8   \n",
       "4                                           3             6.7   \n",
       "\n",
       "                                                Tags days_since_review  \\\n",
       "0  [' Leisure trip ', ' Couple ', ' Duplex Double...            0 days   \n",
       "1  [' Leisure trip ', ' Couple ', ' Duplex Double...            0 days   \n",
       "2  [' Leisure trip ', ' Family with young childre...            3 days   \n",
       "3  [' Leisure trip ', ' Solo traveler ', ' Duplex...            3 days   \n",
       "4  [' Leisure trip ', ' Couple ', ' Suite ', ' St...           10 days   \n",
       "\n",
       "   HotelID  \n",
       "0      298  \n",
       "1      298  \n",
       "2      298  \n",
       "3      298  \n",
       "4      298  "
      ]
     },
     "execution_count": 102,
     "metadata": {},
     "output_type": "execute_result"
    }
   ],
   "source": [
    "df_hotel_reviews.limit(5).toPandas()"
   ]
  },
  {
   "cell_type": "markdown",
   "metadata": {
    "editable": true
   },
   "source": [
    "Step 29. As we have the HotelId now in our data frame, we can drop all the other information like Hotel Name, lat, lng and Hotel Address. These are already identified by the Hotel ID. Also, the days since review is a useless field and can be removed."
   ]
  },
  {
   "cell_type": "code",
   "execution_count": 103,
   "metadata": {
    "editable": true
   },
   "outputs": [],
   "source": [
    "df_hotel_reviews = df_hotel_reviews.drop(*['Hotel_Name', 'lat', 'Hotel_Address', 'lng', 'days_since_review'])"
   ]
  },
  {
   "cell_type": "code",
   "execution_count": 104,
   "metadata": {
    "editable": true
   },
   "outputs": [
    {
     "name": "stdout",
     "output_type": "stream",
     "text": [
      "root\n",
      " |-- Additional_Number_of_Scoring: integer (nullable = true)\n",
      " |-- Review_Date: string (nullable = true)\n",
      " |-- Average_Score: double (nullable = true)\n",
      " |-- Reviewer_Nationality: string (nullable = true)\n",
      " |-- Negative_Review: string (nullable = true)\n",
      " |-- Review_Total_Negative_Word_Counts: integer (nullable = true)\n",
      " |-- Total_Number_of_Reviews: integer (nullable = true)\n",
      " |-- Positive_Review: string (nullable = true)\n",
      " |-- Review_Total_Positive_Word_Counts: integer (nullable = true)\n",
      " |-- Total_Number_of_Reviews_Reviewer_Has_Given: integer (nullable = true)\n",
      " |-- Reviewer_Score: double (nullable = true)\n",
      " |-- Tags: string (nullable = true)\n",
      " |-- HotelID: integer (nullable = true)\n",
      "\n"
     ]
    }
   ],
   "source": [
    "df_hotel_reviews.printSchema()"
   ]
  },
  {
   "cell_type": "markdown",
   "metadata": {
    "editable": true
   },
   "source": [
    "Step 30. As we saw in the Explore_reviews notebook, the string columns have leading and spaces. These need to be stripped. Also, some string columns have empty spaces as their values. These values need to be replaced with None -- we want a Null to be added into the final database."
   ]
  },
  {
   "cell_type": "code",
   "execution_count": 105,
   "metadata": {
    "editable": true
   },
   "outputs": [
    {
     "data": {
      "text/html": [
       "<div>\n",
       "<style scoped>\n",
       "    .dataframe tbody tr th:only-of-type {\n",
       "        vertical-align: middle;\n",
       "    }\n",
       "\n",
       "    .dataframe tbody tr th {\n",
       "        vertical-align: top;\n",
       "    }\n",
       "\n",
       "    .dataframe thead th {\n",
       "        text-align: right;\n",
       "    }\n",
       "</style>\n",
       "<table border=\"1\" class=\"dataframe\">\n",
       "  <thead>\n",
       "    <tr style=\"text-align: right;\">\n",
       "      <th></th>\n",
       "      <th>Review_Date</th>\n",
       "      <th>Reviewer_Nationality</th>\n",
       "      <th>Negative_Review</th>\n",
       "      <th>Positive_Review</th>\n",
       "      <th>Tags</th>\n",
       "    </tr>\n",
       "  </thead>\n",
       "  <tbody>\n",
       "    <tr>\n",
       "      <th>0</th>\n",
       "      <td>0</td>\n",
       "      <td>522</td>\n",
       "      <td>847</td>\n",
       "      <td>183</td>\n",
       "      <td>0</td>\n",
       "    </tr>\n",
       "  </tbody>\n",
       "</table>\n",
       "</div>"
      ],
      "text/plain": [
       "   Review_Date  Reviewer_Nationality  Negative_Review  Positive_Review  Tags\n",
       "0            0                   522              847              183     0"
      ]
     },
     "execution_count": 105,
     "metadata": {},
     "output_type": "execute_result"
    }
   ],
   "source": [
    "@F.udf(returnType=StringType())\n",
    "def strip_leading_trailing_spaces(val):\n",
    "    return val.strip()\n",
    "string_columns = ['Review_Date', 'Reviewer_Nationality', 'Negative_Review', 'Positive_Review', 'Tags']\n",
    "df_hotel_reviews.select([F.count(F.when(strip_leading_trailing_spaces(c)=='', c)).alias(c) for c in string_columns]).toPandas()"
   ]
  },
  {
   "cell_type": "code",
   "execution_count": 106,
   "metadata": {
    "editable": true
   },
   "outputs": [],
   "source": [
    "# Replace the values in the string columns with the stripped values.\n",
    "for c in string_columns:\n",
    "    df_hotel_reviews= df_hotel_reviews.withColumn(c, strip_leading_trailing_spaces(c))"
   ]
  },
  {
   "cell_type": "code",
   "execution_count": 107,
   "metadata": {
    "editable": true
   },
   "outputs": [],
   "source": [
    "def blank_as_null(val):\n",
    "    return F.when(F.col(val) != \"\", F.col(val)).otherwise(None)\n",
    "\n",
    "for c in string_columns:\n",
    "    df_hotel_reviews= df_hotel_reviews.withColumn(c, blank_as_null(c))"
   ]
  },
  {
   "cell_type": "markdown",
   "metadata": {
    "editable": true
   },
   "source": [
    "Check if the empty string values have been turned into Nulls"
   ]
  },
  {
   "cell_type": "code",
   "execution_count": 108,
   "metadata": {
    "editable": true
   },
   "outputs": [
    {
     "data": {
      "text/html": [
       "<div>\n",
       "<style scoped>\n",
       "    .dataframe tbody tr th:only-of-type {\n",
       "        vertical-align: middle;\n",
       "    }\n",
       "\n",
       "    .dataframe tbody tr th {\n",
       "        vertical-align: top;\n",
       "    }\n",
       "\n",
       "    .dataframe thead th {\n",
       "        text-align: right;\n",
       "    }\n",
       "</style>\n",
       "<table border=\"1\" class=\"dataframe\">\n",
       "  <thead>\n",
       "    <tr style=\"text-align: right;\">\n",
       "      <th></th>\n",
       "      <th>Review_Date</th>\n",
       "      <th>Reviewer_Nationality</th>\n",
       "      <th>Negative_Review</th>\n",
       "      <th>Positive_Review</th>\n",
       "      <th>Tags</th>\n",
       "    </tr>\n",
       "  </thead>\n",
       "  <tbody>\n",
       "    <tr>\n",
       "      <th>0</th>\n",
       "      <td>0</td>\n",
       "      <td>522</td>\n",
       "      <td>847</td>\n",
       "      <td>183</td>\n",
       "      <td>0</td>\n",
       "    </tr>\n",
       "  </tbody>\n",
       "</table>\n",
       "</div>"
      ],
      "text/plain": [
       "   Review_Date  Reviewer_Nationality  Negative_Review  Positive_Review  Tags\n",
       "0            0                   522              847              183     0"
      ]
     },
     "execution_count": 108,
     "metadata": {},
     "output_type": "execute_result"
    }
   ],
   "source": [
    "df_hotel_reviews.select([F.count(F.when(F.col(c).isNull(), c)).alias(c) for c in string_columns]).toPandas()"
   ]
  },
  {
   "cell_type": "markdown",
   "metadata": {
    "editable": true
   },
   "source": [
    "Step 31. Change the datatype of the Review_Date field from string to date."
   ]
  },
  {
   "cell_type": "code",
   "execution_count": 109,
   "metadata": {
    "editable": true
   },
   "outputs": [],
   "source": [
    "df_hotel_reviews = df_hotel_reviews.withColumn('Review_Date', F.to_date(F.col('Review_Date'), format='MM/dd/yyyy'))"
   ]
  },
  {
   "cell_type": "code",
   "execution_count": 110,
   "metadata": {
    "editable": true
   },
   "outputs": [
    {
     "data": {
      "text/html": [
       "<div>\n",
       "<style scoped>\n",
       "    .dataframe tbody tr th:only-of-type {\n",
       "        vertical-align: middle;\n",
       "    }\n",
       "\n",
       "    .dataframe tbody tr th {\n",
       "        vertical-align: top;\n",
       "    }\n",
       "\n",
       "    .dataframe thead th {\n",
       "        text-align: right;\n",
       "    }\n",
       "</style>\n",
       "<table border=\"1\" class=\"dataframe\">\n",
       "  <thead>\n",
       "    <tr style=\"text-align: right;\">\n",
       "      <th></th>\n",
       "      <th>Additional_Number_of_Scoring</th>\n",
       "      <th>Review_Date</th>\n",
       "      <th>Average_Score</th>\n",
       "      <th>Reviewer_Nationality</th>\n",
       "      <th>Negative_Review</th>\n",
       "      <th>Review_Total_Negative_Word_Counts</th>\n",
       "      <th>Total_Number_of_Reviews</th>\n",
       "      <th>Positive_Review</th>\n",
       "      <th>Review_Total_Positive_Word_Counts</th>\n",
       "      <th>Total_Number_of_Reviews_Reviewer_Has_Given</th>\n",
       "      <th>Reviewer_Score</th>\n",
       "      <th>Tags</th>\n",
       "      <th>HotelID</th>\n",
       "    </tr>\n",
       "  </thead>\n",
       "  <tbody>\n",
       "    <tr>\n",
       "      <th>0</th>\n",
       "      <td>194</td>\n",
       "      <td>2017-08-03</td>\n",
       "      <td>7.7</td>\n",
       "      <td>Russia</td>\n",
       "      <td>I am so angry that i made this post available ...</td>\n",
       "      <td>397</td>\n",
       "      <td>1403</td>\n",
       "      <td>Only the park outside of the hotel was beautiful</td>\n",
       "      <td>11</td>\n",
       "      <td>7</td>\n",
       "      <td>2.9</td>\n",
       "      <td>[' Leisure trip ', ' Couple ', ' Duplex Double...</td>\n",
       "      <td>298</td>\n",
       "    </tr>\n",
       "    <tr>\n",
       "      <th>1</th>\n",
       "      <td>194</td>\n",
       "      <td>2017-08-03</td>\n",
       "      <td>7.7</td>\n",
       "      <td>Ireland</td>\n",
       "      <td>No Negative</td>\n",
       "      <td>0</td>\n",
       "      <td>1403</td>\n",
       "      <td>No real complaints the hotel was great great l...</td>\n",
       "      <td>105</td>\n",
       "      <td>7</td>\n",
       "      <td>7.5</td>\n",
       "      <td>[' Leisure trip ', ' Couple ', ' Duplex Double...</td>\n",
       "      <td>298</td>\n",
       "    </tr>\n",
       "    <tr>\n",
       "      <th>2</th>\n",
       "      <td>194</td>\n",
       "      <td>2017-07-31</td>\n",
       "      <td>7.7</td>\n",
       "      <td>Australia</td>\n",
       "      <td>Rooms are nice but for elderly a bit difficult...</td>\n",
       "      <td>42</td>\n",
       "      <td>1403</td>\n",
       "      <td>Location was good and staff were ok It is cute...</td>\n",
       "      <td>21</td>\n",
       "      <td>9</td>\n",
       "      <td>7.1</td>\n",
       "      <td>[' Leisure trip ', ' Family with young childre...</td>\n",
       "      <td>298</td>\n",
       "    </tr>\n",
       "    <tr>\n",
       "      <th>3</th>\n",
       "      <td>194</td>\n",
       "      <td>2017-07-31</td>\n",
       "      <td>7.7</td>\n",
       "      <td>United Kingdom</td>\n",
       "      <td>My room was dirty and I was afraid to walk bar...</td>\n",
       "      <td>210</td>\n",
       "      <td>1403</td>\n",
       "      <td>Great location in nice surroundings the bar an...</td>\n",
       "      <td>26</td>\n",
       "      <td>1</td>\n",
       "      <td>3.8</td>\n",
       "      <td>[' Leisure trip ', ' Solo traveler ', ' Duplex...</td>\n",
       "      <td>298</td>\n",
       "    </tr>\n",
       "    <tr>\n",
       "      <th>4</th>\n",
       "      <td>194</td>\n",
       "      <td>2017-07-24</td>\n",
       "      <td>7.7</td>\n",
       "      <td>New Zealand</td>\n",
       "      <td>You When I booked with your company on line yo...</td>\n",
       "      <td>140</td>\n",
       "      <td>1403</td>\n",
       "      <td>Amazing location and building Romantic setting</td>\n",
       "      <td>8</td>\n",
       "      <td>3</td>\n",
       "      <td>6.7</td>\n",
       "      <td>[' Leisure trip ', ' Couple ', ' Suite ', ' St...</td>\n",
       "      <td>298</td>\n",
       "    </tr>\n",
       "    <tr>\n",
       "      <th>5</th>\n",
       "      <td>194</td>\n",
       "      <td>2017-07-24</td>\n",
       "      <td>7.7</td>\n",
       "      <td>Poland</td>\n",
       "      <td>Backyard of the hotel is total mess shouldn t ...</td>\n",
       "      <td>17</td>\n",
       "      <td>1403</td>\n",
       "      <td>Good restaurant with modern design great chill...</td>\n",
       "      <td>20</td>\n",
       "      <td>1</td>\n",
       "      <td>6.7</td>\n",
       "      <td>[' Leisure trip ', ' Group ', ' Duplex Double ...</td>\n",
       "      <td>298</td>\n",
       "    </tr>\n",
       "    <tr>\n",
       "      <th>6</th>\n",
       "      <td>194</td>\n",
       "      <td>2017-07-17</td>\n",
       "      <td>7.7</td>\n",
       "      <td>United Kingdom</td>\n",
       "      <td>Cleaner did not change our sheet and duvet eve...</td>\n",
       "      <td>33</td>\n",
       "      <td>1403</td>\n",
       "      <td>The room is spacious and bright The hotel is l...</td>\n",
       "      <td>18</td>\n",
       "      <td>6</td>\n",
       "      <td>4.6</td>\n",
       "      <td>[' Leisure trip ', ' Group ', ' Duplex Twin Ro...</td>\n",
       "      <td>298</td>\n",
       "    </tr>\n",
       "    <tr>\n",
       "      <th>7</th>\n",
       "      <td>194</td>\n",
       "      <td>2017-07-17</td>\n",
       "      <td>7.7</td>\n",
       "      <td>United Kingdom</td>\n",
       "      <td>Apart from the price for the brekfast Everythi...</td>\n",
       "      <td>11</td>\n",
       "      <td>1403</td>\n",
       "      <td>Good location Set in a lovely park friendly st...</td>\n",
       "      <td>19</td>\n",
       "      <td>1</td>\n",
       "      <td>10.0</td>\n",
       "      <td>[' Leisure trip ', ' Couple ', ' Duplex Double...</td>\n",
       "      <td>298</td>\n",
       "    </tr>\n",
       "    <tr>\n",
       "      <th>8</th>\n",
       "      <td>194</td>\n",
       "      <td>2017-07-09</td>\n",
       "      <td>7.7</td>\n",
       "      <td>Belgium</td>\n",
       "      <td>Even though the pictures show very clean rooms...</td>\n",
       "      <td>34</td>\n",
       "      <td>1403</td>\n",
       "      <td>No Positive</td>\n",
       "      <td>0</td>\n",
       "      <td>3</td>\n",
       "      <td>6.5</td>\n",
       "      <td>[' Leisure trip ', ' Couple ', ' Duplex Double...</td>\n",
       "      <td>298</td>\n",
       "    </tr>\n",
       "    <tr>\n",
       "      <th>9</th>\n",
       "      <td>194</td>\n",
       "      <td>2017-07-08</td>\n",
       "      <td>7.7</td>\n",
       "      <td>Norway</td>\n",
       "      <td>The aircondition makes so much noise and its h...</td>\n",
       "      <td>15</td>\n",
       "      <td>1403</td>\n",
       "      <td>The room was big enough and the bed is good Th...</td>\n",
       "      <td>50</td>\n",
       "      <td>1</td>\n",
       "      <td>7.9</td>\n",
       "      <td>[' Leisure trip ', ' Couple ', ' Large King Ro...</td>\n",
       "      <td>298</td>\n",
       "    </tr>\n",
       "  </tbody>\n",
       "</table>\n",
       "</div>"
      ],
      "text/plain": [
       "   Additional_Number_of_Scoring Review_Date  Average_Score  \\\n",
       "0                           194  2017-08-03            7.7   \n",
       "1                           194  2017-08-03            7.7   \n",
       "2                           194  2017-07-31            7.7   \n",
       "3                           194  2017-07-31            7.7   \n",
       "4                           194  2017-07-24            7.7   \n",
       "5                           194  2017-07-24            7.7   \n",
       "6                           194  2017-07-17            7.7   \n",
       "7                           194  2017-07-17            7.7   \n",
       "8                           194  2017-07-09            7.7   \n",
       "9                           194  2017-07-08            7.7   \n",
       "\n",
       "  Reviewer_Nationality                                    Negative_Review  \\\n",
       "0               Russia  I am so angry that i made this post available ...   \n",
       "1              Ireland                                        No Negative   \n",
       "2            Australia  Rooms are nice but for elderly a bit difficult...   \n",
       "3       United Kingdom  My room was dirty and I was afraid to walk bar...   \n",
       "4          New Zealand  You When I booked with your company on line yo...   \n",
       "5               Poland  Backyard of the hotel is total mess shouldn t ...   \n",
       "6       United Kingdom  Cleaner did not change our sheet and duvet eve...   \n",
       "7       United Kingdom  Apart from the price for the brekfast Everythi...   \n",
       "8              Belgium  Even though the pictures show very clean rooms...   \n",
       "9               Norway  The aircondition makes so much noise and its h...   \n",
       "\n",
       "   Review_Total_Negative_Word_Counts  Total_Number_of_Reviews  \\\n",
       "0                                397                     1403   \n",
       "1                                  0                     1403   \n",
       "2                                 42                     1403   \n",
       "3                                210                     1403   \n",
       "4                                140                     1403   \n",
       "5                                 17                     1403   \n",
       "6                                 33                     1403   \n",
       "7                                 11                     1403   \n",
       "8                                 34                     1403   \n",
       "9                                 15                     1403   \n",
       "\n",
       "                                     Positive_Review  \\\n",
       "0   Only the park outside of the hotel was beautiful   \n",
       "1  No real complaints the hotel was great great l...   \n",
       "2  Location was good and staff were ok It is cute...   \n",
       "3  Great location in nice surroundings the bar an...   \n",
       "4     Amazing location and building Romantic setting   \n",
       "5  Good restaurant with modern design great chill...   \n",
       "6  The room is spacious and bright The hotel is l...   \n",
       "7  Good location Set in a lovely park friendly st...   \n",
       "8                                        No Positive   \n",
       "9  The room was big enough and the bed is good Th...   \n",
       "\n",
       "   Review_Total_Positive_Word_Counts  \\\n",
       "0                                 11   \n",
       "1                                105   \n",
       "2                                 21   \n",
       "3                                 26   \n",
       "4                                  8   \n",
       "5                                 20   \n",
       "6                                 18   \n",
       "7                                 19   \n",
       "8                                  0   \n",
       "9                                 50   \n",
       "\n",
       "   Total_Number_of_Reviews_Reviewer_Has_Given  Reviewer_Score  \\\n",
       "0                                           7             2.9   \n",
       "1                                           7             7.5   \n",
       "2                                           9             7.1   \n",
       "3                                           1             3.8   \n",
       "4                                           3             6.7   \n",
       "5                                           1             6.7   \n",
       "6                                           6             4.6   \n",
       "7                                           1            10.0   \n",
       "8                                           3             6.5   \n",
       "9                                           1             7.9   \n",
       "\n",
       "                                                Tags  HotelID  \n",
       "0  [' Leisure trip ', ' Couple ', ' Duplex Double...      298  \n",
       "1  [' Leisure trip ', ' Couple ', ' Duplex Double...      298  \n",
       "2  [' Leisure trip ', ' Family with young childre...      298  \n",
       "3  [' Leisure trip ', ' Solo traveler ', ' Duplex...      298  \n",
       "4  [' Leisure trip ', ' Couple ', ' Suite ', ' St...      298  \n",
       "5  [' Leisure trip ', ' Group ', ' Duplex Double ...      298  \n",
       "6  [' Leisure trip ', ' Group ', ' Duplex Twin Ro...      298  \n",
       "7  [' Leisure trip ', ' Couple ', ' Duplex Double...      298  \n",
       "8  [' Leisure trip ', ' Couple ', ' Duplex Double...      298  \n",
       "9  [' Leisure trip ', ' Couple ', ' Large King Ro...      298  "
      ]
     },
     "execution_count": 110,
     "metadata": {},
     "output_type": "execute_result"
    }
   ],
   "source": [
    "df_hotel_reviews.limit(10).toPandas()"
   ]
  },
  {
   "cell_type": "code",
   "execution_count": 81,
   "metadata": {
    "editable": true
   },
   "outputs": [
    {
     "data": {
      "text/plain": [
       "0"
      ]
     },
     "execution_count": 81,
     "metadata": {},
     "output_type": "execute_result"
    }
   ],
   "source": [
    "df_hotel_reviews.filter(df_hotel_reviews.Review_Date.isNull()).count()"
   ]
  },
  {
   "cell_type": "code",
   "execution_count": 82,
   "metadata": {
    "editable": true
   },
   "outputs": [
    {
     "name": "stdout",
     "output_type": "stream",
     "text": [
      "root\n",
      " |-- Additional_Number_of_Scoring: integer (nullable = true)\n",
      " |-- Review_Date: date (nullable = true)\n",
      " |-- Average_Score: double (nullable = true)\n",
      " |-- Reviewer_Nationality: string (nullable = true)\n",
      " |-- Negative_Review: string (nullable = true)\n",
      " |-- Review_Total_Negative_Word_Counts: integer (nullable = true)\n",
      " |-- Total_Number_of_Reviews: integer (nullable = true)\n",
      " |-- Positive_Review: string (nullable = true)\n",
      " |-- Review_Total_Positive_Word_Counts: integer (nullable = true)\n",
      " |-- Total_Number_of_Reviews_Reviewer_Has_Given: integer (nullable = true)\n",
      " |-- Reviewer_Score: double (nullable = true)\n",
      " |-- Tags: string (nullable = true)\n",
      " |-- HotelID: integer (nullable = true)\n",
      "\n"
     ]
    }
   ],
   "source": [
    "df_hotel_reviews.printSchema()"
   ]
  },
  {
   "cell_type": "markdown",
   "metadata": {
    "editable": true
   },
   "source": [
    "Step 32. Create the final version of the df_hotel_reviews data frame. We  rename and reorder columns, and finally sort the data frame by date. This will be loaded into S3 in Part 4, and will be loaded into a Redshift staging table from there."
   ]
  },
  {
   "cell_type": "code",
   "execution_count": 111,
   "metadata": {
    "editable": true
   },
   "outputs": [],
   "source": [
    "df_hotel_reviews = df_hotel_reviews.withColumnRenamed('Additional_Number_of_Scoring', 'NumRatings')\n",
    "df_hotel_reviews = df_hotel_reviews.withColumnRenamed('Review_Date', 'ReviewDate')\n",
    "df_hotel_reviews = df_hotel_reviews.withColumnRenamed('Average_Score', 'AverageScore')\n",
    "df_hotel_reviews = df_hotel_reviews.withColumnRenamed('Reviewer_Nationality', 'ReviewerNationality')\n",
    "df_hotel_reviews = df_hotel_reviews.withColumnRenamed('Negative_Review', 'NegativeReview')\n",
    "df_hotel_reviews = df_hotel_reviews.withColumnRenamed('Review_Total_Negative_Word_Counts', 'ReviewNegativeWordsCount')\n",
    "df_hotel_reviews = df_hotel_reviews.withColumnRenamed('Total_Number_of_Reviews', 'NumReviews')\n",
    "df_hotel_reviews = df_hotel_reviews.withColumnRenamed('Positive_Review', 'PositiveReview')\n",
    "df_hotel_reviews = df_hotel_reviews.withColumnRenamed('Review_Total_Positive_Word_Counts', 'ReviewPositiveWordsCount')\n",
    "df_hotel_reviews = df_hotel_reviews.withColumnRenamed('Total_Number_of_Reviews_Reviewer_Has_Given', 'TotalNumReviewsByReviewer')\n",
    "df_hotel_reviews = df_hotel_reviews.withColumnRenamed('Reviewer_Score', 'ReviewerScore')"
   ]
  },
  {
   "cell_type": "code",
   "execution_count": 112,
   "metadata": {
    "editable": true
   },
   "outputs": [
    {
     "data": {
      "text/plain": [
       "['NumRatings',\n",
       " 'ReviewDate',\n",
       " 'AverageScore',\n",
       " 'ReviewerNationality',\n",
       " 'NegativeReview',\n",
       " 'ReviewNegativeWordsCount',\n",
       " 'NumReviews',\n",
       " 'PositiveReview',\n",
       " 'ReviewPositiveWordsCount',\n",
       " 'TotalNumReviewsByReviewer',\n",
       " 'ReviewerScore',\n",
       " 'Tags',\n",
       " 'HotelID']"
      ]
     },
     "execution_count": 112,
     "metadata": {},
     "output_type": "execute_result"
    }
   ],
   "source": [
    "df_hotel_reviews.columns"
   ]
  },
  {
   "cell_type": "code",
   "execution_count": 113,
   "metadata": {
    "editable": true
   },
   "outputs": [
    {
     "data": {
      "text/plain": [
       "['HotelID',\n",
       " 'NumReviews',\n",
       " 'AverageScore',\n",
       " 'NumRatings',\n",
       " 'ReviewDate',\n",
       " 'ReviewerNationality',\n",
       " 'TotalNumReviewsByReviewer',\n",
       " 'ReviewerScore',\n",
       " 'NegativeReview',\n",
       " 'ReviewNegativeWordsCount',\n",
       " 'PositiveReview',\n",
       " 'ReviewPositiveWordsCount',\n",
       " 'Tags']"
      ]
     },
     "execution_count": 113,
     "metadata": {},
     "output_type": "execute_result"
    }
   ],
   "source": [
    "column_order = ['HotelID', 'NumReviews', 'AverageScore', 'NumRatings', 'ReviewDate', \n",
    "                'ReviewerNationality', 'TotalNumReviewsByReviewer', 'ReviewerScore',\n",
    "                'NegativeReview', 'ReviewNegativeWordsCount', 'PositiveReview',\n",
    "                'ReviewPositiveWordsCount', 'Tags']\n",
    "df_hotel_reviews = df_hotel_reviews.select(*column_order)\n",
    "df_hotel_reviews.columns"
   ]
  },
  {
   "cell_type": "code",
   "execution_count": 114,
   "metadata": {
    "editable": true
   },
   "outputs": [
    {
     "data": {
      "text/plain": [
       "515349"
      ]
     },
     "execution_count": 114,
     "metadata": {},
     "output_type": "execute_result"
    }
   ],
   "source": [
    "df_hotel_reviews.count()"
   ]
  },
  {
   "cell_type": "code",
   "execution_count": 115,
   "metadata": {
    "editable": true
   },
   "outputs": [],
   "source": [
    "df_hotel_reviews = df_hotel_reviews.sort(df_hotel_reviews.ReviewDate.asc())"
   ]
  },
  {
   "cell_type": "code",
   "execution_count": 116,
   "metadata": {
    "editable": true
   },
   "outputs": [
    {
     "data": {
      "text/html": [
       "<div>\n",
       "<style scoped>\n",
       "    .dataframe tbody tr th:only-of-type {\n",
       "        vertical-align: middle;\n",
       "    }\n",
       "\n",
       "    .dataframe tbody tr th {\n",
       "        vertical-align: top;\n",
       "    }\n",
       "\n",
       "    .dataframe thead th {\n",
       "        text-align: right;\n",
       "    }\n",
       "</style>\n",
       "<table border=\"1\" class=\"dataframe\">\n",
       "  <thead>\n",
       "    <tr style=\"text-align: right;\">\n",
       "      <th></th>\n",
       "      <th>HotelID</th>\n",
       "      <th>NumReviews</th>\n",
       "      <th>AverageScore</th>\n",
       "      <th>NumRatings</th>\n",
       "      <th>ReviewDate</th>\n",
       "      <th>ReviewerNationality</th>\n",
       "      <th>TotalNumReviewsByReviewer</th>\n",
       "      <th>ReviewerScore</th>\n",
       "      <th>NegativeReview</th>\n",
       "      <th>ReviewNegativeWordsCount</th>\n",
       "      <th>PositiveReview</th>\n",
       "      <th>ReviewPositiveWordsCount</th>\n",
       "      <th>Tags</th>\n",
       "    </tr>\n",
       "  </thead>\n",
       "  <tbody>\n",
       "    <tr>\n",
       "      <th>0</th>\n",
       "      <td>173</td>\n",
       "      <td>2619</td>\n",
       "      <td>9.2</td>\n",
       "      <td>639</td>\n",
       "      <td>2015-08-04</td>\n",
       "      <td>United Kingdom</td>\n",
       "      <td>3</td>\n",
       "      <td>9.6</td>\n",
       "      <td>Nothing not to like second time we have stayed...</td>\n",
       "      <td>12</td>\n",
       "      <td>Excellent service we arrived at 11 30 am and w...</td>\n",
       "      <td>27</td>\n",
       "      <td>[' Leisure trip ', ' Couple ', ' City King Roo...</td>\n",
       "    </tr>\n",
       "    <tr>\n",
       "      <th>1</th>\n",
       "      <td>173</td>\n",
       "      <td>2619</td>\n",
       "      <td>9.2</td>\n",
       "      <td>639</td>\n",
       "      <td>2015-08-04</td>\n",
       "      <td>United Kingdom</td>\n",
       "      <td>3</td>\n",
       "      <td>10.0</td>\n",
       "      <td>Breakfast could have been better organised wit...</td>\n",
       "      <td>45</td>\n",
       "      <td>We were visiting London to celebrate our 25th ...</td>\n",
       "      <td>29</td>\n",
       "      <td>[' Leisure trip ', ' Couple ', ' City King Roo...</td>\n",
       "    </tr>\n",
       "    <tr>\n",
       "      <th>2</th>\n",
       "      <td>173</td>\n",
       "      <td>2619</td>\n",
       "      <td>9.2</td>\n",
       "      <td>639</td>\n",
       "      <td>2015-08-04</td>\n",
       "      <td>Switzerland</td>\n",
       "      <td>3</td>\n",
       "      <td>8.8</td>\n",
       "      <td>The room on the first day was a mile away from...</td>\n",
       "      <td>33</td>\n",
       "      <td>Good sized rooms Staff friendly and very helpful</td>\n",
       "      <td>10</td>\n",
       "      <td>[' Leisure trip ', ' Couple ', ' City Twin Roo...</td>\n",
       "    </tr>\n",
       "    <tr>\n",
       "      <th>3</th>\n",
       "      <td>298</td>\n",
       "      <td>1403</td>\n",
       "      <td>7.7</td>\n",
       "      <td>194</td>\n",
       "      <td>2015-08-04</td>\n",
       "      <td>United Kingdom</td>\n",
       "      <td>1</td>\n",
       "      <td>9.2</td>\n",
       "      <td>No Negative</td>\n",
       "      <td>0</td>\n",
       "      <td>The staff were so friendly and very helpful</td>\n",
       "      <td>10</td>\n",
       "      <td>[' Leisure trip ', ' Couple ', ' Duplex Double...</td>\n",
       "    </tr>\n",
       "    <tr>\n",
       "      <th>4</th>\n",
       "      <td>298</td>\n",
       "      <td>1403</td>\n",
       "      <td>7.7</td>\n",
       "      <td>194</td>\n",
       "      <td>2015-08-04</td>\n",
       "      <td>United Kingdom</td>\n",
       "      <td>1</td>\n",
       "      <td>9.2</td>\n",
       "      <td>No Negative</td>\n",
       "      <td>0</td>\n",
       "      <td>The hotel is amazing beautiful old building an...</td>\n",
       "      <td>15</td>\n",
       "      <td>[' Leisure trip ', ' Group ', ' Duplex Double ...</td>\n",
       "    </tr>\n",
       "  </tbody>\n",
       "</table>\n",
       "</div>"
      ],
      "text/plain": [
       "   HotelID  NumReviews  AverageScore  NumRatings  ReviewDate  \\\n",
       "0      173        2619           9.2         639  2015-08-04   \n",
       "1      173        2619           9.2         639  2015-08-04   \n",
       "2      173        2619           9.2         639  2015-08-04   \n",
       "3      298        1403           7.7         194  2015-08-04   \n",
       "4      298        1403           7.7         194  2015-08-04   \n",
       "\n",
       "  ReviewerNationality  TotalNumReviewsByReviewer  ReviewerScore  \\\n",
       "0      United Kingdom                          3            9.6   \n",
       "1      United Kingdom                          3           10.0   \n",
       "2         Switzerland                          3            8.8   \n",
       "3      United Kingdom                          1            9.2   \n",
       "4      United Kingdom                          1            9.2   \n",
       "\n",
       "                                      NegativeReview  \\\n",
       "0  Nothing not to like second time we have stayed...   \n",
       "1  Breakfast could have been better organised wit...   \n",
       "2  The room on the first day was a mile away from...   \n",
       "3                                        No Negative   \n",
       "4                                        No Negative   \n",
       "\n",
       "   ReviewNegativeWordsCount  \\\n",
       "0                        12   \n",
       "1                        45   \n",
       "2                        33   \n",
       "3                         0   \n",
       "4                         0   \n",
       "\n",
       "                                      PositiveReview  \\\n",
       "0  Excellent service we arrived at 11 30 am and w...   \n",
       "1  We were visiting London to celebrate our 25th ...   \n",
       "2   Good sized rooms Staff friendly and very helpful   \n",
       "3        The staff were so friendly and very helpful   \n",
       "4  The hotel is amazing beautiful old building an...   \n",
       "\n",
       "   ReviewPositiveWordsCount                                               Tags  \n",
       "0                        27  [' Leisure trip ', ' Couple ', ' City King Roo...  \n",
       "1                        29  [' Leisure trip ', ' Couple ', ' City King Roo...  \n",
       "2                        10  [' Leisure trip ', ' Couple ', ' City Twin Roo...  \n",
       "3                        10  [' Leisure trip ', ' Couple ', ' Duplex Double...  \n",
       "4                        15  [' Leisure trip ', ' Group ', ' Duplex Double ...  "
      ]
     },
     "execution_count": 116,
     "metadata": {},
     "output_type": "execute_result"
    }
   ],
   "source": [
    "df_hotel_reviews.limit(5).toPandas()"
   ]
  },
  {
   "cell_type": "markdown",
   "metadata": {
    "editable": true
   },
   "source": [
    "Step 33. Write the reviews dataframe to disk in JSONL format."
   ]
  },
  {
   "cell_type": "code",
   "execution_count": 120,
   "metadata": {
    "editable": true
   },
   "outputs": [],
   "source": [
    "df_hotel_reviews.write.json('Data/Cleaned/reviews.jsonl')"
   ]
  },
  {
   "cell_type": "code",
   "execution_count": null,
   "metadata": {
    "editable": true
   },
   "outputs": [],
   "source": [
    "#df_hotel_reviews.write.mode('overwrite').partitionBy(['ReviewDate', 'HotelID']).parquet('Data/Cleaned/reviews.parquet')"
   ]
  },
  {
   "cell_type": "markdown",
   "metadata": {
    "editable": true
   },
   "source": [
    "Step 34. Read in the created CountryIndicators.csv File (created in the **CombineAdditionalCountryData notebook**), convert it into JSONL format, and write it into a local directory."
   ]
  },
  {
   "cell_type": "code",
   "execution_count": 5,
   "metadata": {
    "editable": true
   },
   "outputs": [],
   "source": [
    "df_country_indicators = spark.read.csv('Data/Cleaned/CountryIndicators.csv', header=True)"
   ]
  },
  {
   "cell_type": "code",
   "execution_count": 45,
   "metadata": {
    "editable": true
   },
   "outputs": [
    {
     "data": {
      "text/html": [
       "<div>\n",
       "<style scoped>\n",
       "    .dataframe tbody tr th:only-of-type {\n",
       "        vertical-align: middle;\n",
       "    }\n",
       "\n",
       "    .dataframe tbody tr th {\n",
       "        vertical-align: top;\n",
       "    }\n",
       "\n",
       "    .dataframe thead th {\n",
       "        text-align: right;\n",
       "    }\n",
       "</style>\n",
       "<table border=\"1\" class=\"dataframe\">\n",
       "  <thead>\n",
       "    <tr style=\"text-align: right;\">\n",
       "      <th></th>\n",
       "      <th>_c0</th>\n",
       "      <th>Country</th>\n",
       "      <th>ISOCode</th>\n",
       "      <th>TourismExpenditureMillions</th>\n",
       "      <th>TouristArrivalsThousands</th>\n",
       "      <th>Currency</th>\n",
       "      <th>ExchangeRateEndOfPeriod</th>\n",
       "      <th>GNIPerCapita</th>\n",
       "      <th>GDPPerCapita</th>\n",
       "      <th>MobilePhoneSubscriptions</th>\n",
       "      <th>...</th>\n",
       "      <th>UrbanPopulationPercent</th>\n",
       "      <th>HDIRank</th>\n",
       "      <th>HDI</th>\n",
       "      <th>InternetUsersPercent</th>\n",
       "      <th>PoliticalRightsFreedomScore</th>\n",
       "      <th>CivilLibertiesFreedomScore</th>\n",
       "      <th>FreedomStatus</th>\n",
       "      <th>DemocracyOrNot</th>\n",
       "      <th>PoliticalRegimeTypeScore</th>\n",
       "      <th>HumanRightsScore</th>\n",
       "    </tr>\n",
       "  </thead>\n",
       "  <tbody>\n",
       "    <tr>\n",
       "      <th>0</th>\n",
       "      <td>0</td>\n",
       "      <td>Afghanistan</td>\n",
       "      <td>AF</td>\n",
       "      <td>50.0</td>\n",
       "      <td>None</td>\n",
       "      <td>Afghani (AFN)</td>\n",
       "      <td>74.9556</td>\n",
       "      <td>1746.0</td>\n",
       "      <td>1735.0</td>\n",
       "      <td>59.1</td>\n",
       "      <td>...</td>\n",
       "      <td>25.5</td>\n",
       "      <td>170.0</td>\n",
       "      <td>0.496</td>\n",
       "      <td>None</td>\n",
       "      <td>5.0</td>\n",
       "      <td>6.0</td>\n",
       "      <td>Not Free</td>\n",
       "      <td>False</td>\n",
       "      <td>-1.0</td>\n",
       "      <td>-2.209409986</td>\n",
       "    </tr>\n",
       "    <tr>\n",
       "      <th>1</th>\n",
       "      <td>1</td>\n",
       "      <td>Åland Islands</td>\n",
       "      <td>AX</td>\n",
       "      <td>None</td>\n",
       "      <td>None</td>\n",
       "      <td>Euro (EUR)</td>\n",
       "      <td>0.8734</td>\n",
       "      <td>None</td>\n",
       "      <td>None</td>\n",
       "      <td>None</td>\n",
       "      <td>...</td>\n",
       "      <td>None</td>\n",
       "      <td>None</td>\n",
       "      <td>None</td>\n",
       "      <td>None</td>\n",
       "      <td>None</td>\n",
       "      <td>None</td>\n",
       "      <td>None</td>\n",
       "      <td>None</td>\n",
       "      <td>None</td>\n",
       "      <td>None</td>\n",
       "    </tr>\n",
       "    <tr>\n",
       "      <th>2</th>\n",
       "      <td>2</td>\n",
       "      <td>Albania</td>\n",
       "      <td>AL</td>\n",
       "      <td>2306.0</td>\n",
       "      <td>5340.0</td>\n",
       "      <td>Lek (ALL)</td>\n",
       "      <td>107.82</td>\n",
       "      <td>12300.0</td>\n",
       "      <td>12306.0</td>\n",
       "      <td>94.2</td>\n",
       "      <td>...</td>\n",
       "      <td>60.3</td>\n",
       "      <td>69.0</td>\n",
       "      <td>0.7909999999999999</td>\n",
       "      <td>None</td>\n",
       "      <td>3.0</td>\n",
       "      <td>3.0</td>\n",
       "      <td>Partly Free</td>\n",
       "      <td>True</td>\n",
       "      <td>9.0</td>\n",
       "      <td>0.7703089679999999</td>\n",
       "    </tr>\n",
       "  </tbody>\n",
       "</table>\n",
       "<p>3 rows × 22 columns</p>\n",
       "</div>"
      ],
      "text/plain": [
       "  _c0        Country ISOCode TourismExpenditureMillions  \\\n",
       "0   0    Afghanistan      AF                       50.0   \n",
       "1   1  Åland Islands      AX                       None   \n",
       "2   2        Albania      AL                     2306.0   \n",
       "\n",
       "  TouristArrivalsThousands       Currency ExchangeRateEndOfPeriod  \\\n",
       "0                     None  Afghani (AFN)                 74.9556   \n",
       "1                     None     Euro (EUR)                  0.8734   \n",
       "2                   5340.0      Lek (ALL)                  107.82   \n",
       "\n",
       "  GNIPerCapita GDPPerCapita MobilePhoneSubscriptions         ...          \\\n",
       "0       1746.0       1735.0                     59.1         ...           \n",
       "1         None         None                     None         ...           \n",
       "2      12300.0      12306.0                     94.2         ...           \n",
       "\n",
       "  UrbanPopulationPercent HDIRank                 HDI InternetUsersPercent  \\\n",
       "0                   25.5   170.0               0.496                 None   \n",
       "1                   None    None                None                 None   \n",
       "2                   60.3    69.0  0.7909999999999999                 None   \n",
       "\n",
       "  PoliticalRightsFreedomScore CivilLibertiesFreedomScore FreedomStatus  \\\n",
       "0                         5.0                        6.0      Not Free   \n",
       "1                        None                       None          None   \n",
       "2                         3.0                        3.0   Partly Free   \n",
       "\n",
       "  DemocracyOrNot PoliticalRegimeTypeScore    HumanRightsScore  \n",
       "0          False                     -1.0        -2.209409986  \n",
       "1           None                     None                None  \n",
       "2           True                      9.0  0.7703089679999999  \n",
       "\n",
       "[3 rows x 22 columns]"
      ]
     },
     "execution_count": 45,
     "metadata": {},
     "output_type": "execute_result"
    }
   ],
   "source": [
    "df_country_indicators.limit(3).toPandas()"
   ]
  },
  {
   "cell_type": "markdown",
   "metadata": {
    "editable": true
   },
   "source": [
    "The first column is just a row number. We can drop it."
   ]
  },
  {
   "cell_type": "code",
   "execution_count": 6,
   "metadata": {
    "editable": true
   },
   "outputs": [
    {
     "data": {
      "text/html": [
       "<div>\n",
       "<style scoped>\n",
       "    .dataframe tbody tr th:only-of-type {\n",
       "        vertical-align: middle;\n",
       "    }\n",
       "\n",
       "    .dataframe tbody tr th {\n",
       "        vertical-align: top;\n",
       "    }\n",
       "\n",
       "    .dataframe thead th {\n",
       "        text-align: right;\n",
       "    }\n",
       "</style>\n",
       "<table border=\"1\" class=\"dataframe\">\n",
       "  <thead>\n",
       "    <tr style=\"text-align: right;\">\n",
       "      <th></th>\n",
       "      <th>Country</th>\n",
       "      <th>ISOCode</th>\n",
       "      <th>TourismExpenditureMillions</th>\n",
       "      <th>TouristArrivalsThousands</th>\n",
       "      <th>Currency</th>\n",
       "      <th>ExchangeRateEndOfPeriod</th>\n",
       "      <th>GNIPerCapita</th>\n",
       "      <th>GDPPerCapita</th>\n",
       "      <th>MobilePhoneSubscriptions</th>\n",
       "      <th>NetMigrationRate</th>\n",
       "      <th>...</th>\n",
       "      <th>UrbanPopulationPercent</th>\n",
       "      <th>HDIRank</th>\n",
       "      <th>HDI</th>\n",
       "      <th>InternetUsersPercent</th>\n",
       "      <th>PoliticalRightsFreedomScore</th>\n",
       "      <th>CivilLibertiesFreedomScore</th>\n",
       "      <th>FreedomStatus</th>\n",
       "      <th>DemocracyOrNot</th>\n",
       "      <th>PoliticalRegimeTypeScore</th>\n",
       "      <th>HumanRightsScore</th>\n",
       "    </tr>\n",
       "  </thead>\n",
       "  <tbody>\n",
       "    <tr>\n",
       "      <th>0</th>\n",
       "      <td>Afghanistan</td>\n",
       "      <td>AF</td>\n",
       "      <td>50.0</td>\n",
       "      <td>None</td>\n",
       "      <td>Afghani (AFN)</td>\n",
       "      <td>74.9556</td>\n",
       "      <td>1746.0</td>\n",
       "      <td>1735.0</td>\n",
       "      <td>59.1</td>\n",
       "      <td>-1.7</td>\n",
       "      <td>...</td>\n",
       "      <td>25.5</td>\n",
       "      <td>170.0</td>\n",
       "      <td>0.496</td>\n",
       "      <td>None</td>\n",
       "      <td>5.0</td>\n",
       "      <td>6.0</td>\n",
       "      <td>Not Free</td>\n",
       "      <td>False</td>\n",
       "      <td>-1.0</td>\n",
       "      <td>-2.209409986</td>\n",
       "    </tr>\n",
       "    <tr>\n",
       "      <th>1</th>\n",
       "      <td>Åland Islands</td>\n",
       "      <td>AX</td>\n",
       "      <td>None</td>\n",
       "      <td>None</td>\n",
       "      <td>Euro (EUR)</td>\n",
       "      <td>0.8734</td>\n",
       "      <td>None</td>\n",
       "      <td>None</td>\n",
       "      <td>None</td>\n",
       "      <td>None</td>\n",
       "      <td>...</td>\n",
       "      <td>None</td>\n",
       "      <td>None</td>\n",
       "      <td>None</td>\n",
       "      <td>None</td>\n",
       "      <td>None</td>\n",
       "      <td>None</td>\n",
       "      <td>None</td>\n",
       "      <td>None</td>\n",
       "      <td>None</td>\n",
       "      <td>None</td>\n",
       "    </tr>\n",
       "    <tr>\n",
       "      <th>2</th>\n",
       "      <td>Albania</td>\n",
       "      <td>AL</td>\n",
       "      <td>2306.0</td>\n",
       "      <td>5340.0</td>\n",
       "      <td>Lek (ALL)</td>\n",
       "      <td>107.82</td>\n",
       "      <td>12300.0</td>\n",
       "      <td>12306.0</td>\n",
       "      <td>94.2</td>\n",
       "      <td>-4.9</td>\n",
       "      <td>...</td>\n",
       "      <td>60.3</td>\n",
       "      <td>69.0</td>\n",
       "      <td>0.7909999999999999</td>\n",
       "      <td>None</td>\n",
       "      <td>3.0</td>\n",
       "      <td>3.0</td>\n",
       "      <td>Partly Free</td>\n",
       "      <td>True</td>\n",
       "      <td>9.0</td>\n",
       "      <td>0.7703089679999999</td>\n",
       "    </tr>\n",
       "  </tbody>\n",
       "</table>\n",
       "<p>3 rows × 21 columns</p>\n",
       "</div>"
      ],
      "text/plain": [
       "         Country ISOCode TourismExpenditureMillions TouristArrivalsThousands  \\\n",
       "0    Afghanistan      AF                       50.0                     None   \n",
       "1  Åland Islands      AX                       None                     None   \n",
       "2        Albania      AL                     2306.0                   5340.0   \n",
       "\n",
       "        Currency ExchangeRateEndOfPeriod GNIPerCapita GDPPerCapita  \\\n",
       "0  Afghani (AFN)                 74.9556       1746.0       1735.0   \n",
       "1     Euro (EUR)                  0.8734         None         None   \n",
       "2      Lek (ALL)                  107.82      12300.0      12306.0   \n",
       "\n",
       "  MobilePhoneSubscriptions NetMigrationRate         ...          \\\n",
       "0                     59.1             -1.7         ...           \n",
       "1                     None             None         ...           \n",
       "2                     94.2             -4.9         ...           \n",
       "\n",
       "  UrbanPopulationPercent HDIRank                 HDI InternetUsersPercent  \\\n",
       "0                   25.5   170.0               0.496                 None   \n",
       "1                   None    None                None                 None   \n",
       "2                   60.3    69.0  0.7909999999999999                 None   \n",
       "\n",
       "  PoliticalRightsFreedomScore CivilLibertiesFreedomScore FreedomStatus  \\\n",
       "0                         5.0                        6.0      Not Free   \n",
       "1                        None                       None          None   \n",
       "2                         3.0                        3.0   Partly Free   \n",
       "\n",
       "  DemocracyOrNot PoliticalRegimeTypeScore    HumanRightsScore  \n",
       "0          False                     -1.0        -2.209409986  \n",
       "1           None                     None                None  \n",
       "2           True                      9.0  0.7703089679999999  \n",
       "\n",
       "[3 rows x 21 columns]"
      ]
     },
     "execution_count": 6,
     "metadata": {},
     "output_type": "execute_result"
    }
   ],
   "source": [
    "df_country_indicators = df_country_indicators.drop('_c0')\n",
    "df_country_indicators.limit(3).toPandas()"
   ]
  },
  {
   "cell_type": "code",
   "execution_count": 21,
   "metadata": {
    "editable": true
   },
   "outputs": [
    {
     "data": {
      "text/plain": [
       "0"
      ]
     },
     "execution_count": 21,
     "metadata": {},
     "output_type": "execute_result"
    }
   ],
   "source": [
    "df_country_indicators.filter(F.col('Country').isNull()).count()"
   ]
  },
  {
   "cell_type": "code",
   "execution_count": 17,
   "metadata": {
    "editable": true
   },
   "outputs": [
    {
     "data": {
      "text/plain": [
       "['Country',\n",
       " 'ISOCode',\n",
       " 'TourismExpenditureMillions',\n",
       " 'TouristArrivalsThousands',\n",
       " 'Currency',\n",
       " 'ExchangeRateEndOfPeriod',\n",
       " 'GNIPerCapita',\n",
       " 'GDPPerCapita',\n",
       " 'MobilePhoneSubscriptions',\n",
       " 'NetMigrationRate',\n",
       " 'Population',\n",
       " 'UrbanPopulationPercent',\n",
       " 'HDIRank',\n",
       " 'HDI',\n",
       " 'InternetUsersPercent',\n",
       " 'PoliticalRightsFreedomScore',\n",
       " 'CivilLibertiesFreedomScore',\n",
       " 'FreedomStatus',\n",
       " 'DemocracyOrNot',\n",
       " 'PoliticalRegimeTypeScore',\n",
       " 'HumanRightsScore']"
      ]
     },
     "execution_count": 17,
     "metadata": {},
     "output_type": "execute_result"
    }
   ],
   "source": [
    "df_country_indicators.columns"
   ]
  },
  {
   "cell_type": "code",
   "execution_count": 47,
   "metadata": {
    "editable": true
   },
   "outputs": [],
   "source": [
    "df_country_indicators.write.parquet('Data/Cleaned/countryindicators.parquet')"
   ]
  },
  {
   "cell_type": "code",
   "execution_count": 8,
   "metadata": {
    "editable": true
   },
   "outputs": [],
   "source": [
    "df_country_indicators.write.json('Data/Cleaned/countryindicators.jsonl')"
   ]
  },
  {
   "cell_type": "code",
   "execution_count": 48,
   "metadata": {
    "editable": true
   },
   "outputs": [
    {
     "data": {
      "text/plain": [
       "249"
      ]
     },
     "execution_count": 48,
     "metadata": {},
     "output_type": "execute_result"
    }
   ],
   "source": [
    "df_country_indicators.count()"
   ]
  },
  {
   "cell_type": "code",
   "execution_count": 49,
   "metadata": {
    "editable": true
   },
   "outputs": [
    {
     "name": "stdout",
     "output_type": "stream",
     "text": [
      "249\n"
     ]
    },
    {
     "data": {
      "text/html": [
       "<div>\n",
       "<style scoped>\n",
       "    .dataframe tbody tr th:only-of-type {\n",
       "        vertical-align: middle;\n",
       "    }\n",
       "\n",
       "    .dataframe tbody tr th {\n",
       "        vertical-align: top;\n",
       "    }\n",
       "\n",
       "    .dataframe thead th {\n",
       "        text-align: right;\n",
       "    }\n",
       "</style>\n",
       "<table border=\"1\" class=\"dataframe\">\n",
       "  <thead>\n",
       "    <tr style=\"text-align: right;\">\n",
       "      <th></th>\n",
       "      <th>Country</th>\n",
       "      <th>ISOCode</th>\n",
       "      <th>TourismExpenditureMillions</th>\n",
       "      <th>TouristArrivalsThousands</th>\n",
       "      <th>Currency</th>\n",
       "      <th>ExchangeRateEndOfPeriod</th>\n",
       "      <th>GNIPerCapita</th>\n",
       "      <th>GDPPerCapita</th>\n",
       "      <th>MobilePhoneSubscriptions</th>\n",
       "      <th>NetMigrationRate</th>\n",
       "      <th>...</th>\n",
       "      <th>UrbanPopulationPercent</th>\n",
       "      <th>HDIRank</th>\n",
       "      <th>HDI</th>\n",
       "      <th>InternetUsersPercent</th>\n",
       "      <th>PoliticalRightsFreedomScore</th>\n",
       "      <th>CivilLibertiesFreedomScore</th>\n",
       "      <th>FreedomStatus</th>\n",
       "      <th>DemocracyOrNot</th>\n",
       "      <th>PoliticalRegimeTypeScore</th>\n",
       "      <th>HumanRightsScore</th>\n",
       "    </tr>\n",
       "  </thead>\n",
       "  <tbody>\n",
       "    <tr>\n",
       "      <th>0</th>\n",
       "      <td>Afghanistan</td>\n",
       "      <td>AF</td>\n",
       "      <td>50.0</td>\n",
       "      <td>None</td>\n",
       "      <td>Afghani (AFN)</td>\n",
       "      <td>74.9556</td>\n",
       "      <td>1746.0</td>\n",
       "      <td>1735.0</td>\n",
       "      <td>59.1</td>\n",
       "      <td>-1.7</td>\n",
       "      <td>...</td>\n",
       "      <td>25.5</td>\n",
       "      <td>170.0</td>\n",
       "      <td>0.496</td>\n",
       "      <td>None</td>\n",
       "      <td>5.0</td>\n",
       "      <td>6.0</td>\n",
       "      <td>Not Free</td>\n",
       "      <td>False</td>\n",
       "      <td>-1.0</td>\n",
       "      <td>-2.209409986</td>\n",
       "    </tr>\n",
       "    <tr>\n",
       "      <th>1</th>\n",
       "      <td>Åland Islands</td>\n",
       "      <td>AX</td>\n",
       "      <td>None</td>\n",
       "      <td>None</td>\n",
       "      <td>Euro (EUR)</td>\n",
       "      <td>0.8734</td>\n",
       "      <td>None</td>\n",
       "      <td>None</td>\n",
       "      <td>None</td>\n",
       "      <td>None</td>\n",
       "      <td>...</td>\n",
       "      <td>None</td>\n",
       "      <td>None</td>\n",
       "      <td>None</td>\n",
       "      <td>None</td>\n",
       "      <td>None</td>\n",
       "      <td>None</td>\n",
       "      <td>None</td>\n",
       "      <td>None</td>\n",
       "      <td>None</td>\n",
       "      <td>None</td>\n",
       "    </tr>\n",
       "    <tr>\n",
       "      <th>2</th>\n",
       "      <td>Albania</td>\n",
       "      <td>AL</td>\n",
       "      <td>2306.0</td>\n",
       "      <td>5340.0</td>\n",
       "      <td>Lek (ALL)</td>\n",
       "      <td>107.82</td>\n",
       "      <td>12300.0</td>\n",
       "      <td>12306.0</td>\n",
       "      <td>94.2</td>\n",
       "      <td>-4.9</td>\n",
       "      <td>...</td>\n",
       "      <td>60.3</td>\n",
       "      <td>69.0</td>\n",
       "      <td>0.7909999999999999</td>\n",
       "      <td>None</td>\n",
       "      <td>3.0</td>\n",
       "      <td>3.0</td>\n",
       "      <td>Partly Free</td>\n",
       "      <td>True</td>\n",
       "      <td>9.0</td>\n",
       "      <td>0.7703089679999999</td>\n",
       "    </tr>\n",
       "  </tbody>\n",
       "</table>\n",
       "<p>3 rows × 21 columns</p>\n",
       "</div>"
      ],
      "text/plain": [
       "         Country ISOCode TourismExpenditureMillions TouristArrivalsThousands  \\\n",
       "0    Afghanistan      AF                       50.0                     None   \n",
       "1  Åland Islands      AX                       None                     None   \n",
       "2        Albania      AL                     2306.0                   5340.0   \n",
       "\n",
       "        Currency ExchangeRateEndOfPeriod GNIPerCapita GDPPerCapita  \\\n",
       "0  Afghani (AFN)                 74.9556       1746.0       1735.0   \n",
       "1     Euro (EUR)                  0.8734         None         None   \n",
       "2      Lek (ALL)                  107.82      12300.0      12306.0   \n",
       "\n",
       "  MobilePhoneSubscriptions NetMigrationRate         ...          \\\n",
       "0                     59.1             -1.7         ...           \n",
       "1                     None             None         ...           \n",
       "2                     94.2             -4.9         ...           \n",
       "\n",
       "  UrbanPopulationPercent HDIRank                 HDI InternetUsersPercent  \\\n",
       "0                   25.5   170.0               0.496                 None   \n",
       "1                   None    None                None                 None   \n",
       "2                   60.3    69.0  0.7909999999999999                 None   \n",
       "\n",
       "  PoliticalRightsFreedomScore CivilLibertiesFreedomScore FreedomStatus  \\\n",
       "0                         5.0                        6.0      Not Free   \n",
       "1                        None                       None          None   \n",
       "2                         3.0                        3.0   Partly Free   \n",
       "\n",
       "  DemocracyOrNot PoliticalRegimeTypeScore    HumanRightsScore  \n",
       "0          False                     -1.0        -2.209409986  \n",
       "1           None                     None                None  \n",
       "2           True                      9.0  0.7703089679999999  \n",
       "\n",
       "[3 rows x 21 columns]"
      ]
     },
     "execution_count": 49,
     "metadata": {},
     "output_type": "execute_result"
    }
   ],
   "source": [
    "# Test if it is written properly\n",
    "x = spark.read.parquet('Data/Cleaned/countryindicators.parquet')\n",
    "print(x.count())\n",
    "x.limit(3).toPandas()"
   ]
  },
  {
   "cell_type": "markdown",
   "metadata": {
    "editable": true
   },
   "source": [
    "### Part 4: Write data sets to S3\n",
    "\n",
    "In this section, we write the 4 data sets into a new S3 bucket. These data sets are:\n",
    "* The Hotel reviews data set, df_hotel_reviews, prepared in this notebook.\n",
    "* The Hotels data set, df_google_hotels_with_airportid, prepared in this notebook.\n",
    "* The Airport codes data set, df_airport_codes, prepared in this notebook\n",
    "* The CountryIndicators data set, prepared in the **CombineAdditionalCountryData** noteobok.\n",
    "\n",
    "To write the data sets, I use the AWS CLI. The first step is to create a file ~/.aws/credentials with the following contents:\n",
    "[default]\n",
    "aws_access_key_id=XXX\n",
    "aws_secret_access_key=XXX\n",
    "aws_session_token=XXX\n",
    "\n",
    "I use temporary credentials here.\n",
    "I have given the CLI commands below. I use the sync command to upload the JSONL folders into S3 (Parquet doesn't seem to work well with Redshift).\n",
    "#### Create BUCKET\n",
    "aws s3 mb BUCKETNAME\n",
    "#### Upload folders to S3\n",
    "* aws s3 sync Data/Cleaned/hotels.parquet/ s3://BUCKETNAME/hotels.jsonl/\n",
    "* aws s3 sync Data/Cleaned/countryindicators.parquet/ s3://BUCKETNAME/countryindicators.jsonl/\n",
    "* aws s3 sync Data/Cleaned/airports.jsonl/ s3://BUCKETNAME/airports.josnl/\n",
    "* aws s3 sync Data/Cleaned/reviews.jsonl/ s3://BUCKETNAME/reviews.jsonl/\n",
    "\n",
    "#### Remove .crc files on s3 as they cannot be read by Redshift's copy command.\n",
    "* aws s3 rm s3://hotelsreviewsandmore/hotels.jsonl --recursive --exclude \"*\" --include \"*.crc\"\n",
    "* aws s3 rm s3://hotelsreviewsandmore/reviews.jsonl --recursive --exclude \"*\" --include \"*.crc\"\n",
    "* aws s3 rm s3://hotelsreviewsandmore/countryindicators.jsonl --recursive --exclude \"*\" --include \"*.crc\"\n",
    "* aws s3 rm s3://hotelsreviewsandmore/countryindicators.jsonl --recursive --exclude \"*\" --include \"*.crc\"\n",
    "\n",
    "#### Create jsonpath files containing the schema and field order for all the 4 jsonl files\n",
    "* See Data/Cleaned/JSONPath/ for the 4 jsonpath files."
   ]
  }
 ],
 "metadata": {
  "kernelspec": {
   "display_name": "Python 3",
   "language": "python",
   "name": "python3"
  },
  "language_info": {
   "codemirror_mode": {
    "name": "ipython",
    "version": 3
   },
   "file_extension": ".py",
   "mimetype": "text/x-python",
   "name": "python",
   "nbconvert_exporter": "python",
   "pygments_lexer": "ipython3",
   "version": "3.6.3"
  }
 },
 "nbformat": 4,
 "nbformat_minor": 4
}
