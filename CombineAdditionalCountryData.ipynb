{
 "cells": [
  {
   "cell_type": "code",
   "execution_count": 61,
   "metadata": {
    "collapsed": false,
    "editable": true,
    "inputHidden": false,
    "jupyter": {
     "outputs_hidden": false
    },
    "outputHidden": false
   },
   "outputs": [],
   "source": [
    "import pandas as pd\n",
    "import os\n",
    "import numpy as np"
   ]
  },
  {
   "cell_type": "code",
   "execution_count": 63,
   "metadata": {
    "collapsed": false,
    "editable": true,
    "inputHidden": false,
    "jupyter": {
     "outputs_hidden": false
    },
    "outputHidden": false
   },
   "outputs": [],
   "source": [
    "# Get UN data related to tourism\n",
    "path1 = \"D:\\\\Data for Project\\\\More UN data\\\\\" # from http://data.un.org/\n",
    "path2 = \"D:\\\\Data for Project\\\\UNDP\\\\used\\\\\" # from http://hdr.undp.org/en/data\n",
    "path3 = \"D:\\\\Data for Project\\\\Political data Freedom House\"\n",
    "path4 = \"D:\\\\Data for Project\\\\OurWorldInData\"\n",
    "output_path='D:\\\\Data for Project\\\\'"
   ]
  },
  {
   "cell_type": "code",
   "execution_count": 11,
   "metadata": {
    "collapsed": false,
    "editable": true,
    "inputHidden": false,
    "jupyter": {
     "outputs_hidden": false
    },
    "outputHidden": false
   },
   "outputs": [
    {
     "data": {
      "text/plain": [
       "['Not used',\n",
       " 'SYB62_130_201907_Exchange Rates.csv',\n",
       " 'SYB63_176_202003_Tourist-Visitors Arrival and Expenditure.csv']"
      ]
     },
     "execution_count": 11,
     "metadata": {},
     "output_type": "execute_result"
    }
   ],
   "source": [
    "os.listdir(path1)"
   ]
  },
  {
   "cell_type": "markdown",
   "metadata": {
    "editable": true
   },
   "source": [
    "First, load a list of countries and ISO codes. This will be the left table against which we join everything else."
   ]
  },
  {
   "cell_type": "code",
   "execution_count": 76,
   "metadata": {
    "collapsed": false,
    "editable": true,
    "inputHidden": false,
    "jupyter": {
     "outputs_hidden": false
    },
    "outputHidden": false
   },
   "outputs": [],
   "source": [
    "countrycodes_df  = pd.read_csv(os.path.join(output_path, 'countryiso.csv'))\n",
    "countrycodes_df = countrycodes_df.rename(columns={'Name': 'Country', 'Code': 'ISOCode'})"
   ]
  },
  {
   "cell_type": "code",
   "execution_count": 77,
   "metadata": {
    "collapsed": false,
    "editable": true,
    "inputHidden": false,
    "jupyter": {
     "outputs_hidden": false
    },
    "outputHidden": false
   },
   "outputs": [
    {
     "name": "stdout",
     "output_type": "stream",
     "text": [
      "(249, 2)\n"
     ]
    },
    {
     "data": {
      "text/html": [
       "<div>\n",
       "<style scoped>\n",
       "    .dataframe tbody tr th:only-of-type {\n",
       "        vertical-align: middle;\n",
       "    }\n",
       "\n",
       "    .dataframe tbody tr th {\n",
       "        vertical-align: top;\n",
       "    }\n",
       "\n",
       "    .dataframe thead th {\n",
       "        text-align: right;\n",
       "    }\n",
       "</style>\n",
       "<table border=\"1\" class=\"dataframe\">\n",
       "  <thead>\n",
       "    <tr style=\"text-align: right;\">\n",
       "      <th></th>\n",
       "      <th>Country</th>\n",
       "      <th>ISOCode</th>\n",
       "    </tr>\n",
       "  </thead>\n",
       "  <tbody>\n",
       "    <tr>\n",
       "      <th>0</th>\n",
       "      <td>Afghanistan</td>\n",
       "      <td>AF</td>\n",
       "    </tr>\n",
       "    <tr>\n",
       "      <th>1</th>\n",
       "      <td>Åland Islands</td>\n",
       "      <td>AX</td>\n",
       "    </tr>\n",
       "    <tr>\n",
       "      <th>2</th>\n",
       "      <td>Albania</td>\n",
       "      <td>AL</td>\n",
       "    </tr>\n",
       "    <tr>\n",
       "      <th>3</th>\n",
       "      <td>Algeria</td>\n",
       "      <td>DZ</td>\n",
       "    </tr>\n",
       "    <tr>\n",
       "      <th>4</th>\n",
       "      <td>American Samoa</td>\n",
       "      <td>AS</td>\n",
       "    </tr>\n",
       "  </tbody>\n",
       "</table>\n",
       "</div>"
      ],
      "text/plain": [
       "          Country ISOCode\n",
       "0     Afghanistan      AF\n",
       "1   Åland Islands      AX\n",
       "2         Albania      AL\n",
       "3         Algeria      DZ\n",
       "4  American Samoa      AS"
      ]
     },
     "execution_count": 77,
     "metadata": {},
     "output_type": "execute_result"
    }
   ],
   "source": [
    "print(countrycodes_df.shape)\n",
    "countrycodes_df.head()"
   ]
  },
  {
   "cell_type": "markdown",
   "metadata": {
    "editable": true
   },
   "source": [
    "## Data sources: part 1 from UN data\n",
    "Tourists-visitors: UNWTO: World Tourism Org\n",
    "\n",
    "Exchange rates: IMF\n",
    "\n",
    "Consumer Price index: IMF"
   ]
  },
  {
   "cell_type": "code",
   "execution_count": 67,
   "metadata": {
    "collapsed": false,
    "editable": true,
    "inputHidden": false,
    "jupyter": {
     "outputs_hidden": false
    },
    "outputHidden": false
   },
   "outputs": [],
   "source": [
    "tourists_visitors_df  = pd.read_csv(os.path.join(path1, 'SYB63_176_202003_Tourist-Visitors Arrival and Expenditure.csv'))\n",
    "#consumer_price_index_df  = pd.read_csv(os.path.join(path1, 'SYB62_128_201907_Consumer Price Index.csv'))\n",
    "exchange_rates_df = pd.read_csv(os.path.join(path1, 'SYB62_130_201907_Exchange Rates.csv'))"
   ]
  },
  {
   "cell_type": "code",
   "execution_count": 68,
   "metadata": {
    "collapsed": false,
    "editable": true,
    "inputHidden": false,
    "jupyter": {
     "outputs_hidden": false
    },
    "outputHidden": false
   },
   "outputs": [
    {
     "name": "stdout",
     "output_type": "stream",
     "text": [
      "(2246, 9)\n"
     ]
    },
    {
     "data": {
      "text/html": [
       "<div>\n",
       "<style scoped>\n",
       "    .dataframe tbody tr th:only-of-type {\n",
       "        vertical-align: middle;\n",
       "    }\n",
       "\n",
       "    .dataframe tbody tr th {\n",
       "        vertical-align: top;\n",
       "    }\n",
       "\n",
       "    .dataframe thead th {\n",
       "        text-align: right;\n",
       "    }\n",
       "</style>\n",
       "<table border=\"1\" class=\"dataframe\">\n",
       "  <thead>\n",
       "    <tr style=\"text-align: right;\">\n",
       "      <th></th>\n",
       "      <th>T33</th>\n",
       "      <th>Region/Country/Area</th>\n",
       "      <th>Year</th>\n",
       "      <th>Series</th>\n",
       "      <th>Tourism arrivals series type</th>\n",
       "      <th>Tourism arrivals series type footnote</th>\n",
       "      <th>Value</th>\n",
       "      <th>Footnotes</th>\n",
       "      <th>Source</th>\n",
       "    </tr>\n",
       "  </thead>\n",
       "  <tbody>\n",
       "    <tr>\n",
       "      <th>0</th>\n",
       "      <td>4</td>\n",
       "      <td>Afghanistan</td>\n",
       "      <td>2010</td>\n",
       "      <td>Tourism expenditure (millions of US dollars)</td>\n",
       "      <td>NaN</td>\n",
       "      <td>NaN</td>\n",
       "      <td>147.0</td>\n",
       "      <td>NaN</td>\n",
       "      <td>World Tourism Organization (UNWTO), Madrid, th...</td>\n",
       "    </tr>\n",
       "    <tr>\n",
       "      <th>1</th>\n",
       "      <td>4</td>\n",
       "      <td>Afghanistan</td>\n",
       "      <td>2016</td>\n",
       "      <td>Tourism expenditure (millions of US dollars)</td>\n",
       "      <td>NaN</td>\n",
       "      <td>NaN</td>\n",
       "      <td>62.0</td>\n",
       "      <td>NaN</td>\n",
       "      <td>World Tourism Organization (UNWTO), Madrid, th...</td>\n",
       "    </tr>\n",
       "    <tr>\n",
       "      <th>2</th>\n",
       "      <td>4</td>\n",
       "      <td>Afghanistan</td>\n",
       "      <td>2017</td>\n",
       "      <td>Tourism expenditure (millions of US dollars)</td>\n",
       "      <td>NaN</td>\n",
       "      <td>NaN</td>\n",
       "      <td>16.0</td>\n",
       "      <td>NaN</td>\n",
       "      <td>World Tourism Organization (UNWTO), Madrid, th...</td>\n",
       "    </tr>\n",
       "    <tr>\n",
       "      <th>3</th>\n",
       "      <td>4</td>\n",
       "      <td>Afghanistan</td>\n",
       "      <td>2018</td>\n",
       "      <td>Tourism expenditure (millions of US dollars)</td>\n",
       "      <td>NaN</td>\n",
       "      <td>NaN</td>\n",
       "      <td>50.0</td>\n",
       "      <td>NaN</td>\n",
       "      <td>World Tourism Organization (UNWTO), Madrid, th...</td>\n",
       "    </tr>\n",
       "    <tr>\n",
       "      <th>4</th>\n",
       "      <td>8</td>\n",
       "      <td>Albania</td>\n",
       "      <td>2010</td>\n",
       "      <td>Tourist/visitor arrivals (thousands)</td>\n",
       "      <td>TF</td>\n",
       "      <td>NaN</td>\n",
       "      <td>2191.0</td>\n",
       "      <td>Excluding nationals residing abroad.</td>\n",
       "      <td>World Tourism Organization (UNWTO), Madrid, th...</td>\n",
       "    </tr>\n",
       "  </tbody>\n",
       "</table>\n",
       "</div>"
      ],
      "text/plain": [
       "   T33 Region/Country/Area  Year  \\\n",
       "0    4         Afghanistan  2010   \n",
       "1    4         Afghanistan  2016   \n",
       "2    4         Afghanistan  2017   \n",
       "3    4         Afghanistan  2018   \n",
       "4    8             Albania  2010   \n",
       "\n",
       "                                         Series Tourism arrivals series type  \\\n",
       "0  Tourism expenditure (millions of US dollars)                          NaN   \n",
       "1  Tourism expenditure (millions of US dollars)                          NaN   \n",
       "2  Tourism expenditure (millions of US dollars)                          NaN   \n",
       "3  Tourism expenditure (millions of US dollars)                          NaN   \n",
       "4          Tourist/visitor arrivals (thousands)                           TF   \n",
       "\n",
       "   Tourism arrivals series type footnote   Value  \\\n",
       "0                                    NaN   147.0   \n",
       "1                                    NaN    62.0   \n",
       "2                                    NaN    16.0   \n",
       "3                                    NaN    50.0   \n",
       "4                                    NaN  2191.0   \n",
       "\n",
       "                              Footnotes  \\\n",
       "0                                   NaN   \n",
       "1                                   NaN   \n",
       "2                                   NaN   \n",
       "3                                   NaN   \n",
       "4  Excluding nationals residing abroad.   \n",
       "\n",
       "                                              Source  \n",
       "0  World Tourism Organization (UNWTO), Madrid, th...  \n",
       "1  World Tourism Organization (UNWTO), Madrid, th...  \n",
       "2  World Tourism Organization (UNWTO), Madrid, th...  \n",
       "3  World Tourism Organization (UNWTO), Madrid, th...  \n",
       "4  World Tourism Organization (UNWTO), Madrid, th...  "
      ]
     },
     "execution_count": 68,
     "metadata": {},
     "output_type": "execute_result"
    }
   ],
   "source": [
    "print(tourists_visitors_df.shape)\n",
    "tourists_visitors_df.head()"
   ]
  },
  {
   "cell_type": "code",
   "execution_count": 69,
   "metadata": {
    "collapsed": false,
    "editable": true,
    "inputHidden": false,
    "jupyter": {
     "outputs_hidden": false
    },
    "outputHidden": false
   },
   "outputs": [
    {
     "data": {
      "text/html": [
       "<div>\n",
       "<style scoped>\n",
       "    .dataframe tbody tr th:only-of-type {\n",
       "        vertical-align: middle;\n",
       "    }\n",
       "\n",
       "    .dataframe tbody tr th {\n",
       "        vertical-align: top;\n",
       "    }\n",
       "\n",
       "    .dataframe thead th {\n",
       "        text-align: right;\n",
       "    }\n",
       "</style>\n",
       "<table border=\"1\" class=\"dataframe\">\n",
       "  <thead>\n",
       "    <tr style=\"text-align: right;\">\n",
       "      <th></th>\n",
       "      <th>Country</th>\n",
       "      <th>Series</th>\n",
       "      <th>Value</th>\n",
       "    </tr>\n",
       "  </thead>\n",
       "  <tbody>\n",
       "    <tr>\n",
       "      <th>3</th>\n",
       "      <td>Afghanistan</td>\n",
       "      <td>Tourism expenditure (millions of US dollars)</td>\n",
       "      <td>50.0</td>\n",
       "    </tr>\n",
       "    <tr>\n",
       "      <th>7</th>\n",
       "      <td>Albania</td>\n",
       "      <td>Tourist/visitor arrivals (thousands)</td>\n",
       "      <td>5340.0</td>\n",
       "    </tr>\n",
       "    <tr>\n",
       "      <th>13</th>\n",
       "      <td>Albania</td>\n",
       "      <td>Tourism expenditure (millions of US dollars)</td>\n",
       "      <td>2306.0</td>\n",
       "    </tr>\n",
       "    <tr>\n",
       "      <th>19</th>\n",
       "      <td>Algeria</td>\n",
       "      <td>Tourist/visitor arrivals (thousands)</td>\n",
       "      <td>2657.0</td>\n",
       "    </tr>\n",
       "    <tr>\n",
       "      <th>23</th>\n",
       "      <td>Algeria</td>\n",
       "      <td>Tourism expenditure (millions of US dollars)</td>\n",
       "      <td>172.0</td>\n",
       "    </tr>\n",
       "  </tbody>\n",
       "</table>\n",
       "</div>"
      ],
      "text/plain": [
       "        Country                                        Series   Value\n",
       "3   Afghanistan  Tourism expenditure (millions of US dollars)    50.0\n",
       "7       Albania          Tourist/visitor arrivals (thousands)  5340.0\n",
       "13      Albania  Tourism expenditure (millions of US dollars)  2306.0\n",
       "19      Algeria          Tourist/visitor arrivals (thousands)  2657.0\n",
       "23      Algeria  Tourism expenditure (millions of US dollars)   172.0"
      ]
     },
     "execution_count": 69,
     "metadata": {},
     "output_type": "execute_result"
    }
   ],
   "source": [
    "# Keep only the latest value. There are 2 separate fields in 'Series': Tourism expenditure and Tourist/visitor arrivals\n",
    "# Year is the most recent year available. It's usually 2017/2018\n",
    "tourists_visitors_df = tourists_visitors_df[~tourists_visitors_df.duplicated(subset=['Region/Country/Area', 'Series'], keep='last')]\n",
    "tourists_visitors_df = tourists_visitors_df.drop(['T33', 'Year', 'Tourism arrivals series type', 'Tourism arrivals series type footnote', 'Footnotes', 'Source'], axis=1)\n",
    "tourists_visitors_df = tourists_visitors_df.rename(columns={'Region/Country/Area': 'Country'})\n",
    "tourists_visitors_df.head()"
   ]
  },
  {
   "cell_type": "code",
   "execution_count": 70,
   "metadata": {
    "collapsed": false,
    "editable": true,
    "inputHidden": false,
    "jupyter": {
     "outputs_hidden": false
    },
    "outputHidden": false
   },
   "outputs": [
    {
     "data": {
      "text/html": [
       "<div>\n",
       "<style scoped>\n",
       "    .dataframe tbody tr th:only-of-type {\n",
       "        vertical-align: middle;\n",
       "    }\n",
       "\n",
       "    .dataframe tbody tr th {\n",
       "        vertical-align: top;\n",
       "    }\n",
       "\n",
       "    .dataframe thead th {\n",
       "        text-align: right;\n",
       "    }\n",
       "</style>\n",
       "<table border=\"1\" class=\"dataframe\">\n",
       "  <thead>\n",
       "    <tr style=\"text-align: right;\">\n",
       "      <th>Series</th>\n",
       "      <th>Tourism expenditure (millions of US dollars)</th>\n",
       "      <th>Tourist/visitor arrivals (thousands)</th>\n",
       "    </tr>\n",
       "    <tr>\n",
       "      <th>Country</th>\n",
       "      <th></th>\n",
       "      <th></th>\n",
       "    </tr>\n",
       "  </thead>\n",
       "  <tbody>\n",
       "    <tr>\n",
       "      <th>Afghanistan</th>\n",
       "      <td>50.0</td>\n",
       "      <td>NaN</td>\n",
       "    </tr>\n",
       "    <tr>\n",
       "      <th>Albania</th>\n",
       "      <td>2306.0</td>\n",
       "      <td>5340.0</td>\n",
       "    </tr>\n",
       "    <tr>\n",
       "      <th>Algeria</th>\n",
       "      <td>172.0</td>\n",
       "      <td>2657.0</td>\n",
       "    </tr>\n",
       "    <tr>\n",
       "      <th>American Samoa</th>\n",
       "      <td>22.0</td>\n",
       "      <td>20.2</td>\n",
       "    </tr>\n",
       "    <tr>\n",
       "      <th>Andorra</th>\n",
       "      <td>NaN</td>\n",
       "      <td>3042.0</td>\n",
       "    </tr>\n",
       "  </tbody>\n",
       "</table>\n",
       "</div>"
      ],
      "text/plain": [
       "Series          Tourism expenditure (millions of US dollars)  \\\n",
       "Country                                                        \n",
       "Afghanistan                                             50.0   \n",
       "Albania                                               2306.0   \n",
       "Algeria                                                172.0   \n",
       "American Samoa                                          22.0   \n",
       "Andorra                                                  NaN   \n",
       "\n",
       "Series          Tourist/visitor arrivals (thousands)  \n",
       "Country                                               \n",
       "Afghanistan                                      NaN  \n",
       "Albania                                       5340.0  \n",
       "Algeria                                       2657.0  \n",
       "American Samoa                                  20.2  \n",
       "Andorra                                       3042.0  "
      ]
     },
     "execution_count": 70,
     "metadata": {},
     "output_type": "execute_result"
    }
   ],
   "source": [
    "# Pivot so that the values in 'Series' become columns\n",
    "tourists_pivot = tourists_visitors_df.pivot(index='Country', columns='Series', values='Value')\n",
    "tourists_pivot.head()"
   ]
  },
  {
   "cell_type": "code",
   "execution_count": 71,
   "metadata": {
    "collapsed": false,
    "editable": true,
    "inputHidden": false,
    "jupyter": {
     "outputs_hidden": false
    },
    "outputHidden": false
   },
   "outputs": [
    {
     "data": {
      "text/html": [
       "<div>\n",
       "<style scoped>\n",
       "    .dataframe tbody tr th:only-of-type {\n",
       "        vertical-align: middle;\n",
       "    }\n",
       "\n",
       "    .dataframe tbody tr th {\n",
       "        vertical-align: top;\n",
       "    }\n",
       "\n",
       "    .dataframe thead th {\n",
       "        text-align: right;\n",
       "    }\n",
       "</style>\n",
       "<table border=\"1\" class=\"dataframe\">\n",
       "  <thead>\n",
       "    <tr style=\"text-align: right;\">\n",
       "      <th>Series</th>\n",
       "      <th>Country</th>\n",
       "      <th>Tourism expenditure (millions of US dollars)</th>\n",
       "      <th>Tourist/visitor arrivals (thousands)</th>\n",
       "    </tr>\n",
       "  </thead>\n",
       "  <tbody>\n",
       "    <tr>\n",
       "      <th>0</th>\n",
       "      <td>Afghanistan</td>\n",
       "      <td>50.0</td>\n",
       "      <td>NaN</td>\n",
       "    </tr>\n",
       "    <tr>\n",
       "      <th>1</th>\n",
       "      <td>Albania</td>\n",
       "      <td>2306.0</td>\n",
       "      <td>5340.0</td>\n",
       "    </tr>\n",
       "    <tr>\n",
       "      <th>2</th>\n",
       "      <td>Algeria</td>\n",
       "      <td>172.0</td>\n",
       "      <td>2657.0</td>\n",
       "    </tr>\n",
       "    <tr>\n",
       "      <th>3</th>\n",
       "      <td>American Samoa</td>\n",
       "      <td>22.0</td>\n",
       "      <td>20.2</td>\n",
       "    </tr>\n",
       "    <tr>\n",
       "      <th>4</th>\n",
       "      <td>Andorra</td>\n",
       "      <td>NaN</td>\n",
       "      <td>3042.0</td>\n",
       "    </tr>\n",
       "  </tbody>\n",
       "</table>\n",
       "</div>"
      ],
      "text/plain": [
       "Series         Country  Tourism expenditure (millions of US dollars)  \\\n",
       "0          Afghanistan                                          50.0   \n",
       "1              Albania                                        2306.0   \n",
       "2              Algeria                                         172.0   \n",
       "3       American Samoa                                          22.0   \n",
       "4              Andorra                                           NaN   \n",
       "\n",
       "Series  Tourist/visitor arrivals (thousands)  \n",
       "0                                        NaN  \n",
       "1                                     5340.0  \n",
       "2                                     2657.0  \n",
       "3                                       20.2  \n",
       "4                                     3042.0  "
      ]
     },
     "execution_count": 71,
     "metadata": {},
     "output_type": "execute_result"
    }
   ],
   "source": [
    "tourists_visitors_df = tourists_pivot.reset_index()\n",
    "#tourists_visitors_df = tourists_visitors_df.set_index('Country')\n",
    "tourists_visitors_df.head()"
   ]
  },
  {
   "cell_type": "code",
   "execution_count": 72,
   "metadata": {
    "collapsed": false,
    "editable": true,
    "inputHidden": false,
    "jupyter": {
     "outputs_hidden": false
    },
    "outputHidden": false
   },
   "outputs": [
    {
     "data": {
      "text/plain": [
       "(220, 3)"
      ]
     },
     "execution_count": 72,
     "metadata": {},
     "output_type": "execute_result"
    }
   ],
   "source": [
    "tourists_visitors_df.shape"
   ]
  },
  {
   "cell_type": "code",
   "execution_count": 73,
   "metadata": {
    "collapsed": false,
    "editable": true,
    "inputHidden": false,
    "jupyter": {
     "outputs_hidden": false
    },
    "outputHidden": false
   },
   "outputs": [
    {
     "name": "stdout",
     "output_type": "stream",
     "text": [
      "(3408, 9)\n"
     ]
    },
    {
     "data": {
      "text/html": [
       "<div>\n",
       "<style scoped>\n",
       "    .dataframe tbody tr th:only-of-type {\n",
       "        vertical-align: middle;\n",
       "    }\n",
       "\n",
       "    .dataframe tbody tr th {\n",
       "        vertical-align: top;\n",
       "    }\n",
       "\n",
       "    .dataframe thead th {\n",
       "        text-align: right;\n",
       "    }\n",
       "</style>\n",
       "<table border=\"1\" class=\"dataframe\">\n",
       "  <thead>\n",
       "    <tr style=\"text-align: right;\">\n",
       "      <th></th>\n",
       "      <th>T16</th>\n",
       "      <th>Region/Country/Area</th>\n",
       "      <th>Year</th>\n",
       "      <th>Series</th>\n",
       "      <th>National currency</th>\n",
       "      <th>National currency footnote</th>\n",
       "      <th>Value</th>\n",
       "      <th>Footnotes</th>\n",
       "      <th>Source</th>\n",
       "    </tr>\n",
       "  </thead>\n",
       "  <tbody>\n",
       "    <tr>\n",
       "      <th>0</th>\n",
       "      <td>4</td>\n",
       "      <td>Afghanistan</td>\n",
       "      <td>1985</td>\n",
       "      <td>Exchange rates: end of period (national curren...</td>\n",
       "      <td>Afghani (AFN)</td>\n",
       "      <td>NaN</td>\n",
       "      <td>42.8228</td>\n",
       "      <td>NaN</td>\n",
       "      <td>International Monetary Fund (IMF), Washington,...</td>\n",
       "    </tr>\n",
       "    <tr>\n",
       "      <th>1</th>\n",
       "      <td>4</td>\n",
       "      <td>Afghanistan</td>\n",
       "      <td>1995</td>\n",
       "      <td>Exchange rates: end of period (national curren...</td>\n",
       "      <td>Afghani (AFN)</td>\n",
       "      <td>NaN</td>\n",
       "      <td>47.5</td>\n",
       "      <td>NaN</td>\n",
       "      <td>International Monetary Fund (IMF), Washington,...</td>\n",
       "    </tr>\n",
       "    <tr>\n",
       "      <th>2</th>\n",
       "      <td>4</td>\n",
       "      <td>Afghanistan</td>\n",
       "      <td>2005</td>\n",
       "      <td>Exchange rates: end of period (national curren...</td>\n",
       "      <td>Afghani (AFN)</td>\n",
       "      <td>NaN</td>\n",
       "      <td>50.41</td>\n",
       "      <td>NaN</td>\n",
       "      <td>International Monetary Fund (IMF), Washington,...</td>\n",
       "    </tr>\n",
       "    <tr>\n",
       "      <th>3</th>\n",
       "      <td>4</td>\n",
       "      <td>Afghanistan</td>\n",
       "      <td>2010</td>\n",
       "      <td>Exchange rates: end of period (national curren...</td>\n",
       "      <td>Afghani (AFN)</td>\n",
       "      <td>NaN</td>\n",
       "      <td>45.27</td>\n",
       "      <td>NaN</td>\n",
       "      <td>International Monetary Fund (IMF), Washington,...</td>\n",
       "    </tr>\n",
       "    <tr>\n",
       "      <th>4</th>\n",
       "      <td>4</td>\n",
       "      <td>Afghanistan</td>\n",
       "      <td>2015</td>\n",
       "      <td>Exchange rates: end of period (national curren...</td>\n",
       "      <td>Afghani (AFN)</td>\n",
       "      <td>NaN</td>\n",
       "      <td>68.05</td>\n",
       "      <td>NaN</td>\n",
       "      <td>International Monetary Fund (IMF), Washington,...</td>\n",
       "    </tr>\n",
       "  </tbody>\n",
       "</table>\n",
       "</div>"
      ],
      "text/plain": [
       "   T16 Region/Country/Area  Year  \\\n",
       "0    4         Afghanistan  1985   \n",
       "1    4         Afghanistan  1995   \n",
       "2    4         Afghanistan  2005   \n",
       "3    4         Afghanistan  2010   \n",
       "4    4         Afghanistan  2015   \n",
       "\n",
       "                                              Series National currency  \\\n",
       "0  Exchange rates: end of period (national curren...     Afghani (AFN)   \n",
       "1  Exchange rates: end of period (national curren...     Afghani (AFN)   \n",
       "2  Exchange rates: end of period (national curren...     Afghani (AFN)   \n",
       "3  Exchange rates: end of period (national curren...     Afghani (AFN)   \n",
       "4  Exchange rates: end of period (national curren...     Afghani (AFN)   \n",
       "\n",
       "  National currency footnote    Value Footnotes  \\\n",
       "0                        NaN  42.8228       NaN   \n",
       "1                        NaN     47.5       NaN   \n",
       "2                        NaN    50.41       NaN   \n",
       "3                        NaN    45.27       NaN   \n",
       "4                        NaN    68.05       NaN   \n",
       "\n",
       "                                              Source  \n",
       "0  International Monetary Fund (IMF), Washington,...  \n",
       "1  International Monetary Fund (IMF), Washington,...  \n",
       "2  International Monetary Fund (IMF), Washington,...  \n",
       "3  International Monetary Fund (IMF), Washington,...  \n",
       "4  International Monetary Fund (IMF), Washington,...  "
      ]
     },
     "execution_count": 73,
     "metadata": {},
     "output_type": "execute_result"
    }
   ],
   "source": [
    "print(exchange_rates_df.shape) # Latest year =2018\n",
    "exchange_rates_df.head()"
   ]
  },
  {
   "cell_type": "code",
   "execution_count": 74,
   "metadata": {
    "collapsed": false,
    "editable": true,
    "inputHidden": false,
    "jupyter": {
     "outputs_hidden": false
    },
    "outputHidden": false
   },
   "outputs": [
    {
     "data": {
      "text/html": [
       "<div>\n",
       "<style scoped>\n",
       "    .dataframe tbody tr th:only-of-type {\n",
       "        vertical-align: middle;\n",
       "    }\n",
       "\n",
       "    .dataframe tbody tr th {\n",
       "        vertical-align: top;\n",
       "    }\n",
       "\n",
       "    .dataframe thead th {\n",
       "        text-align: right;\n",
       "    }\n",
       "</style>\n",
       "<table border=\"1\" class=\"dataframe\">\n",
       "  <thead>\n",
       "    <tr style=\"text-align: right;\">\n",
       "      <th></th>\n",
       "      <th>Country</th>\n",
       "      <th>Series</th>\n",
       "      <th>National currency</th>\n",
       "      <th>Value</th>\n",
       "    </tr>\n",
       "  </thead>\n",
       "  <tbody>\n",
       "    <tr>\n",
       "      <th>7</th>\n",
       "      <td>Afghanistan</td>\n",
       "      <td>Exchange rates: end of period (national curren...</td>\n",
       "      <td>Afghani (AFN)</td>\n",
       "      <td>74.9556</td>\n",
       "    </tr>\n",
       "    <tr>\n",
       "      <th>15</th>\n",
       "      <td>Afghanistan</td>\n",
       "      <td>Exchange rates: period average (national curre...</td>\n",
       "      <td>Afghani (AFN)</td>\n",
       "      <td>72.0832</td>\n",
       "    </tr>\n",
       "    <tr>\n",
       "      <th>21</th>\n",
       "      <td>Åland Islands</td>\n",
       "      <td>Exchange rates: end of period (national curren...</td>\n",
       "      <td>Euro (EUR)</td>\n",
       "      <td>0.8734</td>\n",
       "    </tr>\n",
       "    <tr>\n",
       "      <th>27</th>\n",
       "      <td>Åland Islands</td>\n",
       "      <td>Exchange rates: period average (national curre...</td>\n",
       "      <td>Euro (EUR)</td>\n",
       "      <td>0.8468</td>\n",
       "    </tr>\n",
       "    <tr>\n",
       "      <th>34</th>\n",
       "      <td>Albania</td>\n",
       "      <td>Exchange rates: end of period (national curren...</td>\n",
       "      <td>Lek (ALL)</td>\n",
       "      <td>107.82</td>\n",
       "    </tr>\n",
       "  </tbody>\n",
       "</table>\n",
       "</div>"
      ],
      "text/plain": [
       "          Country                                             Series  \\\n",
       "7     Afghanistan  Exchange rates: end of period (national curren...   \n",
       "15    Afghanistan  Exchange rates: period average (national curre...   \n",
       "21  Åland Islands  Exchange rates: end of period (national curren...   \n",
       "27  Åland Islands  Exchange rates: period average (national curre...   \n",
       "34        Albania  Exchange rates: end of period (national curren...   \n",
       "\n",
       "   National currency    Value  \n",
       "7      Afghani (AFN)  74.9556  \n",
       "15     Afghani (AFN)  72.0832  \n",
       "21        Euro (EUR)   0.8734  \n",
       "27        Euro (EUR)   0.8468  \n",
       "34         Lek (ALL)   107.82  "
      ]
     },
     "execution_count": 74,
     "metadata": {},
     "output_type": "execute_result"
    }
   ],
   "source": [
    "# Keep only the latest value. Series has Exchange rate for end if period and period average (in USD)\n",
    "# Year is the most recent year available. It's 2018\n",
    "exchange_rates_df = exchange_rates_df[~exchange_rates_df.duplicated(subset=['Region/Country/Area', 'Series'], keep='last')]\n",
    "exchange_rates_df = exchange_rates_df.drop(['T16', 'Year', 'National currency footnote', 'Footnotes', 'Source'], axis=1)\n",
    "exchange_rates_df = exchange_rates_df.rename(columns={'Region/Country/Area': 'Country'})\n",
    "exchange_rates_df.head()"
   ]
  },
  {
   "cell_type": "code",
   "execution_count": 75,
   "metadata": {
    "collapsed": false,
    "editable": true,
    "inputHidden": false,
    "jupyter": {
     "outputs_hidden": false
    },
    "outputHidden": false
   },
   "outputs": [
    {
     "name": "stdout",
     "output_type": "stream",
     "text": [
      "(234, 3)\n"
     ]
    },
    {
     "data": {
      "text/html": [
       "<div>\n",
       "<style scoped>\n",
       "    .dataframe tbody tr th:only-of-type {\n",
       "        vertical-align: middle;\n",
       "    }\n",
       "\n",
       "    .dataframe tbody tr th {\n",
       "        vertical-align: top;\n",
       "    }\n",
       "\n",
       "    .dataframe thead th {\n",
       "        text-align: right;\n",
       "    }\n",
       "</style>\n",
       "<table border=\"1\" class=\"dataframe\">\n",
       "  <thead>\n",
       "    <tr style=\"text-align: right;\">\n",
       "      <th></th>\n",
       "      <th>Country</th>\n",
       "      <th>National currency</th>\n",
       "      <th>ExchangeRateEndOfPeriod</th>\n",
       "    </tr>\n",
       "  </thead>\n",
       "  <tbody>\n",
       "    <tr>\n",
       "      <th>7</th>\n",
       "      <td>Afghanistan</td>\n",
       "      <td>Afghani (AFN)</td>\n",
       "      <td>74.9556</td>\n",
       "    </tr>\n",
       "    <tr>\n",
       "      <th>21</th>\n",
       "      <td>Åland Islands</td>\n",
       "      <td>Euro (EUR)</td>\n",
       "      <td>0.8734</td>\n",
       "    </tr>\n",
       "    <tr>\n",
       "      <th>34</th>\n",
       "      <td>Albania</td>\n",
       "      <td>Lek (ALL)</td>\n",
       "      <td>107.82</td>\n",
       "    </tr>\n",
       "    <tr>\n",
       "      <th>49</th>\n",
       "      <td>Algeria</td>\n",
       "      <td>Algerian Dinar (DZD)</td>\n",
       "      <td>118.2906</td>\n",
       "    </tr>\n",
       "    <tr>\n",
       "      <th>63</th>\n",
       "      <td>Andorra</td>\n",
       "      <td>Euro (EUR)</td>\n",
       "      <td>0.8734</td>\n",
       "    </tr>\n",
       "  </tbody>\n",
       "</table>\n",
       "</div>"
      ],
      "text/plain": [
       "          Country     National currency ExchangeRateEndOfPeriod\n",
       "7     Afghanistan         Afghani (AFN)                 74.9556\n",
       "21  Åland Islands            Euro (EUR)                  0.8734\n",
       "34        Albania             Lek (ALL)                  107.82\n",
       "49        Algeria  Algerian Dinar (DZD)                118.2906\n",
       "63        Andorra            Euro (EUR)                  0.8734"
      ]
     },
     "execution_count": 75,
     "metadata": {},
     "output_type": "execute_result"
    }
   ],
   "source": [
    "# Now keep only the first value in series for each country: the 2nd value is an average\n",
    "exchange_rates_df = exchange_rates_df[~exchange_rates_df.duplicated(subset=['Country'], keep='first')]\n",
    "exchange_rates_df = exchange_rates_df.rename(columns={'Value': 'ExchangeRateEndOfPeriod'})\n",
    "exchange_rates_df = exchange_rates_df.drop(['Series'], axis=1)\n",
    "print(exchange_rates_df.shape)\n",
    "exchange_rates_df.head()"
   ]
  },
  {
   "cell_type": "code",
   "execution_count": 21,
   "metadata": {
    "collapsed": false,
    "editable": true,
    "inputHidden": false,
    "jupyter": {
     "outputs_hidden": false
    },
    "outputHidden": false
   },
   "outputs": [
    {
     "data": {
      "text/html": [
       "<div>\n",
       "<style scoped>\n",
       "    .dataframe tbody tr th:only-of-type {\n",
       "        vertical-align: middle;\n",
       "    }\n",
       "\n",
       "    .dataframe tbody tr th {\n",
       "        vertical-align: top;\n",
       "    }\n",
       "\n",
       "    .dataframe thead th {\n",
       "        text-align: right;\n",
       "    }\n",
       "</style>\n",
       "<table border=\"1\" class=\"dataframe\">\n",
       "  <thead>\n",
       "    <tr style=\"text-align: right;\">\n",
       "      <th></th>\n",
       "      <th>Country</th>\n",
       "      <th>National currency</th>\n",
       "      <th>ExchangeRateEndOfPeriod</th>\n",
       "    </tr>\n",
       "  </thead>\n",
       "  <tbody>\n",
       "    <tr>\n",
       "      <th>3349</th>\n",
       "      <td>Wallis and Futuna Islands</td>\n",
       "      <td>CFP Franc (XPF)</td>\n",
       "      <td>104.2198</td>\n",
       "    </tr>\n",
       "    <tr>\n",
       "      <th>3365</th>\n",
       "      <td>Western Sahara</td>\n",
       "      <td>Moroccan Dirham (MAD)</td>\n",
       "      <td>9.5655</td>\n",
       "    </tr>\n",
       "    <tr>\n",
       "      <th>3381</th>\n",
       "      <td>Zambia</td>\n",
       "      <td>Zambian Kwacha (ZMW)</td>\n",
       "      <td>11.9238</td>\n",
       "    </tr>\n",
       "    <tr>\n",
       "      <th>3392</th>\n",
       "      <td>Zimbabwe</td>\n",
       "      <td>Zimbabwe Dollar (ZWL)</td>\n",
       "      <td>80.7744</td>\n",
       "    </tr>\n",
       "    <tr>\n",
       "      <th>3401</th>\n",
       "      <td>Euro Area</td>\n",
       "      <td>Euro (EUR)</td>\n",
       "      <td>0.8734</td>\n",
       "    </tr>\n",
       "  </tbody>\n",
       "</table>\n",
       "</div>"
      ],
      "text/plain": [
       "                        Country      National currency ExchangeRateEndOfPeriod\n",
       "3349  Wallis and Futuna Islands        CFP Franc (XPF)                104.2198\n",
       "3365             Western Sahara  Moroccan Dirham (MAD)                  9.5655\n",
       "3381                     Zambia   Zambian Kwacha (ZMW)                 11.9238\n",
       "3392                   Zimbabwe  Zimbabwe Dollar (ZWL)                 80.7744\n",
       "3401                  Euro Area             Euro (EUR)                  0.8734"
      ]
     },
     "execution_count": 21,
     "metadata": {},
     "output_type": "execute_result"
    }
   ],
   "source": [
    "exchange_rates_df.tail()"
   ]
  },
  {
   "cell_type": "markdown",
   "metadata": {
    "editable": true
   },
   "source": [
    "Merge countrycodes first with tourists_visitors_df and then with exchange_rates_df"
   ]
  },
  {
   "cell_type": "code",
   "execution_count": 78,
   "metadata": {
    "collapsed": false,
    "editable": true,
    "inputHidden": false,
    "jupyter": {
     "outputs_hidden": false
    },
    "outputHidden": false
   },
   "outputs": [
    {
     "name": "stdout",
     "output_type": "stream",
     "text": [
      "(249, 4)\n"
     ]
    },
    {
     "data": {
      "text/html": [
       "<div>\n",
       "<style scoped>\n",
       "    .dataframe tbody tr th:only-of-type {\n",
       "        vertical-align: middle;\n",
       "    }\n",
       "\n",
       "    .dataframe tbody tr th {\n",
       "        vertical-align: top;\n",
       "    }\n",
       "\n",
       "    .dataframe thead th {\n",
       "        text-align: right;\n",
       "    }\n",
       "</style>\n",
       "<table border=\"1\" class=\"dataframe\">\n",
       "  <thead>\n",
       "    <tr style=\"text-align: right;\">\n",
       "      <th></th>\n",
       "      <th>Country</th>\n",
       "      <th>ISOCode</th>\n",
       "      <th>Tourism expenditure (millions of US dollars)</th>\n",
       "      <th>Tourist/visitor arrivals (thousands)</th>\n",
       "    </tr>\n",
       "  </thead>\n",
       "  <tbody>\n",
       "    <tr>\n",
       "      <th>0</th>\n",
       "      <td>Afghanistan</td>\n",
       "      <td>AF</td>\n",
       "      <td>50.0</td>\n",
       "      <td>NaN</td>\n",
       "    </tr>\n",
       "    <tr>\n",
       "      <th>1</th>\n",
       "      <td>Åland Islands</td>\n",
       "      <td>AX</td>\n",
       "      <td>NaN</td>\n",
       "      <td>NaN</td>\n",
       "    </tr>\n",
       "    <tr>\n",
       "      <th>2</th>\n",
       "      <td>Albania</td>\n",
       "      <td>AL</td>\n",
       "      <td>2306.0</td>\n",
       "      <td>5340.0</td>\n",
       "    </tr>\n",
       "    <tr>\n",
       "      <th>3</th>\n",
       "      <td>Algeria</td>\n",
       "      <td>DZ</td>\n",
       "      <td>172.0</td>\n",
       "      <td>2657.0</td>\n",
       "    </tr>\n",
       "    <tr>\n",
       "      <th>4</th>\n",
       "      <td>American Samoa</td>\n",
       "      <td>AS</td>\n",
       "      <td>22.0</td>\n",
       "      <td>20.2</td>\n",
       "    </tr>\n",
       "  </tbody>\n",
       "</table>\n",
       "</div>"
      ],
      "text/plain": [
       "          Country ISOCode  Tourism expenditure (millions of US dollars)  \\\n",
       "0     Afghanistan      AF                                          50.0   \n",
       "1   Åland Islands      AX                                           NaN   \n",
       "2         Albania      AL                                        2306.0   \n",
       "3         Algeria      DZ                                         172.0   \n",
       "4  American Samoa      AS                                          22.0   \n",
       "\n",
       "   Tourist/visitor arrivals (thousands)  \n",
       "0                                   NaN  \n",
       "1                                   NaN  \n",
       "2                                5340.0  \n",
       "3                                2657.0  \n",
       "4                                  20.2  "
      ]
     },
     "execution_count": 78,
     "metadata": {},
     "output_type": "execute_result"
    }
   ],
   "source": [
    "merged_df = countrycodes_df.merge(tourists_visitors_df, on='Country', how='left')\n",
    "print(merged_df.shape)\n",
    "merged_df.head()"
   ]
  },
  {
   "cell_type": "code",
   "execution_count": 79,
   "metadata": {
    "collapsed": false,
    "editable": true,
    "inputHidden": false,
    "jupyter": {
     "outputs_hidden": false
    },
    "outputHidden": false
   },
   "outputs": [
    {
     "name": "stdout",
     "output_type": "stream",
     "text": [
      "(249, 6)\n"
     ]
    },
    {
     "data": {
      "text/html": [
       "<div>\n",
       "<style scoped>\n",
       "    .dataframe tbody tr th:only-of-type {\n",
       "        vertical-align: middle;\n",
       "    }\n",
       "\n",
       "    .dataframe tbody tr th {\n",
       "        vertical-align: top;\n",
       "    }\n",
       "\n",
       "    .dataframe thead th {\n",
       "        text-align: right;\n",
       "    }\n",
       "</style>\n",
       "<table border=\"1\" class=\"dataframe\">\n",
       "  <thead>\n",
       "    <tr style=\"text-align: right;\">\n",
       "      <th></th>\n",
       "      <th>Country</th>\n",
       "      <th>ISOCode</th>\n",
       "      <th>Tourism expenditure (millions of US dollars)</th>\n",
       "      <th>Tourist/visitor arrivals (thousands)</th>\n",
       "      <th>National currency</th>\n",
       "      <th>ExchangeRateEndOfPeriod</th>\n",
       "    </tr>\n",
       "  </thead>\n",
       "  <tbody>\n",
       "    <tr>\n",
       "      <th>0</th>\n",
       "      <td>Afghanistan</td>\n",
       "      <td>AF</td>\n",
       "      <td>50.0</td>\n",
       "      <td>NaN</td>\n",
       "      <td>Afghani (AFN)</td>\n",
       "      <td>74.9556</td>\n",
       "    </tr>\n",
       "    <tr>\n",
       "      <th>1</th>\n",
       "      <td>Åland Islands</td>\n",
       "      <td>AX</td>\n",
       "      <td>NaN</td>\n",
       "      <td>NaN</td>\n",
       "      <td>Euro (EUR)</td>\n",
       "      <td>0.8734</td>\n",
       "    </tr>\n",
       "    <tr>\n",
       "      <th>2</th>\n",
       "      <td>Albania</td>\n",
       "      <td>AL</td>\n",
       "      <td>2306.0</td>\n",
       "      <td>5340.0</td>\n",
       "      <td>Lek (ALL)</td>\n",
       "      <td>107.82</td>\n",
       "    </tr>\n",
       "    <tr>\n",
       "      <th>3</th>\n",
       "      <td>Algeria</td>\n",
       "      <td>DZ</td>\n",
       "      <td>172.0</td>\n",
       "      <td>2657.0</td>\n",
       "      <td>Algerian Dinar (DZD)</td>\n",
       "      <td>118.2906</td>\n",
       "    </tr>\n",
       "    <tr>\n",
       "      <th>4</th>\n",
       "      <td>American Samoa</td>\n",
       "      <td>AS</td>\n",
       "      <td>22.0</td>\n",
       "      <td>20.2</td>\n",
       "      <td>NaN</td>\n",
       "      <td>NaN</td>\n",
       "    </tr>\n",
       "  </tbody>\n",
       "</table>\n",
       "</div>"
      ],
      "text/plain": [
       "          Country ISOCode  Tourism expenditure (millions of US dollars)  \\\n",
       "0     Afghanistan      AF                                          50.0   \n",
       "1   Åland Islands      AX                                           NaN   \n",
       "2         Albania      AL                                        2306.0   \n",
       "3         Algeria      DZ                                         172.0   \n",
       "4  American Samoa      AS                                          22.0   \n",
       "\n",
       "   Tourist/visitor arrivals (thousands)     National currency  \\\n",
       "0                                   NaN         Afghani (AFN)   \n",
       "1                                   NaN            Euro (EUR)   \n",
       "2                                5340.0             Lek (ALL)   \n",
       "3                                2657.0  Algerian Dinar (DZD)   \n",
       "4                                  20.2                   NaN   \n",
       "\n",
       "  ExchangeRateEndOfPeriod  \n",
       "0                 74.9556  \n",
       "1                  0.8734  \n",
       "2                  107.82  \n",
       "3                118.2906  \n",
       "4                     NaN  "
      ]
     },
     "execution_count": 79,
     "metadata": {},
     "output_type": "execute_result"
    }
   ],
   "source": [
    "merged_df = merged_df.merge(exchange_rates_df, on='Country', how='left')\n",
    "#merged_df = merged_df[~merged_df.duplicated()]\n",
    "print(merged_df.shape)\n",
    "merged_df.head()"
   ]
  },
  {
   "cell_type": "code",
   "execution_count": 80,
   "metadata": {
    "collapsed": false,
    "editable": true,
    "inputHidden": false,
    "jupyter": {
     "outputs_hidden": false
    },
    "outputHidden": false
   },
   "outputs": [
    {
     "data": {
      "text/html": [
       "<div>\n",
       "<style scoped>\n",
       "    .dataframe tbody tr th:only-of-type {\n",
       "        vertical-align: middle;\n",
       "    }\n",
       "\n",
       "    .dataframe tbody tr th {\n",
       "        vertical-align: top;\n",
       "    }\n",
       "\n",
       "    .dataframe thead th {\n",
       "        text-align: right;\n",
       "    }\n",
       "</style>\n",
       "<table border=\"1\" class=\"dataframe\">\n",
       "  <thead>\n",
       "    <tr style=\"text-align: right;\">\n",
       "      <th></th>\n",
       "      <th>Country</th>\n",
       "      <th>ISOCode</th>\n",
       "      <th>TourismExpenditureMillions</th>\n",
       "      <th>TouristArrivalsThousands</th>\n",
       "      <th>Currency</th>\n",
       "      <th>ExchangeRateEndOfPeriod</th>\n",
       "    </tr>\n",
       "  </thead>\n",
       "  <tbody>\n",
       "    <tr>\n",
       "      <th>0</th>\n",
       "      <td>Afghanistan</td>\n",
       "      <td>AF</td>\n",
       "      <td>50.0</td>\n",
       "      <td>NaN</td>\n",
       "      <td>Afghani (AFN)</td>\n",
       "      <td>74.9556</td>\n",
       "    </tr>\n",
       "    <tr>\n",
       "      <th>1</th>\n",
       "      <td>Åland Islands</td>\n",
       "      <td>AX</td>\n",
       "      <td>NaN</td>\n",
       "      <td>NaN</td>\n",
       "      <td>Euro (EUR)</td>\n",
       "      <td>0.8734</td>\n",
       "    </tr>\n",
       "    <tr>\n",
       "      <th>2</th>\n",
       "      <td>Albania</td>\n",
       "      <td>AL</td>\n",
       "      <td>2306.0</td>\n",
       "      <td>5340.0</td>\n",
       "      <td>Lek (ALL)</td>\n",
       "      <td>107.82</td>\n",
       "    </tr>\n",
       "    <tr>\n",
       "      <th>3</th>\n",
       "      <td>Algeria</td>\n",
       "      <td>DZ</td>\n",
       "      <td>172.0</td>\n",
       "      <td>2657.0</td>\n",
       "      <td>Algerian Dinar (DZD)</td>\n",
       "      <td>118.2906</td>\n",
       "    </tr>\n",
       "    <tr>\n",
       "      <th>4</th>\n",
       "      <td>American Samoa</td>\n",
       "      <td>AS</td>\n",
       "      <td>22.0</td>\n",
       "      <td>20.2</td>\n",
       "      <td>NaN</td>\n",
       "      <td>NaN</td>\n",
       "    </tr>\n",
       "  </tbody>\n",
       "</table>\n",
       "</div>"
      ],
      "text/plain": [
       "          Country ISOCode  TourismExpenditureMillions  \\\n",
       "0     Afghanistan      AF                        50.0   \n",
       "1   Åland Islands      AX                         NaN   \n",
       "2         Albania      AL                      2306.0   \n",
       "3         Algeria      DZ                       172.0   \n",
       "4  American Samoa      AS                        22.0   \n",
       "\n",
       "   TouristArrivalsThousands              Currency ExchangeRateEndOfPeriod  \n",
       "0                       NaN         Afghani (AFN)                 74.9556  \n",
       "1                       NaN            Euro (EUR)                  0.8734  \n",
       "2                    5340.0             Lek (ALL)                  107.82  \n",
       "3                    2657.0  Algerian Dinar (DZD)                118.2906  \n",
       "4                      20.2                   NaN                     NaN  "
      ]
     },
     "execution_count": 80,
     "metadata": {},
     "output_type": "execute_result"
    }
   ],
   "source": [
    "merged_df = merged_df.rename(columns={'Tourism expenditure (millions of US dollars)': \"TourismExpenditureMillions\",\n",
    "                                     'Tourist/visitor arrivals (thousands)': 'TouristArrivalsThousands',\n",
    "                                     'National currency': 'Currency'})\n",
    "merged_df.head()"
   ]
  },
  {
   "cell_type": "markdown",
   "metadata": {
    "editable": true
   },
   "source": [
    "### Now, it's time to get data from UNDP. NOTE: all the data is from 2018, unless unavailable."
   ]
  },
  {
   "cell_type": "code",
   "execution_count": 81,
   "metadata": {
    "collapsed": false,
    "editable": true,
    "inputHidden": false,
    "jupyter": {
     "outputs_hidden": false
    },
    "outputHidden": false
   },
   "outputs": [],
   "source": [
    "gni_percapita_df = pd.read_csv(os.path.join(path2, 'Gross national income (GNI) per capita (2011 PPP$).csv'))\n",
    "gdp_percapita_df = pd.read_csv(os.path.join(path2, 'Gross domestic product (GDP) per capita (2011 PPP $).csv'))\n",
    "mobile_phone_subscriptions_df = pd.read_csv(os.path.join(path2, 'Mobile phone subscriptions (per 100 people).csv'))\n",
    "net_migration_rate_df = pd.read_csv(os.path.join(path2, 'Net migration rate (per 1,000 people).csv'))\n",
    "population_millions_df = pd.read_csv(os.path.join(path2, 'Population, total (millions).csv'))\n",
    "urban_population_percent_df = pd.read_csv(os.path.join(path2, 'Population, urban (%).csv'))\n",
    "hdi_df = pd.read_csv(os.path.join(path2, 'Human Development Index (HDI).csv'))\n",
    "intenet_users_percent_df = pd.read_csv(os.path.join(path2, 'Internet users, total (% of population).csv'))\n"
   ]
  },
  {
   "cell_type": "markdown",
   "metadata": {
    "editable": true
   },
   "source": [
    "In the data sets from UNDP, NULLS are represented by '..'"
   ]
  },
  {
   "cell_type": "code",
   "execution_count": 82,
   "metadata": {
    "collapsed": false,
    "editable": true,
    "inputHidden": false,
    "jupyter": {
     "outputs_hidden": false
    },
    "outputHidden": false
   },
   "outputs": [
    {
     "name": "stdout",
     "output_type": "stream",
     "text": [
      "(191, 2)\n",
      "No. of countries with NULL GNI:  0\n"
     ]
    },
    {
     "data": {
      "text/html": [
       "<div>\n",
       "<style scoped>\n",
       "    .dataframe tbody tr th:only-of-type {\n",
       "        vertical-align: middle;\n",
       "    }\n",
       "\n",
       "    .dataframe tbody tr th {\n",
       "        vertical-align: top;\n",
       "    }\n",
       "\n",
       "    .dataframe thead th {\n",
       "        text-align: right;\n",
       "    }\n",
       "</style>\n",
       "<table border=\"1\" class=\"dataframe\">\n",
       "  <thead>\n",
       "    <tr style=\"text-align: right;\">\n",
       "      <th></th>\n",
       "      <th>Country</th>\n",
       "      <th>GNIPerCapita</th>\n",
       "    </tr>\n",
       "  </thead>\n",
       "  <tbody>\n",
       "    <tr>\n",
       "      <th>0</th>\n",
       "      <td>Afghanistan</td>\n",
       "      <td>1746</td>\n",
       "    </tr>\n",
       "    <tr>\n",
       "      <th>1</th>\n",
       "      <td>Albania</td>\n",
       "      <td>12300</td>\n",
       "    </tr>\n",
       "    <tr>\n",
       "      <th>2</th>\n",
       "      <td>Algeria</td>\n",
       "      <td>13639</td>\n",
       "    </tr>\n",
       "    <tr>\n",
       "      <th>3</th>\n",
       "      <td>Andorra</td>\n",
       "      <td>48641</td>\n",
       "    </tr>\n",
       "    <tr>\n",
       "      <th>4</th>\n",
       "      <td>Angola</td>\n",
       "      <td>5555</td>\n",
       "    </tr>\n",
       "  </tbody>\n",
       "</table>\n",
       "</div>"
      ],
      "text/plain": [
       "       Country  GNIPerCapita\n",
       "0  Afghanistan          1746\n",
       "1      Albania         12300\n",
       "2      Algeria         13639\n",
       "3      Andorra         48641\n",
       "4       Angola          5555"
      ]
     },
     "execution_count": 82,
     "metadata": {},
     "output_type": "execute_result"
    }
   ],
   "source": [
    "gni_percapita_df = gni_percapita_df[['Country', '2018']]\n",
    "print(gni_percapita_df.shape)\n",
    "gni_percapita_df = gni_percapita_df.rename(columns={'2018': 'GNIPerCapita'})\n",
    "# Check for '..' if it isn't an integer column\n",
    "print(\"No. of countries with NULL GNI: \", gni_percapita_df[gni_percapita_df['GNIPerCapita'].isnull()].size)\n",
    "if gni_percapita_df.GNIPerCapita.dtypes == 'object':\n",
    "    print(\"No. of countries with '..' GNI: \", gni_percapita_df[gni_percapita_df['GNIPerCapita']=='..'].size)\n",
    "    gni_percapita_df.GNIPerCapita = gni_percapita_df.GNIPerCapita.replace('..', np.nan)\n",
    "    gni_percapita_df.GNIPerCapita = pd.to_numeric(gni_percapita_df.GNIPerCapita)   \n",
    "    # Replace .. with NULL\n",
    "    print(\"After replacing .. with NULL, no. of countries with NULL GDP: \", gni_percapita_df[gni_percapita_df['GNIPerCapita'].isnull()].size)\n",
    "\n",
    "gni_percapita_df.head()"
   ]
  },
  {
   "cell_type": "code",
   "execution_count": 83,
   "metadata": {
    "collapsed": false,
    "editable": true,
    "inputHidden": false,
    "jupyter": {
     "outputs_hidden": false
    },
    "outputHidden": false
   },
   "outputs": [
    {
     "name": "stdout",
     "output_type": "stream",
     "text": [
      "(192, 2)\n",
      "No. of countries with NULL GDP:  0\n",
      "No. of countries with '..' GDP:  12\n",
      "After replacing .. with NULL, no. of countries with NULL GDP:  12\n"
     ]
    },
    {
     "data": {
      "text/html": [
       "<div>\n",
       "<style scoped>\n",
       "    .dataframe tbody tr th:only-of-type {\n",
       "        vertical-align: middle;\n",
       "    }\n",
       "\n",
       "    .dataframe tbody tr th {\n",
       "        vertical-align: top;\n",
       "    }\n",
       "\n",
       "    .dataframe thead th {\n",
       "        text-align: right;\n",
       "    }\n",
       "</style>\n",
       "<table border=\"1\" class=\"dataframe\">\n",
       "  <thead>\n",
       "    <tr style=\"text-align: right;\">\n",
       "      <th></th>\n",
       "      <th>Country</th>\n",
       "      <th>GDPPerCapita</th>\n",
       "    </tr>\n",
       "  </thead>\n",
       "  <tbody>\n",
       "    <tr>\n",
       "      <th>0</th>\n",
       "      <td>Afghanistan</td>\n",
       "      <td>1735.0</td>\n",
       "    </tr>\n",
       "    <tr>\n",
       "      <th>1</th>\n",
       "      <td>Albania</td>\n",
       "      <td>12306.0</td>\n",
       "    </tr>\n",
       "    <tr>\n",
       "      <th>2</th>\n",
       "      <td>Algeria</td>\n",
       "      <td>13886.0</td>\n",
       "    </tr>\n",
       "    <tr>\n",
       "      <th>3</th>\n",
       "      <td>Angola</td>\n",
       "      <td>5725.0</td>\n",
       "    </tr>\n",
       "    <tr>\n",
       "      <th>4</th>\n",
       "      <td>Antigua and Barbuda</td>\n",
       "      <td>23768.0</td>\n",
       "    </tr>\n",
       "  </tbody>\n",
       "</table>\n",
       "</div>"
      ],
      "text/plain": [
       "               Country  GDPPerCapita\n",
       "0          Afghanistan        1735.0\n",
       "1              Albania       12306.0\n",
       "2              Algeria       13886.0\n",
       "3               Angola        5725.0\n",
       "4  Antigua and Barbuda       23768.0"
      ]
     },
     "execution_count": 83,
     "metadata": {},
     "output_type": "execute_result"
    }
   ],
   "source": [
    "gdp_percapita_df = gdp_percapita_df[['Country', '2018']]\n",
    "print(gdp_percapita_df.shape)\n",
    "gdp_percapita_df = gdp_percapita_df.rename(columns={'2018': 'GDPPerCapita'})\n",
    "print(\"No. of countries with NULL GDP: \", gdp_percapita_df[gdp_percapita_df['GDPPerCapita'].isnull()].size)\n",
    "if gdp_percapita_df.GDPPerCapita.dtypes == 'object':\n",
    "    print(\"No. of countries with '..' GDP: \", gdp_percapita_df[gdp_percapita_df['GDPPerCapita']=='..'].size)\n",
    "    gdp_percapita_df.GDPPerCapita = gdp_percapita_df.GDPPerCapita.replace('..', np.nan)\n",
    "    gdp_percapita_df.GDPPerCapita = pd.to_numeric(gdp_percapita_df.GDPPerCapita)    \n",
    "    print(\"After replacing .. with NULL, no. of countries with NULL GDP: \", gdp_percapita_df[gdp_percapita_df['GDPPerCapita'].isnull()].size)\n",
    "# Replace .. with NULL\n",
    "gdp_percapita_df.head()"
   ]
  },
  {
   "cell_type": "code",
   "execution_count": 27,
   "metadata": {
    "collapsed": false,
    "editable": true,
    "inputHidden": false,
    "jupyter": {
     "outputs_hidden": false
    },
    "outputHidden": false
   },
   "outputs": [
    {
     "data": {
      "text/plain": [
       "False"
      ]
     },
     "execution_count": 27,
     "metadata": {},
     "output_type": "execute_result"
    }
   ],
   "source": [
    "# https://stackoverflow.com/questions/54426845/how-to-check-if-a-pandas-dataframe-contains-only-numeric-column-wise/54427157\n",
    "pd.to_numeric(gdp_percapita_df['GDPPerCapita'], errors='coerce').notnull().all()"
   ]
  },
  {
   "cell_type": "code",
   "execution_count": 84,
   "metadata": {
    "collapsed": false,
    "editable": true,
    "inputHidden": false,
    "jupyter": {
     "outputs_hidden": false
    },
    "outputHidden": false
   },
   "outputs": [
    {
     "name": "stderr",
     "output_type": "stream",
     "text": [
      "D:\\Anaconda3\\lib\\site-packages\\pandas\\core\\ops.py:1167: FutureWarning: elementwise comparison failed; returning scalar instead, but in the future will perform elementwise comparison\n",
      "  result = method(y)\n",
      "ERROR:root:Internal Python error in the inspect module.\n",
      "Below is the traceback from this internal error.\n",
      "\n"
     ]
    },
    {
     "name": "stdout",
     "output_type": "stream",
     "text": [
      "Traceback (most recent call last):\n",
      "  File \"D:\\Anaconda3\\lib\\site-packages\\IPython\\core\\interactiveshell.py\", line 2963, in run_code\n",
      "    exec(code_obj, self.user_global_ns, self.user_ns)\n",
      "  File \"<ipython-input-84-dddd510b45bf>\", line 1, in <module>\n",
      "    gdp_percapita_df[gdp_percapita_df['GDPPerCapita']=='..']\n",
      "  File \"D:\\Anaconda3\\lib\\site-packages\\pandas\\core\\ops.py\", line 1283, in wrapper\n",
      "    res = na_op(values, other)\n",
      "  File \"D:\\Anaconda3\\lib\\site-packages\\pandas\\core\\ops.py\", line 1169, in na_op\n",
      "    raise TypeError(\"invalid type comparison\")\n",
      "TypeError: invalid type comparison\n",
      "\n",
      "During handling of the above exception, another exception occurred:\n",
      "\n",
      "Traceback (most recent call last):\n",
      "  File \"D:\\Anaconda3\\lib\\site-packages\\IPython\\core\\interactiveshell.py\", line 1863, in showtraceback\n",
      "    stb = value._render_traceback_()\n",
      "AttributeError: 'TypeError' object has no attribute '_render_traceback_'\n",
      "\n",
      "During handling of the above exception, another exception occurred:\n",
      "\n",
      "Traceback (most recent call last):\n",
      "  File \"D:\\Anaconda3\\lib\\site-packages\\IPython\\core\\ultratb.py\", line 1095, in get_records\n",
      "    return _fixed_getinnerframes(etb, number_of_lines_of_context, tb_offset)\n",
      "  File \"D:\\Anaconda3\\lib\\site-packages\\IPython\\core\\ultratb.py\", line 311, in wrapped\n",
      "    return f(*args, **kwargs)\n",
      "  File \"D:\\Anaconda3\\lib\\site-packages\\IPython\\core\\ultratb.py\", line 345, in _fixed_getinnerframes\n",
      "    records = fix_frame_records_filenames(inspect.getinnerframes(etb, context))\n",
      "  File \"D:\\Anaconda3\\lib\\inspect.py\", line 1483, in getinnerframes\n",
      "    frameinfo = (tb.tb_frame,) + getframeinfo(tb, context)\n",
      "  File \"D:\\Anaconda3\\lib\\inspect.py\", line 1441, in getframeinfo\n",
      "    filename = getsourcefile(frame) or getfile(frame)\n",
      "  File \"D:\\Anaconda3\\lib\\inspect.py\", line 696, in getsourcefile\n",
      "    if getattr(getmodule(object, filename), '__loader__', None) is not None:\n",
      "  File \"D:\\Anaconda3\\lib\\inspect.py\", line 733, in getmodule\n",
      "    if ismodule(module) and hasattr(module, '__file__'):\n",
      "  File \"D:\\Anaconda3\\lib\\site-packages\\py\\_vendored_packages\\apipkg.py\", line 195, in __getattribute__\n",
      "    return getattr(getmod(), name)\n",
      "  File \"D:\\Anaconda3\\lib\\site-packages\\py\\_vendored_packages\\apipkg.py\", line 179, in getmod\n",
      "    x = importobj(modpath, None)\n",
      "  File \"D:\\Anaconda3\\lib\\site-packages\\py\\_vendored_packages\\apipkg.py\", line 69, in importobj\n",
      "    module = __import__(modpath, None, None, ['__doc__'])\n",
      "  File \"D:\\Anaconda3\\lib\\site-packages\\pytest.py\", line 10, in <module>\n",
      "    from _pytest.fixtures import fixture, yield_fixture\n",
      "  File \"D:\\Anaconda3\\lib\\site-packages\\_pytest\\fixtures.py\", line 15, in <module>\n",
      "    from _pytest import nodes\n",
      "  File \"D:\\Anaconda3\\lib\\site-packages\\_pytest\\nodes.py\", line 11, in <module>\n",
      "    from _pytest.mark.structures import NodeKeywords, MarkInfo\n",
      "  File \"D:\\Anaconda3\\lib\\site-packages\\_pytest\\mark\\__init__.py\", line 4, in <module>\n",
      "    from .structures import (\n",
      "  File \"D:\\Anaconda3\\lib\\site-packages\\_pytest\\mark\\structures.py\", line 281, in <module>\n",
      "    class MarkInfo(object):\n",
      "  File \"D:\\Anaconda3\\lib\\site-packages\\_pytest\\mark\\structures.py\", line 284, in MarkInfo\n",
      "    _marks = attr.ib(convert=list)\n",
      "TypeError: attrib() got an unexpected keyword argument 'convert'\n"
     ]
    },
    {
     "ename": "TypeError",
     "evalue": "invalid type comparison",
     "output_type": "error",
     "traceback": [
      "\u001b[1;31m---------------------------------------------------------------------------\u001b[0m"
     ]
    }
   ],
   "source": [
    "gdp_percapita_df[gdp_percapita_df['GDPPerCapita']=='..']"
   ]
  },
  {
   "cell_type": "code",
   "execution_count": 85,
   "metadata": {
    "collapsed": false,
    "editable": true,
    "inputHidden": false,
    "jupyter": {
     "outputs_hidden": false
    },
    "outputHidden": false
   },
   "outputs": [
    {
     "name": "stdout",
     "output_type": "stream",
     "text": [
      "(195, 2)\n",
      "No. of countries with NULL internet users percentage:  0\n",
      "No. of countries with '..' internet users percentage:  248\n",
      "After replacing .. with NULL, no. of countries with NULL internet users percentage:  248\n"
     ]
    },
    {
     "data": {
      "text/html": [
       "<div>\n",
       "<style scoped>\n",
       "    .dataframe tbody tr th:only-of-type {\n",
       "        vertical-align: middle;\n",
       "    }\n",
       "\n",
       "    .dataframe tbody tr th {\n",
       "        vertical-align: top;\n",
       "    }\n",
       "\n",
       "    .dataframe thead th {\n",
       "        text-align: right;\n",
       "    }\n",
       "</style>\n",
       "<table border=\"1\" class=\"dataframe\">\n",
       "  <thead>\n",
       "    <tr style=\"text-align: right;\">\n",
       "      <th></th>\n",
       "      <th>Country</th>\n",
       "      <th>InternetUsersPercent</th>\n",
       "    </tr>\n",
       "  </thead>\n",
       "  <tbody>\n",
       "    <tr>\n",
       "      <th>0</th>\n",
       "      <td>Afghanistan</td>\n",
       "      <td>NaN</td>\n",
       "    </tr>\n",
       "    <tr>\n",
       "      <th>1</th>\n",
       "      <td>Albania</td>\n",
       "      <td>NaN</td>\n",
       "    </tr>\n",
       "    <tr>\n",
       "      <th>2</th>\n",
       "      <td>Algeria</td>\n",
       "      <td>59.6</td>\n",
       "    </tr>\n",
       "    <tr>\n",
       "      <th>3</th>\n",
       "      <td>Andorra</td>\n",
       "      <td>NaN</td>\n",
       "    </tr>\n",
       "    <tr>\n",
       "      <th>4</th>\n",
       "      <td>Angola</td>\n",
       "      <td>NaN</td>\n",
       "    </tr>\n",
       "  </tbody>\n",
       "</table>\n",
       "</div>"
      ],
      "text/plain": [
       "       Country  InternetUsersPercent\n",
       "0  Afghanistan                   NaN\n",
       "1      Albania                   NaN\n",
       "2      Algeria                  59.6\n",
       "3      Andorra                   NaN\n",
       "4       Angola                   NaN"
      ]
     },
     "execution_count": 85,
     "metadata": {},
     "output_type": "execute_result"
    }
   ],
   "source": [
    "intenet_users_percent_df = intenet_users_percent_df[['Country', '2018']]\n",
    "print(intenet_users_percent_df.shape)\n",
    "intenet_users_percent_df = intenet_users_percent_df.rename(columns={'2018': 'InternetUsersPercent'})\n",
    "print(\"No. of countries with NULL internet users percentage: \", intenet_users_percent_df[intenet_users_percent_df['InternetUsersPercent'].isnull()].size)\n",
    "#if mobile_phone_subscriptions_df.MobilePhoneSubscriptions.dtypes != 'int64':\n",
    "if intenet_users_percent_df.InternetUsersPercent.dtypes == 'object':\n",
    "    print(\"No. of countries with '..' internet users percentage: \", intenet_users_percent_df[intenet_users_percent_df['InternetUsersPercent']=='..'].size)\n",
    "    intenet_users_percent_df.InternetUsersPercent = intenet_users_percent_df.InternetUsersPercent.replace('..', np.nan)\n",
    "    # Convert to float64\n",
    "    intenet_users_percent_df.InternetUsersPercent = pd.to_numeric(intenet_users_percent_df.InternetUsersPercent)    \n",
    "    print(\"After replacing .. with NULL, no. of countries with NULL internet users percentage: \", intenet_users_percent_df[intenet_users_percent_df['InternetUsersPercent'].isnull()].size)\n",
    "# Replace .. with NULL\n",
    "intenet_users_percent_df.head()"
   ]
  },
  {
   "cell_type": "code",
   "execution_count": 86,
   "metadata": {
    "collapsed": false,
    "editable": true,
    "inputHidden": false,
    "jupyter": {
     "outputs_hidden": false
    },
    "outputHidden": false
   },
   "outputs": [
    {
     "name": "stdout",
     "output_type": "stream",
     "text": [
      "(195, 2)\n",
      "No. of countries with NULL mobile subscriptions:  0\n",
      "No. of countries with '..' Mobile subscriptions:  70\n",
      "After replacing .. with NULL, no. of countries with NULL Mobile subscriptions:  70\n"
     ]
    },
    {
     "data": {
      "text/html": [
       "<div>\n",
       "<style scoped>\n",
       "    .dataframe tbody tr th:only-of-type {\n",
       "        vertical-align: middle;\n",
       "    }\n",
       "\n",
       "    .dataframe tbody tr th {\n",
       "        vertical-align: top;\n",
       "    }\n",
       "\n",
       "    .dataframe thead th {\n",
       "        text-align: right;\n",
       "    }\n",
       "</style>\n",
       "<table border=\"1\" class=\"dataframe\">\n",
       "  <thead>\n",
       "    <tr style=\"text-align: right;\">\n",
       "      <th></th>\n",
       "      <th>Country</th>\n",
       "      <th>MobilePhoneSubscriptions</th>\n",
       "    </tr>\n",
       "  </thead>\n",
       "  <tbody>\n",
       "    <tr>\n",
       "      <th>0</th>\n",
       "      <td>Afghanistan</td>\n",
       "      <td>59.1</td>\n",
       "    </tr>\n",
       "    <tr>\n",
       "      <th>1</th>\n",
       "      <td>Albania</td>\n",
       "      <td>94.2</td>\n",
       "    </tr>\n",
       "    <tr>\n",
       "      <th>2</th>\n",
       "      <td>Algeria</td>\n",
       "      <td>121.9</td>\n",
       "    </tr>\n",
       "    <tr>\n",
       "      <th>3</th>\n",
       "      <td>Andorra</td>\n",
       "      <td>107.3</td>\n",
       "    </tr>\n",
       "    <tr>\n",
       "      <th>4</th>\n",
       "      <td>Angola</td>\n",
       "      <td>43.1</td>\n",
       "    </tr>\n",
       "  </tbody>\n",
       "</table>\n",
       "</div>"
      ],
      "text/plain": [
       "       Country  MobilePhoneSubscriptions\n",
       "0  Afghanistan                      59.1\n",
       "1      Albania                      94.2\n",
       "2      Algeria                     121.9\n",
       "3      Andorra                     107.3\n",
       "4       Angola                      43.1"
      ]
     },
     "execution_count": 86,
     "metadata": {},
     "output_type": "execute_result"
    }
   ],
   "source": [
    "mobile_phone_subscriptions_df = mobile_phone_subscriptions_df[['Country', '2018']]\n",
    "print(mobile_phone_subscriptions_df.shape)\n",
    "mobile_phone_subscriptions_df = mobile_phone_subscriptions_df.rename(columns={'2018': 'MobilePhoneSubscriptions'})\n",
    "print(\"No. of countries with NULL mobile subscriptions: \", mobile_phone_subscriptions_df[mobile_phone_subscriptions_df['MobilePhoneSubscriptions'].isnull()].size)\n",
    "#if mobile_phone_subscriptions_df.MobilePhoneSubscriptions.dtypes != 'int64':\n",
    "if mobile_phone_subscriptions_df.MobilePhoneSubscriptions.dtypes == 'object':\n",
    "    print(\"No. of countries with '..' Mobile subscriptions: \", mobile_phone_subscriptions_df[mobile_phone_subscriptions_df['MobilePhoneSubscriptions']=='..'].size)\n",
    "    mobile_phone_subscriptions_df.MobilePhoneSubscriptions = mobile_phone_subscriptions_df.MobilePhoneSubscriptions.replace('..', np.nan)\n",
    "    # Convert to float64\n",
    "    mobile_phone_subscriptions_df.MobilePhoneSubscriptions = pd.to_numeric(mobile_phone_subscriptions_df.MobilePhoneSubscriptions)    \n",
    "    print(\"After replacing .. with NULL, no. of countries with NULL Mobile subscriptions: \", mobile_phone_subscriptions_df[mobile_phone_subscriptions_df['MobilePhoneSubscriptions'].isnull()].size)\n",
    "# Replace .. with NULL\n",
    "mobile_phone_subscriptions_df.head()"
   ]
  },
  {
   "cell_type": "code",
   "execution_count": 87,
   "metadata": {
    "collapsed": false,
    "editable": true,
    "inputHidden": false,
    "jupyter": {
     "outputs_hidden": false
    },
    "outputHidden": false
   },
   "outputs": [
    {
     "name": "stdout",
     "output_type": "stream",
     "text": [
      "(191, 2)\n",
      "No. of countries with NULL net migration rate:  0\n",
      "No. of countries with '..' net migration rate:  12\n",
      "After replacing .. with NULL, no. of countries with NULL Migration Rate:  12\n"
     ]
    },
    {
     "data": {
      "text/html": [
       "<div>\n",
       "<style scoped>\n",
       "    .dataframe tbody tr th:only-of-type {\n",
       "        vertical-align: middle;\n",
       "    }\n",
       "\n",
       "    .dataframe tbody tr th {\n",
       "        vertical-align: top;\n",
       "    }\n",
       "\n",
       "    .dataframe thead th {\n",
       "        text-align: right;\n",
       "    }\n",
       "</style>\n",
       "<table border=\"1\" class=\"dataframe\">\n",
       "  <thead>\n",
       "    <tr style=\"text-align: right;\">\n",
       "      <th></th>\n",
       "      <th>Country</th>\n",
       "      <th>NetMigrationRate</th>\n",
       "    </tr>\n",
       "  </thead>\n",
       "  <tbody>\n",
       "    <tr>\n",
       "      <th>0</th>\n",
       "      <td>Afghanistan</td>\n",
       "      <td>-1.7</td>\n",
       "    </tr>\n",
       "    <tr>\n",
       "      <th>1</th>\n",
       "      <td>Albania</td>\n",
       "      <td>-4.9</td>\n",
       "    </tr>\n",
       "    <tr>\n",
       "      <th>2</th>\n",
       "      <td>Algeria</td>\n",
       "      <td>-0.2</td>\n",
       "    </tr>\n",
       "    <tr>\n",
       "      <th>3</th>\n",
       "      <td>Angola</td>\n",
       "      <td>0.2</td>\n",
       "    </tr>\n",
       "    <tr>\n",
       "      <th>4</th>\n",
       "      <td>Antigua and Barbuda</td>\n",
       "      <td>0.0</td>\n",
       "    </tr>\n",
       "  </tbody>\n",
       "</table>\n",
       "</div>"
      ],
      "text/plain": [
       "               Country  NetMigrationRate\n",
       "0          Afghanistan              -1.7\n",
       "1              Albania              -4.9\n",
       "2              Algeria              -0.2\n",
       "3               Angola               0.2\n",
       "4  Antigua and Barbuda               0.0"
      ]
     },
     "execution_count": 87,
     "metadata": {},
     "output_type": "execute_result"
    }
   ],
   "source": [
    "net_migration_rate_df = net_migration_rate_df[['Country', '2020']]\n",
    "print(net_migration_rate_df.shape)\n",
    "net_migration_rate_df = net_migration_rate_df.rename(columns={'2020': 'NetMigrationRate'})\n",
    "print(\"No. of countries with NULL net migration rate: \", net_migration_rate_df[net_migration_rate_df['NetMigrationRate'].isnull()].size)\n",
    "if net_migration_rate_df.NetMigrationRate.dtypes == 'object':\n",
    "    print(\"No. of countries with '..' net migration rate: \", net_migration_rate_df[net_migration_rate_df['NetMigrationRate']=='..'].size)\n",
    "    net_migration_rate_df.NetMigrationRate = net_migration_rate_df.NetMigrationRate.replace('..', np.nan)\n",
    "    # Convert to float64\n",
    "    net_migration_rate_df.NetMigrationRate = pd.to_numeric(net_migration_rate_df.NetMigrationRate)    \n",
    "    print(\"After replacing .. with NULL, no. of countries with NULL Migration Rate: \", net_migration_rate_df[net_migration_rate_df['NetMigrationRate'].isnull()].size)\n",
    "# Replace .. with NULL\n",
    "net_migration_rate_df.head()"
   ]
  },
  {
   "cell_type": "code",
   "execution_count": 88,
   "metadata": {
    "collapsed": false,
    "editable": true,
    "inputHidden": false,
    "jupyter": {
     "outputs_hidden": false
    },
    "outputHidden": false
   },
   "outputs": [
    {
     "name": "stdout",
     "output_type": "stream",
     "text": [
      "(195, 2)\n",
      "No. of countries with NULL population:  0\n"
     ]
    },
    {
     "data": {
      "text/html": [
       "<div>\n",
       "<style scoped>\n",
       "    .dataframe tbody tr th:only-of-type {\n",
       "        vertical-align: middle;\n",
       "    }\n",
       "\n",
       "    .dataframe tbody tr th {\n",
       "        vertical-align: top;\n",
       "    }\n",
       "\n",
       "    .dataframe thead th {\n",
       "        text-align: right;\n",
       "    }\n",
       "</style>\n",
       "<table border=\"1\" class=\"dataframe\">\n",
       "  <thead>\n",
       "    <tr style=\"text-align: right;\">\n",
       "      <th></th>\n",
       "      <th>Country</th>\n",
       "      <th>Population</th>\n",
       "    </tr>\n",
       "  </thead>\n",
       "  <tbody>\n",
       "    <tr>\n",
       "      <th>0</th>\n",
       "      <td>Afghanistan</td>\n",
       "      <td>37.2</td>\n",
       "    </tr>\n",
       "    <tr>\n",
       "      <th>1</th>\n",
       "      <td>Albania</td>\n",
       "      <td>2.9</td>\n",
       "    </tr>\n",
       "    <tr>\n",
       "      <th>2</th>\n",
       "      <td>Algeria</td>\n",
       "      <td>42.2</td>\n",
       "    </tr>\n",
       "    <tr>\n",
       "      <th>3</th>\n",
       "      <td>Andorra</td>\n",
       "      <td>0.1</td>\n",
       "    </tr>\n",
       "    <tr>\n",
       "      <th>4</th>\n",
       "      <td>Angola</td>\n",
       "      <td>30.8</td>\n",
       "    </tr>\n",
       "  </tbody>\n",
       "</table>\n",
       "</div>"
      ],
      "text/plain": [
       "       Country  Population\n",
       "0  Afghanistan        37.2\n",
       "1      Albania         2.9\n",
       "2      Algeria        42.2\n",
       "3      Andorra         0.1\n",
       "4       Angola        30.8"
      ]
     },
     "execution_count": 88,
     "metadata": {},
     "output_type": "execute_result"
    }
   ],
   "source": [
    "population_millions_df = population_millions_df[['Country', '2018']]\n",
    "print(population_millions_df.shape)\n",
    "population_millions_df = population_millions_df.rename(columns={'2018': 'Population'})\n",
    "print(\"No. of countries with NULL population: \", population_millions_df[population_millions_df['Population'].isnull()].size)\n",
    "#if mobile_phone_subscriptions_df.MobilePhoneSubscriptions.dtypes != 'int64':\n",
    "if population_millions_df.Population.dtypes == 'object':\n",
    "    print(\"No. of countries with '..' population: \", population_millions_df[population_millions_df['Population']=='..'].size)\n",
    "    population_millions_df.Population = population_millions_df.Population.replace('..', np.nan)\n",
    "    # Convert to float64\n",
    "    population_millions_df.Population = pd.to_numeric(population_millions_df.Population)    \n",
    "    print(\"After replacing .. with NULL, no. of countries with NULL population: \", population_millions_df[population_millions_df['Population'].isnull()].size)\n",
    "# Replace .. with NULL\n",
    "population_millions_df.head()"
   ]
  },
  {
   "cell_type": "code",
   "execution_count": 89,
   "metadata": {
    "collapsed": false,
    "editable": true,
    "inputHidden": false,
    "jupyter": {
     "outputs_hidden": false
    },
    "outputHidden": false
   },
   "outputs": [
    {
     "name": "stdout",
     "output_type": "stream",
     "text": [
      "(195, 2)\n",
      "No. of countries with NULL Urban Population Percentage:  0\n"
     ]
    },
    {
     "data": {
      "text/html": [
       "<div>\n",
       "<style scoped>\n",
       "    .dataframe tbody tr th:only-of-type {\n",
       "        vertical-align: middle;\n",
       "    }\n",
       "\n",
       "    .dataframe tbody tr th {\n",
       "        vertical-align: top;\n",
       "    }\n",
       "\n",
       "    .dataframe thead th {\n",
       "        text-align: right;\n",
       "    }\n",
       "</style>\n",
       "<table border=\"1\" class=\"dataframe\">\n",
       "  <thead>\n",
       "    <tr style=\"text-align: right;\">\n",
       "      <th></th>\n",
       "      <th>Country</th>\n",
       "      <th>UrbanPopulationPercent</th>\n",
       "    </tr>\n",
       "  </thead>\n",
       "  <tbody>\n",
       "    <tr>\n",
       "      <th>0</th>\n",
       "      <td>Afghanistan</td>\n",
       "      <td>25.5</td>\n",
       "    </tr>\n",
       "    <tr>\n",
       "      <th>1</th>\n",
       "      <td>Albania</td>\n",
       "      <td>60.3</td>\n",
       "    </tr>\n",
       "    <tr>\n",
       "      <th>2</th>\n",
       "      <td>Algeria</td>\n",
       "      <td>72.6</td>\n",
       "    </tr>\n",
       "    <tr>\n",
       "      <th>3</th>\n",
       "      <td>Andorra</td>\n",
       "      <td>88.1</td>\n",
       "    </tr>\n",
       "    <tr>\n",
       "      <th>4</th>\n",
       "      <td>Angola</td>\n",
       "      <td>65.5</td>\n",
       "    </tr>\n",
       "  </tbody>\n",
       "</table>\n",
       "</div>"
      ],
      "text/plain": [
       "       Country  UrbanPopulationPercent\n",
       "0  Afghanistan                    25.5\n",
       "1      Albania                    60.3\n",
       "2      Algeria                    72.6\n",
       "3      Andorra                    88.1\n",
       "4       Angola                    65.5"
      ]
     },
     "execution_count": 89,
     "metadata": {},
     "output_type": "execute_result"
    }
   ],
   "source": [
    "urban_population_percent_df = urban_population_percent_df[['Country', '2018']]\n",
    "print(urban_population_percent_df.shape)\n",
    "urban_population_percent_df = urban_population_percent_df.rename(columns={'2018': 'UrbanPopulationPercent'})\n",
    "print(\"No. of countries with NULL Urban Population Percentage: \", urban_population_percent_df[urban_population_percent_df['UrbanPopulationPercent'].isnull()].size)\n",
    "#if mobile_phone_subscriptions_df.MobilePhoneSubscriptions.dtypes != 'int64':\n",
    "if urban_population_percent_df.UrbanPopulationPercent.dtypes == 'object':\n",
    "    print(\"No. of countries with '..' Urban Population Percentage: \", urban_population_percent_df[urban_population_percent_df['UrbanPopulationPercent']=='..'].size)\n",
    "    urban_population_percent_df.UrbanPopulationPercent = urban_population_percent_df.UrbanPopulationPercent.replace('..', np.nan)\n",
    "    # Convert to float64\n",
    "    urban_population_percent_df.UrbanPopulationPercent = pd.to_numeric(urban_population_percent_df.UrbanPopulationPercent)    \n",
    "    print(\"After replacing .. with NULL, no. of countries with NULL Urban Population Percentage: \", urban_population_percent_df[urban_population_percent_df['UrbanPopulationPercent'].isnull()].size)\n",
    "# Replace .. with NULL\n",
    "urban_population_percent_df.head()"
   ]
  },
  {
   "cell_type": "code",
   "execution_count": 90,
   "metadata": {
    "collapsed": false,
    "editable": true,
    "inputHidden": false,
    "jupyter": {
     "outputs_hidden": false
    },
    "outputHidden": false
   },
   "outputs": [
    {
     "name": "stdout",
     "output_type": "stream",
     "text": [
      "(189, 3)\n",
      "No. of countries with NULL HDI:  0\n"
     ]
    },
    {
     "data": {
      "text/html": [
       "<div>\n",
       "<style scoped>\n",
       "    .dataframe tbody tr th:only-of-type {\n",
       "        vertical-align: middle;\n",
       "    }\n",
       "\n",
       "    .dataframe tbody tr th {\n",
       "        vertical-align: top;\n",
       "    }\n",
       "\n",
       "    .dataframe thead th {\n",
       "        text-align: right;\n",
       "    }\n",
       "</style>\n",
       "<table border=\"1\" class=\"dataframe\">\n",
       "  <thead>\n",
       "    <tr style=\"text-align: right;\">\n",
       "      <th></th>\n",
       "      <th>Country</th>\n",
       "      <th>HDIRank</th>\n",
       "      <th>HDI</th>\n",
       "    </tr>\n",
       "  </thead>\n",
       "  <tbody>\n",
       "    <tr>\n",
       "      <th>0</th>\n",
       "      <td>Afghanistan</td>\n",
       "      <td>170</td>\n",
       "      <td>0.496</td>\n",
       "    </tr>\n",
       "    <tr>\n",
       "      <th>1</th>\n",
       "      <td>Albania</td>\n",
       "      <td>69</td>\n",
       "      <td>0.791</td>\n",
       "    </tr>\n",
       "    <tr>\n",
       "      <th>2</th>\n",
       "      <td>Algeria</td>\n",
       "      <td>82</td>\n",
       "      <td>0.759</td>\n",
       "    </tr>\n",
       "    <tr>\n",
       "      <th>3</th>\n",
       "      <td>Andorra</td>\n",
       "      <td>36</td>\n",
       "      <td>0.857</td>\n",
       "    </tr>\n",
       "    <tr>\n",
       "      <th>4</th>\n",
       "      <td>Angola</td>\n",
       "      <td>149</td>\n",
       "      <td>0.574</td>\n",
       "    </tr>\n",
       "  </tbody>\n",
       "</table>\n",
       "</div>"
      ],
      "text/plain": [
       "       Country  HDIRank    HDI\n",
       "0  Afghanistan      170  0.496\n",
       "1      Albania       69  0.791\n",
       "2      Algeria       82  0.759\n",
       "3      Andorra       36  0.857\n",
       "4       Angola      149  0.574"
      ]
     },
     "execution_count": 90,
     "metadata": {},
     "output_type": "execute_result"
    }
   ],
   "source": [
    "hdi_df = hdi_df[['Country', 'HDI Rank (2018)','2018']]\n",
    "print(hdi_df.shape)\n",
    "hdi_df = hdi_df.rename(columns={'2018': 'HDI', 'HDI Rank (2018)': 'HDIRank'})\n",
    "print(\"No. of countries with NULL HDI: \", hdi_df[hdi_df['HDI'].isnull()].size)\n",
    "#if mobile_phone_subscriptions_df.MobilePhoneSubscriptions.dtypes != 'int64':\n",
    "if hdi_df.HDI.dtypes == 'object':\n",
    "    print(\"No. of countries with '..' HDI: \", hdi_df[hdi_df['HDI']=='..'].size)\n",
    "    hdi_df.HDI = hdi_df.HDI.replace('..', np.nan)\n",
    "    # Convert to float64\n",
    "    hdi_df.HDI = pd.to_numeric(hdi_df.HDI)    \n",
    "    print(\"After replacing .. with NULL, no. of countries with NULL HDI: \", hdi_df[hdi_df['HDI'].isnull()].size)\n",
    "# Replace .. with NULL\n",
    "hdi_df.head()"
   ]
  },
  {
   "cell_type": "code",
   "execution_count": 35,
   "metadata": {
    "collapsed": false,
    "editable": true,
    "inputHidden": false,
    "jupyter": {
     "outputs_hidden": false
    },
    "outputHidden": false
   },
   "outputs": [
    {
     "data": {
      "text/plain": [
       "Country          object\n",
       "GDPPerCapita    float64\n",
       "dtype: object"
      ]
     },
     "execution_count": 35,
     "metadata": {},
     "output_type": "execute_result"
    }
   ],
   "source": [
    "gdp_percapita_df.dtypes"
   ]
  },
  {
   "cell_type": "markdown",
   "metadata": {
    "editable": true
   },
   "source": [
    "Join UNDP data to merged DF"
   ]
  },
  {
   "cell_type": "code",
   "execution_count": 91,
   "metadata": {
    "collapsed": false,
    "editable": true,
    "inputHidden": false,
    "jupyter": {
     "outputs_hidden": false
    },
    "outputHidden": false
   },
   "outputs": [],
   "source": [
    "merged_df = merged_df.merge(gni_percapita_df, on='Country', how='left')\n",
    "merged_df = merged_df.merge(gdp_percapita_df, on='Country', how='left')\n",
    "merged_df = merged_df.merge(mobile_phone_subscriptions_df, on='Country', how='left')\n",
    "merged_df = merged_df.merge(net_migration_rate_df, on='Country', how='left')\n",
    "merged_df = merged_df.merge(population_millions_df, on='Country', how='left')\n",
    "merged_df = merged_df.merge(urban_population_percent_df, on='Country', how='left')\n",
    "merged_df = merged_df.merge(hdi_df, on='Country', how='left')\n",
    "merged_df = merged_df.merge(intenet_users_percent_df, on='Country', how='left')"
   ]
  },
  {
   "cell_type": "code",
   "execution_count": 92,
   "metadata": {
    "collapsed": false,
    "editable": true,
    "inputHidden": false,
    "jupyter": {
     "outputs_hidden": false
    },
    "outputHidden": false
   },
   "outputs": [
    {
     "data": {
      "text/html": [
       "<div>\n",
       "<style scoped>\n",
       "    .dataframe tbody tr th:only-of-type {\n",
       "        vertical-align: middle;\n",
       "    }\n",
       "\n",
       "    .dataframe tbody tr th {\n",
       "        vertical-align: top;\n",
       "    }\n",
       "\n",
       "    .dataframe thead th {\n",
       "        text-align: right;\n",
       "    }\n",
       "</style>\n",
       "<table border=\"1\" class=\"dataframe\">\n",
       "  <thead>\n",
       "    <tr style=\"text-align: right;\">\n",
       "      <th></th>\n",
       "      <th>Country</th>\n",
       "      <th>ISOCode</th>\n",
       "      <th>TourismExpenditureMillions</th>\n",
       "      <th>TouristArrivalsThousands</th>\n",
       "      <th>Currency</th>\n",
       "      <th>ExchangeRateEndOfPeriod</th>\n",
       "      <th>GNIPerCapita</th>\n",
       "      <th>GDPPerCapita</th>\n",
       "      <th>MobilePhoneSubscriptions</th>\n",
       "      <th>NetMigrationRate</th>\n",
       "      <th>Population</th>\n",
       "      <th>UrbanPopulationPercent</th>\n",
       "      <th>HDIRank</th>\n",
       "      <th>HDI</th>\n",
       "      <th>InternetUsersPercent</th>\n",
       "    </tr>\n",
       "  </thead>\n",
       "  <tbody>\n",
       "    <tr>\n",
       "      <th>0</th>\n",
       "      <td>Afghanistan</td>\n",
       "      <td>AF</td>\n",
       "      <td>50.0</td>\n",
       "      <td>NaN</td>\n",
       "      <td>Afghani (AFN)</td>\n",
       "      <td>74.9556</td>\n",
       "      <td>1746.0</td>\n",
       "      <td>1735.0</td>\n",
       "      <td>59.1</td>\n",
       "      <td>-1.7</td>\n",
       "      <td>37.2</td>\n",
       "      <td>25.5</td>\n",
       "      <td>170.0</td>\n",
       "      <td>0.496</td>\n",
       "      <td>NaN</td>\n",
       "    </tr>\n",
       "    <tr>\n",
       "      <th>1</th>\n",
       "      <td>Åland Islands</td>\n",
       "      <td>AX</td>\n",
       "      <td>NaN</td>\n",
       "      <td>NaN</td>\n",
       "      <td>Euro (EUR)</td>\n",
       "      <td>0.8734</td>\n",
       "      <td>NaN</td>\n",
       "      <td>NaN</td>\n",
       "      <td>NaN</td>\n",
       "      <td>NaN</td>\n",
       "      <td>NaN</td>\n",
       "      <td>NaN</td>\n",
       "      <td>NaN</td>\n",
       "      <td>NaN</td>\n",
       "      <td>NaN</td>\n",
       "    </tr>\n",
       "    <tr>\n",
       "      <th>2</th>\n",
       "      <td>Albania</td>\n",
       "      <td>AL</td>\n",
       "      <td>2306.0</td>\n",
       "      <td>5340.0</td>\n",
       "      <td>Lek (ALL)</td>\n",
       "      <td>107.82</td>\n",
       "      <td>12300.0</td>\n",
       "      <td>12306.0</td>\n",
       "      <td>94.2</td>\n",
       "      <td>-4.9</td>\n",
       "      <td>2.9</td>\n",
       "      <td>60.3</td>\n",
       "      <td>69.0</td>\n",
       "      <td>0.791</td>\n",
       "      <td>NaN</td>\n",
       "    </tr>\n",
       "    <tr>\n",
       "      <th>3</th>\n",
       "      <td>Algeria</td>\n",
       "      <td>DZ</td>\n",
       "      <td>172.0</td>\n",
       "      <td>2657.0</td>\n",
       "      <td>Algerian Dinar (DZD)</td>\n",
       "      <td>118.2906</td>\n",
       "      <td>13639.0</td>\n",
       "      <td>13886.0</td>\n",
       "      <td>121.9</td>\n",
       "      <td>-0.2</td>\n",
       "      <td>42.2</td>\n",
       "      <td>72.6</td>\n",
       "      <td>82.0</td>\n",
       "      <td>0.759</td>\n",
       "      <td>59.6</td>\n",
       "    </tr>\n",
       "    <tr>\n",
       "      <th>4</th>\n",
       "      <td>American Samoa</td>\n",
       "      <td>AS</td>\n",
       "      <td>22.0</td>\n",
       "      <td>20.2</td>\n",
       "      <td>NaN</td>\n",
       "      <td>NaN</td>\n",
       "      <td>NaN</td>\n",
       "      <td>NaN</td>\n",
       "      <td>NaN</td>\n",
       "      <td>NaN</td>\n",
       "      <td>NaN</td>\n",
       "      <td>NaN</td>\n",
       "      <td>NaN</td>\n",
       "      <td>NaN</td>\n",
       "      <td>NaN</td>\n",
       "    </tr>\n",
       "  </tbody>\n",
       "</table>\n",
       "</div>"
      ],
      "text/plain": [
       "          Country ISOCode  TourismExpenditureMillions  \\\n",
       "0     Afghanistan      AF                        50.0   \n",
       "1   Åland Islands      AX                         NaN   \n",
       "2         Albania      AL                      2306.0   \n",
       "3         Algeria      DZ                       172.0   \n",
       "4  American Samoa      AS                        22.0   \n",
       "\n",
       "   TouristArrivalsThousands              Currency ExchangeRateEndOfPeriod  \\\n",
       "0                       NaN         Afghani (AFN)                 74.9556   \n",
       "1                       NaN            Euro (EUR)                  0.8734   \n",
       "2                    5340.0             Lek (ALL)                  107.82   \n",
       "3                    2657.0  Algerian Dinar (DZD)                118.2906   \n",
       "4                      20.2                   NaN                     NaN   \n",
       "\n",
       "   GNIPerCapita  GDPPerCapita  MobilePhoneSubscriptions  NetMigrationRate  \\\n",
       "0        1746.0        1735.0                      59.1              -1.7   \n",
       "1           NaN           NaN                       NaN               NaN   \n",
       "2       12300.0       12306.0                      94.2              -4.9   \n",
       "3       13639.0       13886.0                     121.9              -0.2   \n",
       "4           NaN           NaN                       NaN               NaN   \n",
       "\n",
       "   Population  UrbanPopulationPercent  HDIRank    HDI  InternetUsersPercent  \n",
       "0        37.2                    25.5    170.0  0.496                   NaN  \n",
       "1         NaN                     NaN      NaN    NaN                   NaN  \n",
       "2         2.9                    60.3     69.0  0.791                   NaN  \n",
       "3        42.2                    72.6     82.0  0.759                  59.6  \n",
       "4         NaN                     NaN      NaN    NaN                   NaN  "
      ]
     },
     "execution_count": 92,
     "metadata": {},
     "output_type": "execute_result"
    }
   ],
   "source": [
    "merged_df.head()"
   ]
  },
  {
   "cell_type": "code",
   "execution_count": 38,
   "metadata": {
    "collapsed": false,
    "editable": true,
    "inputHidden": false,
    "jupyter": {
     "outputs_hidden": false
    },
    "outputHidden": false
   },
   "outputs": [
    {
     "name": "stdout",
     "output_type": "stream",
     "text": [
      "(234, 14)\n"
     ]
    }
   ],
   "source": [
    "print(merged_df.shape)"
   ]
  },
  {
   "cell_type": "markdown",
   "metadata": {
    "editable": true
   },
   "source": [
    "### Now, it's time to bring in the Freedom House Data"
   ]
  },
  {
   "cell_type": "code",
   "execution_count": 93,
   "metadata": {
    "collapsed": false,
    "editable": true,
    "inputHidden": false,
    "jupyter": {
     "outputs_hidden": false
    },
    "outputHidden": false
   },
   "outputs": [],
   "source": [
    "#human-rights-score-vs-political-regime-type\n",
    "electoral_democracies_df = pd.read_excel(os.path.join(path3, '2020_List_of_Electoral_Democracies_FIW_2020.xlsx'), skiprows=1)\n",
    "country_freedom_ratings_df = pd.read_excel(os.path.join(path3, '2020_Country_and_Territory_Ratings_and_Statuses_FIW2020.xlsx'),\n",
    "                                                       sheet_name=1)"
   ]
  },
  {
   "cell_type": "code",
   "execution_count": 94,
   "metadata": {
    "collapsed": false,
    "editable": true,
    "inputHidden": false,
    "jupyter": {
     "outputs_hidden": false
    },
    "outputHidden": false
   },
   "outputs": [
    {
     "name": "stdout",
     "output_type": "stream",
     "text": [
      "(205, 4)\n",
      "(195, 4)\n"
     ]
    },
    {
     "data": {
      "text/html": [
       "<div>\n",
       "<style scoped>\n",
       "    .dataframe tbody tr th:only-of-type {\n",
       "        vertical-align: middle;\n",
       "    }\n",
       "\n",
       "    .dataframe tbody tr th {\n",
       "        vertical-align: top;\n",
       "    }\n",
       "\n",
       "    .dataframe thead th {\n",
       "        text-align: right;\n",
       "    }\n",
       "</style>\n",
       "<table border=\"1\" class=\"dataframe\">\n",
       "  <thead>\n",
       "    <tr style=\"text-align: right;\">\n",
       "      <th></th>\n",
       "      <th>Country</th>\n",
       "      <th>PoliticalRightsFreedomScore</th>\n",
       "      <th>CivilLibertiesFreedomScore</th>\n",
       "      <th>FreedomStatus</th>\n",
       "    </tr>\n",
       "  </thead>\n",
       "  <tbody>\n",
       "    <tr>\n",
       "      <th>0</th>\n",
       "      <td>Afghanistan</td>\n",
       "      <td>5</td>\n",
       "      <td>6</td>\n",
       "      <td>Not Free</td>\n",
       "    </tr>\n",
       "    <tr>\n",
       "      <th>1</th>\n",
       "      <td>Albania</td>\n",
       "      <td>3</td>\n",
       "      <td>3</td>\n",
       "      <td>Partly Free</td>\n",
       "    </tr>\n",
       "    <tr>\n",
       "      <th>2</th>\n",
       "      <td>Algeria</td>\n",
       "      <td>6</td>\n",
       "      <td>5</td>\n",
       "      <td>Not Free</td>\n",
       "    </tr>\n",
       "    <tr>\n",
       "      <th>3</th>\n",
       "      <td>Andorra</td>\n",
       "      <td>1</td>\n",
       "      <td>1</td>\n",
       "      <td>Free</td>\n",
       "    </tr>\n",
       "    <tr>\n",
       "      <th>4</th>\n",
       "      <td>Angola</td>\n",
       "      <td>6</td>\n",
       "      <td>5</td>\n",
       "      <td>Not Free</td>\n",
       "    </tr>\n",
       "  </tbody>\n",
       "</table>\n",
       "</div>"
      ],
      "text/plain": [
       "       Country  PoliticalRightsFreedomScore  CivilLibertiesFreedomScore  \\\n",
       "0  Afghanistan                            5                           6   \n",
       "1      Albania                            3                           3   \n",
       "2      Algeria                            6                           5   \n",
       "3      Andorra                            1                           1   \n",
       "4       Angola                            6                           5   \n",
       "\n",
       "  FreedomStatus  \n",
       "0      Not Free  \n",
       "1   Partly Free  \n",
       "2      Not Free  \n",
       "3          Free  \n",
       "4      Not Free  "
      ]
     },
     "execution_count": 94,
     "metadata": {},
     "output_type": "execute_result"
    }
   ],
   "source": [
    "# In these ratings, a value of '-' in a column indicates that the country doesn't exist any longer (e.g., USSR)\n",
    "country_freedom_ratings_df = country_freedom_ratings_df.rename(columns={'PR': 'PoliticalRightsFreedomScore', \n",
    "                                                                       'CL': 'CivilLibertiesFreedomScore',\n",
    "                                                                       'Status': 'FreedomStatus'})\n",
    "# Both Freedom scores are measured on a 1-7 scale.\n",
    "#  Expand NF, PF and F in freedom status\n",
    "status_expansion = {'NF': 'Not Free', 'F': 'Free', 'PF': 'Partly Free'}\n",
    "country_freedom_ratings_df.FreedomStatus = country_freedom_ratings_df.FreedomStatus.map(status_expansion) \n",
    "print(country_freedom_ratings_df.shape)\n",
    "country_freedom_ratings_df = country_freedom_ratings_df.replace('..', np.nan)\n",
    "# We can safely drop all rows with NaNs now\n",
    "country_freedom_ratings_df = country_freedom_ratings_df.dropna()\n",
    "# Convert Score columns  to int\n",
    "cols_to_cast = ['PoliticalRightsFreedomScore', 'CivilLibertiesFreedomScore']\n",
    "country_freedom_ratings_df = country_freedom_ratings_df.astype( {'PoliticalRightsFreedomScore': 'int32',\n",
    "                                                                'CivilLibertiesFreedomScore': 'int32'})\n",
    "print(country_freedom_ratings_df.shape)\n",
    "country_freedom_ratings_df.head()"
   ]
  },
  {
   "cell_type": "code",
   "execution_count": 95,
   "metadata": {
    "collapsed": false,
    "editable": true,
    "inputHidden": false,
    "jupyter": {
     "outputs_hidden": false
    },
    "outputHidden": false
   },
   "outputs": [
    {
     "name": "stdout",
     "output_type": "stream",
     "text": [
      "(195, 2)\n"
     ]
    },
    {
     "data": {
      "text/html": [
       "<div>\n",
       "<style scoped>\n",
       "    .dataframe tbody tr th:only-of-type {\n",
       "        vertical-align: middle;\n",
       "    }\n",
       "\n",
       "    .dataframe tbody tr th {\n",
       "        vertical-align: top;\n",
       "    }\n",
       "\n",
       "    .dataframe thead th {\n",
       "        text-align: right;\n",
       "    }\n",
       "</style>\n",
       "<table border=\"1\" class=\"dataframe\">\n",
       "  <thead>\n",
       "    <tr style=\"text-align: right;\">\n",
       "      <th></th>\n",
       "      <th>Country</th>\n",
       "      <th>DemocracyOrNot</th>\n",
       "    </tr>\n",
       "  </thead>\n",
       "  <tbody>\n",
       "    <tr>\n",
       "      <th>0</th>\n",
       "      <td>Afghanistan</td>\n",
       "      <td>False</td>\n",
       "    </tr>\n",
       "    <tr>\n",
       "      <th>1</th>\n",
       "      <td>Albania</td>\n",
       "      <td>True</td>\n",
       "    </tr>\n",
       "    <tr>\n",
       "      <th>2</th>\n",
       "      <td>Algeria</td>\n",
       "      <td>False</td>\n",
       "    </tr>\n",
       "    <tr>\n",
       "      <th>3</th>\n",
       "      <td>Andorra</td>\n",
       "      <td>True</td>\n",
       "    </tr>\n",
       "    <tr>\n",
       "      <th>4</th>\n",
       "      <td>Angola</td>\n",
       "      <td>False</td>\n",
       "    </tr>\n",
       "  </tbody>\n",
       "</table>\n",
       "</div>"
      ],
      "text/plain": [
       "       Country  DemocracyOrNot\n",
       "0  Afghanistan           False\n",
       "1      Albania            True\n",
       "2      Algeria           False\n",
       "3      Andorra            True\n",
       "4       Angola           False"
      ]
     },
     "execution_count": 95,
     "metadata": {},
     "output_type": "execute_result"
    }
   ],
   "source": [
    "print(electoral_democracies_df.shape)\n",
    "electoral_democracies_df = electoral_democracies_df.rename(columns={'Electoral Democracy Designation in FIW 2020': 'DemocracyOrNot'})\n",
    "yes_no_to_boolean = {'Yes': True, 'No': False}\n",
    "electoral_democracies_df.DemocracyOrNot = electoral_democracies_df.DemocracyOrNot.map(yes_no_to_boolean)\n",
    "electoral_democracies_df.head()"
   ]
  },
  {
   "cell_type": "markdown",
   "metadata": {
    "editable": true
   },
   "source": [
    "Merge Freedom house data with merged_df."
   ]
  },
  {
   "cell_type": "code",
   "execution_count": 96,
   "metadata": {
    "collapsed": false,
    "editable": true,
    "inputHidden": false,
    "jupyter": {
     "outputs_hidden": false
    },
    "outputHidden": false
   },
   "outputs": [
    {
     "data": {
      "text/html": [
       "<div>\n",
       "<style scoped>\n",
       "    .dataframe tbody tr th:only-of-type {\n",
       "        vertical-align: middle;\n",
       "    }\n",
       "\n",
       "    .dataframe tbody tr th {\n",
       "        vertical-align: top;\n",
       "    }\n",
       "\n",
       "    .dataframe thead th {\n",
       "        text-align: right;\n",
       "    }\n",
       "</style>\n",
       "<table border=\"1\" class=\"dataframe\">\n",
       "  <thead>\n",
       "    <tr style=\"text-align: right;\">\n",
       "      <th></th>\n",
       "      <th>Country</th>\n",
       "      <th>ISOCode</th>\n",
       "      <th>TourismExpenditureMillions</th>\n",
       "      <th>TouristArrivalsThousands</th>\n",
       "      <th>Currency</th>\n",
       "      <th>ExchangeRateEndOfPeriod</th>\n",
       "      <th>GNIPerCapita</th>\n",
       "      <th>GDPPerCapita</th>\n",
       "      <th>MobilePhoneSubscriptions</th>\n",
       "      <th>NetMigrationRate</th>\n",
       "      <th>Population</th>\n",
       "      <th>UrbanPopulationPercent</th>\n",
       "      <th>HDIRank</th>\n",
       "      <th>HDI</th>\n",
       "      <th>InternetUsersPercent</th>\n",
       "      <th>PoliticalRightsFreedomScore</th>\n",
       "      <th>CivilLibertiesFreedomScore</th>\n",
       "      <th>FreedomStatus</th>\n",
       "      <th>DemocracyOrNot</th>\n",
       "    </tr>\n",
       "  </thead>\n",
       "  <tbody>\n",
       "    <tr>\n",
       "      <th>0</th>\n",
       "      <td>Afghanistan</td>\n",
       "      <td>AF</td>\n",
       "      <td>50.0</td>\n",
       "      <td>NaN</td>\n",
       "      <td>Afghani (AFN)</td>\n",
       "      <td>74.9556</td>\n",
       "      <td>1746.0</td>\n",
       "      <td>1735.0</td>\n",
       "      <td>59.1</td>\n",
       "      <td>-1.7</td>\n",
       "      <td>37.2</td>\n",
       "      <td>25.5</td>\n",
       "      <td>170.0</td>\n",
       "      <td>0.496</td>\n",
       "      <td>NaN</td>\n",
       "      <td>5.0</td>\n",
       "      <td>6.0</td>\n",
       "      <td>Not Free</td>\n",
       "      <td>False</td>\n",
       "    </tr>\n",
       "    <tr>\n",
       "      <th>1</th>\n",
       "      <td>Åland Islands</td>\n",
       "      <td>AX</td>\n",
       "      <td>NaN</td>\n",
       "      <td>NaN</td>\n",
       "      <td>Euro (EUR)</td>\n",
       "      <td>0.8734</td>\n",
       "      <td>NaN</td>\n",
       "      <td>NaN</td>\n",
       "      <td>NaN</td>\n",
       "      <td>NaN</td>\n",
       "      <td>NaN</td>\n",
       "      <td>NaN</td>\n",
       "      <td>NaN</td>\n",
       "      <td>NaN</td>\n",
       "      <td>NaN</td>\n",
       "      <td>NaN</td>\n",
       "      <td>NaN</td>\n",
       "      <td>NaN</td>\n",
       "      <td>NaN</td>\n",
       "    </tr>\n",
       "    <tr>\n",
       "      <th>2</th>\n",
       "      <td>Albania</td>\n",
       "      <td>AL</td>\n",
       "      <td>2306.0</td>\n",
       "      <td>5340.0</td>\n",
       "      <td>Lek (ALL)</td>\n",
       "      <td>107.82</td>\n",
       "      <td>12300.0</td>\n",
       "      <td>12306.0</td>\n",
       "      <td>94.2</td>\n",
       "      <td>-4.9</td>\n",
       "      <td>2.9</td>\n",
       "      <td>60.3</td>\n",
       "      <td>69.0</td>\n",
       "      <td>0.791</td>\n",
       "      <td>NaN</td>\n",
       "      <td>3.0</td>\n",
       "      <td>3.0</td>\n",
       "      <td>Partly Free</td>\n",
       "      <td>True</td>\n",
       "    </tr>\n",
       "    <tr>\n",
       "      <th>3</th>\n",
       "      <td>Algeria</td>\n",
       "      <td>DZ</td>\n",
       "      <td>172.0</td>\n",
       "      <td>2657.0</td>\n",
       "      <td>Algerian Dinar (DZD)</td>\n",
       "      <td>118.2906</td>\n",
       "      <td>13639.0</td>\n",
       "      <td>13886.0</td>\n",
       "      <td>121.9</td>\n",
       "      <td>-0.2</td>\n",
       "      <td>42.2</td>\n",
       "      <td>72.6</td>\n",
       "      <td>82.0</td>\n",
       "      <td>0.759</td>\n",
       "      <td>59.6</td>\n",
       "      <td>6.0</td>\n",
       "      <td>5.0</td>\n",
       "      <td>Not Free</td>\n",
       "      <td>False</td>\n",
       "    </tr>\n",
       "    <tr>\n",
       "      <th>4</th>\n",
       "      <td>American Samoa</td>\n",
       "      <td>AS</td>\n",
       "      <td>22.0</td>\n",
       "      <td>20.2</td>\n",
       "      <td>NaN</td>\n",
       "      <td>NaN</td>\n",
       "      <td>NaN</td>\n",
       "      <td>NaN</td>\n",
       "      <td>NaN</td>\n",
       "      <td>NaN</td>\n",
       "      <td>NaN</td>\n",
       "      <td>NaN</td>\n",
       "      <td>NaN</td>\n",
       "      <td>NaN</td>\n",
       "      <td>NaN</td>\n",
       "      <td>NaN</td>\n",
       "      <td>NaN</td>\n",
       "      <td>NaN</td>\n",
       "      <td>NaN</td>\n",
       "    </tr>\n",
       "  </tbody>\n",
       "</table>\n",
       "</div>"
      ],
      "text/plain": [
       "          Country ISOCode  TourismExpenditureMillions  \\\n",
       "0     Afghanistan      AF                        50.0   \n",
       "1   Åland Islands      AX                         NaN   \n",
       "2         Albania      AL                      2306.0   \n",
       "3         Algeria      DZ                       172.0   \n",
       "4  American Samoa      AS                        22.0   \n",
       "\n",
       "   TouristArrivalsThousands              Currency ExchangeRateEndOfPeriod  \\\n",
       "0                       NaN         Afghani (AFN)                 74.9556   \n",
       "1                       NaN            Euro (EUR)                  0.8734   \n",
       "2                    5340.0             Lek (ALL)                  107.82   \n",
       "3                    2657.0  Algerian Dinar (DZD)                118.2906   \n",
       "4                      20.2                   NaN                     NaN   \n",
       "\n",
       "   GNIPerCapita  GDPPerCapita  MobilePhoneSubscriptions  NetMigrationRate  \\\n",
       "0        1746.0        1735.0                      59.1              -1.7   \n",
       "1           NaN           NaN                       NaN               NaN   \n",
       "2       12300.0       12306.0                      94.2              -4.9   \n",
       "3       13639.0       13886.0                     121.9              -0.2   \n",
       "4           NaN           NaN                       NaN               NaN   \n",
       "\n",
       "   Population  UrbanPopulationPercent  HDIRank    HDI  InternetUsersPercent  \\\n",
       "0        37.2                    25.5    170.0  0.496                   NaN   \n",
       "1         NaN                     NaN      NaN    NaN                   NaN   \n",
       "2         2.9                    60.3     69.0  0.791                   NaN   \n",
       "3        42.2                    72.6     82.0  0.759                  59.6   \n",
       "4         NaN                     NaN      NaN    NaN                   NaN   \n",
       "\n",
       "   PoliticalRightsFreedomScore  CivilLibertiesFreedomScore FreedomStatus  \\\n",
       "0                          5.0                         6.0      Not Free   \n",
       "1                          NaN                         NaN           NaN   \n",
       "2                          3.0                         3.0   Partly Free   \n",
       "3                          6.0                         5.0      Not Free   \n",
       "4                          NaN                         NaN           NaN   \n",
       "\n",
       "  DemocracyOrNot  \n",
       "0          False  \n",
       "1            NaN  \n",
       "2           True  \n",
       "3          False  \n",
       "4            NaN  "
      ]
     },
     "execution_count": 96,
     "metadata": {},
     "output_type": "execute_result"
    }
   ],
   "source": [
    "merged_df = merged_df.merge(country_freedom_ratings_df, on='Country', how='left')\n",
    "merged_df = merged_df.merge(electoral_democracies_df, on='Country', how='left')\n",
    "merged_df.head()"
   ]
  },
  {
   "cell_type": "markdown",
   "metadata": {
    "editable": true
   },
   "source": [
    "Now, the final data sets are from Our World in Data"
   ]
  },
  {
   "cell_type": "code",
   "execution_count": 97,
   "metadata": {
    "collapsed": false,
    "editable": true,
    "inputHidden": false,
    "jupyter": {
     "outputs_hidden": false
    },
    "outputHidden": false
   },
   "outputs": [
    {
     "data": {
      "text/html": [
       "<div>\n",
       "<style scoped>\n",
       "    .dataframe tbody tr th:only-of-type {\n",
       "        vertical-align: middle;\n",
       "    }\n",
       "\n",
       "    .dataframe tbody tr th {\n",
       "        vertical-align: top;\n",
       "    }\n",
       "\n",
       "    .dataframe thead th {\n",
       "        text-align: right;\n",
       "    }\n",
       "</style>\n",
       "<table border=\"1\" class=\"dataframe\">\n",
       "  <thead>\n",
       "    <tr style=\"text-align: right;\">\n",
       "      <th></th>\n",
       "      <th>Entity</th>\n",
       "      <th>Code</th>\n",
       "      <th>Year</th>\n",
       "      <th>Political regime type (Score)</th>\n",
       "      <th>Human rights protection score</th>\n",
       "      <th>Total population (Gapminder)</th>\n",
       "    </tr>\n",
       "  </thead>\n",
       "  <tbody>\n",
       "    <tr>\n",
       "      <th>0</th>\n",
       "      <td>Afghanistan</td>\n",
       "      <td>AFG</td>\n",
       "      <td>1800</td>\n",
       "      <td>NaN</td>\n",
       "      <td>NaN</td>\n",
       "      <td>3280000.0</td>\n",
       "    </tr>\n",
       "    <tr>\n",
       "      <th>1</th>\n",
       "      <td>Afghanistan</td>\n",
       "      <td>AFG</td>\n",
       "      <td>1816</td>\n",
       "      <td>-6.0</td>\n",
       "      <td>NaN</td>\n",
       "      <td>NaN</td>\n",
       "    </tr>\n",
       "    <tr>\n",
       "      <th>2</th>\n",
       "      <td>Afghanistan</td>\n",
       "      <td>AFG</td>\n",
       "      <td>1817</td>\n",
       "      <td>-6.0</td>\n",
       "      <td>NaN</td>\n",
       "      <td>NaN</td>\n",
       "    </tr>\n",
       "    <tr>\n",
       "      <th>3</th>\n",
       "      <td>Afghanistan</td>\n",
       "      <td>AFG</td>\n",
       "      <td>1818</td>\n",
       "      <td>-6.0</td>\n",
       "      <td>NaN</td>\n",
       "      <td>NaN</td>\n",
       "    </tr>\n",
       "    <tr>\n",
       "      <th>4</th>\n",
       "      <td>Afghanistan</td>\n",
       "      <td>AFG</td>\n",
       "      <td>1819</td>\n",
       "      <td>-6.0</td>\n",
       "      <td>NaN</td>\n",
       "      <td>NaN</td>\n",
       "    </tr>\n",
       "  </tbody>\n",
       "</table>\n",
       "</div>"
      ],
      "text/plain": [
       "        Entity Code  Year  Political regime type (Score)  \\\n",
       "0  Afghanistan  AFG  1800                            NaN   \n",
       "1  Afghanistan  AFG  1816                           -6.0   \n",
       "2  Afghanistan  AFG  1817                           -6.0   \n",
       "3  Afghanistan  AFG  1818                           -6.0   \n",
       "4  Afghanistan  AFG  1819                           -6.0   \n",
       "\n",
       "   Human rights protection score  Total population (Gapminder)  \n",
       "0                            NaN                     3280000.0  \n",
       "1                            NaN                           NaN  \n",
       "2                            NaN                           NaN  \n",
       "3                            NaN                           NaN  \n",
       "4                            NaN                           NaN  "
      ]
     },
     "execution_count": 97,
     "metadata": {},
     "output_type": "execute_result"
    }
   ],
   "source": [
    "polregime_humanrights_df = pd.read_csv(os.path.join(path4, 'human-rights-score-vs-political-regime-type.csv'))\n",
    "polregime_humanrights_df.head()"
   ]
  },
  {
   "cell_type": "code",
   "execution_count": 98,
   "metadata": {
    "collapsed": false,
    "editable": true,
    "inputHidden": false,
    "jupyter": {
     "outputs_hidden": false
    },
    "outputHidden": false
   },
   "outputs": [
    {
     "data": {
      "text/html": [
       "<div>\n",
       "<style scoped>\n",
       "    .dataframe tbody tr th:only-of-type {\n",
       "        vertical-align: middle;\n",
       "    }\n",
       "\n",
       "    .dataframe tbody tr th {\n",
       "        vertical-align: top;\n",
       "    }\n",
       "\n",
       "    .dataframe thead th {\n",
       "        text-align: right;\n",
       "    }\n",
       "</style>\n",
       "<table border=\"1\" class=\"dataframe\">\n",
       "  <thead>\n",
       "    <tr style=\"text-align: right;\">\n",
       "      <th></th>\n",
       "      <th>Entity</th>\n",
       "      <th>Code</th>\n",
       "      <th>Year</th>\n",
       "      <th>Political regime type (Score)</th>\n",
       "      <th>Human rights protection score</th>\n",
       "      <th>Total population (Gapminder)</th>\n",
       "    </tr>\n",
       "  </thead>\n",
       "  <tbody>\n",
       "    <tr>\n",
       "      <th>200</th>\n",
       "      <td>Afghanistan</td>\n",
       "      <td>AFG</td>\n",
       "      <td>2015</td>\n",
       "      <td>-1.0</td>\n",
       "      <td>-2.209410</td>\n",
       "      <td>NaN</td>\n",
       "    </tr>\n",
       "    <tr>\n",
       "      <th>404</th>\n",
       "      <td>Albania</td>\n",
       "      <td>ALB</td>\n",
       "      <td>2015</td>\n",
       "      <td>9.0</td>\n",
       "      <td>0.770309</td>\n",
       "      <td>NaN</td>\n",
       "    </tr>\n",
       "    <tr>\n",
       "      <th>608</th>\n",
       "      <td>Algeria</td>\n",
       "      <td>DZA</td>\n",
       "      <td>2015</td>\n",
       "      <td>2.0</td>\n",
       "      <td>0.221587</td>\n",
       "      <td>NaN</td>\n",
       "    </tr>\n",
       "    <tr>\n",
       "      <th>750</th>\n",
       "      <td>Andorra</td>\n",
       "      <td>AND</td>\n",
       "      <td>2015</td>\n",
       "      <td>NaN</td>\n",
       "      <td>4.226664</td>\n",
       "      <td>NaN</td>\n",
       "    </tr>\n",
       "    <tr>\n",
       "      <th>953</th>\n",
       "      <td>Angola</td>\n",
       "      <td>AGO</td>\n",
       "      <td>2015</td>\n",
       "      <td>-2.0</td>\n",
       "      <td>-0.537383</td>\n",
       "      <td>NaN</td>\n",
       "    </tr>\n",
       "  </tbody>\n",
       "</table>\n",
       "</div>"
      ],
      "text/plain": [
       "          Entity Code  Year  Political regime type (Score)  \\\n",
       "200  Afghanistan  AFG  2015                           -1.0   \n",
       "404      Albania  ALB  2015                            9.0   \n",
       "608      Algeria  DZA  2015                            2.0   \n",
       "750      Andorra  AND  2015                            NaN   \n",
       "953       Angola  AGO  2015                           -2.0   \n",
       "\n",
       "     Human rights protection score  Total population (Gapminder)  \n",
       "200                      -2.209410                           NaN  \n",
       "404                       0.770309                           NaN  \n",
       "608                       0.221587                           NaN  \n",
       "750                       4.226664                           NaN  \n",
       "953                      -0.537383                           NaN  "
      ]
     },
     "execution_count": 98,
     "metadata": {},
     "output_type": "execute_result"
    }
   ],
   "source": [
    "polregime_humanrights_df = polregime_humanrights_df[polregime_humanrights_df.Year==2015]\n",
    "polregime_humanrights_df.head()"
   ]
  },
  {
   "cell_type": "code",
   "execution_count": 99,
   "metadata": {
    "collapsed": false,
    "editable": true,
    "inputHidden": false,
    "jupyter": {
     "outputs_hidden": false
    },
    "outputHidden": false
   },
   "outputs": [
    {
     "data": {
      "text/html": [
       "<div>\n",
       "<style scoped>\n",
       "    .dataframe tbody tr th:only-of-type {\n",
       "        vertical-align: middle;\n",
       "    }\n",
       "\n",
       "    .dataframe tbody tr th {\n",
       "        vertical-align: top;\n",
       "    }\n",
       "\n",
       "    .dataframe thead th {\n",
       "        text-align: right;\n",
       "    }\n",
       "</style>\n",
       "<table border=\"1\" class=\"dataframe\">\n",
       "  <thead>\n",
       "    <tr style=\"text-align: right;\">\n",
       "      <th></th>\n",
       "      <th>Country</th>\n",
       "      <th>PoliticalRegimeTypeScore</th>\n",
       "      <th>HumanRightsScore</th>\n",
       "    </tr>\n",
       "  </thead>\n",
       "  <tbody>\n",
       "    <tr>\n",
       "      <th>200</th>\n",
       "      <td>Afghanistan</td>\n",
       "      <td>-1.0</td>\n",
       "      <td>-2.209410</td>\n",
       "    </tr>\n",
       "    <tr>\n",
       "      <th>404</th>\n",
       "      <td>Albania</td>\n",
       "      <td>9.0</td>\n",
       "      <td>0.770309</td>\n",
       "    </tr>\n",
       "    <tr>\n",
       "      <th>608</th>\n",
       "      <td>Algeria</td>\n",
       "      <td>2.0</td>\n",
       "      <td>0.221587</td>\n",
       "    </tr>\n",
       "    <tr>\n",
       "      <th>750</th>\n",
       "      <td>Andorra</td>\n",
       "      <td>NaN</td>\n",
       "      <td>4.226664</td>\n",
       "    </tr>\n",
       "    <tr>\n",
       "      <th>953</th>\n",
       "      <td>Angola</td>\n",
       "      <td>-2.0</td>\n",
       "      <td>-0.537383</td>\n",
       "    </tr>\n",
       "  </tbody>\n",
       "</table>\n",
       "</div>"
      ],
      "text/plain": [
       "         Country  PoliticalRegimeTypeScore  HumanRightsScore\n",
       "200  Afghanistan                      -1.0         -2.209410\n",
       "404      Albania                       9.0          0.770309\n",
       "608      Algeria                       2.0          0.221587\n",
       "750      Andorra                       NaN          4.226664\n",
       "953       Angola                      -2.0         -0.537383"
      ]
     },
     "execution_count": 99,
     "metadata": {},
     "output_type": "execute_result"
    }
   ],
   "source": [
    "polregime_humanrights_df = polregime_humanrights_df.rename(columns={'Political regime type (Score)':'PoliticalRegimeTypeScore',\n",
    "                                                                    'Human rights protection score':'HumanRightsScore', \n",
    "                                                                    'Entity': 'Country'})\n",
    "polregime_humanrights_df = polregime_humanrights_df.drop(['Code', 'Year', 'Total population (Gapminder)'], axis=1)\n",
    "polregime_humanrights_df.head()\n",
    " "
   ]
  },
  {
   "cell_type": "code",
   "execution_count": 100,
   "metadata": {
    "collapsed": false,
    "editable": true,
    "inputHidden": false,
    "jupyter": {
     "outputs_hidden": false
    },
    "outputHidden": false
   },
   "outputs": [
    {
     "data": {
      "text/html": [
       "<div>\n",
       "<style scoped>\n",
       "    .dataframe tbody tr th:only-of-type {\n",
       "        vertical-align: middle;\n",
       "    }\n",
       "\n",
       "    .dataframe tbody tr th {\n",
       "        vertical-align: top;\n",
       "    }\n",
       "\n",
       "    .dataframe thead th {\n",
       "        text-align: right;\n",
       "    }\n",
       "</style>\n",
       "<table border=\"1\" class=\"dataframe\">\n",
       "  <thead>\n",
       "    <tr style=\"text-align: right;\">\n",
       "      <th></th>\n",
       "      <th>Country</th>\n",
       "      <th>ISOCode</th>\n",
       "      <th>TourismExpenditureMillions</th>\n",
       "      <th>TouristArrivalsThousands</th>\n",
       "      <th>Currency</th>\n",
       "      <th>ExchangeRateEndOfPeriod</th>\n",
       "      <th>GNIPerCapita</th>\n",
       "      <th>GDPPerCapita</th>\n",
       "      <th>MobilePhoneSubscriptions</th>\n",
       "      <th>NetMigrationRate</th>\n",
       "      <th>...</th>\n",
       "      <th>UrbanPopulationPercent</th>\n",
       "      <th>HDIRank</th>\n",
       "      <th>HDI</th>\n",
       "      <th>InternetUsersPercent</th>\n",
       "      <th>PoliticalRightsFreedomScore</th>\n",
       "      <th>CivilLibertiesFreedomScore</th>\n",
       "      <th>FreedomStatus</th>\n",
       "      <th>DemocracyOrNot</th>\n",
       "      <th>PoliticalRegimeTypeScore</th>\n",
       "      <th>HumanRightsScore</th>\n",
       "    </tr>\n",
       "  </thead>\n",
       "  <tbody>\n",
       "    <tr>\n",
       "      <th>0</th>\n",
       "      <td>Afghanistan</td>\n",
       "      <td>AF</td>\n",
       "      <td>50.0</td>\n",
       "      <td>NaN</td>\n",
       "      <td>Afghani (AFN)</td>\n",
       "      <td>74.9556</td>\n",
       "      <td>1746.0</td>\n",
       "      <td>1735.0</td>\n",
       "      <td>59.1</td>\n",
       "      <td>-1.7</td>\n",
       "      <td>...</td>\n",
       "      <td>25.5</td>\n",
       "      <td>170.0</td>\n",
       "      <td>0.496</td>\n",
       "      <td>NaN</td>\n",
       "      <td>5.0</td>\n",
       "      <td>6.0</td>\n",
       "      <td>Not Free</td>\n",
       "      <td>False</td>\n",
       "      <td>-1.0</td>\n",
       "      <td>-2.209410</td>\n",
       "    </tr>\n",
       "    <tr>\n",
       "      <th>1</th>\n",
       "      <td>Åland Islands</td>\n",
       "      <td>AX</td>\n",
       "      <td>NaN</td>\n",
       "      <td>NaN</td>\n",
       "      <td>Euro (EUR)</td>\n",
       "      <td>0.8734</td>\n",
       "      <td>NaN</td>\n",
       "      <td>NaN</td>\n",
       "      <td>NaN</td>\n",
       "      <td>NaN</td>\n",
       "      <td>...</td>\n",
       "      <td>NaN</td>\n",
       "      <td>NaN</td>\n",
       "      <td>NaN</td>\n",
       "      <td>NaN</td>\n",
       "      <td>NaN</td>\n",
       "      <td>NaN</td>\n",
       "      <td>NaN</td>\n",
       "      <td>NaN</td>\n",
       "      <td>NaN</td>\n",
       "      <td>NaN</td>\n",
       "    </tr>\n",
       "    <tr>\n",
       "      <th>2</th>\n",
       "      <td>Albania</td>\n",
       "      <td>AL</td>\n",
       "      <td>2306.0</td>\n",
       "      <td>5340.0</td>\n",
       "      <td>Lek (ALL)</td>\n",
       "      <td>107.82</td>\n",
       "      <td>12300.0</td>\n",
       "      <td>12306.0</td>\n",
       "      <td>94.2</td>\n",
       "      <td>-4.9</td>\n",
       "      <td>...</td>\n",
       "      <td>60.3</td>\n",
       "      <td>69.0</td>\n",
       "      <td>0.791</td>\n",
       "      <td>NaN</td>\n",
       "      <td>3.0</td>\n",
       "      <td>3.0</td>\n",
       "      <td>Partly Free</td>\n",
       "      <td>True</td>\n",
       "      <td>9.0</td>\n",
       "      <td>0.770309</td>\n",
       "    </tr>\n",
       "    <tr>\n",
       "      <th>3</th>\n",
       "      <td>Algeria</td>\n",
       "      <td>DZ</td>\n",
       "      <td>172.0</td>\n",
       "      <td>2657.0</td>\n",
       "      <td>Algerian Dinar (DZD)</td>\n",
       "      <td>118.2906</td>\n",
       "      <td>13639.0</td>\n",
       "      <td>13886.0</td>\n",
       "      <td>121.9</td>\n",
       "      <td>-0.2</td>\n",
       "      <td>...</td>\n",
       "      <td>72.6</td>\n",
       "      <td>82.0</td>\n",
       "      <td>0.759</td>\n",
       "      <td>59.6</td>\n",
       "      <td>6.0</td>\n",
       "      <td>5.0</td>\n",
       "      <td>Not Free</td>\n",
       "      <td>False</td>\n",
       "      <td>2.0</td>\n",
       "      <td>0.221587</td>\n",
       "    </tr>\n",
       "    <tr>\n",
       "      <th>4</th>\n",
       "      <td>American Samoa</td>\n",
       "      <td>AS</td>\n",
       "      <td>22.0</td>\n",
       "      <td>20.2</td>\n",
       "      <td>NaN</td>\n",
       "      <td>NaN</td>\n",
       "      <td>NaN</td>\n",
       "      <td>NaN</td>\n",
       "      <td>NaN</td>\n",
       "      <td>NaN</td>\n",
       "      <td>...</td>\n",
       "      <td>NaN</td>\n",
       "      <td>NaN</td>\n",
       "      <td>NaN</td>\n",
       "      <td>NaN</td>\n",
       "      <td>NaN</td>\n",
       "      <td>NaN</td>\n",
       "      <td>NaN</td>\n",
       "      <td>NaN</td>\n",
       "      <td>NaN</td>\n",
       "      <td>NaN</td>\n",
       "    </tr>\n",
       "  </tbody>\n",
       "</table>\n",
       "<p>5 rows × 21 columns</p>\n",
       "</div>"
      ],
      "text/plain": [
       "          Country ISOCode  TourismExpenditureMillions  \\\n",
       "0     Afghanistan      AF                        50.0   \n",
       "1   Åland Islands      AX                         NaN   \n",
       "2         Albania      AL                      2306.0   \n",
       "3         Algeria      DZ                       172.0   \n",
       "4  American Samoa      AS                        22.0   \n",
       "\n",
       "   TouristArrivalsThousands              Currency ExchangeRateEndOfPeriod  \\\n",
       "0                       NaN         Afghani (AFN)                 74.9556   \n",
       "1                       NaN            Euro (EUR)                  0.8734   \n",
       "2                    5340.0             Lek (ALL)                  107.82   \n",
       "3                    2657.0  Algerian Dinar (DZD)                118.2906   \n",
       "4                      20.2                   NaN                     NaN   \n",
       "\n",
       "   GNIPerCapita  GDPPerCapita  MobilePhoneSubscriptions  NetMigrationRate  \\\n",
       "0        1746.0        1735.0                      59.1              -1.7   \n",
       "1           NaN           NaN                       NaN               NaN   \n",
       "2       12300.0       12306.0                      94.2              -4.9   \n",
       "3       13639.0       13886.0                     121.9              -0.2   \n",
       "4           NaN           NaN                       NaN               NaN   \n",
       "\n",
       "         ...         UrbanPopulationPercent  HDIRank    HDI  \\\n",
       "0        ...                           25.5    170.0  0.496   \n",
       "1        ...                            NaN      NaN    NaN   \n",
       "2        ...                           60.3     69.0  0.791   \n",
       "3        ...                           72.6     82.0  0.759   \n",
       "4        ...                            NaN      NaN    NaN   \n",
       "\n",
       "   InternetUsersPercent  PoliticalRightsFreedomScore  \\\n",
       "0                   NaN                          5.0   \n",
       "1                   NaN                          NaN   \n",
       "2                   NaN                          3.0   \n",
       "3                  59.6                          6.0   \n",
       "4                   NaN                          NaN   \n",
       "\n",
       "   CivilLibertiesFreedomScore  FreedomStatus DemocracyOrNot  \\\n",
       "0                         6.0       Not Free          False   \n",
       "1                         NaN            NaN            NaN   \n",
       "2                         3.0    Partly Free           True   \n",
       "3                         5.0       Not Free          False   \n",
       "4                         NaN            NaN            NaN   \n",
       "\n",
       "  PoliticalRegimeTypeScore  HumanRightsScore  \n",
       "0                     -1.0         -2.209410  \n",
       "1                      NaN               NaN  \n",
       "2                      9.0          0.770309  \n",
       "3                      2.0          0.221587  \n",
       "4                      NaN               NaN  \n",
       "\n",
       "[5 rows x 21 columns]"
      ]
     },
     "execution_count": 100,
     "metadata": {},
     "output_type": "execute_result"
    }
   ],
   "source": [
    "merged_df = merged_df.merge(polregime_humanrights_df, on='Country', how='left')\n",
    "merged_df.head()"
   ]
  },
  {
   "cell_type": "code",
   "execution_count": 101,
   "metadata": {
    "collapsed": false,
    "editable": true,
    "inputHidden": false,
    "jupyter": {
     "outputs_hidden": false
    },
    "outputHidden": false
   },
   "outputs": [
    {
     "data": {
      "text/plain": [
       "Country                         object\n",
       "ISOCode                         object\n",
       "TourismExpenditureMillions     float64\n",
       "TouristArrivalsThousands       float64\n",
       "Currency                        object\n",
       "ExchangeRateEndOfPeriod         object\n",
       "GNIPerCapita                   float64\n",
       "GDPPerCapita                   float64\n",
       "MobilePhoneSubscriptions       float64\n",
       "NetMigrationRate               float64\n",
       "Population                     float64\n",
       "UrbanPopulationPercent         float64\n",
       "HDIRank                        float64\n",
       "HDI                            float64\n",
       "InternetUsersPercent           float64\n",
       "PoliticalRightsFreedomScore    float64\n",
       "CivilLibertiesFreedomScore     float64\n",
       "FreedomStatus                   object\n",
       "DemocracyOrNot                  object\n",
       "PoliticalRegimeTypeScore       float64\n",
       "HumanRightsScore               float64\n",
       "dtype: object"
      ]
     },
     "execution_count": 101,
     "metadata": {},
     "output_type": "execute_result"
    }
   ],
   "source": [
    "merged_df.dtypes"
   ]
  },
  {
   "cell_type": "code",
   "execution_count": 102,
   "metadata": {
    "collapsed": false,
    "editable": true,
    "inputHidden": false,
    "jupyter": {
     "outputs_hidden": false
    },
    "outputHidden": false
   },
   "outputs": [],
   "source": [
    "merged_df.to_csv(os.path.join(output_path, 'country_indicators.csv'), na_rep='NULL')"
   ]
  },
  {
   "cell_type": "code",
   "execution_count": null,
   "metadata": {
    "collapsed": false,
    "editable": true,
    "inputHidden": false,
    "jupyter": {
     "outputs_hidden": false
    },
    "outputHidden": false
   },
   "outputs": [],
   "source": []
  }
 ],
 "metadata": {
  "kernel_info": {
   "name": "python3"
  },
  "kernelspec": {
   "display_name": "Python 3",
   "language": "python",
   "name": "python3"
  },
  "language_info": {
   "codemirror_mode": {
    "name": "ipython",
    "version": 3
   },
   "file_extension": ".py",
   "mimetype": "text/x-python",
   "name": "python",
   "nbconvert_exporter": "python",
   "pygments_lexer": "ipython3",
   "version": "3.6.3"
  },
  "nteract": {
   "version": "0.12.1"
  }
 },
 "nbformat": 4,
 "nbformat_minor": 4
}
