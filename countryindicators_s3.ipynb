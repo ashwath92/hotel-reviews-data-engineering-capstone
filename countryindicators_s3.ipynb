{
 "cells": [
  {
   "cell_type": "code",
   "execution_count": 1,
   "metadata": {
    "editable": true
   },
   "outputs": [],
   "source": [
    "import boto3\n",
    "import configparser\n"
   ]
  },
  {
   "cell_type": "code",
   "execution_count": 30,
   "metadata": {
    "editable": true
   },
   "outputs": [],
   "source": [
    "config = configparser.ConfigParser()\n",
    "config.read_file(open('dwh.cfg'))\n",
    "\n",
    "KEY = config.get('default', 'aws_access_key_id')\n",
    "SECRET = config.get('default','aws_secret_access_key')\n",
    "ACCESSTOKEN = config.get('default', 'aws_session_token')\n",
    "REGION = config.get('default', 'aws_region')"
   ]
  },
  {
   "cell_type": "code",
   "execution_count": 31,
   "metadata": {
    "editable": true
   },
   "outputs": [],
   "source": [
    "s3 = boto3.client('s3',\n",
    "                    region_name=REGION,\n",
    "                    aws_access_key_id=KEY,\n",
    "                    aws_secret_access_key=SECRET,\n",
    "                    aws_session_token=ACCESSTOKEN\n",
    ")"
   ]
  },
  {
   "cell_type": "code",
   "execution_count": 33,
   "metadata": {
    "editable": true
   },
   "outputs": [],
   "source": [
    "# Creates in us-east-1 by default\n",
    "bucket = s3.create_bucket(\n",
    "    Bucket='hotelreviewslocalplaces'\n",
    "    #CreateBucketConfiguration={\n",
    "    #        'LocationConstraint': 'us-east-1'\n",
    "    #}\n",
    ")"
   ]
  },
  {
   "cell_type": "code",
   "execution_count": 29,
   "metadata": {
    "editable": true
   },
   "outputs": [
    {
     "data": {
      "text/plain": [
       "{'ResponseMetadata': {'RequestId': 'DF9A2AEE5F133A96',\n",
       "  'HostId': 'OFJMpdT2x5+AXvc7vYcxcLOQ0lgiPab5S8xgXEIOa154WB8tqvXLkIqWWriUk6pv9ykypdEmbX0=',\n",
       "  'HTTPStatusCode': 200,\n",
       "  'HTTPHeaders': {'x-amz-id-2': 'OFJMpdT2x5+AXvc7vYcxcLOQ0lgiPab5S8xgXEIOa154WB8tqvXLkIqWWriUk6pv9ykypdEmbX0=',\n",
       "   'x-amz-request-id': 'DF9A2AEE5F133A96',\n",
       "   'date': 'Tue, 16 Jun 2020 23:20:45 GMT',\n",
       "   'etag': '\"01ab936dc5d3de281e92ec6fb0022d9f\"',\n",
       "   'content-length': '0',\n",
       "   'server': 'AmazonS3'},\n",
       "  'RetryAttempts': 0},\n",
       " 'ETag': '\"01ab936dc5d3de281e92ec6fb0022d9f\"'}"
      ]
     },
     "execution_count": 29,
     "metadata": {},
     "output_type": "execute_result"
    }
   ],
   "source": [
    "# this is how you add a file using an s3 resource, not a client\n",
    "object = s3.Object('hotelreviewslocalplaces', 'country_indicators.csv')\n",
    "\n",
    "object.put(Body=open('Data/Cleaned/country_indicators.csv', 'rb'),\n",
    "          Metadata={'datasource1': 'undp', 'datasource2': 'un data',\n",
    "                   'datasource3': 'Freedom House', 'datasource4': 'Our World In Data'})"
   ]
  },
  {
   "cell_type": "code",
   "execution_count": 37,
   "metadata": {
    "editable": true
   },
   "outputs": [
    {
     "data": {
      "text/plain": [
       "{'ResponseMetadata': {'RequestId': '0898D1C2B9BA6E8F',\n",
       "  'HostId': 'IRvYvK6+zrfL0mUCIlYt2AOHjPtTNWTeahkbti10hFVp8HtOuri9+GQoIK3AWmRbtPhbV/sfA2E=',\n",
       "  'HTTPStatusCode': 200,\n",
       "  'HTTPHeaders': {'x-amz-id-2': 'IRvYvK6+zrfL0mUCIlYt2AOHjPtTNWTeahkbti10hFVp8HtOuri9+GQoIK3AWmRbtPhbV/sfA2E=',\n",
       "   'x-amz-request-id': '0898D1C2B9BA6E8F',\n",
       "   'date': 'Wed, 17 Jun 2020 00:02:35 GMT',\n",
       "   'etag': '\"01ab936dc5d3de281e92ec6fb0022d9f\"',\n",
       "   'content-length': '0',\n",
       "   'server': 'AmazonS3'},\n",
       "  'RetryAttempts': 0},\n",
       " 'ETag': '\"01ab936dc5d3de281e92ec6fb0022d9f\"'}"
      ]
     },
     "execution_count": 37,
     "metadata": {},
     "output_type": "execute_result"
    }
   ],
   "source": [
    "response = s3.put_object(Body=open('Data/Cleaned/country_indicators.csv', 'rb'),\n",
    "                         Bucket='hotelreviewslocalplaces',\n",
    "                         Key='country_indicators.csv',\n",
    "                         Metadata={'datasource1': 'undp', 'datasource2': 'un data',\n",
    "                                   'datasource3': 'Freedom House', 'datasource4': 'Our World In Data'})\n",
    "response"
   ]
  },
  {
   "cell_type": "code",
   "execution_count": null,
   "metadata": {
    "editable": true
   },
   "outputs": [],
   "source": []
  }
 ],
 "metadata": {
  "kernelspec": {
   "display_name": "Python 3",
   "language": "python",
   "name": "python3"
  },
  "language_info": {
   "codemirror_mode": {
    "name": "ipython",
    "version": 3
   },
   "file_extension": ".py",
   "mimetype": "text/x-python",
   "name": "python",
   "nbconvert_exporter": "python",
   "pygments_lexer": "ipython3",
   "version": "3.6.3"
  }
 },
 "nbformat": 4,
 "nbformat_minor": 4
}
